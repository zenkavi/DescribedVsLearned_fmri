{
 "cells": [
  {
   "cell_type": "code",
   "execution_count": 9,
   "id": "d79cb07a-3f29-4a91-bbfd-c866ceef28c2",
   "metadata": {},
   "outputs": [],
   "source": [
    "from __future__ import absolute_import, division\n",
    "\n",
    "import pkg_resources\n",
    "\n",
    "from builtins import range, str\n",
    "\n",
    "from addm_toolbox.ddm import DDMTrial, DDM\n",
    "from addm_toolbox.util import load_trial_conditions_from_csv"
   ]
  },
  {
   "cell_type": "code",
   "execution_count": 11,
   "id": "f90a7eb5-ab31-4c27-875d-b5cd25249cbb",
   "metadata": {},
   "outputs": [],
   "source": [
    "d = .006\n",
    "sigma = .08\n",
    "range_d = [0.005, 0.006, 0.007]\n",
    "rangeD = [0.005, 0.006, 0.007]\n",
    "range_sigma = [0.065, 0.08, 0.095]\n",
    "rangeSigma = [0.065, 0.08, 0.095]\n",
    "trials_file_name = None\n",
    "trialsFileName=None\n",
    "trials_per_condition = 100\n",
    "trialsPerCondition=800\n",
    "num_threads = 9\n",
    "verbose = False"
   ]
  },
  {
   "cell_type": "code",
   "execution_count": 12,
   "id": "285ad39f-2c64-49f9-a91e-36210fd64b70",
   "metadata": {},
   "outputs": [
    {
     "name": "stdout",
     "output_type": "stream",
     "text": [
      "An exception occurred during the likelihood computations for model (0.005, 0.065).\n"
     ]
    },
    {
     "ename": "NameError",
     "evalue": "name 'numThreads' is not defined",
     "output_type": "error",
     "traceback": [
      "\u001b[0;31m---------------------------------------------------------------------------\u001b[0m",
      "\u001b[0;31mNameError\u001b[0m                                 Traceback (most recent call last)",
      "\u001b[0;32m/var/folders/10/zpzbg__x3hlc56gwq9zf6r600000gn/T/ipykernel_81177/1877493454.py\u001b[0m in \u001b[0;36m<module>\u001b[0;34m\u001b[0m\n\u001b[1;32m     31\u001b[0m         \u001b[0;32mtry\u001b[0m\u001b[0;34m:\u001b[0m\u001b[0;34m\u001b[0m\u001b[0;34m\u001b[0m\u001b[0m\n\u001b[1;32m     32\u001b[0m             likelihoods[model.params] = model.parallel_get_likelihoods(\n\u001b[0;32m---> 33\u001b[0;31m                 trials, numThreads=numThreads)\n\u001b[0m\u001b[1;32m     34\u001b[0m         \u001b[0;32mexcept\u001b[0m\u001b[0;34m:\u001b[0m\u001b[0;34m\u001b[0m\u001b[0;34m\u001b[0m\u001b[0m\n\u001b[1;32m     35\u001b[0m             print(u\"An exception occurred during the likelihood \"\n",
      "\u001b[0;31mNameError\u001b[0m: name 'numThreads' is not defined"
     ]
    }
   ],
   "source": [
    "# Load trial conditions.\n",
    "if not trialsFileName:\n",
    "    trialsFileName = pkg_resources.resource_filename(\n",
    "        u\"addm_toolbox\", u\"test_data/test_trial_conditions.csv\")\n",
    "trialConditions = load_trial_conditions_from_csv(trialsFileName)\n",
    "\n",
    "# Generate artificial data.\n",
    "model = DDM(d, sigma)\n",
    "trials = list()\n",
    "for (valueLeft, valueRight) in trialConditions:\n",
    "    for t in range(trialsPerCondition):\n",
    "        try:\n",
    "            trials.append(model.simulate_trial(valueLeft, valueRight))\n",
    "        except:\n",
    "            print(u\"An exception occurred while generating artificial \"\n",
    "                  \"trial \" + str(t) + u\" for condition (\" +\n",
    "                  str(valueLeft) + u\", \" + str(valueRight) + u\").\")\n",
    "            raise\n",
    "\n",
    "# Get likelihoods for all models and all artificial trials.\n",
    "numModels = len(rangeD) * len(rangeSigma)\n",
    "likelihoods = dict()\n",
    "models = list()\n",
    "posteriors = dict()\n",
    "for d in rangeD:\n",
    "    for sigma in rangeSigma:\n",
    "        model = DDM(d, sigma)\n",
    "        if verbose:\n",
    "            print(u\"Computing likelihoods for model \" + str(model.params) +\n",
    "                  u\"...\")\n",
    "        try:\n",
    "            likelihoods[model.params] = model.parallel_get_likelihoods(\n",
    "                trials, numThreads=numThreads)\n",
    "        except:\n",
    "            print(u\"An exception occurred during the likelihood \"\n",
    "                  \"computations for model \" + str(model.params) + u\".\")\n",
    "            raise\n",
    "        models.append(model)\n",
    "        posteriors[model.params] = 1 / numModels\n",
    "\n",
    "# Compute the posteriors.\n",
    "for t in range(len(trials)):\n",
    "    # Get the denominator for normalizing the posteriors.\n",
    "    denominator = 0\n",
    "    for model in models:\n",
    "        denominator += (posteriors[model.params] *\n",
    "                        likelihoods[model.params][t])\n",
    "    if denominator == 0:\n",
    "        continue\n",
    "\n",
    "    # Calculate the posteriors after this trial.\n",
    "    for model in models:\n",
    "        prior = posteriors[model.params]\n",
    "        posteriors[model.params] = (likelihoods[model.params][t] *\n",
    "            prior / denominator)\n",
    "\n",
    "if verbose:\n",
    "    for model in models:\n",
    "        print(u\"P\" + str(model.params) +  u\" = \" +\n",
    "              str(posteriors[model.params]))\n",
    "    print(u\"Sum: \" + str(sum(list(posteriors.values()))))"
   ]
  },
  {
   "cell_type": "code",
   "execution_count": null,
   "id": "1ecfc8e9-aca8-44af-8331-5e6f1410606e",
   "metadata": {},
   "outputs": [],
   "source": []
  }
 ],
 "metadata": {
  "kernelspec": {
   "display_name": "Python 3 (ipykernel)",
   "language": "python",
   "name": "python3"
  },
  "language_info": {
   "codemirror_mode": {
    "name": "ipython",
    "version": 3
   },
   "file_extension": ".py",
   "mimetype": "text/x-python",
   "name": "python",
   "nbconvert_exporter": "python",
   "pygments_lexer": "ipython3",
   "version": "3.8.3"
  }
 },
 "nbformat": 4,
 "nbformat_minor": 5
}
