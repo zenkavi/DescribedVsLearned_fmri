{
 "cells": [
  {
   "cell_type": "code",
   "execution_count": 9,
   "id": "d79cb07a-3f29-4a91-bbfd-c866ceef28c2",
   "metadata": {},
   "outputs": [],
   "source": [
    "from __future__ import absolute_import, division\n",
    "\n",
    "import pkg_resources\n",
    "\n",
    "from builtins import range, str\n",
    "\n",
    "from addm_toolbox.ddm import DDMTrial, DDM\n",
    "from addm_toolbox.util import load_trial_conditions_from_csv"
   ]
  },
  {
   "cell_type": "code",
   "execution_count": 53,
   "id": "4a38a492-04eb-4217-8cf0-d7e230a1beaf",
   "metadata": {},
   "outputs": [],
   "source": [
    "from itertools import product\n",
    "import pandas as pd\n",
    "import seaborn as sns"
   ]
  },
  {
   "cell_type": "code",
   "execution_count": 46,
   "id": "f90a7eb5-ab31-4c27-875d-b5cd25249cbb",
   "metadata": {},
   "outputs": [],
   "source": [
    "d = .006\n",
    "sigma = .08\n",
    "range_d = [0.005, 0.006, 0.007]\n",
    "rangeD = [0.005, 0.006, 0.007]\n",
    "range_sigma = [0.065, 0.08, 0.095]\n",
    "rangeSigma = [0.065, 0.08, 0.095]\n",
    "trials_file_name = None\n",
    "trialsFileName=None\n",
    "trials_per_condition = 100\n",
    "trialsPerCondition=100 #initially used 800; prob should be >100 for any real fitting\n",
    "num_threads = 9\n",
    "numThreads = 9\n",
    "verbose = False"
   ]
  },
  {
   "cell_type": "code",
   "execution_count": 14,
   "id": "285ad39f-2c64-49f9-a91e-36210fd64b70",
   "metadata": {},
   "outputs": [],
   "source": [
    "# Load trial conditions.\n",
    "if not trialsFileName:\n",
    "    trialsFileName = pkg_resources.resource_filename(\n",
    "        u\"addm_toolbox\", u\"test_data/test_trial_conditions.csv\")\n",
    "trialConditions = load_trial_conditions_from_csv(trialsFileName)\n",
    "\n",
    "# Generate artificial data.\n",
    "model = DDM(d, sigma)\n",
    "trials = list()\n",
    "for (valueLeft, valueRight) in trialConditions:\n",
    "    for t in range(trialsPerCondition):\n",
    "        try:\n",
    "            trials.append(model.simulate_trial(valueLeft, valueRight))\n",
    "        except:\n",
    "            print(u\"An exception occurred while generating artificial \"\n",
    "                  \"trial \" + str(t) + u\" for condition (\" +\n",
    "                  str(valueLeft) + u\", \" + str(valueRight) + u\").\")\n",
    "            raise\n",
    "\n",
    "# Get likelihoods for all models and all artificial trials.\n",
    "numModels = len(rangeD) * len(rangeSigma)\n",
    "likelihoods = dict()\n",
    "models = list()\n",
    "posteriors = dict()\n",
    "for d in rangeD:\n",
    "    for sigma in rangeSigma:\n",
    "        model = DDM(d, sigma)\n",
    "        if verbose:\n",
    "            print(u\"Computing likelihoods for model \" + str(model.params) +\n",
    "                  u\"...\")\n",
    "        try:\n",
    "            likelihoods[model.params] = model.parallel_get_likelihoods(\n",
    "                trials, numThreads=numThreads)\n",
    "        except:\n",
    "            print(u\"An exception occurred during the likelihood \"\n",
    "                  \"computations for model \" + str(model.params) + u\".\")\n",
    "            raise\n",
    "        models.append(model)\n",
    "        posteriors[model.params] = 1 / numModels\n",
    "\n",
    "# Compute the posteriors.\n",
    "for t in range(len(trials)):\n",
    "    # Get the denominator for normalizing the posteriors.\n",
    "    denominator = 0\n",
    "    for model in models:\n",
    "        denominator += (posteriors[model.params] *\n",
    "                        likelihoods[model.params][t])\n",
    "    if denominator == 0:\n",
    "        continue\n",
    "\n",
    "    # Calculate the posteriors after this trial.\n",
    "    for model in models:\n",
    "        prior = posteriors[model.params]\n",
    "        posteriors[model.params] = (likelihoods[model.params][t] *\n",
    "            prior / denominator)\n",
    "\n",
    "if verbose:\n",
    "    for model in models:\n",
    "        print(u\"P\" + str(model.params) +  u\" = \" +\n",
    "              str(posteriors[model.params]))\n",
    "    print(u\"Sum: \" + str(sum(list(posteriors.values()))))"
   ]
  },
  {
   "cell_type": "markdown",
   "id": "bccb3f74-42ff-472f-91b2-6b92c1128ad3",
   "metadata": {},
   "source": [
    "What do the sum of the likelihoods for all 8000 (800 trials per condition for 10 conditions) look like for each parameter combination?\n",
    "\n",
    "Do the true parameters have the highest likelihood? (d = .006, sigma = .08) No."
   ]
  },
  {
   "cell_type": "code",
   "execution_count": 44,
   "id": "ad2c0da5-87f5-4704-b4bc-7c235b793dcb",
   "metadata": {},
   "outputs": [
    {
     "data": {
      "text/plain": [
       "{(0.005, 0.065): 29.796591224607276,\n",
       " (0.005, 0.08): 31.050708342637,\n",
       " (0.005, 0.095): 31.287603922682283,\n",
       " (0.006, 0.065): 33.238956155061445,\n",
       " (0.006, 0.08): 33.79666582116374,\n",
       " (0.006, 0.095): 33.464963327458335,\n",
       " (0.007, 0.065): 36.08085893898369,\n",
       " (0.007, 0.08): 36.07487158582849,\n",
       " (0.007, 0.095): 35.28441865582084}"
      ]
     },
     "execution_count": 44,
     "metadata": {},
     "output_type": "execute_result"
    }
   ],
   "source": [
    "dict(zip(likelihoods.keys(), [sum(likelihoods[k]) for k in likelihoods.keys()]))"
   ]
  },
  {
   "cell_type": "markdown",
   "id": "545fc13c-4129-46e3-997f-c53d57bb8912",
   "metadata": {},
   "source": [
    "Likelihood surface heatmap"
   ]
  },
  {
   "cell_type": "code",
   "execution_count": 56,
   "id": "5c8148ba-6306-4346-a808-b61deb5d3fac",
   "metadata": {},
   "outputs": [],
   "source": [
    "df = pd.DataFrame(list(product(range_d, range_sigma)), columns=['d', 'sigma'])\n",
    "df['likelihood'] = [sum(likelihoods[k]) for k in likelihoods.keys()]\n",
    "df = df.pivot(index = 'd', columns = 'sigma', values = 'likelihood')"
   ]
  },
  {
   "cell_type": "code",
   "execution_count": 57,
   "id": "6e2941ed-6f51-46b3-9466-c91bde037877",
   "metadata": {},
   "outputs": [
    {
     "data": {
      "text/plain": [
       "<AxesSubplot:xlabel='sigma', ylabel='d'>"
      ]
     },
     "execution_count": 57,
     "metadata": {},
     "output_type": "execute_result"
    },
    {
     "data": {
      "image/png": "[encoded data removed]",
      "text/plain": [
       "<Figure size 432x288 with 2 Axes>"
      ]
     },
     "metadata": {
      "needs_background": "light"
     },
     "output_type": "display_data"
    }
   ],
   "source": [
    "sns.heatmap(df)"
   ]
  },
  {
   "cell_type": "markdown",
   "id": "13aebf13-37bf-443e-91fb-e08d0b22b7ee",
   "metadata": {},
   "source": [
    "What do the posteriors look like?"
   ]
  },
  {
   "cell_type": "code",
   "execution_count": null,
   "id": "e2e1855e-131f-47bb-ad8f-936863409b73",
   "metadata": {},
   "outputs": [],
   "source": []
  }
 ],
 "metadata": {
  "kernelspec": {
   "display_name": "Python 3 (ipykernel)",
   "language": "python",
   "name": "python3"
  },
  "language_info": {
   "codemirror_mode": {
    "name": "ipython",
    "version": 3
   },
   "file_extension": ".py",
   "mimetype": "text/x-python",
   "name": "python",
   "nbconvert_exporter": "python",
   "pygments_lexer": "ipython3",
   "version": "3.8.3"
  }
 },
 "nbformat": 4,
 "nbformat_minor": 5
}
