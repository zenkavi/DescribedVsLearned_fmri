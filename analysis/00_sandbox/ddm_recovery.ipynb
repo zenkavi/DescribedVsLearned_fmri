{
 "cells": [
  {
   "cell_type": "code",
   "execution_count": 1,
   "id": "d79cb07a-3f29-4a91-bbfd-c866ceef28c2",
   "metadata": {},
   "outputs": [],
   "source": [
    "from addm_toolbox import ddm"
   ]
  },
  {
   "cell_type": "code",
   "execution_count": 3,
   "id": "58677ead-f50b-4bbc-815e-54472198eaa5",
   "metadata": {},
   "outputs": [],
   "source": [
    "model = ddm.DDM(d = 0.002, sigma = 0.02)"
   ]
  },
  {
   "cell_type": "code",
   "execution_count": 10,
   "id": "0eafb950-0d66-4279-bf1c-d4c6fcaceaf6",
   "metadata": {},
   "outputs": [],
   "source": [
    "trial = model.simulate_trial(valueLeft = 5, valueRight = 1)"
   ]
  },
  {
   "cell_type": "code",
   "execution_count": 11,
   "id": "3c598318-6881-4ea3-9ec4-6851ffba6659",
   "metadata": {},
   "outputs": [
    {
     "data": {
      "text/plain": [
       "1580"
      ]
     },
     "execution_count": 11,
     "metadata": {},
     "output_type": "execute_result"
    }
   ],
   "source": [
    "trial.RT"
   ]
  },
  {
   "cell_type": "code",
   "execution_count": 12,
   "id": "77d11e90-0988-40ae-9d27-956e9d9c990d",
   "metadata": {},
   "outputs": [
    {
     "data": {
      "text/plain": [
       "-1"
      ]
     },
     "execution_count": 12,
     "metadata": {},
     "output_type": "execute_result"
    }
   ],
   "source": [
    "trial.choice"
   ]
  },
  {
   "cell_type": "code",
   "execution_count": 13,
   "id": "3f20cca6-8436-4c58-9493-cf880db67b9b",
   "metadata": {},
   "outputs": [
    {
     "data": {
      "text/plain": [
       "2.5301297389068485e-28"
      ]
     },
     "execution_count": 13,
     "metadata": {},
     "output_type": "execute_result"
    }
   ],
   "source": [
    "model.get_trial_likelihood(trial)"
   ]
  },
  {
   "cell_type": "code",
   "execution_count": 14,
   "id": "267642f3-e14f-4951-8038-eab6154523b0",
   "metadata": {},
   "outputs": [],
   "source": [
    "model2 = ddm.DDM(d = 0.002, sigma = 0.04)"
   ]
  },
  {
   "cell_type": "code",
   "execution_count": 15,
   "id": "5110bf2b-ac20-4dcf-b816-272cd9edd15f",
   "metadata": {},
   "outputs": [
    {
     "data": {
      "text/plain": [
       "0.006857118104786233"
      ]
     },
     "execution_count": 15,
     "metadata": {},
     "output_type": "execute_result"
    }
   ],
   "source": [
    "model2.get_trial_likelihood(trial)"
   ]
  },
  {
   "cell_type": "code",
   "execution_count": null,
   "id": "410a4a7a-95b7-41a9-8935-a42d9ecafc1a",
   "metadata": {},
   "outputs": [],
   "source": []
  }
 ],
 "metadata": {
  "kernelspec": {
   "display_name": "Python 3 (ipykernel)",
   "language": "python",
   "name": "python3"
  },
  "language_info": {
   "codemirror_mode": {
    "name": "ipython",
    "version": 3
   },
   "file_extension": ".py",
   "mimetype": "text/x-python",
   "name": "python",
   "nbconvert_exporter": "python",
   "pygments_lexer": "ipython3",
   "version": "3.8.3"
  }
 },
 "nbformat": 4,
 "nbformat_minor": 5
}
