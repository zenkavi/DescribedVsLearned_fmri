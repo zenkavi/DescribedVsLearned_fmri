{
 "cells": [
  {
   "cell_type": "code",
   "execution_count": null,
   "id": "1909603d-f47c-44f7-ba12-359f0704bb0e",
   "metadata": {},
   "outputs": [],
   "source": [
    "import matplotlib.pyplot as plt\n",
    "%matplotlib inline\n",
    "import nibabel as nib\n",
    "from nilearn.plotting import plot_design_matrix, plot_stat_map, view_img\n",
    "from nilearn.reporting import get_clusters_table\n",
    "from nilearn import datasets\n",
    "import glob\n",
    "import os\n",
    "import numpy as np\n",
    "import pandas as pd\n",
    "\n",
    "import sys\n",
    "sys.path.append('/Users/zeynepenkavi/Documents/RangelLab/DescribedVsLearned_fmri/analysis/03_level3')\n",
    "from make_design_files import make_design_files"
   ]
  },
  {
   "cell_type": "code",
   "execution_count": null,
   "id": "4f0409d5-6181-4913-b993-22e645f50e0f",
   "metadata": {},
   "outputs": [],
   "source": [
    "def get_filt_tval_img(reg, mnum = \"1\", tstat=\"1\",threshold=0.95,level3_path='model1'):\n",
    "    \n",
    "    level3_path = '/Users/zeynepenkavi/Downloads/GTavares_2017_arbitration/bids_nifti_wface/derivatives/nilearn/glm/level3/%s'%(level3_path)\n",
    "    \n",
    "    pos_pval_fn = '%s/rand_model%s_%s_tfce_corrp_tstat%s.nii.gz'%(reg, mnum, reg, tstat)\n",
    "    neg_pval_fn = '%s/rand_model%s_%s_tfce_corrp_tstat%s.nii.gz'%(reg, mnum, 'neg_'+reg, tstat)\n",
    "    tval_fn = '%s/rand_model%s_%s_tstat%s_tfce.nii.gz'%(reg, mnum, reg, tstat)\n",
    "    \n",
    "    pos_pval_img = os.path.join(level3_path, pos_pval_fn)\n",
    "    neg_pval_img = os.path.join(level3_path, neg_pval_fn)\n",
    "    tval_img = os.path.join(level3_path, tval_fn)\n",
    "    \n",
    "    pos_pval_img = nib.load(pos_pval_img)\n",
    "    neg_pval_img = nib.load(neg_pval_img)\n",
    "    tval_img = nib.load(tval_img)\n",
    "    \n",
    "    tval_data = tval_img.get_fdata()\n",
    "    pos_pval_data = pos_pval_img.get_fdata()\n",
    "    neg_pval_data = neg_pval_img.get_fdata()\n",
    "    \n",
    "    filt_tval_data = np.where(pos_pval_data > threshold, tval_data, np.where(neg_pval_data > threshold, tval_data, 0))\n",
    "    filt_tval_img = nib.Nifti1Image(filt_tval_data.astype(np.float64), tval_img.affine)\n",
    "    \n",
    "    return filt_tval_img\n",
    "\n",
    "def plot_filt_tval_img(reg, mnum = \"1\", tstat=\"1\", threshold=0.95, interactive=False, level3_path='model1'):\n",
    "    filt_tval_img = get_filt_tval_img(reg, mnum = mnum, tstat=tstat, threshold=threshold, level3_path=level3_path)\n",
    "    if(len(np.unique(filt_tval_img.get_fdata())) == 1):\n",
    "        print('Nothing survives correction for %s, model = %s, tstat = %s'%(reg, mnum, tstat))\n",
    "    elif interactive:\n",
    "        view = view_img(filt_tval_img, \n",
    "             draw_cross=False,\n",
    "             title='%s'%(reg))\n",
    "        \n",
    "        return view\n",
    "    else:\n",
    "        print('Plotting tvalues filtered for corrected p values > 0.05')\n",
    "        plot_stat_map(filt_tval_img, \n",
    "             draw_cross=False,\n",
    "             title='%s'%(reg))"
   ]
  },
  {
   "cell_type": "markdown",
   "id": "aa6360f7-b77f-4cbc-a488-a86fe81885e1",
   "metadata": {},
   "source": [
    "# Regressor types\n",
    "\n",
    "- ev = event; amplitude = 1  \n",
    "- par = parametric; amplitude = demeaned    \n",
    "- st = stick (0 duration); amplitude = 1 "
   ]
  },
  {
   "cell_type": "markdown",
   "id": "2988c43c-f150-453f-91ec-c7f04c772491",
   "metadata": {},
   "source": [
    "# Model 1: fractalProb_ev + stim_ev + choice_st + reward_ev"
   ]
  },
  {
   "cell_type": "code",
   "execution_count": null,
   "id": "30b78518-eca4-4d7e-b909-ba0b1bee839b",
   "metadata": {},
   "outputs": [],
   "source": []
  },
  {
   "cell_type": "markdown",
   "id": "a5b0a978-c105-47a9-b8cc-db02c0fc2e51",
   "metadata": {},
   "source": [
    "# Model 2: Model 1 + fractalProb_par"
   ]
  },
  {
   "cell_type": "code",
   "execution_count": null,
   "id": "0152d663-ee03-43c4-a062-5b8a810a1dab",
   "metadata": {},
   "outputs": [],
   "source": []
  },
  {
   "cell_type": "markdown",
   "id": "e38fc214-a509-457e-88b8-57b196843efd",
   "metadata": {},
   "source": [
    "# Model 3: Model 2 + valDiff_par"
   ]
  },
  {
   "cell_type": "code",
   "execution_count": null,
   "id": "ad42fd0e-f066-4bbf-89bb-4c5826754855",
   "metadata": {},
   "outputs": [],
   "source": []
  },
  {
   "cell_type": "markdown",
   "id": "db5268f0-9547-461e-ae10-f45645dd1205",
   "metadata": {},
   "source": [
    "# Model 4: Model 2 + valChosen + valUnchosen"
   ]
  },
  {
   "cell_type": "code",
   "execution_count": null,
   "id": "e9e7202e-f175-42ba-85a5-896022adf836",
   "metadata": {},
   "outputs": [],
   "source": []
  },
  {
   "cell_type": "markdown",
   "id": "e83e3c26-9b76-4c62-bf22-d15fa7381d88",
   "metadata": {},
   "source": [
    "# Model 5: Model 2 + valDiffLottery + valDiffFractal"
   ]
  },
  {
   "cell_type": "code",
   "execution_count": null,
   "id": "0562c4b0-78a9-4e60-b3b2-cc34045c89cc",
   "metadata": {},
   "outputs": [],
   "source": []
  },
  {
   "cell_type": "markdown",
   "id": "eb677770-6ccd-4eb1-8f27-ab59f5bf8d4e",
   "metadata": {},
   "source": [
    "# Model 6: Model 2 + valChosenLottery + valUnchosenLottery + valChosenFractal + valUnchosenFractal"
   ]
  },
  {
   "cell_type": "code",
   "execution_count": null,
   "id": "f7ca8795-ac3e-4ef6-abd6-1f4075795073",
   "metadata": {},
   "outputs": [],
   "source": []
  },
  {
   "cell_type": "markdown",
   "id": "5202448c-8727-48c3-b133-15265ed15c4b",
   "metadata": {},
   "source": [
    "# Model ...: Model(3/4/5/6) + reward_par"
   ]
  },
  {
   "cell_type": "code",
   "execution_count": null,
   "id": "9161acbf-16dd-4e16-9458-984762c6b3ac",
   "metadata": {},
   "outputs": [],
   "source": []
  },
  {
   "cell_type": "markdown",
   "id": "eeabb10f-e3da-4c22-a13d-7070f6b4e878",
   "metadata": {},
   "source": [
    "# Model ...: Model(3/4/5/6) + rpe_par"
   ]
  },
  {
   "cell_type": "code",
   "execution_count": null,
   "id": "c40a0188-fc74-4683-ba66-d42387a4f2c3",
   "metadata": {},
   "outputs": [],
   "source": []
  },
  {
   "cell_type": "markdown",
   "id": "8dfce04d-cf8f-4be5-9cba-6729d4f57613",
   "metadata": {},
   "source": [
    "# Model ...: Model(3/4/5/6) + reward_par + rpe_par"
   ]
  },
  {
   "cell_type": "code",
   "execution_count": null,
   "id": "5f234104-1276-46b7-a960-b72377cccbf3",
   "metadata": {},
   "outputs": [],
   "source": []
  }
 ],
 "metadata": {
  "kernelspec": {
   "display_name": "Python 3 (ipykernel)",
   "language": "python",
   "name": "python3"
  },
  "language_info": {
   "codemirror_mode": {
    "name": "ipython",
    "version": 3
   },
   "file_extension": ".py",
   "mimetype": "text/x-python",
   "name": "python",
   "nbconvert_exporter": "python",
   "pygments_lexer": "ipython3",
   "version": "3.8.3"
  }
 },
 "nbformat": 4,
 "nbformat_minor": 5
}
