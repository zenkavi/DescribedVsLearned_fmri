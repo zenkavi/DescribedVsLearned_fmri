{
 "cells": [
  {
   "cell_type": "code",
   "execution_count": null,
   "id": "1909603d-f47c-44f7-ba12-359f0704bb0e",
   "metadata": {
    "jupyter": {
     "source_hidden": true
    },
    "tags": []
   },
   "outputs": [],
   "source": [
    "import matplotlib.pyplot as plt\n",
    "%matplotlib inline\n",
    "import nibabel as nib\n",
    "from nilearn.plotting import plot_design_matrix, plot_stat_map, view_img\n",
    "from nilearn.reporting import get_clusters_table\n",
    "from nilearn import datasets\n",
    "import glob\n",
    "import os\n",
    "import numpy as np\n",
    "import pandas as pd"
   ]
  },
  {
   "cell_type": "code",
   "execution_count": null,
   "id": "4f0409d5-6181-4913-b993-22e645f50e0f",
   "metadata": {
    "jupyter": {
     "source_hidden": true
    },
    "tags": []
   },
   "outputs": [],
   "source": [
    "def get_filt_tval_img(reg, reg_rt = \"1\", mnum = \"1\", mname = 'overall_mean', tstat=\"1\", threshold=0.95):\n",
    "    \n",
    "    level3_path = '/Users/zeynepenkavi/Downloads/GTavares_2017_arbitration/bids_nifti_wface/derivatives/nilearn/glm/level3/'\n",
    "    model_path = 'model'+mnum+'_reg-rt'+reg_rt\n",
    "    img_path = os.path.join(level3_path, model_path, mname, reg+'_'+model_path)\n",
    "    \n",
    "    \n",
    "    pos_pval_fn = 'rand_tfce_corrp_%s_%s_model%s_reg-rt%s_tstat%s.nii.gz'%(mname, reg, mnum, reg_rt, tstat)\n",
    "    neg_pval_fn = 'rand_tfce_corrp_%s_%s_model%s_reg-rt%s_tstat%s.nii.gz'%(mname, 'neg_'+reg, mnum, reg_rt, tstat)\n",
    "    tval_fn = 'rand_tfce_%s_%s_model%s_reg-rt%s_tstat%s.nii.gz'%(mname, reg, mnum, reg_rt, tstat)\n",
    "    \n",
    "    pos_pval_img = os.path.join(img_path, pos_pval_fn)\n",
    "    neg_pval_img = os.path.join(img_path, neg_pval_fn)\n",
    "    tval_img = os.path.join(img_path, tval_fn)\n",
    "    \n",
    "    pos_pval_img = nib.load(pos_pval_img)\n",
    "    neg_pval_img = nib.load(neg_pval_img)\n",
    "    tval_img = nib.load(tval_img)\n",
    "    \n",
    "    tval_data = tval_img.get_fdata()\n",
    "    pos_pval_data = pos_pval_img.get_fdata()\n",
    "    neg_pval_data = neg_pval_img.get_fdata()\n",
    "    \n",
    "    filt_tval_data = np.where(pos_pval_data > threshold, tval_data, np.where(neg_pval_data > threshold, tval_data, 0))\n",
    "    filt_tval_img = nib.Nifti1Image(filt_tval_data.astype(np.float64), tval_img.affine)\n",
    "    \n",
    "    return filt_tval_img\n",
    "\n",
    "def plot_filt_tval_img(reg, reg_rt = \"1\", mnum = \"1\", mname = 'overall_mean', tstat=\"1\", threshold=0.95, interactive=False, cut_coords = None, display_mode = 'ortho', draw_cross=False):\n",
    "    filt_tval_img = get_filt_tval_img(reg=reg, reg_rt = reg_rt, mnum = mnum, mname = mname, tstat=tstat, threshold=threshold)\n",
    "    if(len(np.unique(filt_tval_img.get_fdata())) == 1):\n",
    "        print('Nothing survives correction for %s, model = %s, tstat = %s, reg_rt = %s at threshold p < %s'%(reg, mnum, tstat, reg_rt, str(round(1-threshold, 2))))\n",
    "    elif interactive:\n",
    "        view = view_img(filt_tval_img, \n",
    "             draw_cross=draw_cross,\n",
    "             title='%s_model%s_reg-rt%s'%(reg, mnum, reg_rt), cut_coords = cut_coords)\n",
    "        \n",
    "        return view\n",
    "    else:\n",
    "        print('Plotting tvalues filtered for corrected p values < %s'%str(round(1-threshold, 2)))\n",
    "        plot_stat_map(filt_tval_img, \n",
    "             draw_cross=draw_cross,\n",
    "             title='%s_model%s_reg-rt%s'%(reg, mnum, reg_rt), cut_coords = cut_coords, display_mode = display_mode)\n",
    "\n",
    "def get_mean_cor_df(reg_rt = \"1\", mnum = \"1\"):\n",
    "    \n",
    "    level3_path = '/Users/zeynepenkavi/Downloads/GTavares_2017_arbitration/bids_nifti_wface/derivatives/nilearn/glm/level3/'\n",
    "    model_path = 'model'+mnum+'_reg-rt'+reg_rt\n",
    "    df_path = os.path.join(level3_path, model_path, model_path+'_mean_desmat_cor.csv')\n",
    "    \n",
    "    mean_cor_df = pd.read_csv(df_path)\n",
    "    \n",
    "    return(mean_cor_df)"
   ]
  },
  {
   "cell_type": "markdown",
   "id": "aa6360f7-b77f-4cbc-a488-a86fe81885e1",
   "metadata": {},
   "source": [
    "# Regressor types\n",
    "\n",
    "- ev = event; amplitude = 1  \n",
    "- par = parametric; amplitude = demeaned    \n",
    "- st = stick (0 duration); amplitude = 1 \n",
    "- rt = reaction time; amplitude = demeaned RT"
   ]
  },
  {
   "cell_type": "markdown",
   "id": "2988c43c-f150-453f-91ec-c7f04c772491",
   "metadata": {},
   "source": [
    "# Model 1(a): fractalProb_ev + stim_ev + choice(Shift)_st + reward_ev"
   ]
  },
  {
   "cell_type": "markdown",
   "id": "9846b0f4-92cd-4c6d-a10c-f98ecc9108d2",
   "metadata": {},
   "source": [
    "Correlation between regressors averaged across subjects and runs"
   ]
  },
  {
   "cell_type": "code",
   "execution_count": null,
   "id": "1b85ffe1-3405-49ea-9078-38979d8335e7",
   "metadata": {
    "jupyter": {
     "source_hidden": true
    }
   },
   "outputs": [],
   "source": [
    "get_mean_cor_df(reg_rt = \"0\", mnum = \"1\")"
   ]
  },
  {
   "cell_type": "code",
   "execution_count": null,
   "id": "4848bed9-2338-4299-91aa-3935c22013bc",
   "metadata": {
    "jupyter": {
     "source_hidden": true
    }
   },
   "outputs": [],
   "source": [
    "get_mean_cor_df(reg_rt = \"0\", mnum = \"1a\")"
   ]
  },
  {
   "cell_type": "code",
   "execution_count": null,
   "id": "89b341db-2de4-4524-87c4-4331ba67b3f3",
   "metadata": {
    "jupyter": {
     "source_hidden": true
    }
   },
   "outputs": [],
   "source": [
    "get_mean_cor_df(reg_rt = \"1\", mnum = \"1\")"
   ]
  },
  {
   "cell_type": "code",
   "execution_count": null,
   "id": "6cef8c4b-b215-42d3-8e3d-b08966cd2b9a",
   "metadata": {
    "jupyter": {
     "source_hidden": true
    }
   },
   "outputs": [],
   "source": [
    "get_mean_cor_df(reg_rt = \"1\", mnum = \"1a\")"
   ]
  },
  {
   "cell_type": "code",
   "execution_count": null,
   "id": "30b78518-eca4-4d7e-b909-ba0b1bee839b",
   "metadata": {
    "tags": []
   },
   "outputs": [],
   "source": [
    "reg = 'fractalProb_ev'\n",
    "mnum = '1'\n",
    "mname = 'overall_mean'\n",
    "tstat = '1'\n",
    "\n",
    "reg_rt = '0'\n",
    "plot_filt_tval_img(reg, reg_rt=reg_rt, mnum = mnum, mname = mname, tstat = tstat)\n",
    "\n",
    "reg_rt = '1'\n",
    "plot_filt_tval_img(reg, reg_rt=reg_rt, mnum = mnum, mname = mname, tstat = tstat)"
   ]
  },
  {
   "cell_type": "code",
   "execution_count": null,
   "id": "22804d16-3210-42d6-9eeb-112caf8aafc7",
   "metadata": {
    "tags": []
   },
   "outputs": [],
   "source": [
    "reg = 'stim_ev'\n",
    "mnum = '1'\n",
    "mname = 'overall_mean'\n",
    "tstat = '1'\n",
    "cut_coords = (0, -67, 11)\n",
    "\n",
    "reg_rt = '0'\n",
    "plot_filt_tval_img(reg, reg_rt=reg_rt, mnum = mnum, mname = mname, tstat = tstat)\n",
    "\n",
    "reg_rt = '1'\n",
    "plot_filt_tval_img(reg, reg_rt=reg_rt, mnum = mnum, mname = mname, tstat = tstat, cut_coords = cut_coords)\n",
    "\n",
    "reg = 'stim_rt'\n",
    "plot_filt_tval_img(reg, reg_rt=reg_rt, mnum = mnum, mname = mname, tstat = tstat, cut_coords = cut_coords)"
   ]
  },
  {
   "cell_type": "markdown",
   "id": "7d3bb07c-1254-4ea0-bfa3-a8abb44a503d",
   "metadata": {},
   "source": [
    "Check for left motor cortex activity. Cross is the precentral gyrus peak reported in Hare et al."
   ]
  },
  {
   "cell_type": "code",
   "execution_count": null,
   "id": "e6eb0480-296f-4f85-83dc-52e7948b3188",
   "metadata": {
    "tags": []
   },
   "outputs": [],
   "source": [
    "reg = 'choice_st'\n",
    "mnum = '1'\n",
    "mname = 'overall_mean'\n",
    "tstat = '1'\n",
    "cut_coords = (-45, -34, 64)\n",
    "draw_cross = True\n",
    "\n",
    "reg_rt = '0'\n",
    "plot_filt_tval_img(reg, reg_rt=reg_rt, mnum = mnum, mname = mname, tstat = tstat, cut_coords = cut_coords, draw_cross = draw_cross)\n",
    "\n",
    "reg_rt = '1'\n",
    "plot_filt_tval_img(reg, reg_rt=reg_rt, mnum = mnum, mname = mname, tstat = tstat, cut_coords = cut_coords, draw_cross = draw_cross)"
   ]
  },
  {
   "cell_type": "markdown",
   "id": "3b583ba1-11fd-4600-92b8-ae6a4bbfc20b",
   "metadata": {},
   "source": [
    "Motor cortex activity is a little ventral than expected but more consistent for choiceShift regressor. It is, however, not lateralized to the left."
   ]
  },
  {
   "cell_type": "code",
   "execution_count": null,
   "id": "c32234b7-22cb-4856-8c84-65c221f76716",
   "metadata": {
    "tags": []
   },
   "outputs": [],
   "source": [
    "reg = 'reward_ev'\n",
    "mnum = '1'\n",
    "mname = 'overall_mean'\n",
    "tstat = '1'\n",
    "cut_coords=(-6, 3, 29)\n",
    "\n",
    "reg_rt = '0'\n",
    "plot_filt_tval_img(reg, reg_rt=reg_rt, mnum = mnum, mname = mname, tstat = tstat, cut_coords=cut_coords)\n",
    "\n",
    "reg_rt = '1'\n",
    "plot_filt_tval_img(reg, reg_rt=reg_rt, mnum = mnum, mname = mname, tstat = tstat, cut_coords=cut_coords)"
   ]
  },
  {
   "cell_type": "markdown",
   "id": "a5b0a978-c105-47a9-b8cc-db02c0fc2e51",
   "metadata": {},
   "source": [
    "# Model 2: Model 1a + fractalProb_par"
   ]
  },
  {
   "cell_type": "code",
   "execution_count": null,
   "id": "0152d663-ee03-43c4-a062-5b8a810a1dab",
   "metadata": {
    "jupyter": {
     "source_hidden": true
    }
   },
   "outputs": [],
   "source": [
    "get_mean_cor_df(reg_rt = \"0\", mnum = \"2\")"
   ]
  },
  {
   "cell_type": "code",
   "execution_count": null,
   "id": "1d361f56-3c9c-4022-a20d-15cbd4197e09",
   "metadata": {
    "jupyter": {
     "source_hidden": true
    }
   },
   "outputs": [],
   "source": [
    "get_mean_cor_df(reg_rt = \"1\", mnum = \"2\")"
   ]
  },
  {
   "cell_type": "code",
   "execution_count": null,
   "id": "79372753-4a8b-419c-a4cb-b7ba56a74499",
   "metadata": {
    "jupyter": {
     "source_hidden": true
    }
   },
   "outputs": [],
   "source": [
    "reg = 'fractalProb_ev'\n",
    "mnum = '2'\n",
    "mname = 'overall_mean'\n",
    "tstat = '1'\n",
    "\n",
    "reg_rt = '0'\n",
    "plot_filt_tval_img(reg, reg_rt=reg_rt, mnum = mnum, mname = mname, tstat = tstat)\n",
    "\n",
    "reg_rt = '1'\n",
    "plot_filt_tval_img(reg, reg_rt=reg_rt, mnum = mnum, mname = mname, tstat = tstat)"
   ]
  },
  {
   "cell_type": "code",
   "execution_count": null,
   "id": "32fb38f9-ea85-4fb4-96ca-6799cf04fb88",
   "metadata": {
    "tags": []
   },
   "outputs": [],
   "source": [
    "reg = 'fractalProb_par'\n",
    "mnum = '2'\n",
    "mname = 'overall_mean'\n",
    "tstat = '1'\n",
    "\n",
    "reg_rt = '0'\n",
    "plot_filt_tval_img(reg, reg_rt=reg_rt, mnum = mnum, mname = mname, tstat = tstat)\n",
    "\n",
    "reg_rt = '1'\n",
    "plot_filt_tval_img(reg, reg_rt=reg_rt, mnum = mnum, mname = mname, tstat = tstat)"
   ]
  },
  {
   "cell_type": "code",
   "execution_count": null,
   "id": "de560308-be12-4e5d-9dff-ce0697bde893",
   "metadata": {
    "jupyter": {
     "source_hidden": true
    }
   },
   "outputs": [],
   "source": [
    "reg = 'stim_ev'\n",
    "mnum = '2'\n",
    "mname = 'overall_mean'\n",
    "tstat = '1'\n",
    "\n",
    "reg_rt = '0'\n",
    "plot_filt_tval_img(reg, reg_rt=reg_rt, mnum = mnum, mname = mname, tstat = tstat)\n",
    "\n",
    "reg_rt = '1'\n",
    "plot_filt_tval_img(reg, reg_rt=reg_rt, mnum = mnum, mname = mname, tstat = tstat)\n",
    "\n",
    "reg = 'stim_rt'\n",
    "plot_filt_tval_img(reg, reg_rt=reg_rt, mnum = mnum, mname = mname, tstat = tstat)"
   ]
  },
  {
   "cell_type": "code",
   "execution_count": null,
   "id": "ddc46422-cf29-49eb-b8ed-c73980c77e1f",
   "metadata": {
    "jupyter": {
     "source_hidden": true
    }
   },
   "outputs": [],
   "source": [
    "reg = 'choiceShift_st'\n",
    "mnum = '2'\n",
    "mname = 'overall_mean'\n",
    "tstat = '1'\n",
    "cut_coords = (-45, -34, 64)\n",
    "draw_cross = True\n",
    "\n",
    "reg_rt = '0'\n",
    "plot_filt_tval_img(reg, reg_rt=reg_rt, mnum = mnum, mname = mname, tstat = tstat, cut_coords = cut_coords, draw_cross = draw_cross)\n",
    "\n",
    "reg_rt = '1'\n",
    "plot_filt_tval_img(reg, reg_rt=reg_rt, mnum = mnum, mname = mname, tstat = tstat, cut_coords = cut_coords, draw_cross = draw_cross)"
   ]
  },
  {
   "cell_type": "code",
   "execution_count": null,
   "id": "eef331f7-29a3-4659-9826-208ec225a7c6",
   "metadata": {
    "jupyter": {
     "source_hidden": true
    }
   },
   "outputs": [],
   "source": [
    "reg = 'reward_ev'\n",
    "mnum = '2'\n",
    "mname = 'overall_mean'\n",
    "tstat = '1'\n",
    "\n",
    "reg_rt = '0'\n",
    "plot_filt_tval_img(reg, reg_rt=reg_rt, mnum = mnum, mname = mname, tstat = tstat)\n",
    "\n",
    "reg_rt = '1'\n",
    "plot_filt_tval_img(reg, reg_rt=reg_rt, mnum = mnum, mname = mname, tstat = tstat)"
   ]
  },
  {
   "cell_type": "markdown",
   "id": "e38fc214-a509-457e-88b8-57b196843efd",
   "metadata": {},
   "source": [
    "# Model 3: Model 2 + valDiff_par"
   ]
  },
  {
   "cell_type": "code",
   "execution_count": null,
   "id": "7c520c5c-bf13-4576-ac29-5ac1b550ef45",
   "metadata": {
    "jupyter": {
     "source_hidden": true
    }
   },
   "outputs": [],
   "source": [
    "get_mean_cor_df(reg_rt = \"0\", mnum = \"3\")"
   ]
  },
  {
   "cell_type": "code",
   "execution_count": null,
   "id": "1cb7598a-a043-4732-a03f-891124d4c4cd",
   "metadata": {
    "jupyter": {
     "source_hidden": true
    }
   },
   "outputs": [],
   "source": [
    "get_mean_cor_df(reg_rt = \"1\", mnum = \"3\")"
   ]
  },
  {
   "cell_type": "code",
   "execution_count": null,
   "id": "ad42fd0e-f066-4bbf-89bb-4c5826754855",
   "metadata": {
    "jupyter": {
     "source_hidden": true
    }
   },
   "outputs": [],
   "source": [
    "reg = 'fractalProb_ev'\n",
    "mnum = '3'\n",
    "mname = 'overall_mean'\n",
    "tstat = '1'\n",
    "\n",
    "reg_rt = '0'\n",
    "plot_filt_tval_img(reg, reg_rt=reg_rt, mnum = mnum, mname = mname, tstat = tstat)\n",
    "\n",
    "reg_rt = '1'\n",
    "plot_filt_tval_img(reg, reg_rt=reg_rt, mnum = mnum, mname = mname, tstat = tstat)"
   ]
  },
  {
   "cell_type": "code",
   "execution_count": null,
   "id": "c7e98972-56ff-4916-be1b-6fe7932e83b1",
   "metadata": {
    "jupyter": {
     "source_hidden": true
    }
   },
   "outputs": [],
   "source": [
    "reg = 'fractalProb_par'\n",
    "mnum = '3'\n",
    "mname = 'overall_mean'\n",
    "tstat = '1'\n",
    "\n",
    "reg_rt = '0'\n",
    "plot_filt_tval_img(reg, reg_rt=reg_rt, mnum = mnum, mname = mname, tstat = tstat)\n",
    "\n",
    "reg_rt = '1'\n",
    "plot_filt_tval_img(reg, reg_rt=reg_rt, mnum = mnum, mname = mname, tstat = tstat)"
   ]
  },
  {
   "cell_type": "code",
   "execution_count": null,
   "id": "4149662a-6324-4649-8402-dea992405aa1",
   "metadata": {
    "jupyter": {
     "source_hidden": true
    }
   },
   "outputs": [],
   "source": [
    "reg = 'stim_ev'\n",
    "mnum = '3'\n",
    "mname = 'overall_mean'\n",
    "tstat = '1'\n",
    "\n",
    "reg_rt = '0'\n",
    "plot_filt_tval_img(reg, reg_rt=reg_rt, mnum = mnum, mname = mname, tstat = tstat)\n",
    "\n",
    "reg_rt = '1'\n",
    "plot_filt_tval_img(reg, reg_rt=reg_rt, mnum = mnum, mname = mname, tstat = tstat)\n",
    "\n",
    "reg = 'stim_rt'\n",
    "plot_filt_tval_img(reg, reg_rt=reg_rt, mnum = mnum, mname = mname, tstat = tstat)"
   ]
  },
  {
   "cell_type": "code",
   "execution_count": null,
   "id": "cb804247-bb66-4562-bc09-e2fdf6db4ce0",
   "metadata": {
    "jupyter": {
     "source_hidden": true
    }
   },
   "outputs": [],
   "source": [
    "reg = 'choiceShift_st'\n",
    "mnum = '3'\n",
    "mname = 'overall_mean'\n",
    "tstat = '1'\n",
    "cut_coords = (-45, -34, 64)\n",
    "draw_cross = True\n",
    "\n",
    "reg_rt = '0'\n",
    "plot_filt_tval_img(reg, reg_rt=reg_rt, mnum = mnum, mname = mname, tstat = tstat, cut_coords = cut_coords, draw_cross = draw_cross)\n",
    "\n",
    "reg_rt = '1'\n",
    "plot_filt_tval_img(reg, reg_rt=reg_rt, mnum = mnum, mname = mname, tstat = tstat, cut_coords = cut_coords, draw_cross = draw_cross)"
   ]
  },
  {
   "cell_type": "code",
   "execution_count": null,
   "id": "6ab969e6-aa7d-492e-b82b-0b34bd9d3248",
   "metadata": {
    "tags": []
   },
   "outputs": [],
   "source": [
    "reg = 'valDiff_par'\n",
    "mnum = '3'\n",
    "mname = 'overall_mean'\n",
    "tstat = '1'\n",
    "\n",
    "reg_rt = '0'\n",
    "plot_filt_tval_img(reg, reg_rt=reg_rt, mnum = mnum, mname = mname, tstat = tstat, interactive=True)\n",
    "\n",
    "# reg_rt = '1'\n",
    "# plot_filt_tval_img(reg, reg_rt=reg_rt, mnum = mnum, mname = mname, tstat = tstat)"
   ]
  },
  {
   "cell_type": "code",
   "execution_count": null,
   "id": "03524e2e-0491-41f5-8452-79d840164367",
   "metadata": {},
   "outputs": [],
   "source": [
    "reg_rt = '1'\n",
    "plot_filt_tval_img(reg, reg_rt=reg_rt, mnum = mnum, mname = mname, tstat = tstat, interactive=True)"
   ]
  },
  {
   "cell_type": "code",
   "execution_count": null,
   "id": "4161fd46-d2eb-451e-ac9a-96234bbd3996",
   "metadata": {
    "jupyter": {
     "source_hidden": true
    }
   },
   "outputs": [],
   "source": [
    "reg = 'reward_ev'\n",
    "mnum = '3'\n",
    "mname = 'overall_mean'\n",
    "tstat = '1'\n",
    "\n",
    "reg_rt = '0'\n",
    "plot_filt_tval_img(reg, reg_rt=reg_rt, mnum = mnum, mname = mname, tstat = tstat)\n",
    "\n",
    "reg_rt = '1'\n",
    "plot_filt_tval_img(reg, reg_rt=reg_rt, mnum = mnum, mname = mname, tstat = tstat)"
   ]
  },
  {
   "cell_type": "markdown",
   "id": "db5268f0-9547-461e-ae10-f45645dd1205",
   "metadata": {},
   "source": [
    "# Model 4: Model 2 + valChosen + valUnchosen"
   ]
  },
  {
   "cell_type": "code",
   "execution_count": null,
   "id": "db44be08-41d3-4444-bf56-3094d06a9c52",
   "metadata": {
    "jupyter": {
     "source_hidden": true
    }
   },
   "outputs": [],
   "source": [
    "get_mean_cor_df(reg_rt = \"0\", mnum = \"4\")"
   ]
  },
  {
   "cell_type": "code",
   "execution_count": null,
   "id": "41743e95-69de-4001-9b9a-3180d586f66f",
   "metadata": {
    "jupyter": {
     "source_hidden": true
    }
   },
   "outputs": [],
   "source": [
    "get_mean_cor_df(reg_rt = \"1\", mnum = \"4\")"
   ]
  },
  {
   "cell_type": "code",
   "execution_count": null,
   "id": "676bab85-63bb-47b6-88cc-4011e7fd3462",
   "metadata": {
    "jupyter": {
     "source_hidden": true
    }
   },
   "outputs": [],
   "source": [
    "reg = 'fractalProb_ev'\n",
    "mnum = '4'\n",
    "mname = 'overall_mean'\n",
    "tstat = '1'\n",
    "\n",
    "reg_rt = '0'\n",
    "plot_filt_tval_img(reg, reg_rt=reg_rt, mnum = mnum, mname = mname, tstat = tstat)\n",
    "\n",
    "reg_rt = '1'\n",
    "plot_filt_tval_img(reg, reg_rt=reg_rt, mnum = mnum, mname = mname, tstat = tstat)"
   ]
  },
  {
   "cell_type": "code",
   "execution_count": null,
   "id": "f15a5d94-7eb2-4aae-9c7d-56901efa21d1",
   "metadata": {
    "jupyter": {
     "source_hidden": true
    }
   },
   "outputs": [],
   "source": [
    "reg = 'fractalProb_par'\n",
    "mnum = '4'\n",
    "mname = 'overall_mean'\n",
    "tstat = '1'\n",
    "\n",
    "reg_rt = '0'\n",
    "plot_filt_tval_img(reg, reg_rt=reg_rt, mnum = mnum, mname = mname, tstat = tstat)\n",
    "\n",
    "reg_rt = '1'\n",
    "plot_filt_tval_img(reg, reg_rt=reg_rt, mnum = mnum, mname = mname, tstat = tstat)"
   ]
  },
  {
   "cell_type": "code",
   "execution_count": null,
   "id": "cd73fc8b-1ff2-4a74-a5f7-653a6a1f4b46",
   "metadata": {
    "jupyter": {
     "source_hidden": true
    }
   },
   "outputs": [],
   "source": [
    "reg = 'stim_ev'\n",
    "mnum = '4'\n",
    "mname = 'overall_mean'\n",
    "tstat = '1'\n",
    "\n",
    "reg_rt = '0'\n",
    "plot_filt_tval_img(reg, reg_rt=reg_rt, mnum = mnum, mname = mname, tstat = tstat)\n",
    "\n",
    "reg_rt = '1'\n",
    "plot_filt_tval_img(reg, reg_rt=reg_rt, mnum = mnum, mname = mname, tstat = tstat)\n",
    "\n",
    "reg = 'stim_rt'\n",
    "plot_filt_tval_img(reg, reg_rt=reg_rt, mnum = mnum, mname = mname, tstat = tstat)"
   ]
  },
  {
   "cell_type": "code",
   "execution_count": null,
   "id": "a10f2b85-5bd7-4fca-b381-cc4852884fb7",
   "metadata": {
    "jupyter": {
     "source_hidden": true
    }
   },
   "outputs": [],
   "source": [
    "reg = 'choiceShift_st'\n",
    "mnum = '4'\n",
    "mname = 'overall_mean'\n",
    "tstat = '1'\n",
    "cut_coords = (-45, -34, 64)\n",
    "draw_cross = True\n",
    "\n",
    "reg_rt = '0'\n",
    "plot_filt_tval_img(reg, reg_rt=reg_rt, mnum = mnum, mname = mname, tstat = tstat, cut_coords = cut_coords, draw_cross = draw_cross)\n",
    "\n",
    "reg_rt = '1'\n",
    "plot_filt_tval_img(reg, reg_rt=reg_rt, mnum = mnum, mname = mname, tstat = tstat, cut_coords = cut_coords, draw_cross = draw_cross)"
   ]
  },
  {
   "cell_type": "code",
   "execution_count": null,
   "id": "21042f3f-daa4-4768-b487-797e2cbf331c",
   "metadata": {
    "jupyter": {
     "source_hidden": true
    }
   },
   "outputs": [],
   "source": [
    "reg = 'valChosen_par'\n",
    "mnum = '4'\n",
    "mname = 'overall_mean'\n",
    "tstat = '1'\n",
    "\n",
    "reg_rt = '0'\n",
    "plot_filt_tval_img(reg, reg_rt=reg_rt, mnum = mnum, mname = mname, tstat = tstat)\n",
    "\n",
    "reg_rt = '1'\n",
    "plot_filt_tval_img(reg, reg_rt=reg_rt, mnum = mnum, mname = mname, tstat = tstat)"
   ]
  },
  {
   "cell_type": "code",
   "execution_count": null,
   "id": "5d90087a-7de1-4dc9-b1ff-1f6976e211fa",
   "metadata": {
    "jupyter": {
     "source_hidden": true
    }
   },
   "outputs": [],
   "source": [
    "reg = 'valUnchosen_par'\n",
    "mnum = '4'\n",
    "mname = 'overall_mean'\n",
    "tstat = '1'\n",
    "\n",
    "reg_rt = '0'\n",
    "plot_filt_tval_img(reg, reg_rt=reg_rt, mnum = mnum, mname = mname, tstat = tstat)\n",
    "\n",
    "reg_rt = '1'\n",
    "plot_filt_tval_img(reg, reg_rt=reg_rt, mnum = mnum, mname = mname, tstat = tstat)"
   ]
  },
  {
   "cell_type": "code",
   "execution_count": null,
   "id": "5a1c7933-7e6d-4895-8623-a78fc9ab52f6",
   "metadata": {
    "jupyter": {
     "source_hidden": true
    }
   },
   "outputs": [],
   "source": [
    "reg = 'reward_ev'\n",
    "mnum = '4'\n",
    "mname = 'overall_mean'\n",
    "tstat = '1'\n",
    "\n",
    "reg_rt = '0'\n",
    "plot_filt_tval_img(reg, reg_rt=reg_rt, mnum = mnum, mname = mname, tstat = tstat)\n",
    "\n",
    "reg_rt = '1'\n",
    "plot_filt_tval_img(reg, reg_rt=reg_rt, mnum = mnum, mname = mname, tstat = tstat)"
   ]
  },
  {
   "cell_type": "markdown",
   "id": "e83e3c26-9b76-4c62-bf22-d15fa7381d88",
   "metadata": {},
   "source": [
    "# Model 5: Model 2 + valDiffLottery + valDiffFractal"
   ]
  },
  {
   "cell_type": "code",
   "execution_count": null,
   "id": "0562c4b0-78a9-4e60-b3b2-cc34045c89cc",
   "metadata": {
    "jupyter": {
     "source_hidden": true
    }
   },
   "outputs": [],
   "source": []
  },
  {
   "cell_type": "markdown",
   "id": "eb677770-6ccd-4eb1-8f27-ab59f5bf8d4e",
   "metadata": {},
   "source": [
    "# Model 6: Model 2 + valChosenLottery + valUnchosenLottery + valChosenFractal + valUnchosenFractal"
   ]
  },
  {
   "cell_type": "code",
   "execution_count": null,
   "id": "f7ca8795-ac3e-4ef6-abd6-1f4075795073",
   "metadata": {
    "jupyter": {
     "source_hidden": true
    }
   },
   "outputs": [],
   "source": []
  },
  {
   "cell_type": "markdown",
   "id": "5202448c-8727-48c3-b133-15265ed15c4b",
   "metadata": {},
   "source": [
    "# Model ...: Model(3/4/5/6) + reward_par"
   ]
  },
  {
   "cell_type": "code",
   "execution_count": null,
   "id": "9161acbf-16dd-4e16-9458-984762c6b3ac",
   "metadata": {
    "jupyter": {
     "source_hidden": true
    }
   },
   "outputs": [],
   "source": []
  },
  {
   "cell_type": "markdown",
   "id": "eeabb10f-e3da-4c22-a13d-7070f6b4e878",
   "metadata": {},
   "source": [
    "# Model ...: Model(3/4/5/6) + rpe_par"
   ]
  },
  {
   "cell_type": "code",
   "execution_count": null,
   "id": "c40a0188-fc74-4683-ba66-d42387a4f2c3",
   "metadata": {
    "jupyter": {
     "source_hidden": true
    }
   },
   "outputs": [],
   "source": []
  },
  {
   "cell_type": "markdown",
   "id": "8dfce04d-cf8f-4be5-9cba-6729d4f57613",
   "metadata": {},
   "source": [
    "# Model ...: Model(3/4/5/6) + reward_par + rpe_par"
   ]
  },
  {
   "cell_type": "code",
   "execution_count": null,
   "id": "5f234104-1276-46b7-a960-b72377cccbf3",
   "metadata": {
    "jupyter": {
     "source_hidden": true
    }
   },
   "outputs": [],
   "source": []
  }
 ],
 "metadata": {
  "kernelspec": {
   "display_name": "Python 3 (ipykernel)",
   "language": "python",
   "name": "python3"
  },
  "language_info": {
   "codemirror_mode": {
    "name": "ipython",
    "version": 3
   },
   "file_extension": ".py",
   "mimetype": "text/x-python",
   "name": "python",
   "nbconvert_exporter": "python",
   "pygments_lexer": "ipython3",
   "version": "3.8.3"
  }
 },
 "nbformat": 4,
 "nbformat_minor": 5
}
