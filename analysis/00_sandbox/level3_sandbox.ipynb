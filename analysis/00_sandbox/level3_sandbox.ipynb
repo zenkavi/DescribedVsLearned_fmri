{
 "cells": [
  {
   "cell_type": "code",
   "execution_count": null,
   "id": "1909603d-f47c-44f7-ba12-359f0704bb0e",
   "metadata": {
    "tags": []
   },
   "outputs": [],
   "source": [
    "import matplotlib.pyplot as plt\n",
    "%matplotlib inline\n",
    "import nibabel as nib\n",
    "from nilearn.plotting import plot_design_matrix, plot_stat_map, view_img\n",
    "from nilearn.reporting import get_clusters_table\n",
    "from nilearn import datasets\n",
    "import glob\n",
    "import os\n",
    "import numpy as np\n",
    "import pandas as pd"
   ]
  },
  {
   "cell_type": "code",
   "execution_count": null,
   "id": "4f0409d5-6181-4913-b993-22e645f50e0f",
   "metadata": {
    "tags": []
   },
   "outputs": [],
   "source": [
    "def get_filt_tval_img(reg, reg_rt = \"0\", mnum = \"1\", mname = 'overall-mean', tstat=\"1\", threshold=0.95):\n",
    "    \n",
    "    level3_path = '/Users/zeynepenkavi/Downloads/GTavares_2017_arbitration/bids_nifti_wface/derivatives/nilearn/glm/level3/'\n",
    "    model_path = 'model'+mnum+'_reg-rt'+reg_rt\n",
    "    img_path = os.path.join(level3_path, model_path, mname, reg+'_'+model_path)\n",
    "    \n",
    "    pos_pval_fn = 'rand_tfce_corrp_tstat%s_pos_%s_%s_model%s_reg-rt%s.nii.gz'%(tstat, mname, reg, mnum, reg_rt)\n",
    "    neg_pval_fn = 'rand_tfce_corrp_tstat%s_neg_%s_%s_model%s_reg-rt%s.nii.gz'%(tstat, mname, reg, mnum, reg_rt)\n",
    "    tval_fn = 'rand_tfce_tstat%s_pos_%s_%s_model%s_reg-rt%s.nii.gz'%(tstat, mname, reg, mnum, reg_rt)\n",
    "    \n",
    "    pos_pval_img = os.path.join(img_path, pos_pval_fn)\n",
    "    neg_pval_img = os.path.join(img_path, neg_pval_fn)\n",
    "    tval_img = os.path.join(img_path, tval_fn)\n",
    "    \n",
    "    pos_pval_img = nib.load(pos_pval_img)\n",
    "    neg_pval_img = nib.load(neg_pval_img)\n",
    "    tval_img = nib.load(tval_img)\n",
    "    \n",
    "    tval_data = tval_img.get_fdata()\n",
    "    pos_pval_data = pos_pval_img.get_fdata()\n",
    "    neg_pval_data = neg_pval_img.get_fdata()\n",
    "    \n",
    "    filt_tval_data = np.where(pos_pval_data > threshold, tval_data, np.where(neg_pval_data > threshold, tval_data, 0))\n",
    "    filt_tval_img = nib.Nifti1Image(filt_tval_data.astype(np.float64), tval_img.affine)\n",
    "    \n",
    "    return filt_tval_img\n",
    "\n",
    "def plot_filt_tval_img(reg, reg_rt = \"0\", mnum = \"1\", mname = 'overall-mean', tstat=\"1\", threshold=0.95, interactive=False, cut_coords = None, display_mode = 'ortho', draw_cross=False, title=None):\n",
    "    filt_tval_img = get_filt_tval_img(reg=reg, reg_rt = reg_rt, mnum = mnum, mname = mname, tstat=tstat, threshold=threshold)\n",
    "    if title is None:\n",
    "        title='%s_model%s_reg-rt%s'%(reg, mnum, reg_rt)\n",
    "    \n",
    "    if(len(np.unique(filt_tval_img.get_fdata())) == 1):\n",
    "        print('Nothing survives correction for %s, model = %s, tstat = %s, reg_rt = %s at threshold p < %s'%(reg, mnum, tstat, reg_rt, str(round(1-threshold, 2))))\n",
    "    elif interactive:\n",
    "        view = view_img(filt_tval_img, \n",
    "             draw_cross=draw_cross,\n",
    "             title=title, cut_coords = cut_coords)\n",
    "        \n",
    "        return view\n",
    "    else:\n",
    "        print('Plotting tvalues filtered for corrected p values < %s'%str(round(1-threshold, 2)))\n",
    "        plot_stat_map(filt_tval_img, \n",
    "             draw_cross=draw_cross,\n",
    "             title=title, cut_coords = cut_coords, display_mode = display_mode)\n",
    "\n",
    "        \n",
    "def get_filt_diff_tval_img(reg,  mnum1, mnum2, reg_rt1=\"0\", reg_rt2=\"0\", reg2=None, mname=\"overall-mean\", tstat=\"1\", threshold=0.95):\n",
    "    \n",
    "    if reg2 is None:\n",
    "        reg2 = reg\n",
    "    \n",
    "    img1 = get_filt_tval_img(reg=reg, reg_rt = reg_rt1, mnum = mnum1, mname = mname, tstat=tstat, threshold=threshold)\n",
    "    img2 = get_filt_tval_img(reg=reg2, reg_rt = reg_rt2, mnum = mnum2, mname = mname, tstat=tstat, threshold=threshold)\n",
    "    \n",
    "    img1_data = img1.get_fdata()\n",
    "    img2_data = img2.get_fdata()\n",
    "    filt_diff_tval_data = img1_data - img2_data\n",
    "    filt_diff_tval_img = nib.Nifti1Image(filt_diff_tval_data.astype(np.float64), img1.affine)\n",
    "    \n",
    "    return filt_diff_tval_img\n",
    "        \n",
    "def plot_filt_diff_tval_img(reg, mnum1, mnum2, reg_rt1=\"0\", reg_rt2=\"0\",reg2 = None, mname = 'overall-mean', tstat=\"1\", threshold=0.95, disp_threshold = 2, interactive=False, cut_coords = None, display_mode = 'ortho', draw_cross=False, title=None):\n",
    "    filt_diff_tval_img = get_filt_diff_tval_img(reg=reg, reg_rt1 = reg_rt1, reg_rt2 = reg_rt2, mnum1 = mnum1, mnum2 = mnum2, reg2 = reg2, mname = mname, tstat=tstat, threshold=threshold)\n",
    "    if title is None:\n",
    "        title='%s model%s_reg-rt%s - model%s_reg-rt%s '%(reg, mnum1, reg_rt1, mnum2, reg_rt2)\n",
    "    \n",
    "    if(len(np.unique(filt_diff_tval_img.get_fdata())) == 1):\n",
    "        print('Nothing survives correction for the difference image %s, model = %s, tstat = %s at threshold p < %s'%(reg, mnum, tstat, str(round(1-threshold, 2))))\n",
    "    \n",
    "    elif interactive:\n",
    "        view = view_img(filt_diff_tval_img, \n",
    "             draw_cross=draw_cross,\n",
    "             title=title, cut_coords = cut_coords, threshold = disp_threshold)\n",
    "        \n",
    "        return view\n",
    "    else:\n",
    "        print('Plotting tvalues filtered for corrected p values < %s'%str(round(1-threshold, 2)))\n",
    "        plot_stat_map(filt_diff_tval_img, \n",
    "             draw_cross=draw_cross,\n",
    "             title=title, cut_coords = cut_coords, display_mode = display_mode, threshold = disp_threshold)\n",
    "\n",
    "        \n",
    "def get_mean_cor_df(reg_rt = \"0\", mnum = \"1\"):\n",
    "    \n",
    "    level3_path = '/Users/zeynepenkavi/Downloads/GTavares_2017_arbitration/bids_nifti_wface/derivatives/nilearn/glm/level3/'\n",
    "    model_path = 'model'+mnum+'_reg-rt'+reg_rt\n",
    "    df_path = os.path.join(level3_path, model_path, model_path+'_mean_desmat_cor.csv')\n",
    "    \n",
    "    mean_cor_df = pd.read_csv(df_path)\n",
    "    \n",
    "    return(mean_cor_df)"
   ]
  },
  {
   "cell_type": "markdown",
   "id": "aa6360f7-b77f-4cbc-a488-a86fe81885e1",
   "metadata": {},
   "source": [
    "# Regressor types\n",
    "\n",
    "- ev = event; amplitude = 1  \n",
    "- par = parametric; amplitude = demeaned    \n",
    "- st = stick (0 duration); amplitude = 1 \n",
    "- rt = reaction time; amplitude = demeaned RT\n",
    "\n",
    "Citing Grinband et al. (2008) people agree that reaction times must be taken into account but model them in different ways. Schonberg, Poldrack et al. papers use overall response time for event and parametric regressor as well as a parametric RT regressor. Many in the rest of the decision making literature use boxcars with RT durations (e.g. Dunsmoor et al. (2011), Chang et al. (2011), Chang and Sanfey (2013), Shuck et al. (2016)). \n",
    "\n",
    "Since it is common to use boxcars with RT duration and I don't know others who model RT the way Poldrack et al. do I will present those results below."
   ]
  },
  {
   "cell_type": "markdown",
   "id": "2988c43c-f150-453f-91ec-c7f04c772491",
   "metadata": {},
   "source": [
    "# Model 1: fractalProb_ev + stim_ev + choiceShift_st + reward_ev"
   ]
  },
  {
   "cell_type": "markdown",
   "id": "9846b0f4-92cd-4c6d-a10c-f98ecc9108d2",
   "metadata": {},
   "source": [
    "Correlation between regressors averaged across subjects and runs"
   ]
  },
  {
   "cell_type": "code",
   "execution_count": null,
   "id": "1b85ffe1-3405-49ea-9078-38979d8335e7",
   "metadata": {},
   "outputs": [],
   "source": [
    "get_mean_cor_df(reg_rt = \"0\", mnum = \"1\")"
   ]
  },
  {
   "cell_type": "code",
   "execution_count": null,
   "id": "30b78518-eca4-4d7e-b909-ba0b1bee839b",
   "metadata": {
    "tags": []
   },
   "outputs": [],
   "source": [
    "reg = 'fractalProb_ev'\n",
    "mnum = '1'\n",
    "plot_filt_tval_img(reg, mnum = mnum)"
   ]
  },
  {
   "cell_type": "code",
   "execution_count": null,
   "id": "22804d16-3210-42d6-9eeb-112caf8aafc7",
   "metadata": {
    "tags": []
   },
   "outputs": [],
   "source": [
    "reg = 'stim_ev'\n",
    "mnum = '1'\n",
    "plot_filt_tval_img(reg, mnum = mnum)"
   ]
  },
  {
   "cell_type": "markdown",
   "id": "7d3bb07c-1254-4ea0-bfa3-a8abb44a503d",
   "metadata": {},
   "source": [
    "Check for left motor cortex activity. Cross is the precentral gyrus peak reported in Hare et al."
   ]
  },
  {
   "cell_type": "code",
   "execution_count": null,
   "id": "e6eb0480-296f-4f85-83dc-52e7948b3188",
   "metadata": {
    "tags": []
   },
   "outputs": [],
   "source": [
    "reg = 'choiceShift_st'\n",
    "mnum = '1'\n",
    "cut_coords = (-45, -34, 64)\n",
    "draw_cross = True\n",
    "\n",
    "plot_filt_tval_img(reg, mnum = mnum, cut_coords = cut_coords, draw_cross = draw_cross)"
   ]
  },
  {
   "cell_type": "markdown",
   "id": "3b583ba1-11fd-4600-92b8-ae6a4bbfc20b",
   "metadata": {},
   "source": [
    "Motor cortex activity is a little ventral than expected but more consistent for choiceShift regressor. It is, however, not lateralized to the left."
   ]
  },
  {
   "cell_type": "code",
   "execution_count": null,
   "id": "c32234b7-22cb-4856-8c84-65c221f76716",
   "metadata": {
    "tags": []
   },
   "outputs": [],
   "source": [
    "reg = 'reward_ev'\n",
    "mnum = '1'\n",
    "plot_filt_tval_img(reg, mnum = mnum)"
   ]
  },
  {
   "cell_type": "markdown",
   "id": "d2ba9891-34d9-4bfe-91b3-a57f01067353",
   "metadata": {},
   "source": [
    "# Model 1a: fractalProb_ev + stim_ev + choiceShiftLeft_st + choiceShiftRight_st + reward_ev"
   ]
  },
  {
   "cell_type": "code",
   "execution_count": null,
   "id": "f27290ea-2a2c-4043-a298-0bdf6e648e0b",
   "metadata": {},
   "outputs": [],
   "source": [
    "plot_filt_diff_tval_img(reg=\"choiceShiftLeft_st\", reg_rt1=\"0\", reg_rt2=\"0\", mnum1=\"1a\", mnum2=\"1\", reg2 = \"choiceShift_st\", cut_coords = cut_coords)\n",
    "plot_filt_diff_tval_img(reg=\"choiceShiftRight_st\", reg_rt1=\"0\", reg_rt2=\"0\", mnum1=\"1a\", mnum2=\"1\", reg2 = \"choiceShift_st\", cut_coords = cut_coords)\n",
    "plot_filt_diff_tval_img(reg=\"choiceShiftRight_st\", reg_rt1=\"0\", reg_rt2=\"0\", mnum1=\"1a\", mnum2=\"1a\", reg2 = \"choiceShiftLeft_st\", cut_coords = cut_coords)\n"
   ]
  },
  {
   "cell_type": "markdown",
   "id": "a5b0a978-c105-47a9-b8cc-db02c0fc2e51",
   "metadata": {},
   "source": [
    "# Model 2: Model 1 + fractalProb_par"
   ]
  },
  {
   "cell_type": "code",
   "execution_count": null,
   "id": "0152d663-ee03-43c4-a062-5b8a810a1dab",
   "metadata": {
    "tags": []
   },
   "outputs": [],
   "source": [
    "get_mean_cor_df(reg_rt = \"0\", mnum = \"2\")"
   ]
  },
  {
   "cell_type": "code",
   "execution_count": null,
   "id": "79372753-4a8b-419c-a4cb-b7ba56a74499",
   "metadata": {
    "tags": []
   },
   "outputs": [],
   "source": [
    "regs = ['fractalProb_ev', 'stim_ev', 'choiceShift_st', 'reward_ev']\n",
    "mnum = '2'\n",
    "\n",
    "for reg in regs:\n",
    "#     plot_filt_diff_tval_img(reg, mnum1=\"1\", mnum2=mnum)\n",
    "    print('No interesting change from Model 1 for %s in Model %s'%(reg, mnum))"
   ]
  },
  {
   "cell_type": "code",
   "execution_count": null,
   "id": "32fb38f9-ea85-4fb4-96ca-6799cf04fb88",
   "metadata": {
    "tags": []
   },
   "outputs": [],
   "source": [
    "reg = 'fractalProb_par'\n",
    "mnum = '2'\n",
    "plot_filt_tval_img(reg, mnum = mnum)"
   ]
  },
  {
   "cell_type": "markdown",
   "id": "e38fc214-a509-457e-88b8-57b196843efd",
   "metadata": {},
   "source": [
    "# Model 3: Model 2 + valDiff_par"
   ]
  },
  {
   "cell_type": "code",
   "execution_count": null,
   "id": "7c520c5c-bf13-4576-ac29-5ac1b550ef45",
   "metadata": {},
   "outputs": [],
   "source": [
    "get_mean_cor_df(reg_rt = \"0\", mnum = \"3\")"
   ]
  },
  {
   "cell_type": "code",
   "execution_count": null,
   "id": "ad42fd0e-f066-4bbf-89bb-4c5826754855",
   "metadata": {
    "tags": []
   },
   "outputs": [],
   "source": [
    "regs = ['fractalProb_ev', 'stim_ev', 'choiceShift_st', 'reward_ev']\n",
    "mnum = '3'\n",
    "\n",
    "for reg in regs:\n",
    "#     plot_filt_diff_tval_img(reg, mnum1=\"1\", mnum2=mnum)\n",
    "    print('No interesting change from Model 1 for %s in Model %s'%(reg, mnum))\n",
    "    \n",
    "# plot_filt_diff_tval_img('fractalProb_par', mnum1=\"2\", mnum2=mnum)\n",
    "print('No interesting change from Model 2 for %s in Model %s'%('fractalProb_par', mnum))"
   ]
  },
  {
   "cell_type": "code",
   "execution_count": null,
   "id": "6ab969e6-aa7d-492e-b82b-0b34bd9d3248",
   "metadata": {
    "tags": []
   },
   "outputs": [],
   "source": [
    "reg = 'valDiff_par'\n",
    "mnum = '3'\n",
    "plot_filt_tval_img(reg, mnum = mnum)"
   ]
  },
  {
   "cell_type": "markdown",
   "id": "db5268f0-9547-461e-ae10-f45645dd1205",
   "metadata": {},
   "source": [
    "# Model 4: Model 2 + valChosen + valUnchosen\n",
    "\n",
    "The added value regressors are not associated with activity anywhere BUT they change the maps for some other regressors."
   ]
  },
  {
   "cell_type": "code",
   "execution_count": null,
   "id": "db44be08-41d3-4444-bf56-3094d06a9c52",
   "metadata": {},
   "outputs": [],
   "source": [
    "get_mean_cor_df(reg_rt = \"0\", mnum = \"4\")"
   ]
  },
  {
   "cell_type": "code",
   "execution_count": null,
   "id": "676bab85-63bb-47b6-88cc-4011e7fd3462",
   "metadata": {
    "tags": []
   },
   "outputs": [],
   "source": [
    "regs = ['fractalProb_ev', 'stim_ev', 'choiceShift_st', 'reward_ev']\n",
    "mnum = '4'\n",
    "\n",
    "for reg in regs:\n",
    "#     plot_filt_diff_tval_img(reg, mnum1=\"1\", mnum2=mnum)\n",
    "    print('No interesting change from Model 1 for %s in Model %s'%(reg, mnum))\n",
    "    \n",
    "# plot_filt_diff_tval_img('fractalProb_par', mnum1=\"2\", mnum2=mnum)\n",
    "print('No interesting change from Model 2 for %s in Model %s'%('fractalProb_par', mnum))"
   ]
  },
  {
   "cell_type": "code",
   "execution_count": null,
   "id": "21042f3f-daa4-4768-b487-797e2cbf331c",
   "metadata": {},
   "outputs": [],
   "source": [
    "regs = ['valChosen_par', 'valUnchosen_par']\n",
    "mnum = '4'\n",
    "\n",
    "for reg in regs:\n",
    "    plot_filt_tval_img(reg, mnum = mnum)\n"
   ]
  },
  {
   "cell_type": "markdown",
   "id": "e83e3c26-9b76-4c62-bf22-d15fa7381d88",
   "metadata": {},
   "source": [
    "# Model 5: Model 2 + valDiffLottery + valDiffFractal"
   ]
  },
  {
   "cell_type": "code",
   "execution_count": null,
   "id": "44b938ed-2de5-4244-baea-b42341b2665f",
   "metadata": {},
   "outputs": [],
   "source": [
    "get_mean_cor_df(reg_rt = \"0\", mnum = \"5\")"
   ]
  },
  {
   "cell_type": "code",
   "execution_count": null,
   "id": "3fa80057-de73-4a76-b204-3915509beabe",
   "metadata": {
    "jupyter": {
     "source_hidden": true
    },
    "tags": []
   },
   "outputs": [],
   "source": [
    "regs = ['fractalProb_ev', 'stim_ev', 'choiceShift_st', 'reward_ev']\n",
    "mnum = '5'\n",
    "\n",
    "for reg in regs:\n",
    "#     plot_filt_diff_tval_img(reg, mnum1=\"1\", mnum2=mnum)\n",
    "    print('No interesting change from Model 1 for %s in Model %s'%(reg, mnum))\n",
    "    \n",
    "# plot_filt_diff_tval_img('fractalProb_par', mnum1=\"2\", mnum2=mnum)\n",
    "print('No interesting change from Model 2 for %s in Model %s'%('fractalProb_par', mnum))"
   ]
  },
  {
   "cell_type": "code",
   "execution_count": null,
   "id": "0b31b746-18ae-4b50-b6ce-32b8d0b44bf8",
   "metadata": {},
   "outputs": [],
   "source": [
    "reg = 'valDiffLottery_par'\n",
    "mnum = '5'\n",
    "plot_filt_tval_img(reg, mnum = mnum, threshold=0.8)\n"
   ]
  },
  {
   "cell_type": "code",
   "execution_count": null,
   "id": "763029aa-35df-41fc-8ec7-e5eeb48971e2",
   "metadata": {},
   "outputs": [],
   "source": [
    "reg = 'valDiffFractal_par'\n",
    "mnum = '5'\n",
    "plot_filt_tval_img(reg ,mnum = mnum)"
   ]
  },
  {
   "cell_type": "markdown",
   "id": "86491726-00ed-4b16-8aea-7b8c64bb6a0d",
   "metadata": {},
   "source": [
    "# Model 5a: Model 2 + valDiffLotteryWeighted + valDiffFractalWeighted"
   ]
  },
  {
   "cell_type": "code",
   "execution_count": null,
   "id": "329c456b-d3e0-4310-88eb-0ebdc5f3e813",
   "metadata": {},
   "outputs": [],
   "source": [
    "get_mean_cor_df(reg_rt = \"0\", mnum = \"5a\")"
   ]
  },
  {
   "cell_type": "code",
   "execution_count": null,
   "id": "89cc72e6-2737-4644-b370-3f5a9a33d30b",
   "metadata": {},
   "outputs": [],
   "source": [
    "regs = ['fractalProb_ev', 'stim_ev', 'choiceShift_st', 'reward_ev']\n",
    "mnum = '5a'\n",
    "\n",
    "for reg in regs:\n",
    "#     plot_filt_diff_tval_img(reg, mnum1=\"1\", mnum2=mnum)\n",
    "    print('No interesting change from Model 1 for %s in Model %s'%(reg, mnum))\n",
    "    \n",
    "# plot_filt_diff_tval_img('fractalProb_par', mnum1=\"2\", mnum2=mnum)\n",
    "print('No interesting change from Model 2 for %s in Model %s'%('fractalProb_par', mnum))"
   ]
  },
  {
   "cell_type": "code",
   "execution_count": null,
   "id": "54847908-39a0-4d10-bc65-0ccbb147bb8b",
   "metadata": {},
   "outputs": [],
   "source": [
    "reg = 'valDiffLotteryWeighted_par'\n",
    "mnum = '5a'\n",
    "plot_filt_tval_img(reg, mnum = mnum)\n"
   ]
  },
  {
   "cell_type": "code",
   "execution_count": null,
   "id": "d55d88f8-1d48-42f3-8906-d260b9563208",
   "metadata": {},
   "outputs": [],
   "source": [
    "reg = 'valDiffFractalWeighted_par'\n",
    "mnum = '5a'\n",
    "plot_filt_tval_img(reg ,mnum = mnum)\n"
   ]
  },
  {
   "cell_type": "markdown",
   "id": "eb677770-6ccd-4eb1-8f27-ab59f5bf8d4e",
   "metadata": {},
   "source": [
    "# Model 6: Model 2 + valChosenLottery + valUnchosenLottery + valChosenFractal + valUnchosenFractal"
   ]
  },
  {
   "cell_type": "code",
   "execution_count": null,
   "id": "f7ca8795-ac3e-4ef6-abd6-1f4075795073",
   "metadata": {},
   "outputs": [],
   "source": [
    "get_mean_cor_df(reg_rt = \"0\", mnum = \"6\")"
   ]
  },
  {
   "cell_type": "code",
   "execution_count": null,
   "id": "3a302697-3d78-4c3f-8f0c-dfb3ee5dc1b2",
   "metadata": {},
   "outputs": [],
   "source": [
    "regs = ['fractalProb_ev', 'stim_ev', 'choiceShift_st', 'reward_ev']\n",
    "mnum = '6'\n",
    "\n",
    "for reg in regs:\n",
    "#     plot_filt_diff_tval_img(reg, mnum1=\"1\", mnum2=mnum)\n",
    "    print('No interesting change from Model 1 for %s in Model %s'%(reg, mnum))\n",
    "    \n",
    "# plot_filt_diff_tval_img('fractalProb_par', mnum1=\"2\", mnum2=mnum)\n",
    "print('No interesting change from Model 2 for %s in Model %s'%('fractalProb_par', mnum))"
   ]
  },
  {
   "cell_type": "code",
   "execution_count": null,
   "id": "b89b2583-11c3-4b1c-811f-3875da884371",
   "metadata": {},
   "outputs": [],
   "source": [
    "reg = 'valChosenLottery_par'\n",
    "mnum = '6'\n",
    "plot_filt_tval_img(reg, mnum = mnum)"
   ]
  },
  {
   "cell_type": "code",
   "execution_count": null,
   "id": "93efa560-6ca6-4c03-9052-ccb68f7a3963",
   "metadata": {},
   "outputs": [],
   "source": [
    "regs = ['valUnchosenLottery_par', 'valChosenFractal_par', 'valUnchosenFractal_par']\n",
    "mnum = '6'\n",
    "\n",
    "for reg in regs:\n",
    "    plot_filt_tval_img(reg, mnum = mnum)"
   ]
  },
  {
   "cell_type": "markdown",
   "id": "389323e3-a342-4a00-a862-6b8d62dc2a82",
   "metadata": {},
   "source": [
    "# Model 6a: Model 2 + valChosenLotteryWeighted + valUnchosenLotteryWeighted + valChosenFractalWeighted + valUnchosenFractalWeighted"
   ]
  },
  {
   "cell_type": "code",
   "execution_count": null,
   "id": "b0e973f0-94b9-4eb5-bf99-bd96bdd5378c",
   "metadata": {},
   "outputs": [],
   "source": [
    "get_mean_cor_df(reg_rt = \"0\", mnum = \"6a\")"
   ]
  },
  {
   "cell_type": "code",
   "execution_count": null,
   "id": "bf827bf3-b735-440a-9239-dac95cf773a8",
   "metadata": {},
   "outputs": [],
   "source": [
    "regs = ['fractalProb_ev', 'stim_ev', 'choiceShift_st', 'reward_ev']\n",
    "mnum = '6a'\n",
    "\n",
    "for reg in regs:\n",
    "#     plot_filt_diff_tval_img(reg, mnum1=\"1\", mnum2=mnum)\n",
    "    print('No interesting change from Model 1 for %s in Model %s'%(reg, mnum))\n",
    "    \n",
    "# plot_filt_diff_tval_img('fractalProb_par', mnum1=\"2\", mnum2=mnum)\n",
    "print('No interesting change from Model 2 for %s in Model %s'%('fractalProb_par', mnum))"
   ]
  },
  {
   "cell_type": "code",
   "execution_count": null,
   "id": "87d89d6e-ad31-469e-864c-69b3615f5f98",
   "metadata": {},
   "outputs": [],
   "source": [
    "regs = ['valChosenLotteryWeighted_par', 'valUnchosenLotteryWeighted_par', 'valChosenFractalWeighted_par', 'valUnchosenFractalWeighted_par']\n",
    "mnum = '6a'\n",
    "for reg in regs:\n",
    "    plot_filt_tval_img(reg, mnum = mnum)"
   ]
  },
  {
   "cell_type": "markdown",
   "id": "93b4eddc-0118-47bc-8e34-5aceebdc6726",
   "metadata": {},
   "source": [
    "# Model 11: Model 2 + valDiffLotteryLowPFrac_par + valDiffLotteryMedPFrac_par + valDiffLotteryHighPFrac_par + valDiffFractalLowPFrac_par + valDiffFractalMedPFrac_par + valDiffFractalHighPFrac_par"
   ]
  },
  {
   "cell_type": "code",
   "execution_count": null,
   "id": "08e1cd88-930c-4541-aece-10a0ee2a43f4",
   "metadata": {},
   "outputs": [],
   "source": [
    "get_mean_cor_df(reg_rt = \"0\", mnum = \"11\")"
   ]
  },
  {
   "cell_type": "code",
   "execution_count": null,
   "id": "ca23ae2b-b782-4e0e-a4c1-07c79105387e",
   "metadata": {},
   "outputs": [],
   "source": [
    "regs = ['fractalProb_ev', 'stim_ev', 'choiceShift_st', 'reward_ev']\n",
    "mnum = '11'\n",
    "\n",
    "for reg in regs:\n",
    "#     plot_filt_diff_tval_img(reg, mnum1=\"1\", mnum2=mnum)\n",
    "    print('No interesting change from Model 1 for %s in Model %s'%(reg, mnum))\n",
    "    \n",
    "# plot_filt_diff_tval_img('fractalProb_par', mnum1=\"2\", mnum2=mnum)\n",
    "print('No interesting change from Model 2 for %s in Model %s'%('fractalProb_par', mnum))"
   ]
  },
  {
   "cell_type": "code",
   "execution_count": null,
   "id": "27240c61-58e4-422f-a4b8-da631179bb8e",
   "metadata": {},
   "outputs": [],
   "source": [
    "regs = ['valDiffLotteryLowPFrac_par', 'valDiffLotteryMedPFrac_par', 'valDiffLotteryHighPFrac_par', 'valDiffFractalLowPFrac_par', 'valDiffFractalMedPFrac_par', 'valDiffFractalHighPFrac_par']\n",
    "\n",
    "mnum = '11'\n",
    "for reg in regs:\n",
    "    plot_filt_tval_img(reg, mnum = mnum)"
   ]
  },
  {
   "cell_type": "markdown",
   "id": "6e21ba54-ef33-4d91-9088-476b80de0de1",
   "metadata": {},
   "source": [
    "Is this meaningful or a by-product of sparse regressors?"
   ]
  },
  {
   "cell_type": "markdown",
   "id": "5202448c-8727-48c3-b133-15265ed15c4b",
   "metadata": {},
   "source": [
    "# Model 7: Model 5 + reward_par"
   ]
  },
  {
   "cell_type": "code",
   "execution_count": null,
   "id": "9161acbf-16dd-4e16-9458-984762c6b3ac",
   "metadata": {},
   "outputs": [],
   "source": [
    "get_mean_cor_df(reg_rt = \"0\", mnum = \"7\")"
   ]
  },
  {
   "cell_type": "code",
   "execution_count": null,
   "id": "65ffbd07-9ff5-4885-8f88-82cbe31c6bac",
   "metadata": {
    "jupyter": {
     "source_hidden": true
    },
    "tags": []
   },
   "outputs": [],
   "source": [
    "regs = ['fractalProb_ev', 'stim_ev', 'choiceShift_st', 'reward_ev']\n",
    "mnum = '7'\n",
    "\n",
    "for reg in regs:\n",
    "#     plot_filt_diff_tval_img(reg, mnum1=\"1\", mnum2=mnum)\n",
    "    print('No interesting change from Model 1 for %s in Model %s'%(reg, mnum))\n",
    "    \n",
    "# plot_filt_diff_tval_img('fractalProb_par', mnum1=\"2\", mnum2=mnum)\n",
    "print('No interesting change from Model 2 for %s in Model %s'%('fractalProb_par', mnum))"
   ]
  },
  {
   "cell_type": "code",
   "execution_count": null,
   "id": "fd3f934c-a4ca-46a6-9b2b-493571a6d334",
   "metadata": {},
   "outputs": [],
   "source": [
    "reg = 'valDiffLottery_par'\n",
    "mnum = '7'\n",
    "# plot_filt_tval_img(reg, mnum = \"5\")\n",
    "plot_filt_tval_img(reg, mnum = mnum)\n",
    "# plot_filt_diff_tval_img(reg, mnum1=\"5\", mnum2=mnum)"
   ]
  },
  {
   "cell_type": "code",
   "execution_count": null,
   "id": "25fee428-ef56-401c-89c1-81e92f46f477",
   "metadata": {},
   "outputs": [],
   "source": [
    "reg = 'valDiffFractal_par'\n",
    "mnum = '7'\n",
    "plot_filt_tval_img(reg, mnum = mnum)\n",
    "# plot_filt_diff_tval_img(reg, mnum1=\"5\", mnum2=mnum)\n"
   ]
  },
  {
   "cell_type": "code",
   "execution_count": null,
   "id": "c4443866-861b-4b7d-a695-6f734e1b1053",
   "metadata": {},
   "outputs": [],
   "source": [
    "reg = 'reward_par'\n",
    "mnum = '7'\n",
    "\n",
    "plot_filt_tval_img(reg, mnum = mnum)"
   ]
  },
  {
   "cell_type": "markdown",
   "id": "eeabb10f-e3da-4c22-a13d-7070f6b4e878",
   "metadata": {},
   "source": [
    "# Model 8: Model 5 + rpe_par"
   ]
  },
  {
   "cell_type": "code",
   "execution_count": null,
   "id": "c40a0188-fc74-4683-ba66-d42387a4f2c3",
   "metadata": {},
   "outputs": [],
   "source": [
    "get_mean_cor_df(reg_rt = \"0\", mnum = \"8\")"
   ]
  },
  {
   "cell_type": "code",
   "execution_count": null,
   "id": "ff1d73a3-98c3-4296-81d7-732168426122",
   "metadata": {},
   "outputs": [],
   "source": [
    "regs = ['fractalProb_ev', 'stim_ev', 'choiceShift_st', 'reward_ev']\n",
    "mnum = '8'\n",
    "\n",
    "for reg in regs:\n",
    "#     plot_filt_diff_tval_img(reg, mnum1=\"1\", mnum2=mnum)\n",
    "    print('No interesting change from Model 1 for %s in Model %s'%(reg, mnum))\n",
    "    \n",
    "# plot_filt_diff_tval_img('fractalProb_par', mnum1=\"2\", mnum2=mnum)\n",
    "print('No interesting change from Model 2 for %s in Model %s'%('fractalProb_par', mnum))"
   ]
  },
  {
   "cell_type": "code",
   "execution_count": null,
   "id": "b40dfe8e-65c5-40ad-bd12-2cee8b02bebd",
   "metadata": {},
   "outputs": [],
   "source": [
    "reg = 'valDiffLottery_par'\n",
    "mnum = '8'\n",
    "\n",
    "# plot_filt_tval_img(reg, mnum = \"5\")\n",
    "plot_filt_tval_img(reg, mnum = mnum)\n",
    "# plot_filt_diff_tval_img(reg, mnum1=\"5\", mnum2=mnum)\n"
   ]
  },
  {
   "cell_type": "code",
   "execution_count": null,
   "id": "a91492ec-c9ff-4271-a2bf-3d32c049ac7f",
   "metadata": {},
   "outputs": [],
   "source": [
    "reg = 'valDiffFractal_par'\n",
    "mnum = '8'\n",
    "plot_filt_tval_img(reg, mnum = \"5\")\n",
    "plot_filt_tval_img(reg, mnum = mnum)\n",
    "# plot_filt_diff_tval_img(reg, reg_rt1=reg_rt, reg_rt2=reg_rt, mnum1=\"5\", mnum2=mnum)\n"
   ]
  },
  {
   "cell_type": "code",
   "execution_count": null,
   "id": "3939d354-8adc-4e42-8846-345061b9a922",
   "metadata": {},
   "outputs": [],
   "source": [
    "reg = 'rpe_par'\n",
    "mnum = '8'\n",
    "plot_filt_tval_img(reg, mnum = mnum)"
   ]
  },
  {
   "cell_type": "markdown",
   "id": "8dfce04d-cf8f-4be5-9cba-6729d4f57613",
   "metadata": {},
   "source": [
    "# Model 9: Model 5 + reward_par + rpe_par"
   ]
  },
  {
   "cell_type": "code",
   "execution_count": null,
   "id": "5f234104-1276-46b7-a960-b72377cccbf3",
   "metadata": {},
   "outputs": [],
   "source": [
    "get_mean_cor_df(reg_rt = \"0\", mnum = \"9\")"
   ]
  },
  {
   "cell_type": "code",
   "execution_count": null,
   "id": "0062caed-f0c9-45be-80f5-d0483085f328",
   "metadata": {},
   "outputs": [],
   "source": [
    "regs = ['fractalProb_ev', 'stim_ev', 'choiceShift_st', 'reward_ev']\n",
    "mnum = '9'\n",
    "\n",
    "for reg in regs:\n",
    "#     plot_filt_diff_tval_img(reg, mnum1=\"1\", mnum2=mnum)\n",
    "    print('No interesting change from Model 1 for %s in Model %s'%(reg, mnum))\n",
    "    \n",
    "# plot_filt_diff_tval_img('fractalProb_par', mnum1=\"2\", mnum2=mnum)\n",
    "print('No interesting change from Model 2 for %s in Model %s'%('fractalProb_par', mnum))"
   ]
  },
  {
   "cell_type": "code",
   "execution_count": null,
   "id": "4b594932-ce00-4185-8ca1-8a8c4755848d",
   "metadata": {},
   "outputs": [],
   "source": [
    "reg = 'valDiffLottery_par'\n",
    "mnum = '9'\n",
    "# plot_filt_tval_img(reg, mnum = \"5\")\n",
    "plot_filt_tval_img(reg, mnum = mnum)\n",
    "# plot_filt_diff_tval_img(reg, mnum1=\"5\", mnum2=mnum)"
   ]
  },
  {
   "cell_type": "code",
   "execution_count": null,
   "id": "0f693e54-2ab9-4711-84af-1f47d0c0956e",
   "metadata": {},
   "outputs": [],
   "source": [
    "reg = 'valDiffFractal_par'\n",
    "mnum = '9'\n",
    "plot_filt_tval_img(reg, mnum = \"5\")\n",
    "plot_filt_tval_img(reg, mnum = mnum)"
   ]
  },
  {
   "cell_type": "code",
   "execution_count": null,
   "id": "543a7684-efef-4ac2-954d-aa887498c19e",
   "metadata": {},
   "outputs": [],
   "source": [
    "reg = 'reward_par'\n",
    "mnum = '9'\n",
    "plot_filt_tval_img(reg, mnum = mnum)"
   ]
  },
  {
   "cell_type": "code",
   "execution_count": null,
   "id": "e695a093-4637-495c-b374-20f2b9d9a38e",
   "metadata": {},
   "outputs": [],
   "source": [
    "reg = 'rpe_par'\n",
    "mnum = '9'\n",
    "plot_filt_tval_img(reg, mnum = mnum)"
   ]
  },
  {
   "cell_type": "markdown",
   "id": "1e29d8c0-e682-4b56-afff-19d6dee3ef76",
   "metadata": {},
   "source": [
    "# Model 10: Model 5 + reward_par + rpe_par + rpeLeftFractal_par + rpeRightFractal_par"
   ]
  },
  {
   "cell_type": "code",
   "execution_count": null,
   "id": "ca3dc537-da68-4a49-a791-78d41bfa745e",
   "metadata": {},
   "outputs": [],
   "source": [
    "get_mean_cor_df(reg_rt = \"0\", mnum = \"10\")"
   ]
  },
  {
   "cell_type": "code",
   "execution_count": null,
   "id": "23d70479-5089-4662-a46e-9f72fe198c22",
   "metadata": {},
   "outputs": [],
   "source": [
    "regs = ['fractalProb_ev', 'stim_ev', 'choiceShift_st', 'reward_ev']\n",
    "mnum = '10'\n",
    "\n",
    "for reg in regs:\n",
    "#     plot_filt_diff_tval_img(reg, mnum1=\"1\", mnum2=mnum)\n",
    "    print('No interesting change from Model 1 for %s in Model %s'%(reg, mnum))\n",
    "    \n",
    "# plot_filt_diff_tval_img('fractalProb_par', mnum1=\"2\", mnum2=mnum)\n",
    "print('No interesting change from Model 2 for %s in Model %s'%('fractalProb_par', mnum))"
   ]
  },
  {
   "cell_type": "code",
   "execution_count": null,
   "id": "8908233e-125f-4e1e-9480-645e43e04446",
   "metadata": {},
   "outputs": [],
   "source": [
    "reg = 'valDiffLottery_par'\n",
    "mnum = '10'\n",
    "plot_filt_tval_img(reg, mnum = mnum)"
   ]
  },
  {
   "cell_type": "code",
   "execution_count": null,
   "id": "cabf6709-ad62-4778-becf-eda925b4c9b0",
   "metadata": {},
   "outputs": [],
   "source": [
    "reg = 'rpe_par'\n",
    "mnum = '10'\n",
    "cut_coords = (-3, 46, 22)\n",
    "plot_filt_tval_img(reg, mnum = \"9\", cut_coords = cut_coords)\n",
    "plot_filt_tval_img(reg, mnum = mnum, cut_coords = cut_coords)\n",
    "# plot_filt_diff_tval_img(reg, mnum1=\"9\", mnum2=mnum)"
   ]
  },
  {
   "cell_type": "code",
   "execution_count": null,
   "id": "4acfd818-2aea-4401-b47e-7dae9cf87a88",
   "metadata": {},
   "outputs": [],
   "source": [
    "regs = ['valDiffFractal_par', 'reward_par', 'rpeLeftFractal_par', 'rpeRightFractal_par']\n",
    "mnum = '10'\n",
    "for reg in regs:\n",
    "    plot_filt_tval_img(reg, mnum = mnum)"
   ]
  },
  {
   "cell_type": "markdown",
   "id": "289a2efb-729e-4bea-b97a-f18464fd66f7",
   "metadata": {},
   "source": [
    "# Model 10a: Model 5a + reward_par + rpe_par + rpeLeftFractal_par + rpeRightFractal_par"
   ]
  },
  {
   "cell_type": "code",
   "execution_count": null,
   "id": "463fb5d3-065f-401f-b45b-b667a672d147",
   "metadata": {},
   "outputs": [],
   "source": [
    "get_mean_cor_df(reg_rt = \"0\", mnum = \"10a\")"
   ]
  },
  {
   "cell_type": "code",
   "execution_count": null,
   "id": "42c9fb6c-4b89-4bca-ae37-f7933d6c1834",
   "metadata": {},
   "outputs": [],
   "source": [
    "regs = ['fractalProb_ev', 'stim_ev', 'choiceShift_st', 'reward_ev']\n",
    "mnum = '10a'\n",
    "\n",
    "for reg in regs:\n",
    "#     plot_filt_diff_tval_img(reg, mnum1=\"1\", mnum2=mnum)\n",
    "    print('No interesting change from Model 1 for %s in Model %s'%(reg, mnum))\n",
    "    \n",
    "# plot_filt_diff_tval_img('fractalProb_par', mnum1=\"2\", mnum2=mnum)\n",
    "print('No interesting change from Model 2 for %s in Model %s'%('fractalProb_par', mnum))"
   ]
  },
  {
   "cell_type": "code",
   "execution_count": null,
   "id": "f612cba3-f411-4a01-b5d3-8b29b62b668f",
   "metadata": {},
   "outputs": [],
   "source": [
    "reg = 'valDiffLotteryWeighted_par'\n",
    "mnum = '10a'\n",
    "plot_filt_tval_img(reg, mnum = mnum)\n",
    "plot_filt_tval_img(reg=\"valDiffLottery_par\", mnum=\"10\")"
   ]
  },
  {
   "cell_type": "code",
   "execution_count": null,
   "id": "0e6087a6-d846-475d-8d84-179f92a7d635",
   "metadata": {},
   "outputs": [],
   "source": [
    "reg = 'reward_par'\n",
    "mnum = '10a'\n",
    "plot_filt_tval_img(reg, mnum = mnum)"
   ]
  },
  {
   "cell_type": "code",
   "execution_count": null,
   "id": "c5cb97b0-43a7-4f8b-a4aa-d70fe6228078",
   "metadata": {},
   "outputs": [],
   "source": [
    "reg = 'rpe_par'\n",
    "mnum = '10a'\n",
    "plot_filt_tval_img(reg, mnum = mnum)"
   ]
  },
  {
   "cell_type": "code",
   "execution_count": null,
   "id": "a062ee8b-8ae8-4d3c-b7ed-5832adf6436d",
   "metadata": {},
   "outputs": [],
   "source": [
    "regs = ['valDiffFractalWeighted_par', 'rpeRightFractal_par','rpeLeftFractal_par']\n",
    "mnum = '10a'\n",
    "plot_filt_tval_img(reg, mnum = mnum)"
   ]
  }
 ],
 "metadata": {
  "kernelspec": {
   "display_name": "Python 3 (ipykernel)",
   "language": "python",
   "name": "python3"
  },
  "language_info": {
   "codemirror_mode": {
    "name": "ipython",
    "version": 3
   },
   "file_extension": ".py",
   "mimetype": "text/x-python",
   "name": "python",
   "nbconvert_exporter": "python",
   "pygments_lexer": "ipython3",
   "version": "3.8.3"
  }
 },
 "nbformat": 4,
 "nbformat_minor": 5
}
