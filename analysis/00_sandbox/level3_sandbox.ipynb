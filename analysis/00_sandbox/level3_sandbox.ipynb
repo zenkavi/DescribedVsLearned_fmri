{
 "cells": [
  {
   "cell_type": "code",
   "execution_count": null,
   "id": "1909603d-f47c-44f7-ba12-359f0704bb0e",
   "metadata": {
    "tags": []
   },
   "outputs": [],
   "source": [
    "import matplotlib.pyplot as plt\n",
    "%matplotlib inline\n",
    "import nibabel as nib\n",
    "from nilearn.plotting import plot_design_matrix, plot_stat_map, view_img\n",
    "from nilearn.reporting import get_clusters_table\n",
    "from nilearn import datasets\n",
    "import glob\n",
    "import os\n",
    "import numpy as np\n",
    "import pandas as pd"
   ]
  },
  {
   "cell_type": "code",
   "execution_count": null,
   "id": "4f0409d5-6181-4913-b993-22e645f50e0f",
   "metadata": {
    "tags": []
   },
   "outputs": [],
   "source": [
    "def get_filt_tval_img(reg, reg_rt = \"0\", mnum = \"1\", mname = 'overall-mean', tstat=\"1\", threshold=0.95):\n",
    "    \n",
    "    level3_path = '/Users/zeynepenkavi/Downloads/GTavares_2017_arbitration/bids_nifti_wface/derivatives/nilearn/glm/level3/'\n",
    "    model_path = 'model'+mnum+'_reg-rt'+reg_rt\n",
    "    img_path = os.path.join(level3_path, model_path, mname, reg+'_'+model_path)\n",
    "    \n",
    "    pos_pval_fn = 'rand_tfce_corrp_tstat%s_pos_%s_%s_model%s_reg-rt%s.nii.gz'%(tstat, mname, reg, mnum, reg_rt)\n",
    "    neg_pval_fn = 'rand_tfce_corrp_tstat%s_neg_%s_%s_model%s_reg-rt%s.nii.gz'%(tstat, mname, reg, mnum, reg_rt)\n",
    "    tval_fn = 'rand_tfce_tstat%s_pos_%s_%s_model%s_reg-rt%s.nii.gz'%(tstat, mname, reg, mnum, reg_rt)\n",
    "    \n",
    "    pos_pval_img = os.path.join(img_path, pos_pval_fn)\n",
    "    neg_pval_img = os.path.join(img_path, neg_pval_fn)\n",
    "    tval_img = os.path.join(img_path, tval_fn)\n",
    "    \n",
    "    pos_pval_img = nib.load(pos_pval_img)\n",
    "    neg_pval_img = nib.load(neg_pval_img)\n",
    "    tval_img = nib.load(tval_img)\n",
    "    \n",
    "    tval_data = tval_img.get_fdata()\n",
    "    pos_pval_data = pos_pval_img.get_fdata()\n",
    "    neg_pval_data = neg_pval_img.get_fdata()\n",
    "    \n",
    "    filt_tval_data = np.where(pos_pval_data > threshold, tval_data, np.where(neg_pval_data > threshold, tval_data, 0))\n",
    "    filt_tval_img = nib.Nifti1Image(filt_tval_data.astype(np.float64), tval_img.affine)\n",
    "    \n",
    "    return filt_tval_img\n",
    "\n",
    "def plot_filt_tval_img(reg, reg_rt = \"0\", mnum = \"1\", mname = 'overall-mean', tstat=\"1\", threshold=0.95, interactive=False, cut_coords = None, display_mode = 'ortho', draw_cross=False, title=None):\n",
    "    filt_tval_img = get_filt_tval_img(reg=reg, reg_rt = reg_rt, mnum = mnum, mname = mname, tstat=tstat, threshold=threshold)\n",
    "    if title is None:\n",
    "        title='%s_model%s_reg-rt%s'%(reg, mnum, reg_rt)\n",
    "    \n",
    "    if(len(np.unique(filt_tval_img.get_fdata())) == 1):\n",
    "        print('Nothing survives correction for %s, model = %s, tstat = %s, reg_rt = %s at threshold p < %s'%(reg, mnum, tstat, reg_rt, str(round(1-threshold, 2))))\n",
    "    elif interactive:\n",
    "        view = view_img(filt_tval_img, \n",
    "             draw_cross=draw_cross,\n",
    "             title=title, cut_coords = cut_coords)\n",
    "        \n",
    "        return view\n",
    "    else:\n",
    "        print('Plotting tvalues filtered for corrected p values < %s'%str(round(1-threshold, 2)))\n",
    "        plot_stat_map(filt_tval_img, \n",
    "             draw_cross=draw_cross,\n",
    "             title=title, cut_coords = cut_coords, display_mode = display_mode)\n",
    "\n",
    "        \n",
    "def get_filt_diff_tval_img(reg,  mnum1, mnum2, reg_rt1=\"0\", reg_rt2=\"0\", reg2=None, mname=\"overall-mean\", tstat=\"1\", threshold=0.95):\n",
    "    \n",
    "    if reg2 is None:\n",
    "        reg2 = reg\n",
    "    \n",
    "    img1 = get_filt_tval_img(reg=reg, reg_rt = reg_rt1, mnum = mnum1, mname = mname, tstat=tstat, threshold=threshold)\n",
    "    img2 = get_filt_tval_img(reg=reg2, reg_rt = reg_rt2, mnum = mnum2, mname = mname, tstat=tstat, threshold=threshold)\n",
    "    \n",
    "    img1_data = img1.get_fdata()\n",
    "    img2_data = img2.get_fdata()\n",
    "    filt_diff_tval_data = img1_data - img2_data\n",
    "    filt_diff_tval_img = nib.Nifti1Image(filt_diff_tval_data.astype(np.float64), img1.affine)\n",
    "    \n",
    "    return filt_diff_tval_img\n",
    "        \n",
    "def plot_filt_diff_tval_img(reg, mnum1, mnum2, reg_rt1=\"0\", reg_rt2=\"0\",reg2 = None, mname = 'overall-mean', tstat=\"1\", threshold=0.95, disp_threshold = 2, interactive=False, cut_coords = None, display_mode = 'ortho', draw_cross=False, title=None):\n",
    "    filt_diff_tval_img = get_filt_diff_tval_img(reg=reg, reg_rt1 = reg_rt1, reg_rt2 = reg_rt2, mnum1 = mnum1, mnum2 = mnum2, reg2 = reg2, mname = mname, tstat=tstat, threshold=threshold)\n",
    "    if title is None:\n",
    "        title='%s model%s_reg-rt%s - model%s_reg-rt%s '%(reg, mnum1, reg_rt1, mnum2, reg_rt2)\n",
    "    \n",
    "    if(len(np.unique(filt_diff_tval_img.get_fdata())) == 1):\n",
    "        print('Nothing survives correction for the difference image %s, model = %s, tstat = %s at threshold p < %s'%(reg, mnum, tstat, str(round(1-threshold, 2))))\n",
    "    \n",
    "    elif interactive:\n",
    "        view = view_img(filt_diff_tval_img, \n",
    "             draw_cross=draw_cross,\n",
    "             title=title, cut_coords = cut_coords, threshold = disp_threshold)\n",
    "        \n",
    "        return view\n",
    "    else:\n",
    "        print('Plotting tvalues filtered for corrected p values < %s'%str(round(1-threshold, 2)))\n",
    "        plot_stat_map(filt_diff_tval_img, \n",
    "             draw_cross=draw_cross,\n",
    "             title=title, cut_coords = cut_coords, display_mode = display_mode, threshold = disp_threshold)\n",
    "\n",
    "        \n",
    "def get_mean_cor_df(reg_rt = \"0\", mnum = \"1\"):\n",
    "    \n",
    "    level3_path = '/Users/zeynepenkavi/Downloads/GTavares_2017_arbitration/bids_nifti_wface/derivatives/nilearn/glm/level3/'\n",
    "    model_path = 'model'+mnum+'_reg-rt'+reg_rt\n",
    "    df_path = os.path.join(level3_path, model_path, model_path+'_mean_desmat_cor.csv')\n",
    "    \n",
    "    mean_cor_df = pd.read_csv(df_path)\n",
    "    \n",
    "    return(mean_cor_df)"
   ]
  },
  {
   "cell_type": "markdown",
   "id": "aa6360f7-b77f-4cbc-a488-a86fe81885e1",
   "metadata": {},
   "source": [
    "# Regressor types\n",
    "\n",
    "- ev = event; amplitude = 1  \n",
    "- par = parametric; amplitude = demeaned    \n",
    "- st = stick (0 duration); amplitude = 1 \n",
    "- rt = reaction time; amplitude = demeaned RT\n",
    "\n",
    "Citing Grinband et al. (2008) people agree that reaction times must be taken into account but model them in different ways. Schonberg, Poldrack et al. papers use overall response time for event and parametric regressor as well as a parametric RT regressor. Many in the rest of the decision making literature use boxcars with RT durations (e.g. Dunsmoor et al. (2011), Chang et al. (2011), Chang and Sanfey (2013), Shuck et al. (2016)). \n",
    "\n",
    "Since it is common to use boxcars with RT duration and I don't know others who model RT the way Poldrack et al. do I will present those results below."
   ]
  },
  {
   "cell_type": "markdown",
   "id": "2988c43c-f150-453f-91ec-c7f04c772491",
   "metadata": {},
   "source": [
    "# Model 1: fractalProb_ev + stim_ev + choiceShift_st + reward_ev"
   ]
  },
  {
   "cell_type": "markdown",
   "id": "9846b0f4-92cd-4c6d-a10c-f98ecc9108d2",
   "metadata": {},
   "source": [
    "Correlation between regressors averaged across subjects and runs"
   ]
  },
  {
   "cell_type": "code",
   "execution_count": null,
   "id": "1b85ffe1-3405-49ea-9078-38979d8335e7",
   "metadata": {},
   "outputs": [],
   "source": [
    "get_mean_cor_df(reg_rt = \"0\", mnum = \"1\")"
   ]
  },
  {
   "cell_type": "code",
   "execution_count": null,
   "id": "30b78518-eca4-4d7e-b909-ba0b1bee839b",
   "metadata": {
    "tags": []
   },
   "outputs": [],
   "source": [
    "reg = 'fractalProb_ev'\n",
    "mnum = '1'\n",
    "plot_filt_tval_img(reg, mnum = mnum)"
   ]
  },
  {
   "cell_type": "code",
   "execution_count": null,
   "id": "22804d16-3210-42d6-9eeb-112caf8aafc7",
   "metadata": {
    "tags": []
   },
   "outputs": [],
   "source": [
    "reg = 'stim_ev'\n",
    "mnum = '1'\n",
    "plot_filt_tval_img(reg, mnum = mnum)"
   ]
  },
  {
   "cell_type": "markdown",
   "id": "7d3bb07c-1254-4ea0-bfa3-a8abb44a503d",
   "metadata": {},
   "source": [
    "Check for left motor cortex activity. Cross is the precentral gyrus peak reported in Hare et al."
   ]
  },
  {
   "cell_type": "code",
   "execution_count": null,
   "id": "e6eb0480-296f-4f85-83dc-52e7948b3188",
   "metadata": {
    "tags": []
   },
   "outputs": [],
   "source": [
    "reg = 'choiceShift_st'\n",
    "mnum = '1'\n",
    "cut_coords = (-45, -34, 64)\n",
    "draw_cross = True\n",
    "\n",
    "plot_filt_tval_img(reg, mnum = mnum, cut_coords = cut_coords, draw_cross = draw_cross)"
   ]
  },
  {
   "cell_type": "markdown",
   "id": "3b583ba1-11fd-4600-92b8-ae6a4bbfc20b",
   "metadata": {},
   "source": [
    "Motor cortex activity is a little ventral than expected but more consistent for choiceShift regressor. It is, however, not lateralized to the left."
   ]
  },
  {
   "cell_type": "code",
   "execution_count": null,
   "id": "c32234b7-22cb-4856-8c84-65c221f76716",
   "metadata": {
    "tags": []
   },
   "outputs": [],
   "source": [
    "reg = 'reward_ev'\n",
    "mnum = '1'\n",
    "plot_filt_tval_img(reg, mnum = mnum)"
   ]
  },
  {
   "cell_type": "markdown",
   "id": "d2ba9891-34d9-4bfe-91b3-a57f01067353",
   "metadata": {},
   "source": [
    "# Model 1a: fractalProb_ev + stim_ev + choiceShiftLeft_st + choiceShiftRight_st + reward_ev"
   ]
  },
  {
   "cell_type": "code",
   "execution_count": null,
   "id": "f27290ea-2a2c-4043-a298-0bdf6e648e0b",
   "metadata": {},
   "outputs": [],
   "source": [
    "plot_filt_diff_tval_img(reg=\"choiceShiftLeft_st\", reg_rt1=\"0\", reg_rt2=\"0\", mnum1=\"1a\", mnum2=\"1\", reg2 = \"choiceShift_st\", cut_coords = cut_coords)\n",
    "plot_filt_diff_tval_img(reg=\"choiceShiftRight_st\", reg_rt1=\"0\", reg_rt2=\"0\", mnum1=\"1a\", mnum2=\"1\", reg2 = \"choiceShift_st\", cut_coords = cut_coords)\n",
    "plot_filt_diff_tval_img(reg=\"choiceShiftRight_st\", reg_rt1=\"0\", reg_rt2=\"0\", mnum1=\"1a\", mnum2=\"1a\", reg2 = \"choiceShiftLeft_st\", cut_coords = cut_coords)\n"
   ]
  },
  {
   "cell_type": "markdown",
   "id": "a5b0a978-c105-47a9-b8cc-db02c0fc2e51",
   "metadata": {},
   "source": [
    "# Model 2: Model 1 + fractalProb_par"
   ]
  },
  {
   "cell_type": "code",
   "execution_count": null,
   "id": "0152d663-ee03-43c4-a062-5b8a810a1dab",
   "metadata": {
    "tags": []
   },
   "outputs": [],
   "source": [
    "get_mean_cor_df(reg_rt = \"0\", mnum = \"2\")"
   ]
  },
  {
   "cell_type": "code",
   "execution_count": null,
   "id": "79372753-4a8b-419c-a4cb-b7ba56a74499",
   "metadata": {
    "tags": []
   },
   "outputs": [],
   "source": [
    "regs = ['fractalProb_ev', 'stim_ev', 'choiceShift_st', 'reward_ev']\n",
    "mnum = '2'\n",
    "\n",
    "for reg in regs:\n",
    "#     plot_filt_diff_tval_img(reg, mnum1=\"1\", mnum2=mnum)\n",
    "    print('No interesting change from Model 1 for %s in Model %s'%(reg, mnum))"
   ]
  },
  {
   "cell_type": "code",
   "execution_count": null,
   "id": "32fb38f9-ea85-4fb4-96ca-6799cf04fb88",
   "metadata": {
    "tags": []
   },
   "outputs": [],
   "source": [
    "reg = 'fractalProb_par'\n",
    "mnum = '2'\n",
    "plot_filt_tval_img(reg, mnum = mnum)"
   ]
  },
  {
   "cell_type": "markdown",
   "id": "e38fc214-a509-457e-88b8-57b196843efd",
   "metadata": {},
   "source": [
    "# Model 3: Model 2 + valBundleSum_par + valChosenMinusUnchosen_par + reward_ev + reward_par + rpeLeftRightSum_par"
   ]
  },
  {
   "cell_type": "code",
   "execution_count": null,
   "id": "7c520c5c-bf13-4576-ac29-5ac1b550ef45",
   "metadata": {},
   "outputs": [],
   "source": [
    "get_mean_cor_df(reg_rt = \"0\", mnum = \"3\")"
   ]
  },
  {
   "cell_type": "code",
   "execution_count": null,
   "id": "ad42fd0e-f066-4bbf-89bb-4c5826754855",
   "metadata": {
    "tags": []
   },
   "outputs": [],
   "source": [
    "regs = ['fractalProb_ev', 'stim_ev', 'choiceShift_st', 'reward_ev']\n",
    "mnum = '3'\n",
    "\n",
    "for reg in regs:\n",
    "#     plot_filt_diff_tval_img(reg, mnum1=\"1\", mnum2=mnum)\n",
    "    print('No interesting change from Model 1 for %s in Model %s'%(reg, mnum))\n",
    "    \n",
    "# plot_filt_diff_tval_img('fractalProb_par', mnum1=\"2\", mnum2=mnum)\n",
    "print('No interesting change from Model 2 for %s in Model %s'%('fractalProb_par', mnum))"
   ]
  },
  {
   "cell_type": "code",
   "execution_count": null,
   "id": "6ab969e6-aa7d-492e-b82b-0b34bd9d3248",
   "metadata": {},
   "outputs": [],
   "source": [
    "regs = ['valBundleSum_par', 'valChosenMinusUnchosen_par', 'reward_ev', 'reward_par', 'rpeLeftRightSum_par']\n",
    "mnum = '3'\n",
    "for reg in regs:\n",
    "    plot_filt_tval_img(reg, mnum = mnum)"
   ]
  }
 ],
 "metadata": {
  "kernelspec": {
   "display_name": "Python 3 (ipykernel)",
   "language": "python",
   "name": "python3"
  },
  "language_info": {
   "codemirror_mode": {
    "name": "ipython",
    "version": 3
   },
   "file_extension": ".py",
   "mimetype": "text/x-python",
   "name": "python",
   "nbconvert_exporter": "python",
   "pygments_lexer": "ipython3",
   "version": "3.8.3"
  }
 },
 "nbformat": 4,
 "nbformat_minor": 5
}
