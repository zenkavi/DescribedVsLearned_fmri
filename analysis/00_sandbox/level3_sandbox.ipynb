{
 "cells": [
  {
   "cell_type": "code",
   "execution_count": 1,
   "id": "1909603d-f47c-44f7-ba12-359f0704bb0e",
   "metadata": {},
   "outputs": [
    {
     "name": "stderr",
     "output_type": "stream",
     "text": [
      "/Users/zeynepenkavi/.pyenv/versions/3.8.3/envs/py-dvl-fmri/lib/python3.8/site-packages/nilearn/datasets/__init__.py:86: FutureWarning: Fetchers from the nilearn.datasets module will be updated in version 0.9 to return python strings instead of bytes and Pandas dataframes instead of Numpy arrays.\n",
      "  warn(\"Fetchers from the nilearn.datasets module will be \"\n"
     ]
    }
   ],
   "source": [
    "import matplotlib.pyplot as plt\n",
    "%matplotlib inline\n",
    "import nibabel as nib\n",
    "from nilearn.plotting import plot_design_matrix, plot_stat_map, view_img\n",
    "from nilearn.reporting import get_clusters_table\n",
    "from nilearn import datasets\n",
    "import glob\n",
    "import os\n",
    "import numpy as np\n",
    "import pandas as pd\n",
    "\n",
    "import sys\n",
    "sys.path.append('/Users/zeynepenkavi/Documents/RangelLab/DescribedVsLearned_fmri/analysis/03_level3')\n",
    "from make_design_files import make_design_files"
   ]
  },
  {
   "cell_type": "code",
   "execution_count": null,
   "id": "4f0409d5-6181-4913-b993-22e645f50e0f",
   "metadata": {},
   "outputs": [],
   "source": [
    "def filter_corrp_ts(tval_img, pval_img, threshold=0.95):\n",
    "    if isinstance(tval_img, str):\n",
    "        tval_img = nib.load(tval_img)\n",
    "    if isinstance(pval_img, str):\n",
    "        pval_img = nib.load(pval_img)\n",
    "        \n",
    "    tval_data = tval_img.get_fdata()\n",
    "    pval_data = pval_img.get_fdata()\n",
    "    filt_tval_data = np.where(pval_data > threshold, tval_data, 0)\n",
    "    filt_tval_img = nib.Nifti1Image(filt_tval_data.astype(np.float64), tval_img.affine)\n",
    "    \n",
    "    return filt_tval_img\n",
    "\n",
    "def get_filt_tval_img(reg, threshold=0.95):\n",
    "    pval_fn = '%s/rand_model1_%s_tfce_corrp_tstat1.nii.gz'%(reg, reg)\n",
    "    tval_fn = '%s/rand_model1_%s_tstat1_tfce.nii.gz'%(reg, reg)\n",
    "    pval_img = os.path.join(level3_path, pval_fn)\n",
    "    tval_img = os.path.join(level3_path, tval_fn)\n",
    "    filt_tval_img = filter_corrp_ts(tval_img, pval_img, threshold=threshold)\n",
    "    \n",
    "    return filt_tval_img\n",
    "\n",
    "def plot_filt_tval_img(reg, threshold=0.95, interactive=False):\n",
    "    filt_tval_img = get_filt_tval_img(reg, threshold=threshold)\n",
    "    if(len(np.unique(filt_tval_img.get_fdata())) == 1):\n",
    "        print('Nothing survives correction for %s'%(reg))\n",
    "    elif interactive:\n",
    "        view = view_img(filt_tval_img, \n",
    "             draw_cross=False,\n",
    "             title='%s'%(reg))\n",
    "        \n",
    "        return view\n",
    "    else:\n",
    "        print('Plotting tvalues filtered for corrected p values > 0.05')\n",
    "        plot_stat_map(filt_tval_img, \n",
    "             draw_cross=False,\n",
    "             title='%s'%(reg))"
   ]
  },
  {
   "cell_type": "code",
   "execution_count": null,
   "id": "158d5d3d-71bb-4832-ae1c-cfbb1a85c3e6",
   "metadata": {},
   "outputs": [],
   "source": [
    "level3_path = '/Users/zeynepenkavi/Downloads/GTavares_2017_arbitration/bids_nifti_wface/derivatives/nilearn/glm/level3/model1'"
   ]
  },
  {
   "cell_type": "markdown",
   "id": "32d04741-0242-436c-88f5-74d424035d92",
   "metadata": {},
   "source": [
    "# Event regressors"
   ]
  },
  {
   "cell_type": "code",
   "execution_count": null,
   "id": "48257e80-49af-4fbe-8958-57d9ba52f015",
   "metadata": {},
   "outputs": [],
   "source": [
    "regs = ['fractalProb', 'stim', 'reward']\n",
    "for reg in regs:\n",
    "    plot_filt_tval_img(reg)"
   ]
  },
  {
   "cell_type": "markdown",
   "id": "674cb425-a780-45e2-9c9b-99cce0fb9cb9",
   "metadata": {},
   "source": [
    "# Parametric regressors"
   ]
  },
  {
   "cell_type": "code",
   "execution_count": null,
   "id": "86823790-7559-4572-8a5e-ee8a3fe20add",
   "metadata": {},
   "outputs": [],
   "source": [
    "regs = ['fractalProbParam', 'valDiff', 'rewardParam', 'rpe']\n",
    "for reg in regs:\n",
    "    plot_filt_tval_img(reg)"
   ]
  },
  {
   "cell_type": "code",
   "execution_count": null,
   "id": "933eb93c-c64a-48dc-9112-8b9c83ea0d22",
   "metadata": {},
   "outputs": [],
   "source": [
    "reg = 'rpe'\n",
    "pval_pattern = '%s/rand_model1_%s_tfce_corrp_tstat1.nii.gz'%(reg, reg)\n",
    "pval_img = os.path.join(level3_path, pval_pattern)\n",
    "get_clusters_table(pval_img, stat_threshold=.95, cluster_threshold=20)"
   ]
  },
  {
   "cell_type": "code",
   "execution_count": null,
   "id": "ef35ab79-252d-4ef2-b2ee-fa4a940dbca0",
   "metadata": {},
   "outputs": [],
   "source": [
    "view = plot_filt_tval_img(reg, \n",
    "                          interactive=True)\n",
    "view"
   ]
  },
  {
   "cell_type": "markdown",
   "id": "ff207b75-c17e-4fea-a831-01b7e5821d51",
   "metadata": {},
   "source": [
    "# Contrasts"
   ]
  },
  {
   "cell_type": "code",
   "execution_count": null,
   "id": "760903b8-572f-4c67-be2d-f952ae01a951",
   "metadata": {},
   "outputs": [],
   "source": [
    "regs = ['conflict', 'noconflict']\n",
    "for reg in regs:\n",
    "    plot_filt_tval_img(reg)"
   ]
  },
  {
   "cell_type": "code",
   "execution_count": null,
   "id": "85a79314-0304-43bf-9cdf-1c976b899b5b",
   "metadata": {},
   "outputs": [],
   "source": [
    "regs = ['conflict_vs_noconflict']\n",
    "for reg in regs:\n",
    "    plot_filt_tval_img(reg)"
   ]
  },
  {
   "cell_type": "code",
   "execution_count": null,
   "id": "e6f62867-f688-4c02-9ed6-d319440eb57b",
   "metadata": {},
   "outputs": [],
   "source": [
    "tval_fn = '%s/rand_model1_%s_tstat1_tfce.nii.gz'%(reg, reg)\n",
    "tval_img = os.path.join(level3_path, tval_fn)\n",
    "plot_stat_map(tval_img, threshold=3, draw_cross=False)"
   ]
  },
  {
   "cell_type": "markdown",
   "id": "d4db6403-0fdc-4efb-9c61-da1aef5c073f",
   "metadata": {},
   "source": [
    "# Interactions with p(Fractal)"
   ]
  },
  {
   "cell_type": "code",
   "execution_count": null,
   "id": "40280e7a-cbb3-443b-99a9-d3f6ca89e1c0",
   "metadata": {},
   "outputs": [],
   "source": []
  },
  {
   "cell_type": "markdown",
   "id": "6d2495bd-78e7-450c-a247-058caefc502a",
   "metadata": {},
   "source": [
    "# Slow vs fast learner differences"
   ]
  },
  {
   "cell_type": "code",
   "execution_count": null,
   "id": "c6eed9a1-7cc9-4d3e-8ae2-05dffa9f8dc3",
   "metadata": {},
   "outputs": [],
   "source": []
  },
  {
   "cell_type": "code",
   "execution_count": null,
   "id": "8899250a-d8b7-42ab-801a-8925e683094d",
   "metadata": {},
   "outputs": [],
   "source": []
  },
  {
   "cell_type": "code",
   "execution_count": 2,
   "id": "27c86e96-8c07-478b-8324-2fa863fde4e3",
   "metadata": {},
   "outputs": [
    {
     "name": "stdout",
     "output_type": "stream",
     "text": [
      "***********************************************\n",
      "Saving design matrix for model2\n",
      "***********************************************\n",
      "***********************************************\n",
      "Saving contrast matrix for model2\n",
      "***********************************************\n"
     ]
    }
   ],
   "source": [
    "mnum = 'model2'\n",
    "learner_info_path = '/Users/zeynepenkavi/Documents/RangelLab/DescribedVsLearned_fmri/analysis/03_level3/learner_info.csv'\n",
    "make_design_files(mnum, learner_info_path)"
   ]
  },
  {
   "cell_type": "code",
   "execution_count": null,
   "id": "2860e6bc-ed30-4342-988f-ca42cf688aad",
   "metadata": {},
   "outputs": [],
   "source": []
  }
 ],
 "metadata": {
  "kernelspec": {
   "display_name": "Python 3 (ipykernel)",
   "language": "python",
   "name": "python3"
  },
  "language_info": {
   "codemirror_mode": {
    "name": "ipython",
    "version": 3
   },
   "file_extension": ".py",
   "mimetype": "text/x-python",
   "name": "python",
   "nbconvert_exporter": "python",
   "pygments_lexer": "ipython3",
   "version": "3.8.3"
  }
 },
 "nbformat": 4,
 "nbformat_minor": 5
}
