{
 "cells": [
  {
   "cell_type": "code",
   "execution_count": 1,
   "id": "1909603d-f47c-44f7-ba12-359f0704bb0e",
   "metadata": {},
   "outputs": [
    {
     "name": "stderr",
     "output_type": "stream",
     "text": [
      "/Users/zeynepenkavi/.pyenv/versions/3.8.3/envs/py-dvl-fmri/lib/python3.8/site-packages/nilearn/datasets/__init__.py:86: FutureWarning: Fetchers from the nilearn.datasets module will be updated in version 0.9 to return python strings instead of bytes and Pandas dataframes instead of Numpy arrays.\n",
      "  warn(\"Fetchers from the nilearn.datasets module will be \"\n"
     ]
    }
   ],
   "source": [
    "import matplotlib.pyplot as plt\n",
    "%matplotlib inline\n",
    "import nibabel as nib\n",
    "from nilearn.plotting import plot_design_matrix, plot_stat_map, view_img\n",
    "from nilearn.reporting import get_clusters_table\n",
    "from nilearn import datasets\n",
    "import glob\n",
    "import os\n",
    "import numpy as np\n",
    "import pandas as pd\n",
    "\n",
    "import sys\n",
    "sys.path.append('/Users/zeynepenkavi/Documents/RangelLab/DescribedVsLearned_fmri/analysis/03_level3')\n",
    "from make_design_files import make_design_files"
   ]
  },
  {
   "cell_type": "code",
   "execution_count": null,
   "id": "4f0409d5-6181-4913-b993-22e645f50e0f",
   "metadata": {},
   "outputs": [],
   "source": [
    "def filter_corrp_ts(tval_img, pval_img, threshold=0.95):\n",
    "    if isinstance(tval_img, str):\n",
    "        tval_img = nib.load(tval_img)\n",
    "    if isinstance(pval_img, str):\n",
    "        pval_img = nib.load(pval_img)\n",
    "        \n",
    "    tval_data = tval_img.get_fdata()\n",
    "    pval_data = pval_img.get_fdata()\n",
    "    filt_tval_data = np.where(pval_data > threshold, tval_data, 0)\n",
    "    filt_tval_img = nib.Nifti1Image(filt_tval_data.astype(np.float64), tval_img.affine)\n",
    "    \n",
    "    return filt_tval_img\n",
    "\n",
    "def get_filt_tval_img(reg, threshold=0.95):\n",
    "    pval_fn = '%s/rand_model1_%s_tfce_corrp_tstat1.nii.gz'%(reg, reg)\n",
    "    tval_fn = '%s/rand_model1_%s_tstat1_tfce.nii.gz'%(reg, reg)\n",
    "    pval_img = os.path.join(level3_path, pval_fn)\n",
    "    tval_img = os.path.join(level3_path, tval_fn)\n",
    "    filt_tval_img = filter_corrp_ts(tval_img, pval_img, threshold=threshold)\n",
    "    \n",
    "    return filt_tval_img\n",
    "\n",
    "def plot_filt_tval_img(reg, threshold=0.95, interactive=False):\n",
    "    filt_tval_img = get_filt_tval_img(reg, threshold=threshold)\n",
    "    if(len(np.unique(filt_tval_img.get_fdata())) == 1):\n",
    "        print('Nothing survives correction for %s'%(reg))\n",
    "    elif interactive:\n",
    "        view = view_img(filt_tval_img, \n",
    "             draw_cross=False,\n",
    "             title='%s'%(reg))\n",
    "        \n",
    "        return view\n",
    "    else:\n",
    "        print('Plotting tvalues filtered for corrected p values > 0.05')\n",
    "        plot_stat_map(filt_tval_img, \n",
    "             draw_cross=False,\n",
    "             title='%s'%(reg))"
   ]
  },
  {
   "cell_type": "code",
   "execution_count": null,
   "id": "158d5d3d-71bb-4832-ae1c-cfbb1a85c3e6",
   "metadata": {},
   "outputs": [],
   "source": [
    "level3_path = '/Users/zeynepenkavi/Downloads/GTavares_2017_arbitration/bids_nifti_wface/derivatives/nilearn/glm/level3/model1'"
   ]
  },
  {
   "cell_type": "markdown",
   "id": "5035fee7-456a-4113-8600-183980fefdc1",
   "metadata": {},
   "source": [
    "# RT modeling difference"
   ]
  },
  {
   "cell_type": "markdown",
   "id": "2a5ffb20-859d-4b27-be55-2f04fdca0c0d",
   "metadata": {},
   "source": [
    "Pertains to cross, valChosen, valUnchosen, conflict, noconflict"
   ]
  },
  {
   "cell_type": "markdown",
   "id": "32d04741-0242-436c-88f5-74d424035d92",
   "metadata": {},
   "source": [
    "# Event regressors"
   ]
  },
  {
   "cell_type": "markdown",
   "id": "648a45d2-1f36-4da7-84d8-f5e1c80407f3",
   "metadata": {},
   "source": [
    "Change in activity when fractal probabilities are presented"
   ]
  },
  {
   "cell_type": "code",
   "execution_count": null,
   "id": "64892a33-3bb6-46f1-9af1-930d5e8386c4",
   "metadata": {},
   "outputs": [],
   "source": []
  },
  {
   "cell_type": "markdown",
   "id": "20ea86c9-339a-4d13-bd7c-a9c0225b761a",
   "metadata": {},
   "source": [
    "Change in activity when stimuli are presented"
   ]
  },
  {
   "cell_type": "code",
   "execution_count": null,
   "id": "df7bab5c-91b5-486f-9668-23e3d43e0bf5",
   "metadata": {},
   "outputs": [],
   "source": []
  },
  {
   "cell_type": "markdown",
   "id": "e22aa4fd-bd71-4a27-b4a5-fba1a4a4a357",
   "metadata": {},
   "source": [
    "Change in activity when reward is presented"
   ]
  },
  {
   "cell_type": "code",
   "execution_count": null,
   "id": "f686ea58-c725-40f2-844b-9ebfb29dbe2d",
   "metadata": {},
   "outputs": [],
   "source": []
  },
  {
   "cell_type": "markdown",
   "id": "674cb425-a780-45e2-9c9b-99cce0fb9cb9",
   "metadata": {},
   "source": [
    "# Parametric regressors"
   ]
  },
  {
   "cell_type": "code",
   "execution_count": null,
   "id": "ef35ab79-252d-4ef2-b2ee-fa4a940dbca0",
   "metadata": {},
   "outputs": [],
   "source": []
  },
  {
   "cell_type": "code",
   "execution_count": null,
   "id": "87de0433-2d1d-4a1a-a739-06d7bdae8a3e",
   "metadata": {},
   "outputs": [],
   "source": []
  },
  {
   "cell_type": "code",
   "execution_count": null,
   "id": "0898b6c9-2ef3-4c3b-875b-1d3d914cfb7e",
   "metadata": {},
   "outputs": [],
   "source": []
  },
  {
   "cell_type": "code",
   "execution_count": null,
   "id": "dadf373c-175c-4664-a866-1e38948fc126",
   "metadata": {},
   "outputs": [],
   "source": []
  },
  {
   "cell_type": "code",
   "execution_count": null,
   "id": "47654563-ebfb-4629-b31f-2d4d701433f1",
   "metadata": {},
   "outputs": [],
   "source": []
  },
  {
   "cell_type": "code",
   "execution_count": null,
   "id": "f0b6fbcb-e645-4fe8-b678-72345307b03e",
   "metadata": {},
   "outputs": [],
   "source": []
  },
  {
   "cell_type": "code",
   "execution_count": null,
   "id": "51783591-496b-45bc-92a4-808fa70761ba",
   "metadata": {},
   "outputs": [],
   "source": []
  },
  {
   "cell_type": "markdown",
   "id": "ff207b75-c17e-4fea-a831-01b7e5821d51",
   "metadata": {},
   "source": [
    "# Conflict vs no conflict"
   ]
  },
  {
   "cell_type": "code",
   "execution_count": null,
   "id": "e6f62867-f688-4c02-9ed6-d319440eb57b",
   "metadata": {},
   "outputs": [],
   "source": [
    "tval_fn = '%s/rand_model1_%s_tstat1_tfce.nii.gz'%(reg, reg)\n",
    "tval_img = os.path.join(level3_path, tval_fn)\n",
    "plot_stat_map(tval_img, threshold=3, draw_cross=False)"
   ]
  },
  {
   "cell_type": "markdown",
   "id": "6d2495bd-78e7-450c-a247-058caefc502a",
   "metadata": {
    "tags": []
   },
   "source": [
    "# Slow vs fast learner"
   ]
  },
  {
   "cell_type": "code",
   "execution_count": null,
   "id": "d0c9bf85-420a-462b-87e6-dfe2be1a6154",
   "metadata": {},
   "outputs": [],
   "source": []
  },
  {
   "cell_type": "markdown",
   "id": "d4db6403-0fdc-4efb-9c61-da1aef5c073f",
   "metadata": {},
   "source": [
    "# Interactions with p(Fractal)"
   ]
  },
  {
   "cell_type": "code",
   "execution_count": null,
   "id": "40280e7a-cbb3-443b-99a9-d3f6ca89e1c0",
   "metadata": {},
   "outputs": [],
   "source": [
    "Does processing of"
   ]
  },
  {
   "cell_type": "code",
   "execution_count": null,
   "id": "c6eed9a1-7cc9-4d3e-8ae2-05dffa9f8dc3",
   "metadata": {},
   "outputs": [],
   "source": []
  },
  {
   "cell_type": "code",
   "execution_count": null,
   "id": "8899250a-d8b7-42ab-801a-8925e683094d",
   "metadata": {},
   "outputs": [],
   "source": []
  },
  {
   "cell_type": "code",
   "execution_count": null,
   "id": "2860e6bc-ed30-4342-988f-ca42cf688aad",
   "metadata": {},
   "outputs": [],
   "source": []
  }
 ],
 "metadata": {
  "kernelspec": {
   "display_name": "Python 3 (ipykernel)",
   "language": "python",
   "name": "python3"
  },
  "language_info": {
   "codemirror_mode": {
    "name": "ipython",
    "version": 3
   },
   "file_extension": ".py",
   "mimetype": "text/x-python",
   "name": "python",
   "nbconvert_exporter": "python",
   "pygments_lexer": "ipython3",
   "version": "3.8.3"
  }
 },
 "nbformat": 4,
 "nbformat_minor": 5
}
