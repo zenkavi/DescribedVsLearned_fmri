{
 "cells": [
  {
   "cell_type": "code",
   "execution_count": null,
   "id": "1909603d-f47c-44f7-ba12-359f0704bb0e",
   "metadata": {
    "tags": []
   },
   "outputs": [],
   "source": [
    "import matplotlib.pyplot as plt\n",
    "%matplotlib inline\n",
    "import nibabel as nib\n",
    "from nilearn.plotting import plot_design_matrix, plot_stat_map, view_img\n",
    "from nilearn.reporting import get_clusters_table\n",
    "from nilearn import datasets\n",
    "import glob\n",
    "import os\n",
    "import numpy as np\n",
    "import pandas as pd"
   ]
  },
  {
   "cell_type": "code",
   "execution_count": null,
   "id": "4f0409d5-6181-4913-b993-22e645f50e0f",
   "metadata": {
    "tags": []
   },
   "outputs": [],
   "source": [
    "def get_filt_tval_img(reg, reg_rt = \"1\", mnum = \"1\", mname = 'overall_mean', tstat=\"1\", threshold=0.95):\n",
    "    \n",
    "    level3_path = '/Users/zeynepenkavi/Downloads/GTavares_2017_arbitration/bids_nifti_wface/derivatives/nilearn/glm/level3/'\n",
    "    model_path = 'model'+mnum+'_reg-rt'+reg_rt\n",
    "    img_path = os.path.join(level3_path, model_path, mname, reg+'_'+model_path)\n",
    "    \n",
    "    pos_pval_fn = 'rand_tfce_corrp_%s_%s_model%s_reg-rt%s_tstat%s.nii.gz'%(mname, reg, mnum, reg_rt, tstat)\n",
    "    neg_pval_fn = 'rand_tfce_corrp_%s_%s_model%s_reg-rt%s_tstat%s.nii.gz'%(mname, 'neg_'+reg, mnum, reg_rt, tstat)\n",
    "    tval_fn = 'rand_tfce_%s_%s_model%s_reg-rt%s_tstat%s.nii.gz'%(mname, reg, mnum, reg_rt, tstat)\n",
    "    \n",
    "    pos_pval_img = os.path.join(img_path, pos_pval_fn)\n",
    "    neg_pval_img = os.path.join(img_path, neg_pval_fn)\n",
    "    tval_img = os.path.join(img_path, tval_fn)\n",
    "    \n",
    "    pos_pval_img = nib.load(pos_pval_img)\n",
    "    neg_pval_img = nib.load(neg_pval_img)\n",
    "    tval_img = nib.load(tval_img)\n",
    "    \n",
    "    tval_data = tval_img.get_fdata()\n",
    "    pos_pval_data = pos_pval_img.get_fdata()\n",
    "    neg_pval_data = neg_pval_img.get_fdata()\n",
    "    \n",
    "    filt_tval_data = np.where(pos_pval_data > threshold, tval_data, np.where(neg_pval_data > threshold, tval_data, 0))\n",
    "    filt_tval_img = nib.Nifti1Image(filt_tval_data.astype(np.float64), tval_img.affine)\n",
    "    \n",
    "    return filt_tval_img\n",
    "\n",
    "def plot_filt_tval_img(reg, reg_rt = \"1\", mnum = \"1\", mname = 'overall_mean', tstat=\"1\", threshold=0.95, interactive=False, cut_coords = None, display_mode = 'ortho', draw_cross=False):\n",
    "    filt_tval_img = get_filt_tval_img(reg=reg, reg_rt = reg_rt, mnum = mnum, mname = mname, tstat=tstat, threshold=threshold)\n",
    "    title='%s_model%s_reg-rt%s'%(reg, mnum, reg_rt)\n",
    "    \n",
    "    if(len(np.unique(filt_tval_img.get_fdata())) == 1):\n",
    "        print('Nothing survives correction for %s, model = %s, tstat = %s, reg_rt = %s at threshold p < %s'%(reg, mnum, tstat, reg_rt, str(round(1-threshold, 2))))\n",
    "    elif interactive:\n",
    "        view = view_img(filt_tval_img, \n",
    "             draw_cross=draw_cross,\n",
    "             title=title, cut_coords = cut_coords)\n",
    "        \n",
    "        return view\n",
    "    else:\n",
    "        print('Plotting tvalues filtered for corrected p values < %s'%str(round(1-threshold, 2)))\n",
    "        plot_stat_map(filt_tval_img, \n",
    "             draw_cross=draw_cross,\n",
    "             title=title, cut_coords = cut_coords, display_mode = display_mode)\n",
    "\n",
    "        \n",
    "def get_filt_diff_tval_img(reg, reg_rt1, reg_rt2, mnum1, mnum2, mname, tstat=\"1\", threshold=0.95):\n",
    "    \n",
    "    img1 = get_filt_tval_img(reg=reg, reg_rt = reg_rt1, mnum = mnum1, mname = mname, tstat=tstat, threshold=threshold)\n",
    "    img2 = get_filt_tval_img(reg=reg, reg_rt = reg_rt2, mnum = mnum2, mname = mname, tstat=tstat, threshold=threshold)\n",
    "    \n",
    "    img1_data = img1.get_fdata()\n",
    "    img2_data = img2.get_fdata()\n",
    "    filt_diff_tval_data = img1_data - img2_data\n",
    "    filt_diff_tval_img = nib.Nifti1Image(filt_diff_tval_data.astype(np.float64), img1.affine)\n",
    "    \n",
    "    return filt_diff_tval_img\n",
    "        \n",
    "def plot_filt_diff_tval_img(reg, reg_rt1, reg_rt2, mnum1, mnum2, mname = 'overall_mean', tstat=\"1\", threshold=0.95, disp_threshold = 2, interactive=False, cut_coords = None, display_mode = 'ortho', draw_cross=False):\n",
    "    filt_diff_tval_img = get_filt_diff_tval_img(reg=reg, reg_rt1 = reg_rt1, reg_rt2 = reg_rt2, mnum1 = mnum1, mnum2 = mnum2, mname = mname, tstat=tstat, threshold=threshold)\n",
    "    title='%s model%s_reg-rt%s - model%s_reg-rt%s '%(reg, mnum1, reg_rt1, mnum2, reg_rt2)\n",
    "    \n",
    "    if(len(np.unique(filt_diff_tval_img.get_fdata())) == 1):\n",
    "        print('Nothing survives correction for the difference image %s, model = %s, tstat = %s, reg_rt = %s at threshold p < %s'%(reg, mnum, tstat, reg_rt, str(round(1-threshold, 2))))\n",
    "    \n",
    "    elif interactive:\n",
    "        view = view_img(filt_diff_tval_img, \n",
    "             draw_cross=draw_cross,\n",
    "             title=title, cut_coords = cut_coords, threshold = disp_threshold)\n",
    "        \n",
    "        return view\n",
    "    else:\n",
    "        print('Plotting tvalues filtered for corrected p values < %s'%str(round(1-threshold, 2)))\n",
    "        plot_stat_map(filt_diff_tval_img, \n",
    "             draw_cross=draw_cross,\n",
    "             title=title, cut_coords = cut_coords, display_mode = display_mode, threshold = disp_threshold)\n",
    "\n",
    "        \n",
    "def get_mean_cor_df(reg_rt = \"1\", mnum = \"1\"):\n",
    "    \n",
    "    level3_path = '/Users/zeynepenkavi/Downloads/GTavares_2017_arbitration/bids_nifti_wface/derivatives/nilearn/glm/level3/'\n",
    "    model_path = 'model'+mnum+'_reg-rt'+reg_rt\n",
    "    df_path = os.path.join(level3_path, model_path, model_path+'_mean_desmat_cor.csv')\n",
    "    \n",
    "    mean_cor_df = pd.read_csv(df_path)\n",
    "    \n",
    "    return(mean_cor_df)"
   ]
  },
  {
   "cell_type": "markdown",
   "id": "aa6360f7-b77f-4cbc-a488-a86fe81885e1",
   "metadata": {},
   "source": [
    "# Regressor types\n",
    "\n",
    "- ev = event; amplitude = 1  \n",
    "- par = parametric; amplitude = demeaned    \n",
    "- st = stick (0 duration); amplitude = 1 \n",
    "- rt = reaction time; amplitude = demeaned RT\n",
    "\n",
    "Citing Grinband et al. (2008) people agree that reaction times must be taken into account but model them in different ways. Schonberg, Poldrack et al. papers use overall response time for event and parametric regressor as well as a parametric RT regressor. Many in the rest of the decision making literature use boxcars with RT durations (e.g. Dunsmoor et al. (2011), Chang et al. (2011), Chang and Sanfey (2013), Shuck et al. (2016)). \n",
    "\n",
    "Since it is common to use boxcars with RT duration and I don't know others who model RT the way Poldrack et al. do I will present those results below."
   ]
  },
  {
   "cell_type": "markdown",
   "id": "2988c43c-f150-453f-91ec-c7f04c772491",
   "metadata": {},
   "source": [
    "# Model 1: fractalProb_ev + stim_ev + choiceShift_st + reward_ev"
   ]
  },
  {
   "cell_type": "markdown",
   "id": "9846b0f4-92cd-4c6d-a10c-f98ecc9108d2",
   "metadata": {},
   "source": [
    "Correlation between regressors averaged across subjects and runs"
   ]
  },
  {
   "cell_type": "code",
   "execution_count": null,
   "id": "1b85ffe1-3405-49ea-9078-38979d8335e7",
   "metadata": {},
   "outputs": [],
   "source": [
    "get_mean_cor_df(reg_rt = \"0\", mnum = \"1\")"
   ]
  },
  {
   "cell_type": "code",
   "execution_count": null,
   "id": "30b78518-eca4-4d7e-b909-ba0b1bee839b",
   "metadata": {
    "tags": []
   },
   "outputs": [],
   "source": [
    "reg = 'fractalProb_ev'\n",
    "mnum = '1'\n",
    "mname = 'overall_mean'\n",
    "tstat = '1'\n",
    "\n",
    "reg_rt = '0'\n",
    "plot_filt_tval_img(reg, reg_rt=reg_rt, mnum = mnum, mname = mname, tstat = tstat)"
   ]
  },
  {
   "cell_type": "code",
   "execution_count": null,
   "id": "22804d16-3210-42d6-9eeb-112caf8aafc7",
   "metadata": {
    "tags": []
   },
   "outputs": [],
   "source": [
    "reg = 'stim_ev'\n",
    "mnum = '1'\n",
    "mname = 'overall_mean'\n",
    "tstat = '1'\n",
    "\n",
    "reg_rt = '0'\n",
    "plot_filt_tval_img(reg, reg_rt=reg_rt, mnum = mnum, mname = mname, tstat = tstat)\n"
   ]
  },
  {
   "cell_type": "markdown",
   "id": "7d3bb07c-1254-4ea0-bfa3-a8abb44a503d",
   "metadata": {},
   "source": [
    "Check for left motor cortex activity. Cross is the precentral gyrus peak reported in Hare et al."
   ]
  },
  {
   "cell_type": "code",
   "execution_count": null,
   "id": "e6eb0480-296f-4f85-83dc-52e7948b3188",
   "metadata": {
    "tags": []
   },
   "outputs": [],
   "source": [
    "reg = 'choiceShift_st'\n",
    "mnum = '1'\n",
    "mname = 'overall_mean'\n",
    "tstat = '1'\n",
    "cut_coords = (-45, -34, 64)\n",
    "draw_cross = True\n",
    "\n",
    "reg_rt = '0'\n",
    "plot_filt_tval_img(reg, reg_rt=reg_rt, mnum = mnum, mname = mname, tstat = tstat, cut_coords = cut_coords, draw_cross = draw_cross)"
   ]
  },
  {
   "cell_type": "markdown",
   "id": "3b583ba1-11fd-4600-92b8-ae6a4bbfc20b",
   "metadata": {},
   "source": [
    "Motor cortex activity is a little ventral than expected but more consistent for choiceShift regressor. It is, however, not lateralized to the left."
   ]
  },
  {
   "cell_type": "code",
   "execution_count": null,
   "id": "c32234b7-22cb-4856-8c84-65c221f76716",
   "metadata": {
    "tags": []
   },
   "outputs": [],
   "source": [
    "reg = 'reward_ev'\n",
    "mnum = '1'\n",
    "mname = 'overall_mean'\n",
    "tstat = '1'\n",
    "\n",
    "reg_rt = '0'\n",
    "plot_filt_tval_img(reg, reg_rt=reg_rt, mnum = mnum, mname = mname, tstat = tstat,)"
   ]
  },
  {
   "cell_type": "markdown",
   "id": "d2ba9891-34d9-4bfe-91b3-a57f01067353",
   "metadata": {},
   "source": [
    "# Model 1a: fractalProb_ev + stim_ev + choiceShiftLeft_st + choiceShiftRight_st + reward_ev"
   ]
  },
  {
   "cell_type": "code",
   "execution_count": null,
   "id": "3f24c74d-2f0b-4fdb-b837-5be7f9741769",
   "metadata": {},
   "outputs": [],
   "source": [
    "reg = 'choiceShift_st'\n",
    "mnum = '1'\n",
    "mname = 'overall_mean'\n",
    "tstat = '1'\n",
    "cut_coords = (-45, -34, 64)\n",
    "draw_cross = True\n",
    "\n",
    "reg_rt = '0'\n",
    "plot_filt_tval_img(reg, reg_rt=reg_rt, mnum = mnum, mname = mname, tstat = tstat, cut_coords = cut_coords, draw_cross = draw_cross)\n"
   ]
  },
  {
   "cell_type": "code",
   "execution_count": null,
   "id": "f27290ea-2a2c-4043-a298-0bdf6e648e0b",
   "metadata": {},
   "outputs": [],
   "source": [
    "reg = 'choiceShiftLeft_st'\n",
    "mnum = '1a'\n",
    "mname = 'overall_mean'\n",
    "tstat = '1'\n",
    "cut_coords = (-45, -34, 64)\n",
    "draw_cross = True\n",
    "\n",
    "reg_rt = '0'\n",
    "plot_filt_tval_img(reg, reg_rt=reg_rt, mnum = mnum, mname = mname, tstat = tstat, cut_coords = cut_coords, draw_cross = draw_cross)"
   ]
  },
  {
   "cell_type": "code",
   "execution_count": null,
   "id": "08225dca-1992-47e9-b5f2-9dd4cbde4989",
   "metadata": {},
   "outputs": [],
   "source": [
    "reg = 'choiceShiftRight_st'\n",
    "mnum = '1a'\n",
    "mname = 'overall_mean'\n",
    "tstat = '1'\n",
    "cut_coords = (-45, -34, 64)\n",
    "draw_cross = True\n",
    "\n",
    "reg_rt = '0'\n",
    "plot_filt_tval_img(reg, reg_rt=reg_rt, mnum = mnum, mname = mname, tstat = tstat, cut_coords = cut_coords, draw_cross = draw_cross)\n"
   ]
  },
  {
   "cell_type": "markdown",
   "id": "a5b0a978-c105-47a9-b8cc-db02c0fc2e51",
   "metadata": {},
   "source": [
    "# Model 2: Model 1 + fractalProb_par"
   ]
  },
  {
   "cell_type": "code",
   "execution_count": null,
   "id": "0152d663-ee03-43c4-a062-5b8a810a1dab",
   "metadata": {
    "tags": []
   },
   "outputs": [],
   "source": [
    "get_mean_cor_df(reg_rt = \"0\", mnum = \"2\")"
   ]
  },
  {
   "cell_type": "code",
   "execution_count": null,
   "id": "79372753-4a8b-419c-a4cb-b7ba56a74499",
   "metadata": {},
   "outputs": [],
   "source": [
    "reg = 'fractalProb_ev'\n",
    "mnum = '2'\n",
    "mname = 'overall_mean'\n",
    "tstat = '1'\n",
    "cut_coords = (1, 29, -14)\n",
    "\n",
    "reg_rt = '0'\n",
    "# plot_filt_tval_img(reg, reg_rt=reg_rt, mnum = mnum, mname = mname, tstat = tstat)\n",
    "# plot_filt_diff_tval_img(reg, reg_rt1=\"0\", reg_rt2=\"0\", mnum1=\"1\", mnum2=\"2\", cut_coords = cut_coords)\n",
    "\n",
    "print('No interesting change from Model 1 for %s in Model %s'%(reg, mnum))"
   ]
  },
  {
   "cell_type": "code",
   "execution_count": null,
   "id": "de560308-be12-4e5d-9dff-ce0697bde893",
   "metadata": {},
   "outputs": [],
   "source": [
    "reg = 'stim_ev'\n",
    "mnum = '2'\n",
    "mname = 'overall_mean'\n",
    "tstat = '1'\n",
    "\n",
    "reg_rt = '0'\n",
    "# plot_filt_tval_img(reg, reg_rt=reg_rt, mnum = mnum, mname = mname, tstat = tstat)\n",
    "# plot_filt_diff_tval_img(reg, reg_rt1=reg_rt, reg_rt2=reg_rt, mnum1=\"1\", mnum2=mnum)\n",
    "\n",
    "print('No interesting change from Model 1 for %s in Model %s'%(reg, mnum))"
   ]
  },
  {
   "cell_type": "code",
   "execution_count": null,
   "id": "ddc46422-cf29-49eb-b8ed-c73980c77e1f",
   "metadata": {},
   "outputs": [],
   "source": [
    "reg = 'choiceShift_st'\n",
    "mnum = '2'\n",
    "mname = 'overall_mean'\n",
    "tstat = '1'\n",
    "cut_coords = (-45, -34, 64)\n",
    "draw_cross = True\n",
    "\n",
    "reg_rt = '0'\n",
    "# plot_filt_tval_img(reg, reg_rt=reg_rt, mnum = mnum, mname = mname, tstat = tstat, cut_coords = cut_coords, draw_cross = draw_cross)\n",
    "# plot_filt_diff_tval_img(reg, reg_rt1=reg_rt, reg_rt2=reg_rt, mnum1=\"1\", mnum2=mnum, cut_coords = cut_coords, draw_cross = draw_cross)\n",
    "\n",
    "print('No interesting change from Model 1 for %s in Model %s'%(reg, mnum))"
   ]
  },
  {
   "cell_type": "code",
   "execution_count": null,
   "id": "eef331f7-29a3-4659-9826-208ec225a7c6",
   "metadata": {},
   "outputs": [],
   "source": [
    "reg = 'reward_ev'\n",
    "mnum = '2'\n",
    "mname = 'overall_mean'\n",
    "tstat = '1'\n",
    "\n",
    "reg_rt = '0'\n",
    "# plot_filt_tval_img(reg, reg_rt=reg_rt, mnum = mnum, mname = mname, tstat = tstat)\n",
    "# plot_filt_diff_tval_img(reg, reg_rt1=reg_rt, reg_rt2=reg_rt, mnum1=\"1\", mnum2=mnum)\n",
    "\n",
    "print('No interesting change from Model 1 for %s in Model %s'%(reg, mnum))"
   ]
  },
  {
   "cell_type": "code",
   "execution_count": null,
   "id": "32fb38f9-ea85-4fb4-96ca-6799cf04fb88",
   "metadata": {
    "tags": []
   },
   "outputs": [],
   "source": [
    "reg = 'fractalProb_par'\n",
    "mnum = '2'\n",
    "mname = 'overall_mean'\n",
    "tstat = '1'\n",
    "\n",
    "reg_rt = '0'\n",
    "plot_filt_tval_img(reg, reg_rt=reg_rt, mnum = mnum, mname = mname, tstat = tstat)"
   ]
  },
  {
   "cell_type": "markdown",
   "id": "e38fc214-a509-457e-88b8-57b196843efd",
   "metadata": {},
   "source": [
    "# Model 3: Model 2 + valDiff_par"
   ]
  },
  {
   "cell_type": "code",
   "execution_count": null,
   "id": "7c520c5c-bf13-4576-ac29-5ac1b550ef45",
   "metadata": {},
   "outputs": [],
   "source": [
    "get_mean_cor_df(reg_rt = \"0\", mnum = \"3\")"
   ]
  },
  {
   "cell_type": "code",
   "execution_count": null,
   "id": "ad42fd0e-f066-4bbf-89bb-4c5826754855",
   "metadata": {},
   "outputs": [],
   "source": [
    "reg = 'fractalProb_ev'\n",
    "mnum = '3'\n",
    "mname = 'overall_mean'\n",
    "tstat = '1'\n",
    "\n",
    "reg_rt = '0'\n",
    "# plot_filt_tval_img(reg, reg_rt=reg_rt, mnum = mnum, mname = mname, tstat = tstat)\n",
    "# plot_filt_diff_tval_img(reg, reg_rt1=reg_rt, reg_rt2=reg_rt, mnum1=\"1\", mnum2=mnum)\n",
    "\n",
    "print('No interesting change from Model 1 for %s in Model %s'%(reg, mnum))"
   ]
  },
  {
   "cell_type": "code",
   "execution_count": null,
   "id": "4149662a-6324-4649-8402-dea992405aa1",
   "metadata": {},
   "outputs": [],
   "source": [
    "reg = 'stim_ev'\n",
    "mnum = '3'\n",
    "mname = 'overall_mean'\n",
    "tstat = '1'\n",
    "\n",
    "reg_rt = '0'\n",
    "# plot_filt_tval_img(reg, reg_rt=reg_rt, mnum = mnum, mname = mname, tstat = tstat)\n",
    "# plot_filt_diff_tval_img(reg, reg_rt1=reg_rt, reg_rt2=reg_rt, mnum1=\"1\", mnum2=mnum)\n",
    "print('No interesting change from Model 1 for %s in Model %s'%(reg, mnum))\n"
   ]
  },
  {
   "cell_type": "code",
   "execution_count": null,
   "id": "cb804247-bb66-4562-bc09-e2fdf6db4ce0",
   "metadata": {},
   "outputs": [],
   "source": [
    "reg = 'choiceShift_st'\n",
    "mnum = '3'\n",
    "mname = 'overall_mean'\n",
    "tstat = '1'\n",
    "cut_coords = (-45, -34, 64)\n",
    "draw_cross = True\n",
    "\n",
    "reg_rt = '0'\n",
    "# plot_filt_tval_img(reg, reg_rt=reg_rt, mnum = mnum, mname = mname, tstat = tstat, cut_coords = cut_coords, draw_cross = draw_cross)\n",
    "# plot_filt_diff_tval_img(reg, reg_rt1=reg_rt, reg_rt2=reg_rt, mnum1=\"1\", mnum2=mnum, cut_coords = cut_coords, draw_cross = draw_cross)\n",
    "\n",
    "print('No interesting change from Model 1 for %s in Model %s'%(reg, mnum))"
   ]
  },
  {
   "cell_type": "code",
   "execution_count": null,
   "id": "4161fd46-d2eb-451e-ac9a-96234bbd3996",
   "metadata": {},
   "outputs": [],
   "source": [
    "reg = 'reward_ev'\n",
    "mnum = '3'\n",
    "mname = 'overall_mean'\n",
    "tstat = '1'\n",
    "\n",
    "reg_rt = '0'\n",
    "# plot_filt_tval_img(reg, reg_rt=reg_rt, mnum = mnum, mname = mname, tstat = tstat)\n",
    "# plot_filt_diff_tval_img(reg, reg_rt1=reg_rt, reg_rt2=reg_rt, mnum1=\"1\", mnum2=mnum)\n",
    "print('No interesting change from Model 1 for %s in Model %s'%(reg, mnum))\n"
   ]
  },
  {
   "cell_type": "code",
   "execution_count": null,
   "id": "c7e98972-56ff-4916-be1b-6fe7932e83b1",
   "metadata": {},
   "outputs": [],
   "source": [
    "reg = 'fractalProb_par'\n",
    "mnum = '3'\n",
    "mname = 'overall_mean'\n",
    "tstat = '1'\n",
    "\n",
    "reg_rt = '0'\n",
    "# plot_filt_tval_img(reg, reg_rt=reg_rt, mnum = mnum, mname = mname, tstat = tstat)\n",
    "# plot_filt_diff_tval_img(reg, reg_rt1=reg_rt, reg_rt2=reg_rt, mnum1=\"2\", mnum2=mnum)\n",
    "\n",
    "print('No interesting change from Model 2 for %s in Model %s'%(reg, mnum))"
   ]
  },
  {
   "cell_type": "code",
   "execution_count": null,
   "id": "6ab969e6-aa7d-492e-b82b-0b34bd9d3248",
   "metadata": {
    "tags": []
   },
   "outputs": [],
   "source": [
    "reg = 'valDiff_par'\n",
    "mnum = '3'\n",
    "mname = 'overall_mean'\n",
    "tstat = '1'\n",
    "\n",
    "reg_rt = '0'\n",
    "plot_filt_tval_img(reg, reg_rt=reg_rt, mnum = mnum, mname = mname, tstat = tstat)\n",
    "\n",
    "plot_filt_diff_tval_img(reg, reg_rt1=\"0\", reg_rt2=\"1\", mnum1=mnum, mnum2=mnum, cut_coords=cut_coords)"
   ]
  },
  {
   "cell_type": "markdown",
   "id": "db5268f0-9547-461e-ae10-f45645dd1205",
   "metadata": {},
   "source": [
    "# Model 4: Model 2 + valChosen + valUnchosen\n",
    "\n",
    "The added value regressors are not associated with activity anywhere BUT they change the maps for some other regressors."
   ]
  },
  {
   "cell_type": "code",
   "execution_count": null,
   "id": "db44be08-41d3-4444-bf56-3094d06a9c52",
   "metadata": {},
   "outputs": [],
   "source": [
    "get_mean_cor_df(reg_rt = \"0\", mnum = \"4\")"
   ]
  },
  {
   "cell_type": "code",
   "execution_count": null,
   "id": "676bab85-63bb-47b6-88cc-4011e7fd3462",
   "metadata": {},
   "outputs": [],
   "source": [
    "reg = 'fractalProb_ev'\n",
    "mnum = '4'\n",
    "mname = 'overall_mean'\n",
    "tstat = '1'\n",
    "\n",
    "reg_rt = '0'\n",
    "# plot_filt_tval_img(reg, reg_rt=reg_rt, mnum = mnum, mname = mname, tstat = tstat)\n",
    "# plot_filt_diff_tval_img(reg, reg_rt1=reg_rt, reg_rt2=reg_rt, mnum1=\"1\", mnum2=mnum)\n",
    "\n",
    "print('No interesting change from Model 1 for %s in Model %s'%(reg, mnum))"
   ]
  },
  {
   "cell_type": "markdown",
   "id": "3c8db327-5a20-4658-98af-85eaed225270",
   "metadata": {},
   "source": [
    "- Decrease in vStr in Model 4 compared to Model 1\n",
    "- Increase in vmPFC in Model 4 compared to Model 1"
   ]
  },
  {
   "cell_type": "code",
   "execution_count": null,
   "id": "cd73fc8b-1ff2-4a74-a5f7-653a6a1f4b46",
   "metadata": {},
   "outputs": [],
   "source": [
    "reg = 'stim_ev'\n",
    "mnum = '4'\n",
    "mname = 'overall_mean'\n",
    "tstat = '1'\n",
    "\n",
    "reg_rt = '0'\n",
    "# plot_filt_tval_img(reg, reg_rt=reg_rt, mnum = \"1\", mname = mname, tstat = tstat)\n",
    "# plot_filt_tval_img(reg, reg_rt=reg_rt, mnum = mnum, mname = mname, tstat = tstat)\n",
    "plot_filt_diff_tval_img(reg, reg_rt1 =reg_rt, reg_rt2=reg_rt, mnum1=\"1\", mnum2=mnum)"
   ]
  },
  {
   "cell_type": "code",
   "execution_count": null,
   "id": "a10f2b85-5bd7-4fca-b381-cc4852884fb7",
   "metadata": {},
   "outputs": [],
   "source": [
    "reg = 'choiceShift_st'\n",
    "mnum = '4'\n",
    "mname = 'overall_mean'\n",
    "tstat = '1'\n",
    "cut_coords = (-45, -34, 64)\n",
    "draw_cross = True\n",
    "\n",
    "reg_rt = '0'\n",
    "# plot_filt_tval_img(reg, reg_rt=reg_rt, mnum = mnum, mname = mname, tstat = tstat, cut_coords = cut_coords, draw_cross = draw_cross)\n",
    "# plot_filt_diff_tval_img(reg, reg_rt1=reg_rt, reg_rt2=reg_rt, mnum1=\"1\", mnum2=mnum, cut_coords = cut_coords, draw_cross = draw_cross)\n",
    "\n",
    "print('No interesting change from Model 1 for %s in Model %s'%(reg, mnum))"
   ]
  },
  {
   "cell_type": "code",
   "execution_count": null,
   "id": "5a1c7933-7e6d-4895-8623-a78fc9ab52f6",
   "metadata": {},
   "outputs": [],
   "source": [
    "reg = 'reward_ev'\n",
    "mnum = '4'\n",
    "mname = 'overall_mean'\n",
    "tstat = '1'\n",
    "\n",
    "reg_rt = '0'\n",
    "# plot_filt_tval_img(reg, reg_rt=reg_rt, mnum = mnum, mname = mname, tstat = tstat)\n",
    "# plot_filt_diff_tval_img(reg, reg_rt1=reg_rt, reg_rt2=reg_rt, mnum1=\"1\", mnum2=mnum)\n",
    "\n",
    "print('No interesting change from Model 1 for %s in Model %s'%(reg, mnum))"
   ]
  },
  {
   "cell_type": "code",
   "execution_count": null,
   "id": "f15a5d94-7eb2-4aae-9c7d-56901efa21d1",
   "metadata": {},
   "outputs": [],
   "source": [
    "reg = 'fractalProb_par'\n",
    "mnum = '4'\n",
    "mname = 'overall_mean'\n",
    "tstat = '1'\n",
    "\n",
    "reg_rt = '0'\n",
    "# cut_coords = (33, -75, 31)\n",
    "# plot_filt_tval_img(reg, reg_rt=reg_rt, mnum = \"2\", mname = mname, tstat = tstat, cut_coords = cut_coords)\n",
    "# plot_filt_tval_img(reg, reg_rt=reg_rt, mnum = mnum, mname = mname, tstat = tstat, cut_coords = cut_coords)\n",
    "# plot_filt_diff_tval_img(reg, reg_rt1=reg_rt, reg_rt2=reg_rt, mnum1=\"2\", mnum2=mnum, cut_coords = cut_coords)\n",
    "\n",
    "print('No interesting change from Model 2 for %s in Model %s'%(reg, mnum))"
   ]
  },
  {
   "cell_type": "code",
   "execution_count": null,
   "id": "21042f3f-daa4-4768-b487-797e2cbf331c",
   "metadata": {},
   "outputs": [],
   "source": [
    "reg = 'valChosen_par'\n",
    "mnum = '4'\n",
    "mname = 'overall_mean'\n",
    "tstat = '1'\n",
    "\n",
    "reg_rt = '0'\n",
    "plot_filt_tval_img(reg, reg_rt=reg_rt, mnum = mnum, mname = mname, tstat = tstat)\n",
    "\n",
    "reg_rt = '1'\n",
    "plot_filt_tval_img(reg, reg_rt=reg_rt, mnum = mnum, mname = mname, tstat = tstat)"
   ]
  },
  {
   "cell_type": "code",
   "execution_count": null,
   "id": "5d90087a-7de1-4dc9-b1ff-1f6976e211fa",
   "metadata": {},
   "outputs": [],
   "source": [
    "reg = 'valUnchosen_par'\n",
    "mnum = '4'\n",
    "mname = 'overall_mean'\n",
    "tstat = '1'\n",
    "\n",
    "reg_rt = '0'\n",
    "plot_filt_tval_img(reg, reg_rt=reg_rt, mnum = mnum, mname = mname, tstat = tstat)\n",
    "\n",
    "reg_rt = '1'\n",
    "plot_filt_tval_img(reg, reg_rt=reg_rt, mnum = mnum, mname = mname, tstat = tstat)"
   ]
  },
  {
   "cell_type": "markdown",
   "id": "e83e3c26-9b76-4c62-bf22-d15fa7381d88",
   "metadata": {},
   "source": [
    "# Model 5: Model 2 + valDiffLottery + valDiffFractal"
   ]
  },
  {
   "cell_type": "code",
   "execution_count": null,
   "id": "44b938ed-2de5-4244-baea-b42341b2665f",
   "metadata": {},
   "outputs": [],
   "source": [
    "get_mean_cor_df(reg_rt = \"0\", mnum = \"5\")"
   ]
  },
  {
   "cell_type": "code",
   "execution_count": null,
   "id": "b62f2764-69c7-4e65-b9da-2fef8b184cd1",
   "metadata": {},
   "outputs": [],
   "source": [
    "get_mean_cor_df(reg_rt = \"1\", mnum = \"5\")"
   ]
  },
  {
   "cell_type": "code",
   "execution_count": null,
   "id": "3fa80057-de73-4a76-b204-3915509beabe",
   "metadata": {
    "tags": []
   },
   "outputs": [],
   "source": [
    "reg = 'fractalProb_ev'\n",
    "mnum = '5'\n",
    "mname = 'overall_mean'\n",
    "tstat = '1'\n",
    "\n",
    "reg_rt = '0'\n",
    "# plot_filt_tval_img(reg, reg_rt=reg_rt, mnum = mnum, mname = mname, tstat = tstat)\n",
    "# plot_filt_diff_tval_img(reg, reg_rt1=reg_rt, reg_rt2=reg_rt, mnum1=\"1\", mnum2=mnum)\n",
    "\n",
    "print('No interesting change from Model 1 for %s in Model %s'%(reg, mnum))"
   ]
  },
  {
   "cell_type": "markdown",
   "id": "94e61d73-eb1a-4607-9ba5-ecbd6fe24dcd",
   "metadata": {},
   "source": [
    "The frontal changes apply to the RT regressor when RT is modeled separately"
   ]
  },
  {
   "cell_type": "code",
   "execution_count": null,
   "id": "cfb467dc-e3e7-41cb-8953-3b6f63d79417",
   "metadata": {
    "tags": []
   },
   "outputs": [],
   "source": [
    "reg = 'stim_ev'\n",
    "mnum = '5'\n",
    "mname = 'overall_mean'\n",
    "tstat = '1'\n",
    "\n",
    "reg_rt = '0'\n",
    "# cut_coords = (3, 59, 0)\n",
    "\n",
    "# plot_filt_tval_img(reg, reg_rt=reg_rt, mnum = \"1\", mname = mname, tstat = tstat, cut_coords= cut_coords)\n",
    "# plot_filt_tval_img(reg, reg_rt=reg_rt, mnum = mnum, mname = mname, tstat = tstat, cut_coords= cut_coords)\n",
    "# plot_filt_diff_tval_img(reg, reg_rt1=reg_rt, reg_rt2=reg_rt, mnum1=\"1\", mnum2=mnum, cut_coords= cut_coords)\n",
    "\n",
    "print('No interesting change from Model 1 for %s in Model %s'%(reg, mnum))"
   ]
  },
  {
   "cell_type": "code",
   "execution_count": null,
   "id": "6abf3de6-bb5b-4026-9b5d-83f8b936eca3",
   "metadata": {},
   "outputs": [],
   "source": [
    "reg = 'choiceShift_st'\n",
    "mnum = '5'\n",
    "mname = 'overall_mean'\n",
    "tstat = '1'\n",
    "cut_coords = (-45, -34, 64)\n",
    "draw_cross = True\n",
    "\n",
    "reg_rt = '0'\n",
    "# plot_filt_tval_img(reg, reg_rt=reg_rt, mnum = mnum, mname = mname, tstat = tstat, cut_coords = cut_coords, draw_cross = draw_cross)\n",
    "# plot_filt_diff_tval_img(reg, reg_rt1=reg_rt, reg_rt2=reg_rt, mnum1=\"1\", mnum2=mnum, cut_coords= cut_coords, draw_cross = draw_cross)\n",
    "\n",
    "print('No interesting change from Model 1 for %s in Model %s'%(reg, mnum))"
   ]
  },
  {
   "cell_type": "code",
   "execution_count": null,
   "id": "aaf6bb2b-f73a-440f-902a-3f53db8997cb",
   "metadata": {},
   "outputs": [],
   "source": [
    "reg = 'reward_ev'\n",
    "mnum = '5'\n",
    "mname = 'overall_mean'\n",
    "tstat = '1'\n",
    "\n",
    "reg_rt = '0'\n",
    "# plot_filt_tval_img(reg, reg_rt=reg_rt, mnum = mnum, mname = mname, tstat = tstat)\n",
    "# plot_filt_diff_tval_img(reg, reg_rt1=reg_rt, reg_rt2=reg_rt, mnum1=\"1\", mnum2=mnum)\n",
    "\n",
    "print('No interesting change from Model 1 for %s in Model %s'%(reg, mnum))"
   ]
  },
  {
   "cell_type": "code",
   "execution_count": null,
   "id": "3b2112f7-7525-48ad-8b82-00b66c26fe87",
   "metadata": {},
   "outputs": [],
   "source": [
    "reg = 'fractalProb_par'\n",
    "mnum = '5'\n",
    "mname = 'overall_mean'\n",
    "tstat = '1'\n",
    "\n",
    "reg_rt = '0'\n",
    "# plot_filt_tval_img(reg, reg_rt=reg_rt, mnum = mnum, mname = mname, tstat = tstat)\n",
    "# plot_filt_diff_tval_img(reg, reg_rt1=reg_rt, reg_rt2=reg_rt, mnum1=\"2\", mnum2=mnum)\n",
    "\n",
    "print('No interesting change from Model 1 for %s in Model %s'%(reg, mnum))"
   ]
  },
  {
   "cell_type": "code",
   "execution_count": null,
   "id": "0b31b746-18ae-4b50-b6ce-32b8d0b44bf8",
   "metadata": {},
   "outputs": [],
   "source": [
    "reg = 'valDiffLottery_par'\n",
    "mnum = '5'\n",
    "mname = 'overall_mean'\n",
    "tstat = '1'\n",
    "\n",
    "reg_rt = '0'\n",
    "plot_filt_tval_img(reg, reg_rt=reg_rt, mnum = mnum, mname = mname, tstat = tstat)\n"
   ]
  },
  {
   "cell_type": "code",
   "execution_count": null,
   "id": "763029aa-35df-41fc-8ec7-e5eeb48971e2",
   "metadata": {},
   "outputs": [],
   "source": [
    "reg = 'valDiffFractal_par'\n",
    "mnum = '5'\n",
    "mname = 'overall_mean'\n",
    "tstat = '1'\n",
    "threshold = 0.95\n",
    "\n",
    "reg_rt = '0'\n",
    "plot_filt_tval_img(reg, reg_rt=reg_rt, mnum = mnum, mname = mname, tstat = tstat, threshold=threshold)\n"
   ]
  },
  {
   "cell_type": "markdown",
   "id": "eb677770-6ccd-4eb1-8f27-ab59f5bf8d4e",
   "metadata": {},
   "source": [
    "# Model 6: Model 2 + valChosenLottery + valUnchosenLottery + valChosenFractal + valUnchosenFractal"
   ]
  },
  {
   "cell_type": "code",
   "execution_count": null,
   "id": "f7ca8795-ac3e-4ef6-abd6-1f4075795073",
   "metadata": {},
   "outputs": [],
   "source": [
    "get_mean_cor_df(reg_rt = \"0\", mnum = \"6\")"
   ]
  },
  {
   "cell_type": "code",
   "execution_count": null,
   "id": "88649c5b-54ec-45e6-a701-6e34f545d843",
   "metadata": {},
   "outputs": [],
   "source": [
    "get_mean_cor_df(reg_rt = \"0\", mnum = \"6\")"
   ]
  },
  {
   "cell_type": "code",
   "execution_count": null,
   "id": "3a302697-3d78-4c3f-8f0c-dfb3ee5dc1b2",
   "metadata": {},
   "outputs": [],
   "source": [
    "reg = 'fractalProb_ev'\n",
    "mnum = '6'\n",
    "mname = 'overall_mean'\n",
    "tstat = '1'\n",
    "\n",
    "reg_rt = '0'\n",
    "# cut_coords = (-31, -68, -40)\n",
    "# plot_filt_tval_img(reg, reg_rt=reg_rt, mnum = \"1\", mname = mname, tstat = tstat, cut_coords = cut_coords)\n",
    "# plot_filt_tval_img(reg, reg_rt=reg_rt, mnum = mnum, mname = mname, tstat = tstat, cut_coords = cut_coords)\n",
    "# plot_filt_diff_tval_img(reg, reg_rt1=reg_rt, reg_rt2=reg_rt, mnum1=\"1\", mnum2=mnum, cut_coords = cut_coords)\n",
    "\n",
    "print('No interesting change from Model 1 for %s in Model %s'%(reg, mnum))"
   ]
  },
  {
   "cell_type": "code",
   "execution_count": null,
   "id": "61dd49a2-1c81-4cdd-bdc6-04fd43ec6491",
   "metadata": {},
   "outputs": [],
   "source": [
    "reg = 'stim_ev'\n",
    "mnum = '6'\n",
    "mname = 'overall_mean'\n",
    "tstat = '1'\n",
    "\n",
    "reg_rt = '0'\n",
    "# cut_coords = (0, -32, 12)\n",
    "# plot_filt_tval_img(reg, reg_rt=reg_rt, mnum = \"1\", mname = mname, tstat = tstat, cut_coords = cut_coords)\n",
    "# plot_filt_tval_img(reg, reg_rt=reg_rt, mnum = mnum, mname = mname, tstat = tstat, cut_coords = cut_coords)\n",
    "# plot_filt_diff_tval_img(reg, reg_rt1=reg_rt, reg_rt2=reg_rt, mnum1=\"1\", mnum2=mnum, cut_coords = cut_coords)\n",
    "\n",
    "print('No interesting change from Model 1 for %s in Model %s'%(reg, mnum))"
   ]
  },
  {
   "cell_type": "code",
   "execution_count": null,
   "id": "df8c3926-e4eb-4ce4-bae2-5e6f91c0edf1",
   "metadata": {},
   "outputs": [],
   "source": [
    "reg = 'choiceShift_st'\n",
    "mnum = '6'\n",
    "mname = 'overall_mean'\n",
    "tstat = '1'\n",
    "cut_coords = (-45, -34, 64)\n",
    "draw_cross = True\n",
    "\n",
    "reg_rt = '0'\n",
    "# plot_filt_tval_img(reg, reg_rt=reg_rt, mnum = mnum, mname = mname, tstat = tstat, cut_coords = cut_coords, draw_cross = draw_cross)\n",
    "# plot_filt_diff_tval_img(reg, reg_rt1=reg_rt, reg_rt2=reg_rt, mnum1=\"1\", mnum2=mnum, cut_coords= cut_coords, draw_cross = draw_cross)\n",
    "\n",
    "print('No interesting change from Model 1 for %s in Model %s'%(reg, mnum))"
   ]
  },
  {
   "cell_type": "code",
   "execution_count": null,
   "id": "c7b70666-d12a-406e-9381-0441c6928231",
   "metadata": {},
   "outputs": [],
   "source": [
    "reg = 'reward_ev'\n",
    "mnum = '6'\n",
    "mname = 'overall_mean'\n",
    "tstat = '1'\n",
    "\n",
    "reg_rt = '0'\n",
    "# plot_filt_tval_img(reg, reg_rt=reg_rt, mnum = mnum, mname = mname, tstat = tstat)\n",
    "# plot_filt_diff_tval_img(reg, reg_rt1=reg_rt, reg_rt2=reg_rt, mnum1=\"1\", mnum2=mnum)\n",
    "\n",
    "print('No interesting change from Model 1 for %s in Model %s'%(reg, mnum))"
   ]
  },
  {
   "cell_type": "code",
   "execution_count": null,
   "id": "81066ea3-b821-434a-8377-aa6f338fabe5",
   "metadata": {},
   "outputs": [],
   "source": [
    "reg = 'fractalProb_par'\n",
    "mnum = '6'\n",
    "mname = 'overall_mean'\n",
    "tstat = '1'\n",
    "\n",
    "reg_rt = '0'\n",
    "# plot_filt_tval_img(reg, reg_rt=reg_rt, mnum = mnum, mname = mname, tstat = tstat)\n",
    "# plot_filt_diff_tval_img(reg, reg_rt1=reg_rt, reg_rt2=reg_rt, mnum1=\"2\", mnum2=mnum)\n",
    "\n",
    "print('No interesting change from Model 2 for %s in Model %s'%(reg, mnum))"
   ]
  },
  {
   "cell_type": "code",
   "execution_count": null,
   "id": "b89b2583-11c3-4b1c-811f-3875da884371",
   "metadata": {},
   "outputs": [],
   "source": [
    "reg = 'valChosenLottery_par'\n",
    "mnum = '6'\n",
    "mname = 'overall_mean'\n",
    "tstat = '1'\n",
    "cut_coords = (-1, 9, 0)\n",
    "\n",
    "reg_rt = '0'\n",
    "plot_filt_tval_img(reg, reg_rt=reg_rt, mnum = mnum, mname = mname, tstat = tstat, cut_coords = cut_coords)"
   ]
  },
  {
   "cell_type": "code",
   "execution_count": null,
   "id": "93efa560-6ca6-4c03-9052-ccb68f7a3963",
   "metadata": {},
   "outputs": [],
   "source": [
    "reg = 'valUnchosenLottery_par'\n",
    "mnum = '6'\n",
    "mname = 'overall_mean'\n",
    "tstat = '1'\n",
    "\n",
    "reg_rt = '0'\n",
    "plot_filt_tval_img(reg, reg_rt=reg_rt, mnum = mnum, mname = mname, tstat = tstat)"
   ]
  },
  {
   "cell_type": "code",
   "execution_count": null,
   "id": "1625d986-ff54-4728-9265-10097d42132d",
   "metadata": {},
   "outputs": [],
   "source": [
    "reg = 'valChosenFractal_par'\n",
    "mnum = '6'\n",
    "mname = 'overall_mean'\n",
    "tstat = '1'\n",
    "\n",
    "reg_rt = '0'\n",
    "plot_filt_tval_img(reg, reg_rt=reg_rt, mnum = mnum, mname = mname, tstat = tstat)"
   ]
  },
  {
   "cell_type": "code",
   "execution_count": null,
   "id": "a3d45998-ed52-4299-84fa-fede2c246a35",
   "metadata": {
    "tags": []
   },
   "outputs": [],
   "source": [
    "reg = 'valUnchosenFractal_par'\n",
    "mnum = '6'\n",
    "mname = 'overall_mean'\n",
    "tstat = '1'\n",
    "\n",
    "reg_rt = '0'\n",
    "plot_filt_tval_img(reg, reg_rt=reg_rt, mnum = mnum, mname = mname, tstat = tstat)"
   ]
  },
  {
   "cell_type": "markdown",
   "id": "5202448c-8727-48c3-b133-15265ed15c4b",
   "metadata": {},
   "source": [
    "# Model 7: Model 5 + reward_par"
   ]
  },
  {
   "cell_type": "code",
   "execution_count": null,
   "id": "9161acbf-16dd-4e16-9458-984762c6b3ac",
   "metadata": {},
   "outputs": [],
   "source": [
    "get_mean_cor_df(reg_rt = \"0\", mnum = \"7\")"
   ]
  },
  {
   "cell_type": "code",
   "execution_count": null,
   "id": "65ffbd07-9ff5-4885-8f88-82cbe31c6bac",
   "metadata": {},
   "outputs": [],
   "source": [
    "reg = 'fractalProb_ev'\n",
    "mnum = '7'\n",
    "mname = 'overall_mean'\n",
    "tstat = '1'\n",
    "\n",
    "reg_rt = '0'\n",
    "# cut_coords = (-28, -66, -42)\n",
    "# plot_filt_tval_img(reg, reg_rt=reg_rt, mnum = \"1\", mname = mname, tstat = tstat, cut_coords = cut_coords)\n",
    "# plot_filt_tval_img(reg, reg_rt=reg_rt, mnum = mnum, mname = mname, tstat = tstat, cut_coords = cut_coords)\n",
    "# plot_filt_diff_tval_img(reg, reg_rt1=reg_rt, reg_rt2=reg_rt, mnum1=\"1\", mnum2=mnum)\n",
    "\n",
    "print('No interesting change from Model 1 for %s in Model %s'%(reg, mnum))"
   ]
  },
  {
   "cell_type": "code",
   "execution_count": null,
   "id": "b18acff2-d873-4571-aeb7-2eb69f939628",
   "metadata": {},
   "outputs": [],
   "source": [
    "reg = 'stim_ev'\n",
    "mnum = '7'\n",
    "mname = 'overall_mean'\n",
    "tstat = '1'\n",
    "\n",
    "reg_rt = '0'\n",
    "# cut_coords = (0, -32, 12)\n",
    "# plot_filt_tval_img(reg, reg_rt=reg_rt, mnum = \"1\", mname = mname, tstat = tstat, cut_coords = cut_coords)\n",
    "# plot_filt_tval_img(reg, reg_rt=reg_rt, mnum = mnum, mname = mname, tstat = tstat, cut_coords = cut_coords)\n",
    "# plot_filt_diff_tval_img(reg, reg_rt1=reg_rt, reg_rt2=reg_rt, mnum1=\"1\", mnum2=mnum)\n",
    "\n",
    "print('No interesting change from Model 1 for %s in Model %s'%(reg, mnum))"
   ]
  },
  {
   "cell_type": "code",
   "execution_count": null,
   "id": "b554d916-98e3-4185-892f-7d26149d8cac",
   "metadata": {},
   "outputs": [],
   "source": [
    "reg = 'choiceShift_st'\n",
    "mnum = '7'\n",
    "mname = 'overall_mean'\n",
    "tstat = '1'\n",
    "cut_coords = (-45, -34, 64)\n",
    "draw_cross = True\n",
    "\n",
    "reg_rt = '0'\n",
    "# plot_filt_tval_img(reg, reg_rt=reg_rt, mnum = mnum, mname = mname, tstat = tstat, cut_coords = cut_coords, draw_cross = draw_cross)\n",
    "# plot_filt_diff_tval_img(reg, reg_rt1=reg_rt, reg_rt2=reg_rt, mnum1=\"1\", mnum2=mnum, cut_coords= cut_coords, draw_cross = draw_cross)\n",
    "\n",
    "print('No interesting change from Model 1 for %s in Model %s'%(reg, mnum))"
   ]
  },
  {
   "cell_type": "code",
   "execution_count": null,
   "id": "80d9fb8d-2982-4115-866f-d96680e1816f",
   "metadata": {},
   "outputs": [],
   "source": [
    "reg = 'reward_ev'\n",
    "mnum = '7'\n",
    "mname = 'overall_mean'\n",
    "tstat = '1'\n",
    "\n",
    "reg_rt = '0'\n",
    "# cut_coords = (23, 0, 10)\n",
    "# plot_filt_tval_img(reg, reg_rt=reg_rt, mnum = \"1\", mname = mname, tstat = tstat, cut_coords = cut_coords)\n",
    "# plot_filt_tval_img(reg, reg_rt=reg_rt, mnum = mnum, mname = mname, tstat = tstat)\n",
    "# plot_filt_diff_tval_img(reg, reg_rt1=reg_rt, reg_rt2=reg_rt, mnum1=\"1\", mnum2=mnum, cut_coords = cut_coords)\n",
    "\n",
    "print('No interesting change from Model 1 for %s in Model %s'%(reg, mnum))"
   ]
  },
  {
   "cell_type": "code",
   "execution_count": null,
   "id": "c5359fb2-d546-438a-8161-2ae36866a417",
   "metadata": {},
   "outputs": [],
   "source": [
    "reg = 'fractalProb_par'\n",
    "mnum = '7'\n",
    "mname = 'overall_mean'\n",
    "tstat = '1'\n",
    "\n",
    "reg_rt = '0'\n",
    "# plot_filt_tval_img(reg, reg_rt=reg_rt, mnum = mnum, mname = mname, tstat = tstat)\n",
    "# plot_filt_diff_tval_img(reg, reg_rt1=reg_rt, reg_rt2=reg_rt, mnum1=\"2\", mnum2=mnum)\n",
    "\n",
    "print('No interesting change from Model 2 for %s in Model %s'%(reg, mnum))"
   ]
  },
  {
   "cell_type": "code",
   "execution_count": null,
   "id": "fd3f934c-a4ca-46a6-9b2b-493571a6d334",
   "metadata": {},
   "outputs": [],
   "source": [
    "reg = 'valDiffLottery_par'\n",
    "mnum = '7'\n",
    "mname = 'overall_mean'\n",
    "tstat = '1'\n",
    "\n",
    "reg_rt = '0'\n",
    "cut_coords = (-10, 4, 5)\n",
    "plot_filt_tval_img(reg, reg_rt=reg_rt, mnum = \"5\", mname = mname, tstat = tstat, cut_coords = cut_coords)\n",
    "plot_filt_tval_img(reg, reg_rt=reg_rt, mnum = mnum, mname = mname, tstat = tstat, cut_coords = cut_coords)\n",
    "# plot_filt_diff_tval_img(reg, reg_rt1=reg_rt, reg_rt2=reg_rt, mnum1=\"5\", mnum2=mnum)"
   ]
  },
  {
   "cell_type": "code",
   "execution_count": null,
   "id": "25fee428-ef56-401c-89c1-81e92f46f477",
   "metadata": {},
   "outputs": [],
   "source": [
    "reg = 'valDiffFractal_par'\n",
    "mnum = '7'\n",
    "mname = 'overall_mean'\n",
    "tstat = '1'\n",
    "# cut_coords = (-1, 9, 0)\n",
    "\n",
    "reg_rt = '0'\n",
    "# plot_filt_tval_img(reg, reg_rt=reg_rt, mnum = mnum, mname = mname, tstat = tstat)\n",
    "plot_filt_diff_tval_img(reg, reg_rt1=reg_rt, reg_rt2=reg_rt, mnum1=\"5\", mnum2=mnum)\n"
   ]
  },
  {
   "cell_type": "code",
   "execution_count": null,
   "id": "c4443866-861b-4b7d-a695-6f734e1b1053",
   "metadata": {},
   "outputs": [],
   "source": [
    "reg = 'reward_par'\n",
    "mnum = '7'\n",
    "mname = 'overall_mean'\n",
    "tstat = '1'\n",
    "\n",
    "reg_rt = '0'\n",
    "plot_filt_tval_img(reg, reg_rt=reg_rt, mnum = mnum, mname = mname, tstat = tstat, interactive=True)"
   ]
  },
  {
   "cell_type": "markdown",
   "id": "eeabb10f-e3da-4c22-a13d-7070f6b4e878",
   "metadata": {},
   "source": [
    "# Model 8: Model 5 + rpe_par"
   ]
  },
  {
   "cell_type": "code",
   "execution_count": null,
   "id": "c40a0188-fc74-4683-ba66-d42387a4f2c3",
   "metadata": {},
   "outputs": [],
   "source": [
    "get_mean_cor_df(reg_rt = \"0\", mnum = \"8\")"
   ]
  },
  {
   "cell_type": "code",
   "execution_count": null,
   "id": "ff1d73a3-98c3-4296-81d7-732168426122",
   "metadata": {},
   "outputs": [],
   "source": [
    "reg = 'fractalProb_ev'\n",
    "mnum = '8'\n",
    "mname = 'overall_mean'\n",
    "tstat = '1'\n",
    "\n",
    "reg_rt = '0'\n",
    "# plot_filt_tval_img(reg, reg_rt=reg_rt, mnum = \"1\", mname = mname, tstat = tstat, cut_coords = cut_coords)\n",
    "# plot_filt_tval_img(reg, reg_rt=reg_rt, mnum = mnum, mname = mname, tstat = tstat, cut_coords = cut_coords)\n",
    "# plot_filt_diff_tval_img(reg, reg_rt1=reg_rt, reg_rt2=reg_rt, mnum1=\"1\", mnum2=mnum)\n",
    "\n",
    "print('No interesting change from Model 1 for %s in Model %s'%(reg, mnum))"
   ]
  },
  {
   "cell_type": "code",
   "execution_count": null,
   "id": "cd66b56f-2280-4ab3-9bd3-96c5b57a07e9",
   "metadata": {},
   "outputs": [],
   "source": [
    "reg = 'stim_ev'\n",
    "mnum = '8'\n",
    "mname = 'overall_mean'\n",
    "tstat = '1'\n",
    "\n",
    "reg_rt = '0'\n",
    "# cut_coords = (0, -32, 12)\n",
    "# plot_filt_tval_img(reg, reg_rt=reg_rt, mnum = \"1\", mname = mname, tstat = tstat, cut_coords = cut_coords)\n",
    "# plot_filt_tval_img(reg, reg_rt=reg_rt, mnum = mnum, mname = mname, tstat = tstat, cut_coords = cut_coords)\n",
    "# plot_filt_diff_tval_img(reg, reg_rt1=reg_rt, reg_rt2=reg_rt, mnum1=\"1\", mnum2=mnum)\n",
    "\n",
    "print('No interesting change from Model 1 for %s in Model %s'%(reg, mnum))"
   ]
  },
  {
   "cell_type": "code",
   "execution_count": null,
   "id": "80353fa0-17cd-487d-be1b-8116a7af851e",
   "metadata": {},
   "outputs": [],
   "source": [
    "reg = 'choiceShift_st'\n",
    "mnum = '8'\n",
    "mname = 'overall_mean'\n",
    "tstat = '1'\n",
    "cut_coords = (-45, -34, 64)\n",
    "draw_cross = True\n",
    "\n",
    "reg_rt = '0'\n",
    "# plot_filt_tval_img(reg, reg_rt=reg_rt, mnum = mnum, mname = mname, tstat = tstat, cut_coords = cut_coords, draw_cross = draw_cross)\n",
    "# plot_filt_diff_tval_img(reg, reg_rt1=reg_rt, reg_rt2=reg_rt, mnum1=\"1\", mnum2=mnum, cut_coords= cut_coords, draw_cross = draw_cross)\n",
    "\n",
    "print('No interesting change from Model 1 for %s in Model %s'%(reg, mnum))"
   ]
  },
  {
   "cell_type": "code",
   "execution_count": null,
   "id": "a1d86296-7c93-4e46-9f9d-b75ab724fab9",
   "metadata": {},
   "outputs": [],
   "source": [
    "reg = 'reward_ev'\n",
    "mnum = '8'\n",
    "mname = 'overall_mean'\n",
    "tstat = '1'\n",
    "\n",
    "cut_coords = (-50, 35, 3)\n",
    "\n",
    "reg_rt = '0'\n",
    "# plot_filt_tval_img(reg, reg_rt=reg_rt, mnum = \"1\", mname = mname, tstat = tstat, cut_coords = cut_coords)\n",
    "# plot_filt_tval_img(reg, reg_rt=reg_rt, mnum = mnum, mname = mname, tstat = tstat, cut_coords = cut_coords)\n",
    "# plot_filt_diff_tval_img(reg, reg_rt1=reg_rt, reg_rt2=reg_rt, mnum1=\"1\", mnum2=mnum)\n",
    "\n",
    "print('No interesting change from Model 1 for %s in Model %s'%(reg, mnum))"
   ]
  },
  {
   "cell_type": "code",
   "execution_count": null,
   "id": "117bd602-0983-4ff4-889f-f157dc9b5d19",
   "metadata": {},
   "outputs": [],
   "source": [
    "reg = 'fractalProb_par'\n",
    "mnum = '8'\n",
    "mname = 'overall_mean'\n",
    "tstat = '1'\n",
    "\n",
    "reg_rt = '0'\n",
    "# plot_filt_tval_img(reg, reg_rt=reg_rt, mnum = mnum, mname = mname, tstat = tstat)\n",
    "# plot_filt_diff_tval_img(reg, reg_rt1=reg_rt, reg_rt2=reg_rt, mnum1=\"2\", mnum2=mnum)\n",
    "\n",
    "print('No interesting change from Model 2 for %s in Model %s'%(reg, mnum))"
   ]
  },
  {
   "cell_type": "code",
   "execution_count": null,
   "id": "b40dfe8e-65c5-40ad-bd12-2cee8b02bebd",
   "metadata": {},
   "outputs": [],
   "source": [
    "reg = 'valDiffLottery_par'\n",
    "mnum = '8'\n",
    "mname = 'overall_mean'\n",
    "tstat = '1'\n",
    "\n",
    "reg_rt = '0'\n",
    "cut_coords = (-10, 4, 5)\n",
    "plot_filt_tval_img(reg, reg_rt=reg_rt, mnum = \"5\", mname = mname, tstat = tstat, cut_coords = cut_coords)\n",
    "plot_filt_tval_img(reg, reg_rt=reg_rt, mnum = mnum, mname = mname, tstat = tstat, cut_coords = cut_coords)\n",
    "# plot_filt_diff_tval_img(reg, reg_rt1=reg_rt, reg_rt2=reg_rt, mnum1=\"5\", mnum2=mnum)\n"
   ]
  },
  {
   "cell_type": "code",
   "execution_count": null,
   "id": "a91492ec-c9ff-4271-a2bf-3d32c049ac7f",
   "metadata": {},
   "outputs": [],
   "source": [
    "reg = 'valDiffFractal_par'\n",
    "mnum = '8'\n",
    "mname = 'overall_mean'\n",
    "tstat = '1'\n",
    "\n",
    "reg_rt = '0'\n",
    "cut_coords = (-10, 4, 5)\n",
    "plot_filt_tval_img(reg, reg_rt=reg_rt, mnum = \"5\", mname = mname, tstat = tstat, cut_coords = cut_coords)\n",
    "plot_filt_tval_img(reg, reg_rt=reg_rt, mnum = mnum, mname = mname, tstat = tstat, cut_coords = cut_coords)\n",
    "# plot_filt_diff_tval_img(reg, reg_rt1=reg_rt, reg_rt2=reg_rt, mnum1=\"5\", mnum2=mnum)\n"
   ]
  },
  {
   "cell_type": "code",
   "execution_count": null,
   "id": "3939d354-8adc-4e42-8846-345061b9a922",
   "metadata": {},
   "outputs": [],
   "source": [
    "reg = 'rpe_par'\n",
    "mnum = '8'\n",
    "mname = 'overall_mean'\n",
    "tstat = '1'\n",
    "\n",
    "reg_rt = '0'\n",
    "plot_filt_tval_img(reg, reg_rt=reg_rt, mnum = mnum, mname = mname, tstat = tstat)"
   ]
  },
  {
   "cell_type": "markdown",
   "id": "8dfce04d-cf8f-4be5-9cba-6729d4f57613",
   "metadata": {},
   "source": [
    "# Model 9: Model 5 + reward_par + rpe_par"
   ]
  },
  {
   "cell_type": "code",
   "execution_count": null,
   "id": "5f234104-1276-46b7-a960-b72377cccbf3",
   "metadata": {},
   "outputs": [],
   "source": [
    "get_mean_cor_df(reg_rt = \"0\", mnum = \"9\")"
   ]
  },
  {
   "cell_type": "code",
   "execution_count": null,
   "id": "f1c9c41c-777c-45c6-acde-ae89932afd18",
   "metadata": {},
   "outputs": [],
   "source": [
    "get_mean_cor_df(reg_rt = \"1\", mnum = \"9\")"
   ]
  },
  {
   "cell_type": "code",
   "execution_count": null,
   "id": "0062caed-f0c9-45be-80f5-d0483085f328",
   "metadata": {},
   "outputs": [],
   "source": [
    "reg = 'fractalProb_ev'\n",
    "mnum = '9'\n",
    "mname = 'overall_mean'\n",
    "tstat = '1'\n",
    "\n",
    "reg_rt = '0'\n",
    "# plot_filt_tval_img(reg, reg_rt=reg_rt, mnum = \"1\", mname = mname, tstat = tstat, cut_coords = cut_coords)\n",
    "# plot_filt_tval_img(reg, reg_rt=reg_rt, mnum = mnum, mname = mname, tstat = tstat, cut_coords = cut_coords)\n",
    "# plot_filt_diff_tval_img(reg, reg_rt1=reg_rt, reg_rt2=reg_rt, mnum1=\"1\", mnum2=mnum)\n",
    "\n",
    "print('No interesting change from Model 1 for %s in Model %s'%(reg, mnum))"
   ]
  },
  {
   "cell_type": "code",
   "execution_count": null,
   "id": "6670c8ab-d2bd-47bd-9533-adbddc3d0970",
   "metadata": {},
   "outputs": [],
   "source": [
    "reg = 'stim_ev'\n",
    "mnum = '9'\n",
    "mname = 'overall_mean'\n",
    "tstat = '1'\n",
    "\n",
    "reg_rt = '0'\n",
    "# cut_coords = (0, -32, 12)\n",
    "# plot_filt_tval_img(reg, reg_rt=reg_rt, mnum = \"1\", mname = mname, tstat = tstat, cut_coords = cut_coords)\n",
    "# plot_filt_tval_img(reg, reg_rt=reg_rt, mnum = mnum, mname = mname, tstat = tstat, cut_coords = cut_coords)\n",
    "# plot_filt_diff_tval_img(reg, reg_rt1=reg_rt, reg_rt2=reg_rt, mnum1=\"1\", mnum2=mnum)\n",
    "\n",
    "print('No interesting change from Model 1 for %s in Model %s'%(reg, mnum))"
   ]
  },
  {
   "cell_type": "code",
   "execution_count": null,
   "id": "df022cfe-b57d-4541-93e0-836db3fda19f",
   "metadata": {},
   "outputs": [],
   "source": [
    "reg = 'choiceShift_st'\n",
    "mnum = '9'\n",
    "mname = 'overall_mean'\n",
    "tstat = '1'\n",
    "cut_coords = (-45, -34, 64)\n",
    "draw_cross = True\n",
    "\n",
    "reg_rt = '0'\n",
    "# plot_filt_tval_img(reg, reg_rt=reg_rt, mnum = mnum, mname = mname, tstat = tstat, cut_coords = cut_coords, draw_cross = draw_cross)\n",
    "# plot_filt_diff_tval_img(reg, reg_rt1=reg_rt, reg_rt2=reg_rt, mnum1=\"1\", mnum2=mnum, cut_coords= cut_coords, draw_cross = draw_cross)\n",
    "\n",
    "print('No interesting change from Model 1 for %s in Model %s'%(reg, mnum))"
   ]
  },
  {
   "cell_type": "code",
   "execution_count": null,
   "id": "1b5e5a3a-ae72-4d09-82eb-df01616f9a3b",
   "metadata": {},
   "outputs": [],
   "source": [
    "reg = 'reward_ev'\n",
    "mnum = '9'\n",
    "mname = 'overall_mean'\n",
    "tstat = '1'\n",
    "\n",
    "reg_rt = '0'\n",
    "# plot_filt_tval_img(reg, reg_rt=reg_rt, mnum = \"1\", mname = mname, tstat = tstat, cut_coords = cut_coords)\n",
    "# plot_filt_tval_img(reg, reg_rt=reg_rt, mnum = mnum, mname = mname, tstat = tstat, cut_coords = cut_coords)\n",
    "# plot_filt_diff_tval_img(reg, reg_rt1=reg_rt, reg_rt2=reg_rt, mnum1=\"1\", mnum2=mnum)\n",
    "\n",
    "print('No interesting change from Model 1 for %s in Model %s'%(reg, mnum))"
   ]
  },
  {
   "cell_type": "code",
   "execution_count": null,
   "id": "47e93c1b-15b0-4c22-8b8b-a2f0b4725275",
   "metadata": {},
   "outputs": [],
   "source": [
    "reg = 'fractalProb_par'\n",
    "mnum = '9'\n",
    "mname = 'overall_mean'\n",
    "tstat = '1'\n",
    "\n",
    "reg_rt = '0'\n",
    "# plot_filt_tval_img(reg, reg_rt=reg_rt, mnum = mnum, mname = mname, tstat = tstat)\n",
    "# plot_filt_diff_tval_img(reg, reg_rt1=reg_rt, reg_rt2=reg_rt, mnum1=\"2\", mnum2=mnum)\n",
    "\n",
    "print('No interesting change from Model 2 for %s in Model %s'%(reg, mnum))"
   ]
  },
  {
   "cell_type": "code",
   "execution_count": null,
   "id": "4b594932-ce00-4185-8ca1-8a8c4755848d",
   "metadata": {},
   "outputs": [],
   "source": [
    "reg = 'valDiffLottery_par'\n",
    "mnum = '9'\n",
    "mname = 'overall_mean'\n",
    "tstat = '1'\n",
    "\n",
    "reg_rt = '0'\n",
    "cut_coords = (-10, 4, 5)\n",
    "plot_filt_tval_img(reg, reg_rt=reg_rt, mnum = \"5\", mname = mname, tstat = tstat, cut_coords = cut_coords)\n",
    "plot_filt_tval_img(reg, reg_rt=reg_rt, mnum = mnum, mname = mname, tstat = tstat, cut_coords = cut_coords)\n",
    "# plot_filt_diff_tval_img(reg, reg_rt1=reg_rt, reg_rt2=reg_rt, mnum1=\"5\", mnum2=mnum)"
   ]
  },
  {
   "cell_type": "code",
   "execution_count": null,
   "id": "0f693e54-2ab9-4711-84af-1f47d0c0956e",
   "metadata": {},
   "outputs": [],
   "source": [
    "reg = 'valDiffFractal_par'\n",
    "mnum = '9'\n",
    "mname = 'overall_mean'\n",
    "tstat = '1'\n",
    "\n",
    "reg_rt = '0'\n",
    "cut_coords = (-10, 4, 5)\n",
    "plot_filt_tval_img(reg, reg_rt=reg_rt, mnum = \"5\", mname = mname, tstat = tstat, cut_coords = cut_coords)\n",
    "plot_filt_tval_img(reg, reg_rt=reg_rt, mnum = mnum, mname = mname, tstat = tstat, cut_coords = cut_coords)\n",
    "# plot_filt_diff_tval_img(reg, reg_rt1=reg_rt, reg_rt2=reg_rt, mnum1=\"5\", mnum2=mnum)"
   ]
  },
  {
   "cell_type": "code",
   "execution_count": null,
   "id": "543a7684-efef-4ac2-954d-aa887498c19e",
   "metadata": {},
   "outputs": [],
   "source": [
    "reg = 'reward_par'\n",
    "mnum = '9'\n",
    "mname = 'overall_mean'\n",
    "tstat = '1'\n",
    "\n",
    "reg_rt = '0'\n",
    "plot_filt_tval_img(reg, reg_rt=reg_rt, mnum = mnum, mname = mname, tstat = tstat)"
   ]
  },
  {
   "cell_type": "code",
   "execution_count": null,
   "id": "e695a093-4637-495c-b374-20f2b9d9a38e",
   "metadata": {},
   "outputs": [],
   "source": [
    "reg = 'rpe_par'\n",
    "mnum = '9'\n",
    "mname = 'overall_mean'\n",
    "tstat = '1'\n",
    "\n",
    "reg_rt = '0'\n",
    "plot_filt_tval_img(reg, reg_rt=reg_rt, mnum = mnum, mname = mname, tstat = tstat)"
   ]
  }
 ],
 "metadata": {
  "kernelspec": {
   "display_name": "Python 3 (ipykernel)",
   "language": "python",
   "name": "python3"
  },
  "language_info": {
   "codemirror_mode": {
    "name": "ipython",
    "version": 3
   },
   "file_extension": ".py",
   "mimetype": "text/x-python",
   "name": "python",
   "nbconvert_exporter": "python",
   "pygments_lexer": "ipython3",
   "version": "3.8.3"
  }
 },
 "nbformat": 4,
 "nbformat_minor": 5
}
