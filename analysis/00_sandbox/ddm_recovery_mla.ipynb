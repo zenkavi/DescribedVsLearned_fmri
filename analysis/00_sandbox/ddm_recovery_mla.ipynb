{
 "cells": [
  {
   "cell_type": "code",
   "execution_count": 17,
   "id": "7bf27a39-760c-48a8-8cda-275409f60708",
   "metadata": {},
   "outputs": [],
   "source": [
    "from itertools import product\n",
    "import pandas as pd\n",
    "import seaborn as sns"
   ]
  },
  {
   "cell_type": "markdown",
   "id": "9198631d-c6ad-431b-9237-304b07fbe338",
   "metadata": {},
   "source": [
    "## Recovery with addm_toolbox.ddm_mla_test"
   ]
  },
  {
   "cell_type": "code",
   "execution_count": 2,
   "id": "76d9def1-b6c2-4ee4-8182-2cdc0ab20078",
   "metadata": {},
   "outputs": [],
   "source": [
    "from __future__ import absolute_import\n",
    "\n",
    "import argparse\n",
    "\n",
    "from addm_toolbox.ddm_mla_test import wrap_ddm_get_model_log_likelihood"
   ]
  },
  {
   "cell_type": "code",
   "execution_count": 3,
   "id": "1315a19d-e869-4262-b84e-c062e99d8e8f",
   "metadata": {},
   "outputs": [],
   "source": [
    "d = .006\n",
    "sigma = .08\n",
    "rangeD = [0.005, 0.006, 0.007]\n",
    "rangeSigma = [0.065, 0.08, 0.095]"
   ]
  },
  {
   "cell_type": "code",
   "execution_count": 4,
   "id": "91ee691a-1f84-4394-8e9d-41b1a593de67",
   "metadata": {},
   "outputs": [],
   "source": [
    "def main(d, sigma, rangeD, rangeSigma, trialsFileName=None, numTrials=10,\n",
    "         numSimulations=10, binStep=100, maxRT=8000, numThreads=9,\n",
    "         verbose=False):\n",
    "    \"\"\"\n",
    "    Args:\n",
    "      d: float, DDM parameter for generating artificial data.\n",
    "      sigma: float, DDM parameter for generating artificial data.\n",
    "      rangeD: list of floats, search range for parameter d.\n",
    "      rangeSigma: list of floats, search range for parameter sigma.\n",
    "      trialsFileName: string, path of trial conditions file.\n",
    "      numTrials: int, number of artificial data trials to be generated per\n",
    "          trial condition.\n",
    "      numSimulations: int, number of simulations to be generated per trial\n",
    "          condition, to be used in the RT histograms.\n",
    "      binStep: int, size of the bin step to be used in the RT histograms.\n",
    "      maxRT: int, maximum RT to be used in the RT histograms.\n",
    "      numThreads: int, size of the thread pool.\n",
    "      verbose: boolean, whether or not to increase output verbosity.\n",
    "    \"\"\"\n",
    "    pool = Pool(numThreads)\n",
    "\n",
    "    histBins = list(range(0, maxRT + binStep, binStep))\n",
    "\n",
    "    # Load trial conditions.\n",
    "    if not trialsFileName:\n",
    "        trialsFileName = pkg_resources.resource_filename(\n",
    "            u\"addm_toolbox\", u\"test_data/test_trial_conditions.csv\")\n",
    "    trialConditions = load_trial_conditions_from_csv(trialsFileName)\n",
    "\n",
    "    # Generate artificial data.\n",
    "    dataRTLeft = dict()\n",
    "    dataRTRight = dict()\n",
    "    for trialCondition in trialConditions:\n",
    "        dataRTLeft[trialCondition] = list()\n",
    "        dataRTRight[trialCondition] = list()\n",
    "    model = DDM(d, sigma)\n",
    "    for trialCondition in trialConditions:\n",
    "        t = 0\n",
    "        while t < numTrials:\n",
    "            try:\n",
    "                trial = model.simulate_trial(\n",
    "                    trialCondition[0], trialCondition[1])\n",
    "            except:\n",
    "                print(u\"An exception occurred while generating artificial \"\n",
    "                      \"trial \" + str(t) + u\" for condition \" +\n",
    "                      str(trialCondition[0]) + u\", \" + str(trialCondition[1]) +\n",
    "                      u\".\")\n",
    "                raise\n",
    "            if trial.choice == -1:\n",
    "                dataRTLeft[trialCondition].append(trial.RT)\n",
    "            elif trial.choice == 1:\n",
    "                dataRTRight[trialCondition].append(trial.RT)\n",
    "            t += 1\n",
    "\n",
    "    # Generate histograms for artificial data.\n",
    "    dataHistLeft = dict()\n",
    "    dataHistRight = dict()\n",
    "    for trialCondition in trialConditions:\n",
    "        dataHistLeft[trialCondition] = np.histogram(\n",
    "            dataRTLeft[trialCondition], bins=histBins)[0]\n",
    "        dataHistRight[trialCondition] = np.histogram(\n",
    "            dataRTRight[trialCondition], bins=histBins)[0]\n",
    "\n",
    "    # Grid search on the parameters of the model.\n",
    "    if verbose:\n",
    "        print(u\"Performing grid search over the model parameters...\")\n",
    "    listParams = list()\n",
    "    models = list()\n",
    "    for d in rangeD:\n",
    "        for sigma in rangeSigma:\n",
    "            model = DDM(d, sigma)\n",
    "            models.append(model)\n",
    "            listParams.append((model, trialConditions, numSimulations,\n",
    "                              histBins, dataHistLeft, dataHistRight))\n",
    "    logLikelihoods = pool.map(wrap_ddm_get_model_log_likelihood, listParams)\n",
    "    pool.close()\n",
    "\n",
    "    if verbose:\n",
    "        for i, model in enumerate(models):\n",
    "            print(u\"L\" + str(model.params) + u\" = \" + str(logLikelihoods[i]))\n",
    "        bestIndex = logLikelihoods.index(max(logLikelihoods))\n",
    "        print(u\"Best fit: \" + str(models[bestIndex].params))\n",
    "\n",
    "    return dataRTLeft, dataRTRight, dataHistLeft, dataHistRight, models, logLikelihoods"
   ]
  },
  {
   "cell_type": "code",
   "execution_count": 7,
   "id": "c31f1d2d-ae03-4984-a8ea-fe7b68d40e07",
   "metadata": {},
   "outputs": [],
   "source": [
    "from __future__ import absolute_import\n",
    "\n",
    "import numpy as np\n",
    "import pkg_resources\n",
    "\n",
    "from builtins import range, str\n",
    "from multiprocessing import Pool\n",
    "\n",
    "from addm_toolbox.ddm_mla import DDM\n",
    "from addm_toolbox.util import load_trial_conditions_from_csv"
   ]
  },
  {
   "cell_type": "code",
   "execution_count": 8,
   "id": "a3548be9-0e6f-400a-820c-3805b7cd5a02",
   "metadata": {},
   "outputs": [],
   "source": [
    "dataRTLeft, dataRTRight, dataHistLeft, dataHistRight, models, logLikelihoods = main(d, sigma, rangeD, rangeSigma, trialsFileName=None, numTrials=10, \n",
    "                                                                                    numSimulations=10, binStep=100, maxRT=8000, numThreads=9, verbose=False)"
   ]
  },
  {
   "cell_type": "code",
   "execution_count": 21,
   "id": "45d0ee73-fec4-4ad2-b062-4ab21d83bd4e",
   "metadata": {},
   "outputs": [
    {
     "data": {
      "text/html": [
       "<div>\n",
       "<style scoped>\n",
       "    .dataframe tbody tr th:only-of-type {\n",
       "        vertical-align: middle;\n",
       "    }\n",
       "\n",
       "    .dataframe tbody tr th {\n",
       "        vertical-align: top;\n",
       "    }\n",
       "\n",
       "    .dataframe thead th {\n",
       "        text-align: right;\n",
       "    }\n",
       "</style>\n",
       "<table border=\"1\" class=\"dataframe\">\n",
       "  <thead>\n",
       "    <tr style=\"text-align: right;\">\n",
       "      <th></th>\n",
       "      <th>d</th>\n",
       "      <th>sigma</th>\n",
       "      <th>logLikelihood</th>\n",
       "    </tr>\n",
       "  </thead>\n",
       "  <tbody>\n",
       "    <tr>\n",
       "      <th>0</th>\n",
       "      <td>0.005</td>\n",
       "      <td>0.065</td>\n",
       "      <td>-50.523112</td>\n",
       "    </tr>\n",
       "    <tr>\n",
       "      <th>1</th>\n",
       "      <td>0.005</td>\n",
       "      <td>0.080</td>\n",
       "      <td>-61.067362</td>\n",
       "    </tr>\n",
       "    <tr>\n",
       "      <th>2</th>\n",
       "      <td>0.005</td>\n",
       "      <td>0.095</td>\n",
       "      <td>-59.944361</td>\n",
       "    </tr>\n",
       "    <tr>\n",
       "      <th>3</th>\n",
       "      <td>0.006</td>\n",
       "      <td>0.065</td>\n",
       "      <td>-64.785138</td>\n",
       "    </tr>\n",
       "    <tr>\n",
       "      <th>4</th>\n",
       "      <td>0.006</td>\n",
       "      <td>0.080</td>\n",
       "      <td>-62.782429</td>\n",
       "    </tr>\n",
       "    <tr>\n",
       "      <th>5</th>\n",
       "      <td>0.006</td>\n",
       "      <td>0.095</td>\n",
       "      <td>-48.391971</td>\n",
       "    </tr>\n",
       "    <tr>\n",
       "      <th>6</th>\n",
       "      <td>0.007</td>\n",
       "      <td>0.065</td>\n",
       "      <td>-65.381122</td>\n",
       "    </tr>\n",
       "    <tr>\n",
       "      <th>7</th>\n",
       "      <td>0.007</td>\n",
       "      <td>0.080</td>\n",
       "      <td>-59.923971</td>\n",
       "    </tr>\n",
       "    <tr>\n",
       "      <th>8</th>\n",
       "      <td>0.007</td>\n",
       "      <td>0.095</td>\n",
       "      <td>-46.333572</td>\n",
       "    </tr>\n",
       "  </tbody>\n",
       "</table>\n",
       "</div>"
      ],
      "text/plain": [
       "       d  sigma  logLikelihood\n",
       "0  0.005  0.065     -50.523112\n",
       "1  0.005  0.080     -61.067362\n",
       "2  0.005  0.095     -59.944361\n",
       "3  0.006  0.065     -64.785138\n",
       "4  0.006  0.080     -62.782429\n",
       "5  0.006  0.095     -48.391971\n",
       "6  0.007  0.065     -65.381122\n",
       "7  0.007  0.080     -59.923971\n",
       "8  0.007  0.095     -46.333572"
      ]
     },
     "execution_count": 21,
     "metadata": {},
     "output_type": "execute_result"
    }
   ],
   "source": [
    "df = pd.DataFrame(list(product(rangeD, rangeSigma)), columns=['d', 'sigma'])\n",
    "df['logLikelihood'] = logLikelihoods\n",
    "df"
   ]
  },
  {
   "cell_type": "code",
   "execution_count": 22,
   "id": "b8ed2429-0924-4405-bd2e-fe08c8d47cbe",
   "metadata": {},
   "outputs": [
    {
     "data": {
      "text/plain": [
       "<AxesSubplot:xlabel='sigma', ylabel='d'>"
      ]
     },
     "execution_count": 22,
     "metadata": {},
     "output_type": "execute_result"
    },
    {
     "data": {
      "image/png": "[encoded data removed]",
      "text/plain": [
       "<Figure size 432x288 with 2 Axes>"
      ]
     },
     "metadata": {
      "needs_background": "light"
     },
     "output_type": "display_data"
    }
   ],
   "source": [
    "df = df.pivot(index = 'd', columns = 'sigma', values = 'logLikelihood')\n",
    "sns.heatmap(df)"
   ]
  },
  {
   "cell_type": "code",
   "execution_count": 14,
   "id": "84733d30-0017-4574-85fd-f629918ef86b",
   "metadata": {},
   "outputs": [
    {
     "data": {
      "text/plain": [
       "{(0.0, 0.0): [740, 340, 1500, 410],\n",
       " (0.0, 1.0): [],\n",
       " (0.0, 2.0): [],\n",
       " (0.0, 3.0): [],\n",
       " (1.0, 1.0): [610, 1340, 730, 2300],\n",
       " (1.0, 2.0): [880, 920],\n",
       " (1.0, 3.0): [],\n",
       " (2.0, 2.0): [200, 1320, 810, 1010, 1070, 3330],\n",
       " (2.0, 3.0): [560],\n",
       " (3.0, 3.0): [1050, 2420, 1720, 1150, 810, 2320]}"
      ]
     },
     "execution_count": 14,
     "metadata": {},
     "output_type": "execute_result"
    }
   ],
   "source": [
    "dataRTLeft"
   ]
  },
  {
   "cell_type": "code",
   "execution_count": 16,
   "id": "2e21c5bb-7c56-4b3b-9bf0-84681cf6c474",
   "metadata": {},
   "outputs": [
    {
     "data": {
      "text/plain": [
       "{(0.0,\n",
       "  0.0): array([0, 0, 0, 1, 1, 0, 0, 1, 0, 0, 0, 0, 0, 0, 0, 1, 0, 0, 0, 0, 0, 0,\n",
       "        0, 0, 0, 0, 0, 0, 0, 0, 0, 0, 0, 0, 0, 0, 0, 0, 0, 0, 0, 0, 0, 0,\n",
       "        0, 0, 0, 0, 0, 0, 0, 0, 0, 0, 0, 0, 0, 0, 0, 0, 0, 0, 0, 0, 0, 0,\n",
       "        0, 0, 0, 0, 0, 0, 0, 0, 0, 0, 0, 0, 0, 0]),\n",
       " (0.0,\n",
       "  1.0): array([0, 0, 0, 0, 0, 0, 0, 0, 0, 0, 0, 0, 0, 0, 0, 0, 0, 0, 0, 0, 0, 0,\n",
       "        0, 0, 0, 0, 0, 0, 0, 0, 0, 0, 0, 0, 0, 0, 0, 0, 0, 0, 0, 0, 0, 0,\n",
       "        0, 0, 0, 0, 0, 0, 0, 0, 0, 0, 0, 0, 0, 0, 0, 0, 0, 0, 0, 0, 0, 0,\n",
       "        0, 0, 0, 0, 0, 0, 0, 0, 0, 0, 0, 0, 0, 0]),\n",
       " (0.0,\n",
       "  2.0): array([0, 0, 0, 0, 0, 0, 0, 0, 0, 0, 0, 0, 0, 0, 0, 0, 0, 0, 0, 0, 0, 0,\n",
       "        0, 0, 0, 0, 0, 0, 0, 0, 0, 0, 0, 0, 0, 0, 0, 0, 0, 0, 0, 0, 0, 0,\n",
       "        0, 0, 0, 0, 0, 0, 0, 0, 0, 0, 0, 0, 0, 0, 0, 0, 0, 0, 0, 0, 0, 0,\n",
       "        0, 0, 0, 0, 0, 0, 0, 0, 0, 0, 0, 0, 0, 0]),\n",
       " (0.0,\n",
       "  3.0): array([0, 0, 0, 0, 0, 0, 0, 0, 0, 0, 0, 0, 0, 0, 0, 0, 0, 0, 0, 0, 0, 0,\n",
       "        0, 0, 0, 0, 0, 0, 0, 0, 0, 0, 0, 0, 0, 0, 0, 0, 0, 0, 0, 0, 0, 0,\n",
       "        0, 0, 0, 0, 0, 0, 0, 0, 0, 0, 0, 0, 0, 0, 0, 0, 0, 0, 0, 0, 0, 0,\n",
       "        0, 0, 0, 0, 0, 0, 0, 0, 0, 0, 0, 0, 0, 0]),\n",
       " (1.0,\n",
       "  1.0): array([0, 0, 0, 0, 0, 0, 1, 1, 0, 0, 0, 0, 0, 1, 0, 0, 0, 0, 0, 0, 0, 0,\n",
       "        0, 1, 0, 0, 0, 0, 0, 0, 0, 0, 0, 0, 0, 0, 0, 0, 0, 0, 0, 0, 0, 0,\n",
       "        0, 0, 0, 0, 0, 0, 0, 0, 0, 0, 0, 0, 0, 0, 0, 0, 0, 0, 0, 0, 0, 0,\n",
       "        0, 0, 0, 0, 0, 0, 0, 0, 0, 0, 0, 0, 0, 0]),\n",
       " (1.0,\n",
       "  2.0): array([0, 0, 0, 0, 0, 0, 0, 0, 1, 1, 0, 0, 0, 0, 0, 0, 0, 0, 0, 0, 0, 0,\n",
       "        0, 0, 0, 0, 0, 0, 0, 0, 0, 0, 0, 0, 0, 0, 0, 0, 0, 0, 0, 0, 0, 0,\n",
       "        0, 0, 0, 0, 0, 0, 0, 0, 0, 0, 0, 0, 0, 0, 0, 0, 0, 0, 0, 0, 0, 0,\n",
       "        0, 0, 0, 0, 0, 0, 0, 0, 0, 0, 0, 0, 0, 0]),\n",
       " (1.0,\n",
       "  3.0): array([0, 0, 0, 0, 0, 0, 0, 0, 0, 0, 0, 0, 0, 0, 0, 0, 0, 0, 0, 0, 0, 0,\n",
       "        0, 0, 0, 0, 0, 0, 0, 0, 0, 0, 0, 0, 0, 0, 0, 0, 0, 0, 0, 0, 0, 0,\n",
       "        0, 0, 0, 0, 0, 0, 0, 0, 0, 0, 0, 0, 0, 0, 0, 0, 0, 0, 0, 0, 0, 0,\n",
       "        0, 0, 0, 0, 0, 0, 0, 0, 0, 0, 0, 0, 0, 0]),\n",
       " (2.0,\n",
       "  2.0): array([0, 0, 1, 0, 0, 0, 0, 0, 1, 0, 2, 0, 0, 1, 0, 0, 0, 0, 0, 0, 0, 0,\n",
       "        0, 0, 0, 0, 0, 0, 0, 0, 0, 0, 0, 1, 0, 0, 0, 0, 0, 0, 0, 0, 0, 0,\n",
       "        0, 0, 0, 0, 0, 0, 0, 0, 0, 0, 0, 0, 0, 0, 0, 0, 0, 0, 0, 0, 0, 0,\n",
       "        0, 0, 0, 0, 0, 0, 0, 0, 0, 0, 0, 0, 0, 0]),\n",
       " (2.0,\n",
       "  3.0): array([0, 0, 0, 0, 0, 1, 0, 0, 0, 0, 0, 0, 0, 0, 0, 0, 0, 0, 0, 0, 0, 0,\n",
       "        0, 0, 0, 0, 0, 0, 0, 0, 0, 0, 0, 0, 0, 0, 0, 0, 0, 0, 0, 0, 0, 0,\n",
       "        0, 0, 0, 0, 0, 0, 0, 0, 0, 0, 0, 0, 0, 0, 0, 0, 0, 0, 0, 0, 0, 0,\n",
       "        0, 0, 0, 0, 0, 0, 0, 0, 0, 0, 0, 0, 0, 0]),\n",
       " (3.0,\n",
       "  3.0): array([0, 0, 0, 0, 0, 0, 0, 0, 1, 0, 1, 1, 0, 0, 0, 0, 0, 1, 0, 0, 0, 0,\n",
       "        0, 1, 1, 0, 0, 0, 0, 0, 0, 0, 0, 0, 0, 0, 0, 0, 0, 0, 0, 0, 0, 0,\n",
       "        0, 0, 0, 0, 0, 0, 0, 0, 0, 0, 0, 0, 0, 0, 0, 0, 0, 0, 0, 0, 0, 0,\n",
       "        0, 0, 0, 0, 0, 0, 0, 0, 0, 0, 0, 0, 0, 0])}"
      ]
     },
     "execution_count": 16,
     "metadata": {},
     "output_type": "execute_result"
    }
   ],
   "source": [
    "dataHistLeft"
   ]
  },
  {
   "cell_type": "code",
   "execution_count": null,
   "id": "b8eafe03-949e-461f-aca9-94165a2ab571",
   "metadata": {},
   "outputs": [],
   "source": []
  }
 ],
 "metadata": {
  "kernelspec": {
   "display_name": "Python 3 (ipykernel)",
   "language": "python",
   "name": "python3"
  },
  "language_info": {
   "codemirror_mode": {
    "name": "ipython",
    "version": 3
   },
   "file_extension": ".py",
   "mimetype": "text/x-python",
   "name": "python",
   "nbconvert_exporter": "python",
   "pygments_lexer": "ipython3",
   "version": "3.8.3"
  }
 },
 "nbformat": 4,
 "nbformat_minor": 5
}
