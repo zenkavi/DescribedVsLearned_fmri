{
 "cells": [
  {
   "cell_type": "code",
   "execution_count": 1,
   "id": "ab8591ef-3ffc-406f-a700-59be670edd1e",
   "metadata": {},
   "outputs": [
    {
     "name": "stderr",
     "output_type": "stream",
     "text": [
      "/Users/zeynepenkavi/.pyenv/versions/3.8.3/envs/py-dvl-fmri/lib/python3.8/site-packages/nilearn/glm/__init__.py:55: FutureWarning: The nilearn.glm module is experimental. It may change in any future release of Nilearn.\n",
      "  warn('The nilearn.glm module is experimental. '\n",
      "/Users/zeynepenkavi/.pyenv/versions/3.8.3/envs/py-dvl-fmri/lib/python3.8/site-packages/nilearn/datasets/__init__.py:86: FutureWarning: Fetchers from the nilearn.datasets module will be updated in version 0.9 to return python strings instead of bytes and Pandas dataframes instead of Numpy arrays.\n",
      "  warn(\"Fetchers from the nilearn.datasets module will be \"\n"
     ]
    }
   ],
   "source": [
    "import glob\n",
    "import json\n",
    "import matplotlib.pyplot as plt\n",
    "%matplotlib inline\n",
    "import numpy as np\n",
    "import nibabel as nib\n",
    "from nilearn.glm.first_level import FirstLevelModel\n",
    "from nilearn.glm.first_level import make_first_level_design_matrix\n",
    "from nilearn.plotting import plot_design_matrix, plot_stat_map\n",
    "import os\n",
    "import pandas as pd\n",
    "import pickle\n",
    "import re\n",
    "import copy\n",
    "\n",
    "import sys\n",
    "sys.path.append('/Users/zeynepenkavi/Documents/RangelLab/DescribedVsLearned_fmri/analysis/01_level1')\n",
    "from level1_utils import run_level1, make_level1_design_matrix, get_events"
   ]
  },
  {
   "cell_type": "code",
   "execution_count": 2,
   "id": "d19ea9d7-627d-4ce0-bb49-c494c106fd8e",
   "metadata": {},
   "outputs": [],
   "source": [
    "data_path = '/Users/zeynepenkavi/Downloads/GTavares_2017_arbitration/bids_nifti_wface/'\n",
    "behavior_path = '/Users/zeynepenkavi/Downloads/GTavares_2017_arbitration/behavioral_data/all_trials.csv'\n",
    "\n",
    "subnum = '01'\n",
    "runnum='3'\n",
    "\n",
    "to_filter = ['trans', 'rot', 'drift', 'framewise', 'scrub', 'constant', 'dvars']"
   ]
  },
  {
   "cell_type": "code",
   "execution_count": 3,
   "id": "5a7b8f11-643e-49ee-b948-c0d526f1f612",
   "metadata": {},
   "outputs": [],
   "source": [
    "# Read in fmri events\n",
    "fn = os.path.join(data_path, 'sub-%s/func/sub-%s_task-bundles_run-%s_events.tsv' %(subnum, subnum, runnum))\n",
    "events = pd.read_csv(fn, sep='\\t')\n",
    "\n",
    "# Read in behavioral data with modeled value and RPE estimates\n",
    "behavior = pd.read_csv(behavior_path)\n",
    "\n",
    "# Extract the correct subnum and runnum from behavioral data\n",
    "run_behavior = behavior.query('subnum == %d & session == %d'%(int(subnum), int(runnum)))\n",
    "\n",
    "# Demean columns that might be used for parametric regressors\n",
    "# demean_cols = ['probFractalDraw', 'leftBundleVal', 'rightBundleVal', 'leftLotteryEV', 'rightLotteryEV', 'leftQValue', 'rightQValue', 'reward', 'ppe', 'leftQVAdv', 'leftEVAdv', 'leftbundleValAdv', 'leftFractalRpe', 'rightFractalRpe', 'valChosen', 'valUnchosen', 'valChosenLottery', 'valUnchosenLottery', 'valChosenFractal', 'valUnchosenFractal', 'leftFractalReward', 'rightFractalReward']\n",
    "# demean_df = run_behavior[demean_cols]\n",
    "# demean_df = demean_df - demean_df.mean()"
   ]
  },
  {
   "cell_type": "code",
   "execution_count": null,
   "id": "26d46402-168e-4f00-87a8-65c324c3fd0c",
   "metadata": {},
   "outputs": [],
   "source": [
    "design_matrix= make_level1_design_matrix(subnum, runnum, 'model1', data_path, behavior_path, regress_rt = 0)\n",
    "# plot_design_matrix(design_matrix)\n",
    "beh_regs = design_matrix.columns\n",
    "beh_regs = [x for x in beh_regs if all(y not in x for y in to_filter)]\n",
    "design_matrix[beh_regs].corr()"
   ]
  },
  {
   "cell_type": "code",
   "execution_count": null,
   "id": "e602e0bd-7512-4393-9076-133d01e1f91b",
   "metadata": {},
   "outputs": [],
   "source": [
    "design_matrix= make_level1_design_matrix(subnum, runnum, 'model1a', data_path, behavior_path, regress_rt = 0)\n",
    "beh_regs = design_matrix.columns\n",
    "beh_regs = [x for x in beh_regs if all(y not in x for y in to_filter)]\n",
    "design_matrix[beh_regs].corr()"
   ]
  },
  {
   "cell_type": "code",
   "execution_count": null,
   "id": "8744210b-f086-4ed2-bb36-4d55ce9a1f67",
   "metadata": {},
   "outputs": [],
   "source": [
    "design_matrix = make_level1_design_matrix(subnum, runnum, 'model2', data_path, behavior_path, regress_rt = 0)\n",
    "beh_regs = design_matrix.columns\n",
    "beh_regs = [x for x in beh_regs if all(y not in x for y in to_filter)]\n",
    "design_matrix[beh_regs].corr()"
   ]
  },
  {
   "cell_type": "code",
   "execution_count": null,
   "id": "108ba0e5-4fd7-42c4-9771-ae94e37ed88a",
   "metadata": {},
   "outputs": [],
   "source": [
    "design_matrix= make_level1_design_matrix(subnum, runnum, 'model3', data_path, behavior_path, regress_rt = 0)\n",
    "beh_regs = design_matrix.columns\n",
    "beh_regs = [x for x in beh_regs if all(y not in x for y in to_filter)]\n",
    "design_matrix[beh_regs].corr()"
   ]
  },
  {
   "cell_type": "code",
   "execution_count": 8,
   "id": "6cd2f9d4-6924-4b4c-8f8d-8c753e13d3d0",
   "metadata": {},
   "outputs": [
    {
     "data": {
      "text/plain": [
       "array([1. , 0.7, 0.9, 0.7, 1. , 1. , 2.5, 1. , 1. , 1. , 1. , 1. , 2.5,\n",
       "       1. , 1. , 1. , 1. , 1. , 1. , 1. , 1. , 2. , 1. , 0.9, 1. , 1. ])"
      ]
     },
     "execution_count": 8,
     "metadata": {},
     "output_type": "execute_result"
    }
   ],
   "source": [
    "rewardEvents = events.query('trial_type == \"reward\"').reset_index(drop=True)\n",
    "rewardedTrials = run_behavior.reset_index(drop=True).query(\"reward > 0\").index\n",
    "rewardedEvents = rewardEvents.iloc[rewardedTrials,:]\n",
    "cond_rewarded_par = rewardedEvents[['onset', 'duration']].reset_index(drop=True)\n",
    "cond_rewarded_par['trial_type'] = 'rewarded_par'\n",
    "rewards = np.array(run_behavior.query(\"reward > 0\")['reward'])\n",
    "cond_rewarded_par['modulation'] = rewards - rewards.mean()\n"
   ]
  },
  {
   "cell_type": "code",
   "execution_count": 9,
   "id": "8b3e0184-c244-4521-bd70-7697b871f0ed",
   "metadata": {},
   "outputs": [
    {
     "data": {
      "text/plain": [
       "array([1. , 0.7, 0.9, 0.7, 1. , 1. , 2.5, 1. , 1. , 1. , 1. , 1. , 2.5,\n",
       "       1. , 1. , 1. , 1. , 1. , 1. , 1. , 1. , 2. , 1. , 0.9, 1. , 1. ])"
      ]
     },
     "execution_count": 9,
     "metadata": {},
     "output_type": "execute_result"
    }
   ],
   "source": [
    "rewards"
   ]
  },
  {
   "cell_type": "code",
   "execution_count": 10,
   "id": "d3716418-4ce6-4e84-ac9a-b2086aaed23a",
   "metadata": {},
   "outputs": [
    {
     "data": {
      "text/plain": [
       "array([-0.12307692, -0.42307692, -0.22307692, -0.42307692, -0.12307692,\n",
       "       -0.12307692,  1.37692308, -0.12307692, -0.12307692, -0.12307692,\n",
       "       -0.12307692, -0.12307692,  1.37692308, -0.12307692, -0.12307692,\n",
       "       -0.12307692, -0.12307692, -0.12307692, -0.12307692, -0.12307692,\n",
       "       -0.12307692,  0.87692308, -0.12307692, -0.22307692, -0.12307692,\n",
       "       -0.12307692])"
      ]
     },
     "execution_count": 10,
     "metadata": {},
     "output_type": "execute_result"
    }
   ],
   "source": [
    "rewards - rewards.mean()"
   ]
  },
  {
   "cell_type": "code",
   "execution_count": null,
   "id": "06f9b17e-45db-40cf-8ce4-56a501549133",
   "metadata": {},
   "outputs": [],
   "source": [
    "mnum = 'model1'\n",
    "reg_rt = 1\n",
    "out_path = os.path.join(data_path, \"derivatives/nilearn/glm/level1/%s_reg-rt%s\")%(mnum, str(reg_rt)\n",
    "\n",
    "# run_level1(subnum, mnum, data_path, behavior_path, out_path, regress_rt = reg_rt)"
   ]
  },
  {
   "cell_type": "code",
   "execution_count": null,
   "id": "e318e474-7fb3-467a-b132-5c6d8c364f54",
   "metadata": {},
   "outputs": [],
   "source": [
    "mnum = 'model2'\n",
    "reg_rt = 0\n",
    "out_path = os.path.join(data_path, \"derivatives/nilearn/glm/level1/%s_reg-rt%s\")%(mnum, str(reg_rt))\n",
    "                                                                                \n",
    "# run_level1(subnum, 'model2', data_path, behavior_path, out_path, regress_rt = 0)"
   ]
  },
  {
   "cell_type": "code",
   "execution_count": null,
   "id": "121f2c7a-15ec-4f04-9e28-438a23bb5b8d",
   "metadata": {},
   "outputs": [],
   "source": []
  }
 ],
 "metadata": {
  "kernelspec": {
   "display_name": "Python 3 (ipykernel)",
   "language": "python",
   "name": "python3"
  },
  "language_info": {
   "codemirror_mode": {
    "name": "ipython",
    "version": 3
   },
   "file_extension": ".py",
   "mimetype": "text/x-python",
   "name": "python",
   "nbconvert_exporter": "python",
   "pygments_lexer": "ipython3",
   "version": "3.8.3"
  }
 },
 "nbformat": 4,
 "nbformat_minor": 5
}
