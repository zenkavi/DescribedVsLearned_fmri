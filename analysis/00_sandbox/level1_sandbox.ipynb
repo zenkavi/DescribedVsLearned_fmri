{
 "cells": [
  {
   "cell_type": "code",
   "execution_count": null,
   "id": "ab8591ef-3ffc-406f-a700-59be670edd1e",
   "metadata": {},
   "outputs": [],
   "source": [
    "import glob\n",
    "import json\n",
    "import matplotlib.pyplot as plt\n",
    "%matplotlib inline\n",
    "import numpy as np\n",
    "import nibabel as nib\n",
    "from nilearn.glm.first_level import FirstLevelModel\n",
    "from nilearn.glm.first_level import make_first_level_design_matrix\n",
    "from nilearn.plotting import plot_design_matrix, plot_stat_map\n",
    "import os\n",
    "import pandas as pd\n",
    "import pickle\n",
    "import re\n",
    "import copy\n",
    "\n",
    "import sys\n",
    "sys.path.append('/Users/zeynepenkavi/Documents/RangelLab/DescribedVsLearned_fmri/analysis/01_level1')\n",
    "from level1_utils import run_level1, make_level1_design_matrix, get_events"
   ]
  },
  {
   "cell_type": "code",
   "execution_count": null,
   "id": "d19ea9d7-627d-4ce0-bb49-c494c106fd8e",
   "metadata": {},
   "outputs": [],
   "source": [
    "data_path = '/Users/zeynepenkavi/Downloads/GTavares_2017_arbitration/bids_nifti_wface/'\n",
    "behavior_path = '/Users/zeynepenkavi/Downloads/GTavares_2017_arbitration/behavioral_data/all_trials.csv'\n",
    "\n",
    "subnum = '01'\n",
    "runnum='3'\n",
    "\n",
    "to_filter = ['trans', 'rot', 'drift', 'framewise', 'scrub', 'constant', 'dvars']"
   ]
  },
  {
   "cell_type": "code",
   "execution_count": null,
   "id": "5a7b8f11-643e-49ee-b948-c0d526f1f612",
   "metadata": {},
   "outputs": [],
   "source": [
    "# Read in fmri events\n",
    "fn = os.path.join(data_path, 'sub-%s/func/sub-%s_task-bundles_run-%s_events.tsv' %(subnum, subnum, runnum))\n",
    "events = pd.read_csv(fn, sep='\\t')\n",
    "\n",
    "# Read in behavioral data with modeled value and RPE estimates\n",
    "behavior = pd.read_csv(behavior_path)\n",
    "\n",
    "# Extract the correct subnum and runnum from behavioral data\n",
    "run_behavior = behavior.query('subnum == %d & session == %d'%(int(subnum), int(runnum)))\n",
    "\n",
    "# Demean columns that might be used for parametric regressors\n",
    "demean_cols = ['probFractalDraw', 'reward', 'leftFractalRpe', 'rightFractalRpe', 'rpeLeftRightSum','valChosen', 'valUnchosen', 'valChosenLottery', 'valUnchosenLottery', 'valChosenFractal', 'valUnchosenFractal', 'valBundleSum', 'valChosenMinusUnchosen']\n",
    "demean_df = run_behavior[demean_cols]\n",
    "demean_df = demean_df - demean_df.mean()"
   ]
  },
  {
   "cell_type": "code",
   "execution_count": null,
   "id": "26d46402-168e-4f00-87a8-65c324c3fd0c",
   "metadata": {},
   "outputs": [],
   "source": [
    "design_matrix= make_level1_design_matrix(subnum, runnum, 'model1', data_path, behavior_path, regress_rt = 0)\n",
    "# plot_design_matrix(design_matrix)\n",
    "beh_regs = design_matrix.columns\n",
    "beh_regs = [x for x in beh_regs if all(y not in x for y in to_filter)]\n",
    "design_matrix[beh_regs].corr()"
   ]
  },
  {
   "cell_type": "code",
   "execution_count": null,
   "id": "e602e0bd-7512-4393-9076-133d01e1f91b",
   "metadata": {},
   "outputs": [],
   "source": [
    "design_matrix= make_level1_design_matrix(subnum, runnum, 'model1a', data_path, behavior_path, regress_rt = 0)\n",
    "beh_regs = design_matrix.columns\n",
    "beh_regs = [x for x in beh_regs if all(y not in x for y in to_filter)]\n",
    "design_matrix[beh_regs].corr()"
   ]
  },
  {
   "cell_type": "code",
   "execution_count": null,
   "id": "8744210b-f086-4ed2-bb36-4d55ce9a1f67",
   "metadata": {},
   "outputs": [],
   "source": [
    "design_matrix = make_level1_design_matrix(subnum, runnum, 'model2', data_path, behavior_path, regress_rt = 0)\n",
    "beh_regs = design_matrix.columns\n",
    "beh_regs = [x for x in beh_regs if all(y not in x for y in to_filter)]\n",
    "design_matrix[beh_regs].corr()"
   ]
  },
  {
   "cell_type": "code",
   "execution_count": null,
   "id": "108ba0e5-4fd7-42c4-9771-ae94e37ed88a",
   "metadata": {},
   "outputs": [],
   "source": [
    "design_matrix= make_level1_design_matrix(subnum, runnum, 'model3', data_path, behavior_path, regress_rt = 0)\n",
    "beh_regs = design_matrix.columns\n",
    "beh_regs = [x for x in beh_regs if all(y not in x for y in to_filter)]\n",
    "design_matrix[beh_regs].corr()"
   ]
  },
  {
   "cell_type": "markdown",
   "id": "2c287e04-faaa-4f8d-95d8-9a5056221089",
   "metadata": {},
   "source": [
    "Why is reward_par taking up so much variance?\n",
    "\n",
    "Level2's for all subjects looks a lot more reasonable. There might be an error in level3 computation."
   ]
  },
  {
   "cell_type": "code",
   "execution_count": null,
   "id": "a148d008-1aa0-47aa-8f55-8abce1b857d0",
   "metadata": {},
   "outputs": [],
   "source": [
    "l2_path = '/Users/zeynepenkavi/Downloads/GTavares_2017_arbitration/bids_nifti_wface/derivatives/nilearn/glm/level2/model3_reg-rt0'\n",
    "imgs = glob.glob(os.path.join(l2_path, '*/*/*reward_par*'))\n",
    "\n",
    "# for img in imgs:\n",
    "#     plot_stat_map(img, threshold=3)"
   ]
  },
  {
   "cell_type": "code",
   "execution_count": null,
   "id": "50a64110-cd8e-4de1-85da-b0f02afa355b",
   "metadata": {},
   "outputs": [],
   "source": []
  },
  {
   "cell_type": "code",
   "execution_count": null,
   "id": "57ab203f-1759-482d-a086-bf68f75df1f0",
   "metadata": {},
   "outputs": [],
   "source": []
  }
 ],
 "metadata": {
  "kernelspec": {
   "display_name": "Python 3 (ipykernel)",
   "language": "python",
   "name": "python3"
  },
  "language_info": {
   "codemirror_mode": {
    "name": "ipython",
    "version": 3
   },
   "file_extension": ".py",
   "mimetype": "text/x-python",
   "name": "python",
   "nbconvert_exporter": "python",
   "pygments_lexer": "ipython3",
   "version": "3.8.3"
  }
 },
 "nbformat": 4,
 "nbformat_minor": 5
}
