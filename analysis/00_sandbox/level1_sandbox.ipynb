{
 "cells": [
  {
   "cell_type": "code",
   "execution_count": 1,
   "id": "ab8591ef-3ffc-406f-a700-59be670edd1e",
   "metadata": {},
   "outputs": [
    {
     "name": "stderr",
     "output_type": "stream",
     "text": [
      "/Users/zeynepenkavi/.pyenv/versions/3.8.3/envs/py-dvl-fmri/lib/python3.8/site-packages/nilearn/glm/__init__.py:55: FutureWarning: The nilearn.glm module is experimental. It may change in any future release of Nilearn.\n",
      "  warn('The nilearn.glm module is experimental. '\n",
      "/Users/zeynepenkavi/.pyenv/versions/3.8.3/envs/py-dvl-fmri/lib/python3.8/site-packages/nilearn/datasets/__init__.py:86: FutureWarning: Fetchers from the nilearn.datasets module will be updated in version 0.9 to return python strings instead of bytes and Pandas dataframes instead of Numpy arrays.\n",
      "  warn(\"Fetchers from the nilearn.datasets module will be \"\n"
     ]
    }
   ],
   "source": [
    "import glob\n",
    "import json\n",
    "import matplotlib.pyplot as plt\n",
    "%matplotlib inline\n",
    "import numpy as np\n",
    "import nibabel as nib\n",
    "from nilearn.glm.first_level import FirstLevelModel\n",
    "from nilearn.glm.first_level import make_first_level_design_matrix\n",
    "from nilearn.plotting import plot_design_matrix, plot_stat_map\n",
    "import os\n",
    "import pandas as pd\n",
    "import pickle\n",
    "import re\n",
    "\n",
    "import sys\n",
    "sys.path.append('/Users/zeynepenkavi/Documents/RangelLab/DescribedVsLearned_fmri/analysis/01_level1')\n",
    "from level1_utils import run_level1, make_level1_design_matrix, get_events"
   ]
  },
  {
   "cell_type": "code",
   "execution_count": 2,
   "id": "d19ea9d7-627d-4ce0-bb49-c494c106fd8e",
   "metadata": {},
   "outputs": [],
   "source": [
    "data_path = '/Users/zeynepenkavi/Downloads/GTavares_2017_arbitration/bids_nifti_wface/'\n",
    "behavior_path = '/Users/zeynepenkavi/Downloads/GTavares_2017_arbitration/behavioral_data/all_trials.csv'\n",
    "\n",
    "subnum = '01'\n",
    "runnum='4'\n",
    "\n",
    "to_filter = ['trans', 'rot', 'drift', 'framewise', 'scrub', 'constant', 'dvars']"
   ]
  },
  {
   "cell_type": "code",
   "execution_count": 3,
   "id": "2ed4c3b7-4134-40b9-a5ee-35a5b18a419c",
   "metadata": {},
   "outputs": [],
   "source": [
    "fn = os.path.join(data_path, 'sub-%s/func/sub-%s_task-bundles_run-%s_events.tsv' %(subnum, subnum, runnum))\n",
    "events = pd.read_csv(fn, sep='\\t')\n",
    "\n",
    "# Read in behavioral data with modeled value and RPE estimates\n",
    "behavior = pd.read_csv(behavior_path)\n",
    "\n",
    "# Extract the correct subnum and runnum from behavioral data\n",
    "run_behavior = behavior.query('subnum == %d & session == %d'%(int(subnum), int(runnum)))\n",
    "\n",
    "# Demean columns that might be used for parametric regressors\n",
    "demean_cols = ['probFractalDraw', 'leftBundleVal', 'rightBundleVal', 'leftLotteryEV', 'rightLotteryEV', 'leftQValue', 'rightQValue', 'reward', 'rpe', 'leftQVAdv', 'leftEVAdv', 'leftbundleValAdv', 'leftFractalRpe', 'rightFractalRpe']\n",
    "for cur_col in demean_cols:\n",
    "    run_behavior.loc[:,cur_col].sub(run_behavior[cur_col].mean())"
   ]
  },
  {
   "cell_type": "code",
   "execution_count": null,
   "id": "53875c51-2c8a-4c90-94ec-2a841368f0e1",
   "metadata": {},
   "outputs": [],
   "source": [
    "if regress_rt:\n",
    "    cond_valDiffFractalWeighted_par = events.query('trial_type == \"stimulus\"')[['onset']].reset_index(drop=True)\n",
    "    cond_valDiffFractalWeighted_par['duration'] = mean_rt\n",
    "else:\n",
    "    cond_valDiffFractalWeighted_par = events.query('trial_type == \"stimulus\"')[['onset', 'duration']].reset_index(drop=True)\n",
    "cond_valDiffFractalWeighted_par['trial_type'] = 'valDiffFractalWeighted_par'\n",
    "cond_valDiffFractalWeighted_par['modulation'] = np.array(run_behavior['leftQVAdv']*run_behavior['wpFrac'])"
   ]
  },
  {
   "cell_type": "code",
   "execution_count": null,
   "id": "0ae813ea-d394-4553-92e6-e958a913b11b",
   "metadata": {},
   "outputs": [],
   "source": [
    "design_matrix= make_level1_design_matrix(subnum, runnum, 'model10a', data_path, behavior_path, regress_rt = 1)\n",
    "plot_design_matrix(design_matrix)\n",
    "beh_regs = design_matrix.columns\n",
    "beh_regs = [x for x in beh_regs if all(y not in x for y in to_filter)]\n",
    "design_matrix[beh_regs].corr()"
   ]
  },
  {
   "cell_type": "code",
   "execution_count": null,
   "id": "26d46402-168e-4f00-87a8-65c324c3fd0c",
   "metadata": {},
   "outputs": [],
   "source": [
    "design_matrix= make_level1_design_matrix(subnum, runnum, 'model1', data_path, behavior_path, regress_rt = 0)\n",
    "plot_design_matrix(design_matrix)\n",
    "beh_regs = design_matrix.columns\n",
    "beh_regs = [x for x in beh_regs if all(y not in x for y in to_filter)]\n",
    "design_matrix[beh_regs].corr()"
   ]
  },
  {
   "cell_type": "code",
   "execution_count": null,
   "id": "e602e0bd-7512-4393-9076-133d01e1f91b",
   "metadata": {},
   "outputs": [],
   "source": [
    "design_matrix= make_level1_design_matrix(subnum, runnum, 'model1a', data_path, behavior_path, regress_rt = 0)\n",
    "beh_regs = design_matrix.columns\n",
    "beh_regs = [x for x in beh_regs if all(y not in x for y in to_filter)]\n",
    "design_matrix[beh_regs].corr()"
   ]
  },
  {
   "cell_type": "code",
   "execution_count": null,
   "id": "1991dd76-7052-4767-ae51-2b0505b8d1fa",
   "metadata": {},
   "outputs": [],
   "source": [
    "design_matrix= make_level1_design_matrix(subnum, runnum, 'model1', data_path, behavior_path, regress_rt = 1)\n",
    "beh_regs = design_matrix.columns\n",
    "beh_regs = [x for x in beh_regs if all(y not in x for y in to_filter)]\n",
    "design_matrix[beh_regs].corr()"
   ]
  },
  {
   "cell_type": "code",
   "execution_count": null,
   "id": "cef45fdc-a27a-4252-a33e-c11fca9ca6ed",
   "metadata": {},
   "outputs": [],
   "source": [
    "design_matrix= make_level1_design_matrix(subnum, runnum, 'model1a', data_path, behavior_path, regress_rt = 1)\n",
    "beh_regs = design_matrix.columns\n",
    "beh_regs = [x for x in beh_regs if all(y not in x for y in to_filter)]\n",
    "design_matrix[beh_regs].corr()"
   ]
  },
  {
   "cell_type": "code",
   "execution_count": null,
   "id": "8744210b-f086-4ed2-bb36-4d55ce9a1f67",
   "metadata": {},
   "outputs": [],
   "source": [
    "design_matrix = make_level1_design_matrix(subnum, runnum, 'model2', data_path, behavior_path, regress_rt = 0)\n",
    "beh_regs = design_matrix.columns\n",
    "beh_regs = [x for x in beh_regs if all(y not in x for y in to_filter)]\n",
    "design_matrix[beh_regs].corr()"
   ]
  },
  {
   "cell_type": "code",
   "execution_count": null,
   "id": "6cf7571d-ee07-4b0a-bc53-388235ddd28f",
   "metadata": {},
   "outputs": [],
   "source": [
    "design_matrix= make_level1_design_matrix(subnum, runnum, 'model2', data_path, behavior_path, regress_rt = 1)\n",
    "beh_regs = design_matrix.columns\n",
    "beh_regs = [x for x in beh_regs if all(y not in x for y in to_filter)]\n",
    "design_matrix[beh_regs].corr()"
   ]
  },
  {
   "cell_type": "code",
   "execution_count": null,
   "id": "108ba0e5-4fd7-42c4-9771-ae94e37ed88a",
   "metadata": {},
   "outputs": [],
   "source": [
    "design_matrix= make_level1_design_matrix(subnum, runnum, 'model3', data_path, behavior_path, regress_rt = 0)\n",
    "beh_regs = design_matrix.columns\n",
    "beh_regs = [x for x in beh_regs if all(y not in x for y in to_filter)]\n",
    "design_matrix[beh_regs].corr()"
   ]
  },
  {
   "cell_type": "code",
   "execution_count": null,
   "id": "d5ea7dc0-5a90-49d3-8f94-5448bd57844d",
   "metadata": {},
   "outputs": [],
   "source": [
    "design_matrix= make_level1_design_matrix(subnum, runnum, 'model3', data_path, behavior_path, regress_rt = 1)\n",
    "beh_regs = design_matrix.columns\n",
    "beh_regs = [x for x in beh_regs if all(y not in x for y in to_filter)]\n",
    "design_matrix[beh_regs].corr()"
   ]
  },
  {
   "cell_type": "code",
   "execution_count": null,
   "id": "368c7848-cba8-40ef-9cb7-58d5d6ca863f",
   "metadata": {},
   "outputs": [],
   "source": [
    "design_matrix= make_level1_design_matrix(subnum, runnum, 'model4', data_path, behavior_path, regress_rt = 0)\n",
    "beh_regs = design_matrix.columns\n",
    "beh_regs = [x for x in beh_regs if all(y not in x for y in to_filter)]\n",
    "design_matrix[beh_regs].corr()"
   ]
  },
  {
   "cell_type": "code",
   "execution_count": null,
   "id": "62d96d4a-e92a-423e-8e26-60b5005b20df",
   "metadata": {},
   "outputs": [],
   "source": [
    "design_matrix= make_level1_design_matrix(subnum, runnum, 'model4', data_path, behavior_path, regress_rt = 1)\n",
    "beh_regs = design_matrix.columns\n",
    "beh_regs = [x for x in beh_regs if all(y not in x for y in to_filter)]\n",
    "design_matrix[beh_regs].corr()"
   ]
  },
  {
   "cell_type": "code",
   "execution_count": null,
   "id": "25af6c9d-6423-4631-a2c1-0513b5caaa39",
   "metadata": {},
   "outputs": [],
   "source": [
    "design_matrix= make_level1_design_matrix(subnum, runnum, 'model5', data_path, behavior_path, regress_rt = 0)\n",
    "beh_regs = design_matrix.columns\n",
    "beh_regs = [x for x in beh_regs if all(y not in x for y in to_filter)]\n",
    "design_matrix[beh_regs].corr()"
   ]
  },
  {
   "cell_type": "code",
   "execution_count": null,
   "id": "854eb2a9-35df-41d6-abdb-0c06e74a766c",
   "metadata": {},
   "outputs": [],
   "source": [
    "design_matrix= make_level1_design_matrix(subnum, runnum, 'model5', data_path, behavior_path, regress_rt = 1)\n",
    "beh_regs = design_matrix.columns\n",
    "beh_regs = [x for x in beh_regs if all(y not in x for y in to_filter)]\n",
    "design_matrix[beh_regs].corr()"
   ]
  },
  {
   "cell_type": "code",
   "execution_count": null,
   "id": "127c1cea-7a1c-49bd-b0aa-275cf46eb653",
   "metadata": {},
   "outputs": [],
   "source": [
    "design_matrix= make_level1_design_matrix(subnum, runnum, 'model6', data_path, behavior_path, regress_rt = 0)\n",
    "beh_regs = design_matrix.columns\n",
    "beh_regs = [x for x in beh_regs if all(y not in x for y in to_filter)]\n",
    "design_matrix[beh_regs].corr()"
   ]
  },
  {
   "cell_type": "code",
   "execution_count": null,
   "id": "5fb06d4c-47dc-465b-92cb-9920a28253c8",
   "metadata": {},
   "outputs": [],
   "source": [
    "design_matrix= make_level1_design_matrix(subnum, runnum, 'model6', data_path, behavior_path, regress_rt = 1)\n",
    "beh_regs = design_matrix.columns\n",
    "beh_regs = [x for x in beh_regs if all(y not in x for y in to_filter)]\n",
    "design_matrix[beh_regs].corr()"
   ]
  },
  {
   "cell_type": "code",
   "execution_count": null,
   "id": "06f9b17e-45db-40cf-8ce4-56a501549133",
   "metadata": {},
   "outputs": [],
   "source": [
    "mnum = 'model1'\n",
    "reg_rt = 1\n",
    "out_path = os.path.join(data_path, \"derivatives/nilearn/glm/level1/%s_reg-rt%s\")%(mnum, str(reg_rt)\n",
    "\n",
    "# run_level1(subnum, mnum, data_path, behavior_path, out_path, regress_rt = reg_rt)"
   ]
  },
  {
   "cell_type": "code",
   "execution_count": null,
   "id": "e318e474-7fb3-467a-b132-5c6d8c364f54",
   "metadata": {},
   "outputs": [],
   "source": [
    "mnum = 'model2'\n",
    "reg_rt = 0\n",
    "out_path = os.path.join(data_path, \"derivatives/nilearn/glm/level1/%s_reg-rt%s\")%(mnum, str(reg_rt))\n",
    "                                                                                \n",
    "# run_level1(subnum, 'model2', data_path, behavior_path, out_path, regress_rt = 0)"
   ]
  },
  {
   "cell_type": "code",
   "execution_count": null,
   "id": "121f2c7a-15ec-4f04-9e28-438a23bb5b8d",
   "metadata": {},
   "outputs": [],
   "source": []
  }
 ],
 "metadata": {
  "kernelspec": {
   "display_name": "Python 3 (ipykernel)",
   "language": "python",
   "name": "python3"
  },
  "language_info": {
   "codemirror_mode": {
    "name": "ipython",
    "version": 3
   },
   "file_extension": ".py",
   "mimetype": "text/x-python",
   "name": "python",
   "nbconvert_exporter": "python",
   "pygments_lexer": "ipython3",
   "version": "3.8.3"
  }
 },
 "nbformat": 4,
 "nbformat_minor": 5
}
