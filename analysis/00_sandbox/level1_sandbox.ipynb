{
 "cells": [
  {
   "cell_type": "code",
   "execution_count": 1,
   "id": "ab8591ef-3ffc-406f-a700-59be670edd1e",
   "metadata": {},
   "outputs": [
    {
     "name": "stderr",
     "output_type": "stream",
     "text": [
      "/Users/zeynepenkavi/.pyenv/versions/3.8.3/envs/py-dvl-fmri/lib/python3.8/site-packages/nilearn/glm/__init__.py:55: FutureWarning: The nilearn.glm module is experimental. It may change in any future release of Nilearn.\n",
      "  warn('The nilearn.glm module is experimental. '\n",
      "/Users/zeynepenkavi/.pyenv/versions/3.8.3/envs/py-dvl-fmri/lib/python3.8/site-packages/nilearn/datasets/__init__.py:86: FutureWarning: Fetchers from the nilearn.datasets module will be updated in version 0.9 to return python strings instead of bytes and Pandas dataframes instead of Numpy arrays.\n",
      "  warn(\"Fetchers from the nilearn.datasets module will be \"\n"
     ]
    }
   ],
   "source": [
    "import glob\n",
    "import json\n",
    "import matplotlib.pyplot as plt\n",
    "%matplotlib inline\n",
    "import numpy as np\n",
    "import nibabel as nib\n",
    "from nilearn.glm.first_level import FirstLevelModel\n",
    "from nilearn.glm.first_level import make_first_level_design_matrix\n",
    "from nilearn.plotting import plot_design_matrix, plot_stat_map\n",
    "import os\n",
    "import pandas as pd\n",
    "import pickle\n",
    "import re\n",
    "\n",
    "import sys\n",
    "sys.path.append('/Users/zeynepenkavi/Documents/RangelLab/DescribedVsLearned_fmri/analysis/01_level1')\n",
    "from level1_utils import run_level1, make_level1_design_matrix, get_events"
   ]
  },
  {
   "cell_type": "code",
   "execution_count": 2,
   "id": "d19ea9d7-627d-4ce0-bb49-c494c106fd8e",
   "metadata": {},
   "outputs": [],
   "source": [
    "data_path = '/Users/zeynepenkavi/Downloads/GTavares_2017_arbitration/bids_nifti_wface/'\n",
    "behavior_path = '/Users/zeynepenkavi/Downloads/GTavares_2017_arbitration/behavioral_data/all_trials.csv'\n",
    "\n",
    "subnum = '01'\n",
    "runnum='4'"
   ]
  },
  {
   "cell_type": "code",
   "execution_count": 7,
   "id": "26d46402-168e-4f00-87a8-65c324c3fd0c",
   "metadata": {},
   "outputs": [
    {
     "name": "stdout",
     "output_type": "stream",
     "text": [
      "A 'modulation' column was found in the given events data and is used.\n"
     ]
    },
    {
     "name": "stderr",
     "output_type": "stream",
     "text": [
      "/Users/zeynepenkavi/.pyenv/versions/3.8.3/envs/py-dvl-fmri/lib/python3.8/site-packages/nilearn/_utils/glm.py:310: UserWarning: Matrix is singular at working precision, regularizing...\n",
      "  warn('Matrix is singular at working precision, regularizing...')\n"
     ]
    },
    {
     "data": {
      "text/html": [
       "<div>\n",
       "<style scoped>\n",
       "    .dataframe tbody tr th:only-of-type {\n",
       "        vertical-align: middle;\n",
       "    }\n",
       "\n",
       "    .dataframe tbody tr th {\n",
       "        vertical-align: top;\n",
       "    }\n",
       "\n",
       "    .dataframe thead th {\n",
       "        text-align: right;\n",
       "    }\n",
       "</style>\n",
       "<table border=\"1\" class=\"dataframe\">\n",
       "  <thead>\n",
       "    <tr style=\"text-align: right;\">\n",
       "      <th></th>\n",
       "      <th>choice_st</th>\n",
       "      <th>cross_ev</th>\n",
       "      <th>fractalProb_ev</th>\n",
       "      <th>reward_ev</th>\n",
       "      <th>stim_ev</th>\n",
       "    </tr>\n",
       "  </thead>\n",
       "  <tbody>\n",
       "    <tr>\n",
       "      <th>choice_st</th>\n",
       "      <td>1.000000</td>\n",
       "      <td>-0.796205</td>\n",
       "      <td>0.883857</td>\n",
       "      <td>0.415893</td>\n",
       "      <td>0.839958</td>\n",
       "    </tr>\n",
       "    <tr>\n",
       "      <th>cross_ev</th>\n",
       "      <td>-0.796205</td>\n",
       "      <td>1.000000</td>\n",
       "      <td>-0.549370</td>\n",
       "      <td>-0.711303</td>\n",
       "      <td>-0.789923</td>\n",
       "    </tr>\n",
       "    <tr>\n",
       "      <th>fractalProb_ev</th>\n",
       "      <td>0.883857</td>\n",
       "      <td>-0.549370</td>\n",
       "      <td>1.000000</td>\n",
       "      <td>0.027088</td>\n",
       "      <td>0.645227</td>\n",
       "    </tr>\n",
       "    <tr>\n",
       "      <th>reward_ev</th>\n",
       "      <td>0.415893</td>\n",
       "      <td>-0.711303</td>\n",
       "      <td>0.027088</td>\n",
       "      <td>1.000000</td>\n",
       "      <td>0.498400</td>\n",
       "    </tr>\n",
       "    <tr>\n",
       "      <th>stim_ev</th>\n",
       "      <td>0.839958</td>\n",
       "      <td>-0.789923</td>\n",
       "      <td>0.645227</td>\n",
       "      <td>0.498400</td>\n",
       "      <td>1.000000</td>\n",
       "    </tr>\n",
       "  </tbody>\n",
       "</table>\n",
       "</div>"
      ],
      "text/plain": [
       "                choice_st  cross_ev  fractalProb_ev  reward_ev   stim_ev\n",
       "choice_st        1.000000 -0.796205        0.883857   0.415893  0.839958\n",
       "cross_ev        -0.796205  1.000000       -0.549370  -0.711303 -0.789923\n",
       "fractalProb_ev   0.883857 -0.549370        1.000000   0.027088  0.645227\n",
       "reward_ev        0.415893 -0.711303        0.027088   1.000000  0.498400\n",
       "stim_ev          0.839958 -0.789923        0.645227   0.498400  1.000000"
      ]
     },
     "execution_count": 7,
     "metadata": {},
     "output_type": "execute_result"
    }
   ],
   "source": [
    "design_matrix= make_level1_design_matrix(subnum, runnum, 'model1', data_path, behavior_path, regress_rt = 0)\n",
    "# plot_design_matrix(design_matrix)\n",
    "beh_regs = design_matrix.columns\n",
    "to_filter = ['trans', 'rot', 'drift', 'framewise', 'scrub', 'constant', 'dvars']\n",
    "beh_regs = [x for x in beh_regs if all(y not in x for y in to_filter)]\n",
    "design_matrix[beh_regs].corr()"
   ]
  },
  {
   "cell_type": "code",
   "execution_count": 8,
   "id": "e602e0bd-7512-4393-9076-133d01e1f91b",
   "metadata": {},
   "outputs": [
    {
     "name": "stdout",
     "output_type": "stream",
     "text": [
      "A 'modulation' column was found in the given events data and is used.\n"
     ]
    },
    {
     "name": "stderr",
     "output_type": "stream",
     "text": [
      "/Users/zeynepenkavi/.pyenv/versions/3.8.3/envs/py-dvl-fmri/lib/python3.8/site-packages/nilearn/_utils/glm.py:310: UserWarning: Matrix is singular at working precision, regularizing...\n",
      "  warn('Matrix is singular at working precision, regularizing...')\n"
     ]
    },
    {
     "data": {
      "text/html": [
       "<div>\n",
       "<style scoped>\n",
       "    .dataframe tbody tr th:only-of-type {\n",
       "        vertical-align: middle;\n",
       "    }\n",
       "\n",
       "    .dataframe tbody tr th {\n",
       "        vertical-align: top;\n",
       "    }\n",
       "\n",
       "    .dataframe thead th {\n",
       "        text-align: right;\n",
       "    }\n",
       "</style>\n",
       "<table border=\"1\" class=\"dataframe\">\n",
       "  <thead>\n",
       "    <tr style=\"text-align: right;\">\n",
       "      <th></th>\n",
       "      <th>choiceShift_st</th>\n",
       "      <th>cross_ev</th>\n",
       "      <th>fractalProb_ev</th>\n",
       "      <th>reward_ev</th>\n",
       "      <th>stim_ev</th>\n",
       "    </tr>\n",
       "  </thead>\n",
       "  <tbody>\n",
       "    <tr>\n",
       "      <th>choiceShift_st</th>\n",
       "      <td>1.000000</td>\n",
       "      <td>-0.887208</td>\n",
       "      <td>0.590639</td>\n",
       "      <td>0.757393</td>\n",
       "      <td>0.837817</td>\n",
       "    </tr>\n",
       "    <tr>\n",
       "      <th>cross_ev</th>\n",
       "      <td>-0.887208</td>\n",
       "      <td>1.000000</td>\n",
       "      <td>-0.549370</td>\n",
       "      <td>-0.711303</td>\n",
       "      <td>-0.789923</td>\n",
       "    </tr>\n",
       "    <tr>\n",
       "      <th>fractalProb_ev</th>\n",
       "      <td>0.590639</td>\n",
       "      <td>-0.549370</td>\n",
       "      <td>1.000000</td>\n",
       "      <td>0.027088</td>\n",
       "      <td>0.645227</td>\n",
       "    </tr>\n",
       "    <tr>\n",
       "      <th>reward_ev</th>\n",
       "      <td>0.757393</td>\n",
       "      <td>-0.711303</td>\n",
       "      <td>0.027088</td>\n",
       "      <td>1.000000</td>\n",
       "      <td>0.498400</td>\n",
       "    </tr>\n",
       "    <tr>\n",
       "      <th>stim_ev</th>\n",
       "      <td>0.837817</td>\n",
       "      <td>-0.789923</td>\n",
       "      <td>0.645227</td>\n",
       "      <td>0.498400</td>\n",
       "      <td>1.000000</td>\n",
       "    </tr>\n",
       "  </tbody>\n",
       "</table>\n",
       "</div>"
      ],
      "text/plain": [
       "                choiceShift_st  cross_ev  fractalProb_ev  reward_ev   stim_ev\n",
       "choiceShift_st        1.000000 -0.887208        0.590639   0.757393  0.837817\n",
       "cross_ev             -0.887208  1.000000       -0.549370  -0.711303 -0.789923\n",
       "fractalProb_ev        0.590639 -0.549370        1.000000   0.027088  0.645227\n",
       "reward_ev             0.757393 -0.711303        0.027088   1.000000  0.498400\n",
       "stim_ev               0.837817 -0.789923        0.645227   0.498400  1.000000"
      ]
     },
     "execution_count": 8,
     "metadata": {},
     "output_type": "execute_result"
    }
   ],
   "source": [
    "design_matrix= make_level1_design_matrix(subnum, runnum, 'model1a', data_path, behavior_path, regress_rt = 0)\n",
    "beh_regs = design_matrix.columns\n",
    "to_filter = ['trans', 'rot', 'drift', 'framewise', 'scrub', 'constant', 'dvars']\n",
    "beh_regs = [x for x in beh_regs if all(y not in x for y in to_filter)]\n",
    "design_matrix[beh_regs].corr()"
   ]
  },
  {
   "cell_type": "code",
   "execution_count": 5,
   "id": "1991dd76-7052-4767-ae51-2b0505b8d1fa",
   "metadata": {},
   "outputs": [
    {
     "name": "stdout",
     "output_type": "stream",
     "text": [
      "A 'modulation' column was found in the given events data and is used.\n"
     ]
    },
    {
     "name": "stderr",
     "output_type": "stream",
     "text": [
      "/Users/zeynepenkavi/.pyenv/versions/3.8.3/envs/py-dvl-fmri/lib/python3.8/site-packages/nilearn/_utils/glm.py:310: UserWarning: Matrix is singular at working precision, regularizing...\n",
      "  warn('Matrix is singular at working precision, regularizing...')\n"
     ]
    },
    {
     "data": {
      "text/html": [
       "<div>\n",
       "<style scoped>\n",
       "    .dataframe tbody tr th:only-of-type {\n",
       "        vertical-align: middle;\n",
       "    }\n",
       "\n",
       "    .dataframe tbody tr th {\n",
       "        vertical-align: top;\n",
       "    }\n",
       "\n",
       "    .dataframe thead th {\n",
       "        text-align: right;\n",
       "    }\n",
       "</style>\n",
       "<table border=\"1\" class=\"dataframe\">\n",
       "  <thead>\n",
       "    <tr style=\"text-align: right;\">\n",
       "      <th></th>\n",
       "      <th>choice_st</th>\n",
       "      <th>cross_ev</th>\n",
       "      <th>cross_rt</th>\n",
       "      <th>fractalProb_ev</th>\n",
       "      <th>reward_ev</th>\n",
       "      <th>stim_ev</th>\n",
       "      <th>stim_rt</th>\n",
       "    </tr>\n",
       "  </thead>\n",
       "  <tbody>\n",
       "    <tr>\n",
       "      <th>choice_st</th>\n",
       "      <td>1.000000</td>\n",
       "      <td>-0.723174</td>\n",
       "      <td>-0.205398</td>\n",
       "      <td>0.883857</td>\n",
       "      <td>0.415893</td>\n",
       "      <td>0.973426</td>\n",
       "      <td>-0.000522</td>\n",
       "    </tr>\n",
       "    <tr>\n",
       "      <th>cross_ev</th>\n",
       "      <td>-0.723174</td>\n",
       "      <td>1.000000</td>\n",
       "      <td>0.000112</td>\n",
       "      <td>-0.507547</td>\n",
       "      <td>-0.634884</td>\n",
       "      <td>-0.780758</td>\n",
       "      <td>-0.032182</td>\n",
       "    </tr>\n",
       "    <tr>\n",
       "      <th>cross_rt</th>\n",
       "      <td>-0.205398</td>\n",
       "      <td>0.000112</td>\n",
       "      <td>1.000000</td>\n",
       "      <td>-0.248806</td>\n",
       "      <td>-0.101781</td>\n",
       "      <td>-0.181907</td>\n",
       "      <td>-0.088604</td>\n",
       "    </tr>\n",
       "    <tr>\n",
       "      <th>fractalProb_ev</th>\n",
       "      <td>0.883857</td>\n",
       "      <td>-0.507547</td>\n",
       "      <td>-0.248806</td>\n",
       "      <td>1.000000</td>\n",
       "      <td>0.027088</td>\n",
       "      <td>0.761268</td>\n",
       "      <td>0.001233</td>\n",
       "    </tr>\n",
       "    <tr>\n",
       "      <th>reward_ev</th>\n",
       "      <td>0.415893</td>\n",
       "      <td>-0.634884</td>\n",
       "      <td>-0.101781</td>\n",
       "      <td>0.027088</td>\n",
       "      <td>1.000000</td>\n",
       "      <td>0.590911</td>\n",
       "      <td>-0.096463</td>\n",
       "    </tr>\n",
       "    <tr>\n",
       "      <th>stim_ev</th>\n",
       "      <td>0.973426</td>\n",
       "      <td>-0.780758</td>\n",
       "      <td>-0.181907</td>\n",
       "      <td>0.761268</td>\n",
       "      <td>0.590911</td>\n",
       "      <td>1.000000</td>\n",
       "      <td>0.000264</td>\n",
       "    </tr>\n",
       "    <tr>\n",
       "      <th>stim_rt</th>\n",
       "      <td>-0.000522</td>\n",
       "      <td>-0.032182</td>\n",
       "      <td>-0.088604</td>\n",
       "      <td>0.001233</td>\n",
       "      <td>-0.096463</td>\n",
       "      <td>0.000264</td>\n",
       "      <td>1.000000</td>\n",
       "    </tr>\n",
       "  </tbody>\n",
       "</table>\n",
       "</div>"
      ],
      "text/plain": [
       "                choice_st  cross_ev  cross_rt  fractalProb_ev  reward_ev  \\\n",
       "choice_st        1.000000 -0.723174 -0.205398        0.883857   0.415893   \n",
       "cross_ev        -0.723174  1.000000  0.000112       -0.507547  -0.634884   \n",
       "cross_rt        -0.205398  0.000112  1.000000       -0.248806  -0.101781   \n",
       "fractalProb_ev   0.883857 -0.507547 -0.248806        1.000000   0.027088   \n",
       "reward_ev        0.415893 -0.634884 -0.101781        0.027088   1.000000   \n",
       "stim_ev          0.973426 -0.780758 -0.181907        0.761268   0.590911   \n",
       "stim_rt         -0.000522 -0.032182 -0.088604        0.001233  -0.096463   \n",
       "\n",
       "                 stim_ev   stim_rt  \n",
       "choice_st       0.973426 -0.000522  \n",
       "cross_ev       -0.780758 -0.032182  \n",
       "cross_rt       -0.181907 -0.088604  \n",
       "fractalProb_ev  0.761268  0.001233  \n",
       "reward_ev       0.590911 -0.096463  \n",
       "stim_ev         1.000000  0.000264  \n",
       "stim_rt         0.000264  1.000000  "
      ]
     },
     "execution_count": 5,
     "metadata": {},
     "output_type": "execute_result"
    }
   ],
   "source": [
    "design_matrix= make_level1_design_matrix(subnum, runnum, 'model1', data_path, behavior_path, regress_rt = 1)\n",
    "beh_regs = design_matrix.columns\n",
    "to_filter = ['trans', 'rot', 'drift', 'framewise', 'scrub', 'constant', 'dvars']\n",
    "beh_regs = [x for x in beh_regs if all(y not in x for y in to_filter)]\n",
    "design_matrix[beh_regs].corr()"
   ]
  },
  {
   "cell_type": "code",
   "execution_count": 6,
   "id": "cef45fdc-a27a-4252-a33e-c11fca9ca6ed",
   "metadata": {},
   "outputs": [
    {
     "name": "stdout",
     "output_type": "stream",
     "text": [
      "A 'modulation' column was found in the given events data and is used.\n"
     ]
    },
    {
     "name": "stderr",
     "output_type": "stream",
     "text": [
      "/Users/zeynepenkavi/.pyenv/versions/3.8.3/envs/py-dvl-fmri/lib/python3.8/site-packages/nilearn/_utils/glm.py:310: UserWarning: Matrix is singular at working precision, regularizing...\n",
      "  warn('Matrix is singular at working precision, regularizing...')\n"
     ]
    },
    {
     "data": {
      "text/html": [
       "<div>\n",
       "<style scoped>\n",
       "    .dataframe tbody tr th:only-of-type {\n",
       "        vertical-align: middle;\n",
       "    }\n",
       "\n",
       "    .dataframe tbody tr th {\n",
       "        vertical-align: top;\n",
       "    }\n",
       "\n",
       "    .dataframe thead th {\n",
       "        text-align: right;\n",
       "    }\n",
       "</style>\n",
       "<table border=\"1\" class=\"dataframe\">\n",
       "  <thead>\n",
       "    <tr style=\"text-align: right;\">\n",
       "      <th></th>\n",
       "      <th>choiceShift_st</th>\n",
       "      <th>cross_ev</th>\n",
       "      <th>cross_rt</th>\n",
       "      <th>fractalProb_ev</th>\n",
       "      <th>reward_ev</th>\n",
       "      <th>stim_ev</th>\n",
       "      <th>stim_rt</th>\n",
       "    </tr>\n",
       "  </thead>\n",
       "  <tbody>\n",
       "    <tr>\n",
       "      <th>choiceShift_st</th>\n",
       "      <td>1.000000</td>\n",
       "      <td>-0.807940</td>\n",
       "      <td>-0.168860</td>\n",
       "      <td>0.590639</td>\n",
       "      <td>0.757393</td>\n",
       "      <td>0.955171</td>\n",
       "      <td>-0.033936</td>\n",
       "    </tr>\n",
       "    <tr>\n",
       "      <th>cross_ev</th>\n",
       "      <td>-0.807940</td>\n",
       "      <td>1.000000</td>\n",
       "      <td>0.000112</td>\n",
       "      <td>-0.507547</td>\n",
       "      <td>-0.634884</td>\n",
       "      <td>-0.780758</td>\n",
       "      <td>-0.032182</td>\n",
       "    </tr>\n",
       "    <tr>\n",
       "      <th>cross_rt</th>\n",
       "      <td>-0.168860</td>\n",
       "      <td>0.000112</td>\n",
       "      <td>1.000000</td>\n",
       "      <td>-0.248806</td>\n",
       "      <td>-0.101781</td>\n",
       "      <td>-0.181907</td>\n",
       "      <td>-0.088604</td>\n",
       "    </tr>\n",
       "    <tr>\n",
       "      <th>fractalProb_ev</th>\n",
       "      <td>0.590639</td>\n",
       "      <td>-0.507547</td>\n",
       "      <td>-0.248806</td>\n",
       "      <td>1.000000</td>\n",
       "      <td>0.027088</td>\n",
       "      <td>0.761268</td>\n",
       "      <td>0.001233</td>\n",
       "    </tr>\n",
       "    <tr>\n",
       "      <th>reward_ev</th>\n",
       "      <td>0.757393</td>\n",
       "      <td>-0.634884</td>\n",
       "      <td>-0.101781</td>\n",
       "      <td>0.027088</td>\n",
       "      <td>1.000000</td>\n",
       "      <td>0.590911</td>\n",
       "      <td>-0.096463</td>\n",
       "    </tr>\n",
       "    <tr>\n",
       "      <th>stim_ev</th>\n",
       "      <td>0.955171</td>\n",
       "      <td>-0.780758</td>\n",
       "      <td>-0.181907</td>\n",
       "      <td>0.761268</td>\n",
       "      <td>0.590911</td>\n",
       "      <td>1.000000</td>\n",
       "      <td>0.000264</td>\n",
       "    </tr>\n",
       "    <tr>\n",
       "      <th>stim_rt</th>\n",
       "      <td>-0.033936</td>\n",
       "      <td>-0.032182</td>\n",
       "      <td>-0.088604</td>\n",
       "      <td>0.001233</td>\n",
       "      <td>-0.096463</td>\n",
       "      <td>0.000264</td>\n",
       "      <td>1.000000</td>\n",
       "    </tr>\n",
       "  </tbody>\n",
       "</table>\n",
       "</div>"
      ],
      "text/plain": [
       "                choiceShift_st  cross_ev  cross_rt  fractalProb_ev  reward_ev  \\\n",
       "choiceShift_st        1.000000 -0.807940 -0.168860        0.590639   0.757393   \n",
       "cross_ev             -0.807940  1.000000  0.000112       -0.507547  -0.634884   \n",
       "cross_rt             -0.168860  0.000112  1.000000       -0.248806  -0.101781   \n",
       "fractalProb_ev        0.590639 -0.507547 -0.248806        1.000000   0.027088   \n",
       "reward_ev             0.757393 -0.634884 -0.101781        0.027088   1.000000   \n",
       "stim_ev               0.955171 -0.780758 -0.181907        0.761268   0.590911   \n",
       "stim_rt              -0.033936 -0.032182 -0.088604        0.001233  -0.096463   \n",
       "\n",
       "                 stim_ev   stim_rt  \n",
       "choiceShift_st  0.955171 -0.033936  \n",
       "cross_ev       -0.780758 -0.032182  \n",
       "cross_rt       -0.181907 -0.088604  \n",
       "fractalProb_ev  0.761268  0.001233  \n",
       "reward_ev       0.590911 -0.096463  \n",
       "stim_ev         1.000000  0.000264  \n",
       "stim_rt         0.000264  1.000000  "
      ]
     },
     "execution_count": 6,
     "metadata": {},
     "output_type": "execute_result"
    }
   ],
   "source": [
    "design_matrix= make_level1_design_matrix(subnum, runnum, 'model1a', data_path, behavior_path, regress_rt = 1)\n",
    "beh_regs = design_matrix.columns\n",
    "to_filter = ['trans', 'rot', 'drift', 'framewise', 'scrub', 'constant', 'dvars']\n",
    "beh_regs = [x for x in beh_regs if all(y not in x for y in to_filter)]\n",
    "design_matrix[beh_regs].corr()"
   ]
  },
  {
   "cell_type": "code",
   "execution_count": null,
   "id": "8744210b-f086-4ed2-bb36-4d55ce9a1f67",
   "metadata": {},
   "outputs": [],
   "source": [
    "design_matrix = make_level1_design_matrix(subnum, runnum, 'model2', data_path, behavior_path, regress_rt = 0)\n",
    "beh_regs = design_matrix.columns\n",
    "to_filter = ['trans', 'rot', 'drift', 'framewise', 'scrub', 'constant', 'dvars']\n",
    "beh_regs = [x for x in beh_regs if all(y not in x for y in to_filter)]\n",
    "design_matrix[beh_regs].corr()"
   ]
  },
  {
   "cell_type": "code",
   "execution_count": null,
   "id": "6cf7571d-ee07-4b0a-bc53-388235ddd28f",
   "metadata": {},
   "outputs": [],
   "source": [
    "design_matrix= make_level1_design_matrix(subnum, runnum, 'model2', data_path, behavior_path, regress_rt = 1)\n",
    "beh_regs = design_matrix.columns\n",
    "to_filter = ['trans', 'rot', 'drift', 'framewise', 'scrub', 'constant', 'dvars']\n",
    "beh_regs = [x for x in beh_regs if all(y not in x for y in to_filter)]\n",
    "design_matrix[beh_regs].corr()"
   ]
  },
  {
   "cell_type": "code",
   "execution_count": null,
   "id": "108ba0e5-4fd7-42c4-9771-ae94e37ed88a",
   "metadata": {},
   "outputs": [],
   "source": [
    "design_matrix= make_level1_design_matrix(subnum, runnum, 'model3', data_path, behavior_path, regress_rt = 0)\n",
    "beh_regs = design_matrix.columns\n",
    "to_filter = ['trans', 'rot', 'drift', 'framewise', 'scrub', 'constant', 'dvars']\n",
    "beh_regs = [x for x in beh_regs if all(y not in x for y in to_filter)]\n",
    "design_matrix[beh_regs].corr()"
   ]
  },
  {
   "cell_type": "code",
   "execution_count": null,
   "id": "d5ea7dc0-5a90-49d3-8f94-5448bd57844d",
   "metadata": {},
   "outputs": [],
   "source": [
    "design_matrix= make_level1_design_matrix(subnum, runnum, 'model3', data_path, behavior_path, regress_rt = 1)\n",
    "beh_regs = design_matrix.columns\n",
    "to_filter = ['trans', 'rot', 'drift', 'framewise', 'scrub', 'constant', 'dvars']\n",
    "beh_regs = [x for x in beh_regs if all(y not in x for y in to_filter)]\n",
    "design_matrix[beh_regs].corr()"
   ]
  },
  {
   "cell_type": "code",
   "execution_count": null,
   "id": "368c7848-cba8-40ef-9cb7-58d5d6ca863f",
   "metadata": {},
   "outputs": [],
   "source": [
    "design_matrix= make_level1_design_matrix(subnum, runnum, 'model4', data_path, behavior_path, regress_rt = 0)\n",
    "beh_regs = design_matrix.columns\n",
    "to_filter = ['trans', 'rot', 'drift', 'framewise', 'scrub', 'constant', 'dvars']\n",
    "beh_regs = [x for x in beh_regs if all(y not in x for y in to_filter)]\n",
    "design_matrix[beh_regs].corr()"
   ]
  },
  {
   "cell_type": "code",
   "execution_count": null,
   "id": "62d96d4a-e92a-423e-8e26-60b5005b20df",
   "metadata": {},
   "outputs": [],
   "source": [
    "design_matrix= make_level1_design_matrix(subnum, runnum, 'model4', data_path, behavior_path, regress_rt = 1)\n",
    "beh_regs = design_matrix.columns\n",
    "to_filter = ['trans', 'rot', 'drift', 'framewise', 'scrub', 'constant', 'dvars']\n",
    "beh_regs = [x for x in beh_regs if all(y not in x for y in to_filter)]\n",
    "design_matrix[beh_regs].corr()"
   ]
  },
  {
   "cell_type": "code",
   "execution_count": null,
   "id": "25af6c9d-6423-4631-a2c1-0513b5caaa39",
   "metadata": {},
   "outputs": [],
   "source": [
    "design_matrix= make_level1_design_matrix(subnum, runnum, 'model5', data_path, behavior_path, regress_rt = 0)\n",
    "beh_regs = design_matrix.columns\n",
    "to_filter = ['trans', 'rot', 'drift', 'framewise', 'scrub', 'constant', 'dvars']\n",
    "beh_regs = [x for x in beh_regs if all(y not in x for y in to_filter)]\n",
    "design_matrix[beh_regs].corr()"
   ]
  },
  {
   "cell_type": "code",
   "execution_count": null,
   "id": "854eb2a9-35df-41d6-abdb-0c06e74a766c",
   "metadata": {},
   "outputs": [],
   "source": [
    "design_matrix= make_level1_design_matrix(subnum, runnum, 'model5', data_path, behavior_path, regress_rt = 1)\n",
    "beh_regs = design_matrix.columns\n",
    "to_filter = ['trans', 'rot', 'drift', 'framewise', 'scrub', 'constant', 'dvars']\n",
    "beh_regs = [x for x in beh_regs if all(y not in x for y in to_filter)]\n",
    "design_matrix[beh_regs].corr()"
   ]
  },
  {
   "cell_type": "code",
   "execution_count": null,
   "id": "127c1cea-7a1c-49bd-b0aa-275cf46eb653",
   "metadata": {},
   "outputs": [],
   "source": [
    "design_matrix= make_level1_design_matrix(subnum, runnum, 'model6', data_path, behavior_path, regress_rt = 0)\n",
    "beh_regs = design_matrix.columns\n",
    "to_filter = ['trans', 'rot', 'drift', 'framewise', 'scrub', 'constant', 'dvars']\n",
    "beh_regs = [x for x in beh_regs if all(y not in x for y in to_filter)]\n",
    "design_matrix[beh_regs].corr()"
   ]
  },
  {
   "cell_type": "code",
   "execution_count": null,
   "id": "5fb06d4c-47dc-465b-92cb-9920a28253c8",
   "metadata": {},
   "outputs": [],
   "source": [
    "design_matrix= make_level1_design_matrix(subnum, runnum, 'model6', data_path, behavior_path, regress_rt = 1)\n",
    "beh_regs = design_matrix.columns\n",
    "to_filter = ['trans', 'rot', 'drift', 'framewise', 'scrub', 'constant', 'dvars']\n",
    "beh_regs = [x for x in beh_regs if all(y not in x for y in to_filter)]\n",
    "design_matrix[beh_regs].corr()"
   ]
  },
  {
   "cell_type": "code",
   "execution_count": null,
   "id": "06f9b17e-45db-40cf-8ce4-56a501549133",
   "metadata": {},
   "outputs": [],
   "source": [
    "mnum = 'model1'\n",
    "reg_rt = 1\n",
    "out_path = os.path.join(data_path, \"derivatives/nilearn/glm/level1/%s_reg-rt%s\")%(mnum, str(reg_rt)\n",
    "\n",
    "# run_level1(subnum, mnum, data_path, behavior_path, out_path, regress_rt = reg_rt)"
   ]
  },
  {
   "cell_type": "code",
   "execution_count": null,
   "id": "e318e474-7fb3-467a-b132-5c6d8c364f54",
   "metadata": {},
   "outputs": [],
   "source": [
    "mnum = 'model2'\n",
    "reg_rt = 0\n",
    "out_path = os.path.join(data_path, \"derivatives/nilearn/glm/level1/%s_reg-rt%s\")%(mnum, str(reg_rt))\n",
    "                                                                                \n",
    "# run_level1(subnum, 'model2', data_path, behavior_path, out_path, regress_rt = 0)"
   ]
  },
  {
   "cell_type": "code",
   "execution_count": 29,
   "id": "d2ba962a-7a94-434b-8de8-c5dc3fa6bce0",
   "metadata": {},
   "outputs": [
    {
     "data": {
      "text/plain": [
       "11"
      ]
     },
     "execution_count": 29,
     "metadata": {},
     "output_type": "execute_result"
    }
   ],
   "source": [
    "mnum = 'model2'\n",
    "reg_rt = 0\n",
    "sub_paths = os.path.join(data_path, \"derivatives/nilearn/glm/level1/%s_reg-rt%s/*\")%(mnum, str(reg_rt))\n",
    "len(glob.glob(os.path.join(sub_paths, '*')))"
   ]
  },
  {
   "cell_type": "code",
   "execution_count": null,
   "id": "121f2c7a-15ec-4f04-9e28-438a23bb5b8d",
   "metadata": {},
   "outputs": [],
   "source": []
  }
 ],
 "metadata": {
  "kernelspec": {
   "display_name": "Python 3 (ipykernel)",
   "language": "python",
   "name": "python3"
  },
  "language_info": {
   "codemirror_mode": {
    "name": "ipython",
    "version": 3
   },
   "file_extension": ".py",
   "mimetype": "text/x-python",
   "name": "python",
   "nbconvert_exporter": "python",
   "pygments_lexer": "ipython3",
   "version": "3.8.3"
  }
 },
 "nbformat": 4,
 "nbformat_minor": 5
}
