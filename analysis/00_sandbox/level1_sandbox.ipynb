{
 "cells": [
  {
   "cell_type": "code",
   "execution_count": 1,
   "id": "ab8591ef-3ffc-406f-a700-59be670edd1e",
   "metadata": {},
   "outputs": [
    {
     "name": "stderr",
     "output_type": "stream",
     "text": [
      "/Users/zeynepenkavi/.pyenv/versions/3.8.3/envs/py-dvl-fmri/lib/python3.8/site-packages/nilearn/glm/__init__.py:55: FutureWarning: The nilearn.glm module is experimental. It may change in any future release of Nilearn.\n",
      "  warn('The nilearn.glm module is experimental. '\n",
      "/Users/zeynepenkavi/.pyenv/versions/3.8.3/envs/py-dvl-fmri/lib/python3.8/site-packages/nilearn/datasets/__init__.py:86: FutureWarning: Fetchers from the nilearn.datasets module will be updated in version 0.9 to return python strings instead of bytes and Pandas dataframes instead of Numpy arrays.\n",
      "  warn(\"Fetchers from the nilearn.datasets module will be \"\n"
     ]
    }
   ],
   "source": [
    "import glob\n",
    "import json\n",
    "import matplotlib.pyplot as plt\n",
    "%matplotlib inline\n",
    "import numpy as np\n",
    "import nibabel as nib\n",
    "from nilearn.glm.first_level import FirstLevelModel\n",
    "from nilearn.glm.first_level import make_first_level_design_matrix\n",
    "from nilearn.plotting import plot_design_matrix, plot_stat_map\n",
    "import os\n",
    "import pandas as pd\n",
    "import pickle\n",
    "import re\n",
    "\n",
    "import sys\n",
    "sys.path.append('/Users/zeynepenkavi/Documents/RangelLab/DescribedVsLearned_fmri/analysis/01_level1')\n",
    "from level1_utils import run_level1, make_level1_design_matrix, get_events"
   ]
  },
  {
   "cell_type": "code",
   "execution_count": 2,
   "id": "d19ea9d7-627d-4ce0-bb49-c494c106fd8e",
   "metadata": {},
   "outputs": [],
   "source": [
    "data_path = '/Users/zeynepenkavi/Downloads/GTavares_2017_arbitration/bids_nifti_wface/'\n",
    "behavior_path = '/Users/zeynepenkavi/Downloads/GTavares_2017_arbitration/behavioral_data/all_trials.csv'\n",
    "out_path = os.path.join(data_path, \"derivatives/nilearn/glm/level1/\")\n",
    "\n",
    "subnum = '01'\n",
    "runnum='4'"
   ]
  },
  {
   "cell_type": "code",
   "execution_count": 3,
   "id": "5575086f-cd16-423f-9c76-0f257b1bad82",
   "metadata": {},
   "outputs": [],
   "source": [
    "fn = os.path.join(data_path, 'sub-%s/func/sub-%s_task-bundles_run-%s_events.tsv' %(subnum, subnum, runnum))\n",
    "events = pd.read_csv(fn, sep='\\t')\n",
    "\n",
    "# Read in behavioral data with modeled value and RPE estimates\n",
    "behavior = pd.read_csv(behavior_path)\n",
    "\n",
    "# Extract the correct subnum and runnum from behavioral data\n",
    "run_behavior = behavior.query('subnum == %d & session == %d'%(int(subnum), int(runnum)))"
   ]
  },
  {
   "cell_type": "code",
   "execution_count": 13,
   "id": "1e2567ed-ac20-475d-a615-4c52284f9b00",
   "metadata": {},
   "outputs": [],
   "source": [
    "cond_valChosen = events.query('trial_type == \"stimulus\"')[['onset', 'duration']].reset_index(drop=True)\n",
    "cond_valChosen['trial_type'] = 'valChosen'\n",
    "cond_valChosen['modulation'] = run_behavior['leftbundleValAdv'].sub(run_behavior['leftbundleValAdv'].mean()).reset_index(drop=True)"
   ]
  },
  {
   "cell_type": "code",
   "execution_count": 43,
   "id": "223d599b-f080-4def-9afd-20421b78748c",
   "metadata": {},
   "outputs": [
    {
     "data": {
      "text/plain": [
       "array([ 0.        ,  0.65292193,  0.        ,  0.        ,  0.        ,\n",
       "        0.49927559,  0.        ,  0.9       ,  0.86323291,  0.39362291,\n",
       "        0.        ,  0.        ,  0.78866981,  0.17660755,  0.        ,\n",
       "        0.        ,  0.2526012 , -0.00390182,  0.        ,  0.65292193,\n",
       "        0.78855327,  0.        ,  0.09124038,  0.        ,  0.        ,\n",
       "        0.6989118 ,  0.        ,  0.        ,  0.        ,  0.        ,\n",
       "        0.        ,  0.01130719,  0.        ,  0.        ,  0.        ,\n",
       "        0.7       ,  0.        ,  0.7       ,  0.47699693,  0.        ,\n",
       "        0.89854838,  0.        ,  0.61344788,  0.        ,  0.        ,\n",
       "        0.00628063,  0.02506939,  0.        ,  0.1       ,  0.24839909,\n",
       "        0.        ,  0.44711837,  0.        ,  0.        ,  0.67241005,\n",
       "        0.        ,  0.        ,  0.        ,  0.12620794,  0.        ])"
      ]
     },
     "execution_count": 43,
     "metadata": {},
     "output_type": "execute_result"
    }
   ],
   "source": [
    "np.where(run_behavior['choiceLeft'], run_behavior['leftBundleVal'], 0)"
   ]
  },
  {
   "cell_type": "code",
   "execution_count": 44,
   "id": "5743fe2d-efcb-4bcf-9de1-b6af47833ae6",
   "metadata": {},
   "outputs": [
    {
     "data": {
      "text/plain": [
       "array([ 0.36301191,  0.        ,  0.19441845,  0.44951237, -0.00297256,\n",
       "        0.        ,  0.10145669,  0.        ,  0.        ,  0.        ,\n",
       "        0.5       ,  0.49486593,  0.        ,  0.        ,  0.45064671,\n",
       "        0.49342466,  0.        ,  0.        ,  0.49927561,  0.        ,\n",
       "        0.        ,  0.38805426,  0.        ,  0.4816744 ,  0.29426278,\n",
       "        0.        ,  0.1262594 ,  0.11920142,  0.10749792, -0.01040963,\n",
       "        0.10261048,  0.        ,  0.13581906,  0.3598902 ,  0.49357104,\n",
       "        0.        ,  0.48115561,  0.        ,  0.        ,  0.29945283,\n",
       "        0.        ,  0.36303784,  0.        ,  0.49355755,  0.10155225,\n",
       "        0.        ,  0.        ,  0.29425784,  0.        ,  0.        ,\n",
       "        0.04265448,  0.        ,  0.1262072 ,  0.47694865,  0.        ,\n",
       "        0.49909096,  0.43808441,  0.49355741,  0.        ,  0.04178214])"
      ]
     },
     "execution_count": 44,
     "metadata": {},
     "output_type": "execute_result"
    }
   ],
   "source": [
    "np.where(run_behavior['choiceLeft']==0, run_behavior['rightBundleVal'], 0)"
   ]
  },
  {
   "cell_type": "code",
   "execution_count": null,
   "id": "26d46402-168e-4f00-87a8-65c324c3fd0c",
   "metadata": {},
   "outputs": [],
   "source": [
    "\n",
    "design_matrix= make_level1_design_matrix(subnum, runnum, data_path, behavior_path, hrf_model = 'spm', drift_model='cosine')\n",
    "plot_design_matrix(design_matrix)"
   ]
  },
  {
   "cell_type": "code",
   "execution_count": null,
   "id": "f00267f3-5ba5-45f7-baaf-aef4ac93f2e2",
   "metadata": {},
   "outputs": [],
   "source": [
    "# run_level1(subnum, data_path, behavior_path, out_path)"
   ]
  },
  {
   "cell_type": "code",
   "execution_count": null,
   "id": "ff93f3e6-bd27-4e84-a67a-be97bb2d7f0b",
   "metadata": {},
   "outputs": [],
   "source": [
    "# contrast_id = 'valDiff'\n",
    "# zmap = nib.load(os.path.join(out_path, 'sub-%s/contrasts/sub-%s_run-%s_%s.nii.gz'%(subnum, subnum, runnum, contrast_id)))\n",
    "# plot_stat_map(zmap, threshold=3.0, title='sub-%s_run-%s_%s' % (subnum, runnum, contrast_id))"
   ]
  },
  {
   "cell_type": "code",
   "execution_count": null,
   "id": "68cb1ca5-71ee-4e66-9682-988fecdb666e",
   "metadata": {},
   "outputs": [],
   "source": []
  }
 ],
 "metadata": {
  "kernelspec": {
   "display_name": "Python 3 (ipykernel)",
   "language": "python",
   "name": "python3"
  },
  "language_info": {
   "codemirror_mode": {
    "name": "ipython",
    "version": 3
   },
   "file_extension": ".py",
   "mimetype": "text/x-python",
   "name": "python",
   "nbconvert_exporter": "python",
   "pygments_lexer": "ipython3",
   "version": "3.8.3"
  }
 },
 "nbformat": 4,
 "nbformat_minor": 5
}
