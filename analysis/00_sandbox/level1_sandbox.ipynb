{
 "cells": [
  {
   "cell_type": "code",
   "execution_count": 1,
   "id": "ab8591ef-3ffc-406f-a700-59be670edd1e",
   "metadata": {},
   "outputs": [
    {
     "name": "stderr",
     "output_type": "stream",
     "text": [
      "/Users/zeynepenkavi/.pyenv/versions/3.8.3/envs/py-dvl-fmri/lib/python3.8/site-packages/nilearn/glm/__init__.py:55: FutureWarning: The nilearn.glm module is experimental. It may change in any future release of Nilearn.\n",
      "  warn('The nilearn.glm module is experimental. '\n",
      "/Users/zeynepenkavi/.pyenv/versions/3.8.3/envs/py-dvl-fmri/lib/python3.8/site-packages/nilearn/datasets/__init__.py:86: FutureWarning: Fetchers from the nilearn.datasets module will be updated in version 0.9 to return python strings instead of bytes and Pandas dataframes instead of Numpy arrays.\n",
      "  warn(\"Fetchers from the nilearn.datasets module will be \"\n"
     ]
    }
   ],
   "source": [
    "import glob\n",
    "import json\n",
    "import matplotlib.pyplot as plt\n",
    "%matplotlib inline\n",
    "import numpy as np\n",
    "import nibabel as nib\n",
    "from nilearn.glm.first_level import FirstLevelModel\n",
    "from nilearn.glm.first_level import make_first_level_design_matrix\n",
    "from nilearn.plotting import plot_design_matrix, plot_stat_map\n",
    "import os\n",
    "import pandas as pd\n",
    "import pickle\n",
    "import re\n",
    "\n",
    "import sys\n",
    "sys.path.append('/Users/zeynepenkavi/Documents/RangelLab/DescribedVsLearned_fmri/analysis/01_level1')\n",
    "from level1_utils import run_level1, make_level1_design_matrix, get_events"
   ]
  },
  {
   "cell_type": "code",
   "execution_count": 2,
   "id": "d19ea9d7-627d-4ce0-bb49-c494c106fd8e",
   "metadata": {},
   "outputs": [],
   "source": [
    "data_path = '/Users/zeynepenkavi/Downloads/GTavares_2017_arbitration/bids_nifti_wface/'\n",
    "behavior_path = '/Users/zeynepenkavi/Downloads/GTavares_2017_arbitration/behavioral_data/all_trials.csv'\n",
    "\n",
    "subnum = '01'\n",
    "runnum='4'"
   ]
  },
  {
   "cell_type": "code",
   "execution_count": null,
   "id": "26d46402-168e-4f00-87a8-65c324c3fd0c",
   "metadata": {},
   "outputs": [],
   "source": [
    "design_matrix= make_level1_design_matrix(subnum, runnum, 'model1', data_path, behavior_path, regress_rt = 0)\n",
    "# plot_design_matrix(design_matrix)\n",
    "beh_regs = design_matrix.columns\n",
    "to_filter = ['trans', 'rot', 'drift', 'framewise', 'scrub', 'constant', 'dvars']\n",
    "beh_regs = [x for x in beh_regs if all(y not in x for y in to_filter)]\n",
    "design_matrix[beh_regs].corr()"
   ]
  },
  {
   "cell_type": "code",
   "execution_count": null,
   "id": "1991dd76-7052-4767-ae51-2b0505b8d1fa",
   "metadata": {},
   "outputs": [],
   "source": [
    "design_matrix= make_level1_design_matrix(subnum, runnum, 'model1', data_path, behavior_path, regress_rt = 1)\n",
    "beh_regs = design_matrix.columns\n",
    "to_filter = ['trans', 'rot', 'drift', 'framewise', 'scrub', 'constant', 'dvars']\n",
    "beh_regs = [x for x in beh_regs if all(y not in x for y in to_filter)]\n",
    "design_matrix[beh_regs].corr()"
   ]
  },
  {
   "cell_type": "code",
   "execution_count": null,
   "id": "8744210b-f086-4ed2-bb36-4d55ce9a1f67",
   "metadata": {},
   "outputs": [],
   "source": [
    "design_matrix = make_level1_design_matrix(subnum, runnum, 'model2', data_path, behavior_path, regress_rt = 0)\n",
    "beh_regs = design_matrix.columns\n",
    "to_filter = ['trans', 'rot', 'drift', 'framewise', 'scrub', 'constant', 'dvars']\n",
    "beh_regs = [x for x in beh_regs if all(y not in x for y in to_filter)]\n",
    "design_matrix[beh_regs].corr()"
   ]
  },
  {
   "cell_type": "code",
   "execution_count": null,
   "id": "6cf7571d-ee07-4b0a-bc53-388235ddd28f",
   "metadata": {},
   "outputs": [],
   "source": [
    "design_matrix= make_level1_design_matrix(subnum, runnum, 'model2', data_path, behavior_path, regress_rt = 1)\n",
    "beh_regs = design_matrix.columns\n",
    "to_filter = ['trans', 'rot', 'drift', 'framewise', 'scrub', 'constant', 'dvars']\n",
    "beh_regs = [x for x in beh_regs if all(y not in x for y in to_filter)]\n",
    "design_matrix[beh_regs].corr()"
   ]
  },
  {
   "cell_type": "code",
   "execution_count": null,
   "id": "108ba0e5-4fd7-42c4-9771-ae94e37ed88a",
   "metadata": {},
   "outputs": [],
   "source": [
    "design_matrix= make_level1_design_matrix(subnum, runnum, 'model3', data_path, behavior_path, regress_rt = 0)\n",
    "beh_regs = design_matrix.columns\n",
    "to_filter = ['trans', 'rot', 'drift', 'framewise', 'scrub', 'constant', 'dvars']\n",
    "beh_regs = [x for x in beh_regs if all(y not in x for y in to_filter)]\n",
    "design_matrix[beh_regs].corr()"
   ]
  },
  {
   "cell_type": "code",
   "execution_count": null,
   "id": "d5ea7dc0-5a90-49d3-8f94-5448bd57844d",
   "metadata": {},
   "outputs": [],
   "source": [
    "design_matrix= make_level1_design_matrix(subnum, runnum, 'model3', data_path, behavior_path, regress_rt = 1)\n",
    "beh_regs = design_matrix.columns\n",
    "to_filter = ['trans', 'rot', 'drift', 'framewise', 'scrub', 'constant', 'dvars']\n",
    "beh_regs = [x for x in beh_regs if all(y not in x for y in to_filter)]\n",
    "design_matrix[beh_regs].corr()"
   ]
  },
  {
   "cell_type": "code",
   "execution_count": null,
   "id": "368c7848-cba8-40ef-9cb7-58d5d6ca863f",
   "metadata": {},
   "outputs": [],
   "source": [
    "design_matrix= make_level1_design_matrix(subnum, runnum, 'model4', data_path, behavior_path, regress_rt = 0)\n",
    "beh_regs = design_matrix.columns\n",
    "to_filter = ['trans', 'rot', 'drift', 'framewise', 'scrub', 'constant', 'dvars']\n",
    "beh_regs = [x for x in beh_regs if all(y not in x for y in to_filter)]\n",
    "design_matrix[beh_regs].corr()"
   ]
  },
  {
   "cell_type": "code",
   "execution_count": null,
   "id": "62d96d4a-e92a-423e-8e26-60b5005b20df",
   "metadata": {},
   "outputs": [],
   "source": [
    "design_matrix= make_level1_design_matrix(subnum, runnum, 'model4', data_path, behavior_path, regress_rt = 1)\n",
    "beh_regs = design_matrix.columns\n",
    "to_filter = ['trans', 'rot', 'drift', 'framewise', 'scrub', 'constant', 'dvars']\n",
    "beh_regs = [x for x in beh_regs if all(y not in x for y in to_filter)]\n",
    "design_matrix[beh_regs].corr()"
   ]
  },
  {
   "cell_type": "code",
   "execution_count": null,
   "id": "25af6c9d-6423-4631-a2c1-0513b5caaa39",
   "metadata": {},
   "outputs": [],
   "source": [
    "design_matrix= make_level1_design_matrix(subnum, runnum, 'model5', data_path, behavior_path, regress_rt = 0)\n",
    "beh_regs = design_matrix.columns\n",
    "to_filter = ['trans', 'rot', 'drift', 'framewise', 'scrub', 'constant', 'dvars']\n",
    "beh_regs = [x for x in beh_regs if all(y not in x for y in to_filter)]\n",
    "design_matrix[beh_regs].corr()"
   ]
  },
  {
   "cell_type": "code",
   "execution_count": null,
   "id": "854eb2a9-35df-41d6-abdb-0c06e74a766c",
   "metadata": {},
   "outputs": [],
   "source": [
    "design_matrix= make_level1_design_matrix(subnum, runnum, 'model5', data_path, behavior_path, regress_rt = 1)\n",
    "beh_regs = design_matrix.columns\n",
    "to_filter = ['trans', 'rot', 'drift', 'framewise', 'scrub', 'constant', 'dvars']\n",
    "beh_regs = [x for x in beh_regs if all(y not in x for y in to_filter)]\n",
    "design_matrix[beh_regs].corr()"
   ]
  },
  {
   "cell_type": "code",
   "execution_count": null,
   "id": "127c1cea-7a1c-49bd-b0aa-275cf46eb653",
   "metadata": {},
   "outputs": [],
   "source": [
    "design_matrix= make_level1_design_matrix(subnum, runnum, 'model6', data_path, behavior_path, regress_rt = 0)\n",
    "beh_regs = design_matrix.columns\n",
    "to_filter = ['trans', 'rot', 'drift', 'framewise', 'scrub', 'constant', 'dvars']\n",
    "beh_regs = [x for x in beh_regs if all(y not in x for y in to_filter)]\n",
    "design_matrix[beh_regs].corr()"
   ]
  },
  {
   "cell_type": "code",
   "execution_count": null,
   "id": "5fb06d4c-47dc-465b-92cb-9920a28253c8",
   "metadata": {},
   "outputs": [],
   "source": [
    "design_matrix= make_level1_design_matrix(subnum, runnum, 'model6', data_path, behavior_path, regress_rt = 1)\n",
    "beh_regs = design_matrix.columns\n",
    "to_filter = ['trans', 'rot', 'drift', 'framewise', 'scrub', 'constant', 'dvars']\n",
    "beh_regs = [x for x in beh_regs if all(y not in x for y in to_filter)]\n",
    "design_matrix[beh_regs].corr()"
   ]
  },
  {
   "cell_type": "code",
   "execution_count": null,
   "id": "06f9b17e-45db-40cf-8ce4-56a501549133",
   "metadata": {},
   "outputs": [],
   "source": [
    "mnum = 'model1'\n",
    "reg_rt = 1\n",
    "out_path = os.path.join(data_path, \"derivatives/nilearn/glm/level1/%s_reg-rt\")%(mnum, str(reg_rt)\n",
    "\n",
    "# run_level1(subnum, mnum, data_path, behavior_path, out_path, regress_rt = reg_rt)"
   ]
  },
  {
   "cell_type": "code",
   "execution_count": null,
   "id": "e318e474-7fb3-467a-b132-5c6d8c364f54",
   "metadata": {},
   "outputs": [],
   "source": [
    "mnum = 'model2'\n",
    "reg_rt = 0\n",
    "out_path = os.path.join(data_path, \"derivatives/nilearn/glm/level1/%s_reg-rt\")%(mnum, str(reg_rt)\n",
    "                                                                                \n",
    "# run_level1(subnum, 'model2', data_path, behavior_path, out_path, regress_rt = 0)"
   ]
  },
  {
   "cell_type": "markdown",
   "id": "53c1a893-68b4-4a42-975f-8a3739af4120",
   "metadata": {},
   "source": [
    "Function to get average correlation in design matrices"
   ]
  },
  {
   "cell_type": "code",
   "execution_count": 8,
   "id": "afce72c0-f943-4306-9e13-748b321d63be",
   "metadata": {},
   "outputs": [],
   "source": [
    "def get_mean_desmat_cor(mnum, reg_rt, l1_path):\n",
    "\n",
    "    des_mats = glob.glob(os.path.join(l1_path, 'model%s_reg-rt%s/**/*design_matrix*'%(mnum, reg_rt)))\n",
    "\n",
    "\n",
    "    beh_regs = pd.read_csv(des_mats[0]).columns\n",
    "    to_filter = ['trans', 'rot', 'drift', 'framewise', 'scrub', 'constant', 'dvars']\n",
    "    beh_regs = [x for x in beh_regs if all(y not in x for y in to_filter)]\n",
    "\n",
    "    cor_mats = []\n",
    "    for i, cur_des_mat in enumerate(des_mats):\n",
    "        cur_des_mat = pd.read_csv(cur_des_mat)\n",
    "        cor_mats.append(cur_des_mat[beh_regs].corr())\n",
    "\n",
    "    df_concat = pd.concat(cor_mats)\n",
    "    by_row_index = df_concat.groupby(df_concat.index)\n",
    "    df_means = by_row_index.mean()\n",
    "    \n",
    "    return df_means\n"
   ]
  },
  {
   "cell_type": "code",
   "execution_count": 9,
   "id": "2517800d-9a1d-4b72-8acb-0593256474b1",
   "metadata": {},
   "outputs": [
    {
     "data": {
      "text/html": [
       "<div>\n",
       "<style scoped>\n",
       "    .dataframe tbody tr th:only-of-type {\n",
       "        vertical-align: middle;\n",
       "    }\n",
       "\n",
       "    .dataframe tbody tr th {\n",
       "        vertical-align: top;\n",
       "    }\n",
       "\n",
       "    .dataframe thead th {\n",
       "        text-align: right;\n",
       "    }\n",
       "</style>\n",
       "<table border=\"1\" class=\"dataframe\">\n",
       "  <thead>\n",
       "    <tr style=\"text-align: right;\">\n",
       "      <th></th>\n",
       "      <th>choice_st</th>\n",
       "      <th>cross_ev</th>\n",
       "      <th>cross_rt</th>\n",
       "      <th>fractalProb_ev</th>\n",
       "      <th>reward_ev</th>\n",
       "      <th>stim_ev</th>\n",
       "      <th>stim_rt</th>\n",
       "    </tr>\n",
       "  </thead>\n",
       "  <tbody>\n",
       "    <tr>\n",
       "      <th>choice_st</th>\n",
       "      <td>1.000000</td>\n",
       "      <td>-0.727746</td>\n",
       "      <td>-0.204338</td>\n",
       "      <td>0.883895</td>\n",
       "      <td>0.399411</td>\n",
       "      <td>0.970985</td>\n",
       "      <td>0.001728</td>\n",
       "    </tr>\n",
       "    <tr>\n",
       "      <th>cross_ev</th>\n",
       "      <td>-0.727746</td>\n",
       "      <td>1.000000</td>\n",
       "      <td>0.005791</td>\n",
       "      <td>-0.507969</td>\n",
       "      <td>-0.633976</td>\n",
       "      <td>-0.788727</td>\n",
       "      <td>-0.065788</td>\n",
       "    </tr>\n",
       "    <tr>\n",
       "      <th>cross_rt</th>\n",
       "      <td>-0.204338</td>\n",
       "      <td>0.005791</td>\n",
       "      <td>1.000000</td>\n",
       "      <td>-0.245118</td>\n",
       "      <td>-0.103321</td>\n",
       "      <td>-0.181062</td>\n",
       "      <td>-0.031689</td>\n",
       "    </tr>\n",
       "    <tr>\n",
       "      <th>fractalProb_ev</th>\n",
       "      <td>0.883895</td>\n",
       "      <td>-0.507969</td>\n",
       "      <td>-0.245118</td>\n",
       "      <td>1.000000</td>\n",
       "      <td>0.009968</td>\n",
       "      <td>0.754971</td>\n",
       "      <td>0.002497</td>\n",
       "    </tr>\n",
       "    <tr>\n",
       "      <th>reward_ev</th>\n",
       "      <td>0.399411</td>\n",
       "      <td>-0.633976</td>\n",
       "      <td>-0.103321</td>\n",
       "      <td>0.009968</td>\n",
       "      <td>1.000000</td>\n",
       "      <td>0.584014</td>\n",
       "      <td>-0.092207</td>\n",
       "    </tr>\n",
       "    <tr>\n",
       "      <th>stim_ev</th>\n",
       "      <td>0.970985</td>\n",
       "      <td>-0.788727</td>\n",
       "      <td>-0.181062</td>\n",
       "      <td>0.754971</td>\n",
       "      <td>0.584014</td>\n",
       "      <td>1.000000</td>\n",
       "      <td>0.002369</td>\n",
       "    </tr>\n",
       "    <tr>\n",
       "      <th>stim_rt</th>\n",
       "      <td>0.001728</td>\n",
       "      <td>-0.065788</td>\n",
       "      <td>-0.031689</td>\n",
       "      <td>0.002497</td>\n",
       "      <td>-0.092207</td>\n",
       "      <td>0.002369</td>\n",
       "      <td>1.000000</td>\n",
       "    </tr>\n",
       "  </tbody>\n",
       "</table>\n",
       "</div>"
      ],
      "text/plain": [
       "                choice_st  cross_ev  cross_rt  fractalProb_ev  reward_ev  \\\n",
       "choice_st        1.000000 -0.727746 -0.204338        0.883895   0.399411   \n",
       "cross_ev        -0.727746  1.000000  0.005791       -0.507969  -0.633976   \n",
       "cross_rt        -0.204338  0.005791  1.000000       -0.245118  -0.103321   \n",
       "fractalProb_ev   0.883895 -0.507969 -0.245118        1.000000   0.009968   \n",
       "reward_ev        0.399411 -0.633976 -0.103321        0.009968   1.000000   \n",
       "stim_ev          0.970985 -0.788727 -0.181062        0.754971   0.584014   \n",
       "stim_rt          0.001728 -0.065788 -0.031689        0.002497  -0.092207   \n",
       "\n",
       "                 stim_ev   stim_rt  \n",
       "choice_st       0.970985  0.001728  \n",
       "cross_ev       -0.788727 -0.065788  \n",
       "cross_rt       -0.181062 -0.031689  \n",
       "fractalProb_ev  0.754971  0.002497  \n",
       "reward_ev       0.584014 -0.092207  \n",
       "stim_ev         1.000000  0.002369  \n",
       "stim_rt         0.002369  1.000000  "
      ]
     },
     "execution_count": 9,
     "metadata": {},
     "output_type": "execute_result"
    }
   ],
   "source": [
    "mnum = \"1\"\n",
    "reg_rt = \"1\"\n",
    "l1_path = os.path.join(data_path, \"derivatives/nilearn/glm/level1/\")\n",
    "\n",
    "get_mean_desmat_cor(mnum, reg_rt, l1_path)\n"
   ]
  },
  {
   "cell_type": "code",
   "execution_count": 10,
   "id": "86b7e346-930a-494f-a631-f57972049b19",
   "metadata": {},
   "outputs": [
    {
     "data": {
      "text/html": [
       "<div>\n",
       "<style scoped>\n",
       "    .dataframe tbody tr th:only-of-type {\n",
       "        vertical-align: middle;\n",
       "    }\n",
       "\n",
       "    .dataframe tbody tr th {\n",
       "        vertical-align: top;\n",
       "    }\n",
       "\n",
       "    .dataframe thead th {\n",
       "        text-align: right;\n",
       "    }\n",
       "</style>\n",
       "<table border=\"1\" class=\"dataframe\">\n",
       "  <thead>\n",
       "    <tr style=\"text-align: right;\">\n",
       "      <th></th>\n",
       "      <th>choice_st</th>\n",
       "      <th>cross_ev</th>\n",
       "      <th>fractalProb_ev</th>\n",
       "      <th>fractalProb_par</th>\n",
       "      <th>reward_ev</th>\n",
       "      <th>stim_ev</th>\n",
       "    </tr>\n",
       "  </thead>\n",
       "  <tbody>\n",
       "    <tr>\n",
       "      <th>choice_st</th>\n",
       "      <td>1.000000</td>\n",
       "      <td>-0.794875</td>\n",
       "      <td>0.883895</td>\n",
       "      <td>0.660567</td>\n",
       "      <td>0.399411</td>\n",
       "      <td>0.851919</td>\n",
       "    </tr>\n",
       "    <tr>\n",
       "      <th>cross_ev</th>\n",
       "      <td>-0.794875</td>\n",
       "      <td>1.000000</td>\n",
       "      <td>-0.545384</td>\n",
       "      <td>-0.401978</td>\n",
       "      <td>-0.709274</td>\n",
       "      <td>-0.802301</td>\n",
       "    </tr>\n",
       "    <tr>\n",
       "      <th>fractalProb_ev</th>\n",
       "      <td>0.883895</td>\n",
       "      <td>-0.545384</td>\n",
       "      <td>1.000000</td>\n",
       "      <td>0.747862</td>\n",
       "      <td>0.009968</td>\n",
       "      <td>0.651633</td>\n",
       "    </tr>\n",
       "    <tr>\n",
       "      <th>fractalProb_par</th>\n",
       "      <td>0.660567</td>\n",
       "      <td>-0.401978</td>\n",
       "      <td>0.747862</td>\n",
       "      <td>1.000000</td>\n",
       "      <td>0.024525</td>\n",
       "      <td>0.428105</td>\n",
       "    </tr>\n",
       "    <tr>\n",
       "      <th>reward_ev</th>\n",
       "      <td>0.399411</td>\n",
       "      <td>-0.709274</td>\n",
       "      <td>0.009968</td>\n",
       "      <td>0.024525</td>\n",
       "      <td>1.000000</td>\n",
       "      <td>0.502127</td>\n",
       "    </tr>\n",
       "    <tr>\n",
       "      <th>stim_ev</th>\n",
       "      <td>0.851919</td>\n",
       "      <td>-0.802301</td>\n",
       "      <td>0.651633</td>\n",
       "      <td>0.428105</td>\n",
       "      <td>0.502127</td>\n",
       "      <td>1.000000</td>\n",
       "    </tr>\n",
       "  </tbody>\n",
       "</table>\n",
       "</div>"
      ],
      "text/plain": [
       "                 choice_st  cross_ev  fractalProb_ev  fractalProb_par  \\\n",
       "choice_st         1.000000 -0.794875        0.883895         0.660567   \n",
       "cross_ev         -0.794875  1.000000       -0.545384        -0.401978   \n",
       "fractalProb_ev    0.883895 -0.545384        1.000000         0.747862   \n",
       "fractalProb_par   0.660567 -0.401978        0.747862         1.000000   \n",
       "reward_ev         0.399411 -0.709274        0.009968         0.024525   \n",
       "stim_ev           0.851919 -0.802301        0.651633         0.428105   \n",
       "\n",
       "                 reward_ev   stim_ev  \n",
       "choice_st         0.399411  0.851919  \n",
       "cross_ev         -0.709274 -0.802301  \n",
       "fractalProb_ev    0.009968  0.651633  \n",
       "fractalProb_par   0.024525  0.428105  \n",
       "reward_ev         1.000000  0.502127  \n",
       "stim_ev           0.502127  1.000000  "
      ]
     },
     "execution_count": 10,
     "metadata": {},
     "output_type": "execute_result"
    }
   ],
   "source": [
    "mnum = \"2\"\n",
    "reg_rt = \"0\"\n",
    "l1_path = os.path.join(data_path, \"derivatives/nilearn/glm/level1/\")\n",
    "\n",
    "get_mean_desmat_cor(mnum, reg_rt, l1_path)"
   ]
  },
  {
   "cell_type": "code",
   "execution_count": null,
   "id": "75fb7c41-7198-471b-af89-0e849a1d5721",
   "metadata": {},
   "outputs": [],
   "source": []
  }
 ],
 "metadata": {
  "kernelspec": {
   "display_name": "Python 3 (ipykernel)",
   "language": "python",
   "name": "python3"
  },
  "language_info": {
   "codemirror_mode": {
    "name": "ipython",
    "version": 3
   },
   "file_extension": ".py",
   "mimetype": "text/x-python",
   "name": "python",
   "nbconvert_exporter": "python",
   "pygments_lexer": "ipython3",
   "version": "3.8.3"
  }
 },
 "nbformat": 4,
 "nbformat_minor": 5
}
