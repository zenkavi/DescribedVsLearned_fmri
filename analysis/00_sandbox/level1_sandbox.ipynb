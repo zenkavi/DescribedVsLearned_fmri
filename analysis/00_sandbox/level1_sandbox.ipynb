{
 "cells": [
  {
   "cell_type": "code",
   "execution_count": null,
   "id": "ab8591ef-3ffc-406f-a700-59be670edd1e",
   "metadata": {},
   "outputs": [],
   "source": [
    "import glob\n",
    "import json\n",
    "import matplotlib.pyplot as plt\n",
    "%matplotlib inline\n",
    "import numpy as np\n",
    "import nibabel as nib\n",
    "from nilearn.glm.first_level import FirstLevelModel\n",
    "from nilearn.glm.first_level import make_first_level_design_matrix\n",
    "from nilearn.plotting import plot_design_matrix\n",
    "import os\n",
    "import pandas as pd\n"
   ]
  },
  {
   "cell_type": "code",
   "execution_count": 1,
   "id": "f1733d0a-9a68-43ad-8c50-ee48c6f7a05d",
   "metadata": {},
   "outputs": [
    {
     "ename": "SyntaxError",
     "evalue": "invalid syntax (level1_utils.py, line 379)",
     "output_type": "error",
     "traceback": [
      "Traceback \u001b[0;36m(most recent call last)\u001b[0m:\n",
      "  File \u001b[1;32m\"/Users/zeynepenkavi/.pyenv/versions/3.8.3/envs/py-dvl-fmri/lib/python3.8/site-packages/IPython/core/interactiveshell.py\"\u001b[0m, line \u001b[1;32m3441\u001b[0m, in \u001b[1;35mrun_code\u001b[0m\n    exec(code_obj, self.user_global_ns, self.user_ns)\n",
      "\u001b[0;36m  File \u001b[0;32m\"/var/folders/10/zpzbg__x3hlc56gwq9zf6r600000gn/T/ipykernel_58680/3945834780.py\"\u001b[0;36m, line \u001b[0;32m5\u001b[0;36m, in \u001b[0;35m<module>\u001b[0;36m\u001b[0m\n\u001b[0;31m    from level1_utils import run_level1\u001b[0m\n",
      "\u001b[0;36m  File \u001b[0;32m\"/Users/zeynepenkavi/Documents/RangelLab/DescribedVsLearned_fmri/analysis/00_sandbox/../01_level1/level1_utils.py\"\u001b[0;36m, line \u001b[0;32m379\u001b[0m\n\u001b[0;31m    contrasts = make_contrasts(design_matrix[], mnum)\u001b[0m\n\u001b[0m                                             ^\u001b[0m\n\u001b[0;31mSyntaxError\u001b[0m\u001b[0;31m:\u001b[0m invalid syntax\n"
     ]
    }
   ],
   "source": [
    "import os\n",
    "from pyhere import here\n",
    "import sys\n",
    "sys.path.append(str(here('01_level1')))\n",
    "from level1_utils import run_level1"
   ]
  },
  {
   "cell_type": "code",
   "execution_count": 2,
   "id": "d19ea9d7-627d-4ce0-bb49-c494c106fd8e",
   "metadata": {},
   "outputs": [],
   "source": [
    "subnum = '01'\n",
    "mnum = 'model3'\n",
    "\n",
    "base_path = '/Users/zeynepenkavi/Downloads/GTavares_2017_arbitration/'\n",
    "data_path = os.path.join(base_path, 'bids_nifti_wface/')\n",
    "behavior_path = os.path.join(base_path, 'behavioral_data/all_trials.csv')\n",
    "out_path = os.path.join(data_path, 'derivatives/nilearn/glm/level1/%s_reg-rt%s'%(mnum, \"0\"))"
   ]
  },
  {
   "cell_type": "code",
   "execution_count": null,
   "id": "a9e150b6-45ec-4553-b829-7af91e5b3344",
   "metadata": {},
   "outputs": [],
   "source": [
    "run_level1(subnum, mnum, data_path, behavior_path, out_path, regress_rt=0, save_contrast = True)"
   ]
  },
  {
   "cell_type": "code",
   "execution_count": null,
   "id": "5846472f-b937-4eca-9e1e-e3b48f9e2070",
   "metadata": {},
   "outputs": [],
   "source": [
    "from level1_utils import make_level1_design_matrix, get_events"
   ]
  },
  {
   "cell_type": "code",
   "execution_count": null,
   "id": "26d46402-168e-4f00-87a8-65c324c3fd0c",
   "metadata": {},
   "outputs": [],
   "source": [
    "to_filter = ['trans', 'rot', 'drift', 'framewise', 'scrub', 'constant', 'dvars']\n",
    "design_matrix= make_level1_design_matrix(subnum, runnum, 'model1', data_path, behavior_path, regress_rt = 0)\n",
    "# plot_design_matrix(design_matrix)\n",
    "beh_regs = design_matrix.columns\n",
    "beh_regs = [x for x in beh_regs if all(y not in x for y in to_filter)]\n",
    "design_matrix[beh_regs].corr()"
   ]
  },
  {
   "cell_type": "code",
   "execution_count": null,
   "id": "e602e0bd-7512-4393-9076-133d01e1f91b",
   "metadata": {},
   "outputs": [],
   "source": [
    "design_matrix= make_level1_design_matrix(subnum, runnum, 'model1a', data_path, behavior_path, regress_rt = 0)\n",
    "beh_regs = design_matrix.columns\n",
    "beh_regs = [x for x in beh_regs if all(y not in x for y in to_filter)]\n",
    "design_matrix[beh_regs].corr()"
   ]
  },
  {
   "cell_type": "code",
   "execution_count": null,
   "id": "8744210b-f086-4ed2-bb36-4d55ce9a1f67",
   "metadata": {},
   "outputs": [],
   "source": [
    "design_matrix = make_level1_design_matrix(subnum, runnum, 'model2', data_path, behavior_path, regress_rt = 0)\n",
    "beh_regs = design_matrix.columns\n",
    "beh_regs = [x for x in beh_regs if all(y not in x for y in to_filter)]\n",
    "design_matrix[beh_regs].corr()"
   ]
  },
  {
   "cell_type": "code",
   "execution_count": null,
   "id": "108ba0e5-4fd7-42c4-9771-ae94e37ed88a",
   "metadata": {},
   "outputs": [],
   "source": [
    "design_matrix= make_level1_design_matrix(subnum, runnum, 'model3', data_path, behavior_path, regress_rt = 0, hrf_model=None)\n",
    "beh_regs = design_matrix.columns\n",
    "beh_regs = [x for x in beh_regs if all(y not in x for y in to_filter)]\n",
    "plot_design_matrix(design_matrix)"
   ]
  }
 ],
 "metadata": {
  "kernelspec": {
   "display_name": "Python 3 (ipykernel)",
   "language": "python",
   "name": "python3"
  },
  "language_info": {
   "codemirror_mode": {
    "name": "ipython",
    "version": 3
   },
   "file_extension": ".py",
   "mimetype": "text/x-python",
   "name": "python",
   "nbconvert_exporter": "python",
   "pygments_lexer": "ipython3",
   "version": "3.8.3"
  }
 },
 "nbformat": 4,
 "nbformat_minor": 5
}
