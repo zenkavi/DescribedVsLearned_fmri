{
 "cells": [
  {
   "cell_type": "code",
   "execution_count": null,
   "id": "ab8591ef-3ffc-406f-a700-59be670edd1e",
   "metadata": {},
   "outputs": [],
   "source": [
    "import glob\n",
    "import json\n",
    "import matplotlib.pyplot as plt\n",
    "%matplotlib inline\n",
    "import numpy as np\n",
    "import nibabel as nib\n",
    "from nilearn.glm.first_level import FirstLevelModel\n",
    "from nilearn.glm.first_level import make_first_level_design_matrix\n",
    "from nilearn.plotting import plot_design_matrix, plot_stat_map\n",
    "import os\n",
    "import pandas as pd\n",
    "import pickle\n",
    "import re\n",
    "\n",
    "import sys\n",
    "sys.path.append('/Users/zeynepenkavi/Documents/RangelLab/DescribedVsLearned_fmri/analysis/01_level1')\n",
    "from level1_utils import run_level1, make_level1_design_matrix, get_events"
   ]
  },
  {
   "cell_type": "code",
   "execution_count": null,
   "id": "d19ea9d7-627d-4ce0-bb49-c494c106fd8e",
   "metadata": {},
   "outputs": [],
   "source": [
    "data_path = '/Users/zeynepenkavi/Downloads/GTavares_2017_arbitration/bids_nifti_wface/'\n",
    "behavior_path = '/Users/zeynepenkavi/Downloads/GTavares_2017_arbitration/behavioral_data/all_trials.csv'\n",
    "out_path = os.path.join(data_path, \"derivatives/nilearn/glm/level1/\")\n",
    "\n",
    "subnum = '01'\n",
    "runnum='4'"
   ]
  },
  {
   "cell_type": "code",
   "execution_count": null,
   "id": "26d46402-168e-4f00-87a8-65c324c3fd0c",
   "metadata": {},
   "outputs": [],
   "source": [
    "design_matrix= make_level1_design_matrix(subnum, runnum, data_path, behavior_path, regress_rt = 0)\n",
    "plot_design_matrix(design_matrix)"
   ]
  },
  {
   "cell_type": "code",
   "execution_count": null,
   "id": "2795ade2-97f7-4ec9-bc32-527cd7669b42",
   "metadata": {},
   "outputs": [],
   "source": [
    "beh_regs = design_matrix.columns\n",
    "beh_regs = [i for i in beh_regs if '_' not in i]\n",
    "beh_regs = [i for i in beh_regs if 'scrub' not in i]\n",
    "beh_regs = [i for i in beh_regs if 'constant' not in i]\n",
    "design_matrix[beh_regs].corr()"
   ]
  },
  {
   "cell_type": "code",
   "execution_count": null,
   "id": "1991dd76-7052-4767-ae51-2b0505b8d1fa",
   "metadata": {},
   "outputs": [],
   "source": [
    "design_matrix= make_level1_design_matrix(subnum, runnum, data_path, behavior_path, regress_rt = 1)\n",
    "plot_design_matrix(design_matrix)"
   ]
  },
  {
   "cell_type": "code",
   "execution_count": null,
   "id": "ffa6e8c4-1ec0-45a6-b5a2-966fd6e509df",
   "metadata": {},
   "outputs": [],
   "source": [
    "beh_regs = design_matrix.columns\n",
    "beh_regs = [i for i in beh_regs if '_' not in i]\n",
    "beh_regs = [i for i in beh_regs if 'scrub' not in i]\n",
    "beh_regs = [i for i in beh_regs if 'constant' not in i]\n",
    "design_matrix[beh_regs].corr()"
   ]
  },
  {
   "cell_type": "code",
   "execution_count": null,
   "id": "06f9b17e-45db-40cf-8ce4-56a501549133",
   "metadata": {},
   "outputs": [],
   "source": [
    "run_level1(subnum, data_path, behavior_path, out_path, regress_rt = 1)"
   ]
  },
  {
   "cell_type": "code",
   "execution_count": null,
   "id": "e318e474-7fb3-467a-b132-5c6d8c364f54",
   "metadata": {},
   "outputs": [],
   "source": [
    "run_level1(subnum, data_path, behavior_path, out_path, regress_rt = 0)"
   ]
  },
  {
   "cell_type": "code",
   "execution_count": null,
   "id": "ff93f3e6-bd27-4e84-a67a-be97bb2d7f0b",
   "metadata": {},
   "outputs": [],
   "source": [
    "# contrast_id = 'valDiff'\n",
    "# zmap = nib.load(os.path.join(out_path, 'sub-%s/contrasts/sub-%s_run-%s_%s.nii.gz'%(subnum, subnum, runnum, contrast_id)))\n",
    "# plot_stat_map(zmap, threshold=3.0, title='sub-%s_run-%s_%s' % (subnum, runnum, contrast_id))"
   ]
  },
  {
   "cell_type": "code",
   "execution_count": null,
   "id": "68cb1ca5-71ee-4e66-9682-988fecdb666e",
   "metadata": {},
   "outputs": [],
   "source": []
  }
 ],
 "metadata": {
  "kernelspec": {
   "display_name": "Python 3 (ipykernel)",
   "language": "python",
   "name": "python3"
  },
  "language_info": {
   "codemirror_mode": {
    "name": "ipython",
    "version": 3
   },
   "file_extension": ".py",
   "mimetype": "text/x-python",
   "name": "python",
   "nbconvert_exporter": "python",
   "pygments_lexer": "ipython3",
   "version": "3.8.3"
  }
 },
 "nbformat": 4,
 "nbformat_minor": 5
}
