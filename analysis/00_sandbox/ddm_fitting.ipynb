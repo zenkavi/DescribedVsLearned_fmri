{
 "cells": [
  {
   "cell_type": "code",
   "execution_count": 1,
   "id": "077c4aa6-a2c9-43a1-8d2b-64fc49b384b7",
   "metadata": {},
   "outputs": [],
   "source": [
    "import numpy as np\n",
    "from scipy.stats import norm\n"
   ]
  },
  {
   "cell_type": "markdown",
   "id": "f4dd2cce-a45b-40e0-a021-589446e5a960",
   "metadata": {},
   "source": [
    "What is the relationship between `get_trial_likelihood` in `ddm.py` and `get_model_log_likelihood` in `ddm_mla.py`?"
   ]
  },
  {
   "cell_type": "code",
   "execution_count": 6,
   "id": "50fe1492-9de9-4fb8-ac4c-1dbfc6d66e1e",
   "metadata": {},
   "outputs": [],
   "source": [
    "decay = 0.002  # decay = 0 means barriers are constant.\n",
    "bias = 0\n",
    "barrier = 1\n",
    "RT = 2000\n",
    "timeStep = 10 #ms\n",
    "approxStateStep = .1\n",
    "bias = 0\n",
    "nonDecisionTime = 0\n",
    "d = .002\n",
    "sigma = .02\n",
    "valueLeft = .7\n",
    "valueRight = .5"
   ]
  },
  {
   "cell_type": "code",
   "execution_count": 5,
   "id": "e73126b8-69de-4949-b1b6-be758bfc2520",
   "metadata": {},
   "outputs": [
    {
     "data": {
      "text/plain": [
       "200"
      ]
     },
     "execution_count": 5,
     "metadata": {},
     "output_type": "execute_result"
    }
   ],
   "source": [
    "numTimeSteps = RT // timeStep\n",
    "numTimeSteps"
   ]
  },
  {
   "cell_type": "code",
   "execution_count": 7,
   "id": "c3d6e96e-5f01-476b-abb2-f304c56ad4ba",
   "metadata": {},
   "outputs": [
    {
     "data": {
      "text/plain": [
       "array([1.        , 0.99800399, 0.99601594, 0.99403579, 0.99206349,\n",
       "       0.99009901, 0.98814229, 0.98619329, 0.98425197, 0.98231827,\n",
       "       0.98039216, 0.97847358, 0.9765625 , 0.97465887, 0.97276265,\n",
       "       0.97087379, 0.96899225, 0.96711799, 0.96525097, 0.96339114,\n",
       "       0.96153846, 0.9596929 , 0.95785441, 0.95602294, 0.95419847,\n",
       "       0.95238095, 0.95057034, 0.9487666 , 0.9469697 , 0.94517958,\n",
       "       0.94339623, 0.94161959, 0.93984962, 0.9380863 , 0.93632959,\n",
       "       0.93457944, 0.93283582, 0.9310987 , 0.92936803, 0.92764378,\n",
       "       0.92592593, 0.92421442, 0.92250923, 0.92081031, 0.91911765,\n",
       "       0.91743119, 0.91575092, 0.91407678, 0.91240876, 0.91074681,\n",
       "       0.90909091, 0.90744102, 0.9057971 , 0.90415913, 0.90252708,\n",
       "       0.9009009 , 0.89928058, 0.89766607, 0.89605735, 0.89445438,\n",
       "       0.89285714, 0.8912656 , 0.88967972, 0.88809947, 0.88652482,\n",
       "       0.88495575, 0.88339223, 0.88183422, 0.88028169, 0.87873462,\n",
       "       0.87719298, 0.87565674, 0.87412587, 0.87260035, 0.87108014,\n",
       "       0.86956522, 0.86805556, 0.86655113, 0.8650519 , 0.86355786,\n",
       "       0.86206897, 0.8605852 , 0.85910653, 0.85763293, 0.85616438,\n",
       "       0.85470085, 0.85324232, 0.85178876, 0.85034014, 0.84889643,\n",
       "       0.84745763, 0.84602369, 0.84459459, 0.84317032, 0.84175084,\n",
       "       0.84033613, 0.83892617, 0.83752094, 0.8361204 , 0.83472454,\n",
       "       0.83333333, 0.83194676, 0.83056478, 0.8291874 , 0.82781457,\n",
       "       0.82644628, 0.82508251, 0.82372323, 0.82236842, 0.82101806,\n",
       "       0.81967213, 0.81833061, 0.81699346, 0.81566069, 0.81433225,\n",
       "       0.81300813, 0.81168831, 0.81037277, 0.80906149, 0.80775444,\n",
       "       0.80645161, 0.80515298, 0.80385852, 0.80256822, 0.80128205,\n",
       "       0.8       , 0.79872204, 0.79744817, 0.79617834, 0.79491256,\n",
       "       0.79365079, 0.79239303, 0.79113924, 0.78988942, 0.78864353,\n",
       "       0.78740157, 0.78616352, 0.78492936, 0.78369906, 0.78247261,\n",
       "       0.78125   , 0.7800312 , 0.7788162 , 0.77760498, 0.77639752,\n",
       "       0.7751938 , 0.77399381, 0.77279753, 0.77160494, 0.77041602,\n",
       "       0.76923077, 0.76804916, 0.76687117, 0.76569678, 0.76452599,\n",
       "       0.76335878, 0.76219512, 0.76103501, 0.75987842, 0.75872534,\n",
       "       0.75757576, 0.75642965, 0.75528701, 0.75414781, 0.75301205,\n",
       "       0.7518797 , 0.75075075, 0.74962519, 0.74850299, 0.74738416,\n",
       "       0.74626866, 0.74515648, 0.74404762, 0.74294205, 0.74183976,\n",
       "       0.74074074, 0.73964497, 0.73855244, 0.73746313, 0.73637703,\n",
       "       0.73529412, 0.73421439, 0.73313783, 0.73206442, 0.73099415,\n",
       "       0.72992701, 0.72886297, 0.72780204, 0.72674419, 0.7256894 ,\n",
       "       0.72463768, 0.723589  , 0.72254335, 0.72150072, 0.7204611 ,\n",
       "       0.71942446, 0.7183908 , 0.71736011, 0.71633238, 0.71530758])"
      ]
     },
     "execution_count": 7,
     "metadata": {},
     "output_type": "execute_result"
    }
   ],
   "source": [
    "barrierUp = barrier * np.ones(numTimeSteps)\n",
    "barrierDown = -barrier * np.ones(numTimeSteps)\n",
    "for t in range(1, numTimeSteps):\n",
    "    barrierUp[t] = barrier / (1 + (decay * t))\n",
    "    barrierDown[t] = -barrier / (1 + (decay * t))\n",
    "barrierUp"
   ]
  },
  {
   "cell_type": "code",
   "execution_count": 3,
   "id": "e0c095b6-8666-4a8e-9623-4814f74baa09",
   "metadata": {},
   "outputs": [
    {
     "data": {
      "text/plain": [
       "10.0"
      ]
     },
     "execution_count": 3,
     "metadata": {},
     "output_type": "execute_result"
    }
   ],
   "source": [
    "halfNumStateBins = np.ceil(1 / .1)\n",
    "halfNumStateBins"
   ]
  },
  {
   "cell_type": "code",
   "execution_count": 8,
   "id": "aa4039d2-06c1-4f1f-bd7d-7f14b4154a45",
   "metadata": {},
   "outputs": [
    {
     "data": {
      "text/plain": [
       "0.09523809523809523"
      ]
     },
     "execution_count": 8,
     "metadata": {},
     "output_type": "execute_result"
    }
   ],
   "source": [
    "stateStep = 1 / (halfNumStateBins + 0.5)\n",
    "stateStep"
   ]
  },
  {
   "cell_type": "code",
   "execution_count": 9,
   "id": "8b67d678-da34-4095-93a8-bd37259d3c47",
   "metadata": {},
   "outputs": [
    {
     "data": {
      "text/plain": [
       "array([-0.95238095, -0.85714286, -0.76190476, -0.66666667, -0.57142857,\n",
       "       -0.47619048, -0.38095238, -0.28571429, -0.19047619, -0.0952381 ,\n",
       "        0.        ,  0.0952381 ,  0.19047619,  0.28571429,  0.38095238,\n",
       "        0.47619048,  0.57142857,  0.66666667,  0.76190476,  0.85714286,\n",
       "        0.95238095])"
      ]
     },
     "execution_count": 9,
     "metadata": {},
     "output_type": "execute_result"
    }
   ],
   "source": [
    "# The vertical axis is divided into states.\n",
    "states = np.arange(-1 + (stateStep / 2),\n",
    "                   1 - (stateStep / 2) + stateStep,\n",
    "                   stateStep)\n",
    "states"
   ]
  },
  {
   "cell_type": "code",
   "execution_count": 10,
   "id": "ecbfcc54-be81-45a5-a8b9-ebf6a4648deb",
   "metadata": {},
   "outputs": [
    {
     "data": {
      "text/plain": [
       "10"
      ]
     },
     "execution_count": 10,
     "metadata": {},
     "output_type": "execute_result"
    }
   ],
   "source": [
    "biasState = np.argmin(np.absolute(states - bias))\n",
    "\n",
    "biasState"
   ]
  },
  {
   "cell_type": "code",
   "execution_count": 12,
   "id": "503c85cf-deef-4865-84a9-2b279c0a577d",
   "metadata": {},
   "outputs": [
    {
     "data": {
      "text/plain": [
       "array([1., 0., 0., 0., 0., 0., 0., 0., 0., 0., 0., 0., 0., 0., 0., 0., 0.,\n",
       "       0., 0., 0., 0., 0., 0., 0., 0., 0., 0., 0., 0., 0., 0., 0., 0., 0.,\n",
       "       0., 0., 0., 0., 0., 0., 0., 0., 0., 0., 0., 0., 0., 0., 0., 0., 0.,\n",
       "       0., 0., 0., 0., 0., 0., 0., 0., 0., 0., 0., 0., 0., 0., 0., 0., 0.,\n",
       "       0., 0., 0., 0., 0., 0., 0., 0., 0., 0., 0., 0., 0., 0., 0., 0., 0.,\n",
       "       0., 0., 0., 0., 0., 0., 0., 0., 0., 0., 0., 0., 0., 0., 0., 0., 0.,\n",
       "       0., 0., 0., 0., 0., 0., 0., 0., 0., 0., 0., 0., 0., 0., 0., 0., 0.,\n",
       "       0., 0., 0., 0., 0., 0., 0., 0., 0., 0., 0., 0., 0., 0., 0., 0., 0.,\n",
       "       0., 0., 0., 0., 0., 0., 0., 0., 0., 0., 0., 0., 0., 0., 0., 0., 0.,\n",
       "       0., 0., 0., 0., 0., 0., 0., 0., 0., 0., 0., 0., 0., 0., 0., 0., 0.,\n",
       "       0., 0., 0., 0., 0., 0., 0., 0., 0., 0., 0., 0., 0., 0., 0., 0., 0.,\n",
       "       0., 0., 0., 0., 0., 0., 0., 0., 0., 0., 0., 0., 0.])"
      ]
     },
     "execution_count": 12,
     "metadata": {},
     "output_type": "execute_result"
    }
   ],
   "source": [
    "# Initial probability for all states is zero, except the bias state,\n",
    "# for which the initial probability is one.\n",
    "prStates = np.zeros((states.size, numTimeSteps))\n",
    "prStates[biasState,0] = 1\n",
    "\n",
    "# The probability of crossing each barrier over the time of the trial.\n",
    "probUpCrossing = np.zeros(numTimeSteps)\n",
    "probDownCrossing = np.zeros(numTimeSteps)\n",
    "\n",
    "prStates[biasState]"
   ]
  },
  {
   "cell_type": "code",
   "execution_count": 14,
   "id": "e6e53e88-3e8d-47ee-91a4-b8ca71fdb6c4",
   "metadata": {},
   "outputs": [
    {
     "data": {
      "text/plain": [
       "array([ 0.47619048,  0.38095238,  0.28571429,  0.19047619,  0.0952381 ,\n",
       "        0.        , -0.0952381 , -0.19047619, -0.28571429, -0.38095238,\n",
       "       -0.47619048, -0.57142857, -0.66666667, -0.76190476, -0.85714286,\n",
       "       -0.95238095, -1.04761905, -1.14285714, -1.23809524, -1.33333333,\n",
       "       -1.42857143])"
      ]
     },
     "execution_count": 14,
     "metadata": {},
     "output_type": "execute_result"
    }
   ],
   "source": [
    "changeMatrix = np.subtract(states.reshape(states.size, 1), states)\n",
    "changeUp = np.subtract(barrierUp, states.reshape(states.size, 1))\n",
    "changeDown = np.subtract(barrierDown, states.reshape(states.size, 1))\n",
    "changeMatrix[5]"
   ]
  },
  {
   "cell_type": "code",
   "execution_count": 18,
   "id": "4141ed6d-713c-4ff0-b3fe-4e7169392e05",
   "metadata": {},
   "outputs": [
    {
     "data": {
      "text/plain": [
       "array([-0.04761905, -0.04562304, -0.04363498, -0.04165483, -0.03968254,\n",
       "       -0.03771806, -0.03576134, -0.03381234, -0.03187102, -0.02993732,\n",
       "       -0.0280112 , -0.02609263, -0.02418155, -0.02227792, -0.02038169,\n",
       "       -0.01849283, -0.0166113 , -0.01473704, -0.01287001, -0.01101018,\n",
       "       -0.00915751, -0.00731195, -0.00547345, -0.00364199, -0.00181752,\n",
       "        0.        ,  0.00181061,  0.00361435,  0.00541126,  0.00720137,\n",
       "        0.00898473,  0.01076137,  0.01253133,  0.01429465,  0.01605136,\n",
       "        0.01780151,  0.01954513,  0.02128226,  0.02301292,  0.02473717,\n",
       "        0.02645503,  0.02816653,  0.02987173,  0.03157064,  0.03326331,\n",
       "        0.03494976,  0.03663004,  0.03830417,  0.03997219,  0.04163414,\n",
       "        0.04329004,  0.04493994,  0.04658385,  0.04822182,  0.04985388,\n",
       "        0.05148005,  0.05310038,  0.05471488,  0.0563236 ,  0.05792657,\n",
       "        0.05952381,  0.06111536,  0.06270124,  0.06428149,  0.06585613,\n",
       "        0.0674252 ,  0.06898873,  0.07054674,  0.07209926,  0.07364633,\n",
       "        0.07518797,  0.07672421,  0.07825508,  0.0797806 ,  0.08130081,\n",
       "        0.08281573,  0.0843254 ,  0.08582983,  0.08732905,  0.08882309,\n",
       "        0.09031199,  0.09179575,  0.09327442,  0.09474802,  0.09621657,\n",
       "        0.0976801 ,  0.09913863,  0.1005922 ,  0.10204082,  0.10348452,\n",
       "        0.10492333,  0.10635726,  0.10778636,  0.10921063,  0.11063011,\n",
       "        0.11204482,  0.11345478,  0.11486001,  0.11626055,  0.11765641,\n",
       "        0.11904762,  0.1204342 ,  0.12181617,  0.12319356,  0.12456638,\n",
       "        0.12593467,  0.12729844,  0.12865772,  0.13001253,  0.13136289,\n",
       "        0.13270882,  0.13405035,  0.13538749,  0.13672027,  0.1380487 ,\n",
       "        0.13937282,  0.14069264,  0.14200818,  0.14331946,  0.14462651,\n",
       "        0.14592934,  0.14722797,  0.14852243,  0.14981273,  0.1510989 ,\n",
       "        0.15238095,  0.15365891,  0.15493279,  0.15620261,  0.15746839,\n",
       "        0.15873016,  0.15998793,  0.16124171,  0.16249154,  0.16373742,\n",
       "        0.16497938,  0.16621743,  0.1674516 ,  0.16868189,  0.16990834,\n",
       "        0.17113095,  0.17234975,  0.17356475,  0.17477598,  0.17598344,\n",
       "        0.17718715,  0.17838714,  0.17958343,  0.18077601,  0.18196493,\n",
       "        0.18315018,  0.1843318 ,  0.18550979,  0.18668417,  0.18785496,\n",
       "        0.18902217,  0.19018583,  0.19134594,  0.19250253,  0.19365561,\n",
       "        0.19480519,  0.1959513 ,  0.19709394,  0.19823314,  0.1993689 ,\n",
       "        0.20050125,  0.2016302 ,  0.20275576,  0.20387796,  0.2049968 ,\n",
       "        0.2061123 ,  0.20722447,  0.20833333,  0.2094389 ,  0.21054119,\n",
       "        0.21164021,  0.21273598,  0.21382852,  0.21491783,  0.21600393,\n",
       "        0.21708683,  0.21816656,  0.21924312,  0.22031653,  0.2213868 ,\n",
       "        0.22245395,  0.22351798,  0.22457891,  0.22563677,  0.22669155,\n",
       "        0.22774327,  0.22879195,  0.2298376 ,  0.23088023,  0.23191986,\n",
       "        0.23295649,  0.23399015,  0.23502084,  0.23604857,  0.23707337])"
      ]
     },
     "execution_count": 18,
     "metadata": {},
     "output_type": "execute_result"
    }
   ],
   "source": [
    "changeDown[0]"
   ]
  },
  {
   "cell_type": "code",
   "execution_count": 20,
   "id": "4c2fc3fa-1dcb-4afa-97c6-13e39775241a",
   "metadata": {},
   "outputs": [
    {
     "data": {
      "text/plain": [
       "array([2.61324948e-004, 1.99431250e+001, 2.16002170e-004, 3.32028667e-019,\n",
       "       7.24345246e-044, 2.24268465e-078, 9.85469919e-123, 6.14569634e-177,\n",
       "       5.43940490e-241, 6.83257240e-315, 0.00000000e+000, 0.00000000e+000,\n",
       "       0.00000000e+000, 0.00000000e+000, 0.00000000e+000, 0.00000000e+000,\n",
       "       0.00000000e+000, 0.00000000e+000, 0.00000000e+000, 0.00000000e+000,\n",
       "       0.00000000e+000])"
      ]
     },
     "execution_count": 20,
     "metadata": {},
     "output_type": "execute_result"
    }
   ],
   "source": [
    "mean = .0004\n",
    "sigma = .02\n",
    "norm.pdf(changeMatrix, mean, sigma)[1]"
   ]
  },
  {
   "cell_type": "code",
   "execution_count": 23,
   "id": "20b26dfb-d15b-4954-9043-6104135ae860",
   "metadata": {},
   "outputs": [
    {
     "data": {
      "text/plain": [
       "array([0.00000000e+000, 0.00000000e+000, 6.50721179e-316, 5.18038562e-242,\n",
       "       5.85304413e-178, 9.38542780e-124, 2.13589014e-079, 6.89852615e-045,\n",
       "       3.16217778e-020, 2.05716352e-005, 1.89934524e+000, 2.48880903e-005,\n",
       "       4.62840975e-020, 1.22158753e-044, 4.57583068e-079, 2.43258411e-123,\n",
       "       1.83534769e-177, 1.96526626e-241, 2.98659966e-315, 0.00000000e+000,\n",
       "       0.00000000e+000])"
      ]
     },
     "execution_count": 23,
     "metadata": {},
     "output_type": "execute_result"
    }
   ],
   "source": [
    "mean = .0004\n",
    "sigma = .02\n",
    "time= 1\n",
    "\n",
    "prStatesNew = (stateStep *\n",
    "               np.dot(norm.pdf(changeMatrix, mean, sigma),\n",
    "               prStates[:,time-1]))\n",
    "prStatesNew[(states >= barrierUp[time]) |\n",
    "            (states <= barrierDown[time])] = 0\n",
    "\n",
    "prStatesNew"
   ]
  },
  {
   "cell_type": "code",
   "execution_count": 24,
   "id": "a3f28ae7-1aef-4e0c-97c5-c203d85ebf70",
   "metadata": {},
   "outputs": [
    {
     "data": {
      "text/plain": [
       "0.0"
      ]
     },
     "execution_count": 24,
     "metadata": {},
     "output_type": "execute_result"
    }
   ],
   "source": [
    "\n",
    "tempUpCross = np.dot(prStates[:,time-1], (1 - norm.cdf(changeUp[:, time], mean, sigma)))\n",
    "tempDownCross = np.dot(prStates[:,time-1],norm.cdf(changeDown[:, time], mean, sigma))\n",
    "\n",
    "tempUpCross"
   ]
  },
  {
   "cell_type": "code",
   "execution_count": 25,
   "id": "351dc6ba-ad2b-4ad4-afd4-663cb1c529cc",
   "metadata": {},
   "outputs": [
    {
     "data": {
      "text/plain": [
       "0.0"
      ]
     },
     "execution_count": 25,
     "metadata": {},
     "output_type": "execute_result"
    }
   ],
   "source": [
    "tempDownCross"
   ]
  },
  {
   "cell_type": "code",
   "execution_count": 27,
   "id": "20dfc5d6-1ca4-4c0a-abbb-68a3b6a20ecf",
   "metadata": {},
   "outputs": [],
   "source": [
    "# Renormalize to cope with numerical approximations.\n",
    "sumIn = np.sum(prStates[:,time-1])\n",
    "sumCurrent = np.sum(prStatesNew) + tempUpCross + tempDownCross\n",
    "prStatesNew = prStatesNew * sumIn / sumCurrent\n",
    "tempUpCross = tempUpCross * sumIn / sumCurrent\n",
    "tempDownCross = tempDownCross * sumIn / sumCurrent"
   ]
  },
  {
   "cell_type": "code",
   "execution_count": 28,
   "id": "4ee55a75-796e-4f8a-8c2b-399ebb382141",
   "metadata": {},
   "outputs": [
    {
     "data": {
      "text/plain": [
       "1.0"
      ]
     },
     "execution_count": 28,
     "metadata": {},
     "output_type": "execute_result"
    }
   ],
   "source": [
    "sumIn"
   ]
  },
  {
   "cell_type": "code",
   "execution_count": 29,
   "id": "9016a172-e031-42a6-b14e-d1c517916e4e",
   "metadata": {},
   "outputs": [
    {
     "data": {
      "text/plain": [
       "1.89939069745728"
      ]
     },
     "execution_count": 29,
     "metadata": {},
     "output_type": "execute_result"
    }
   ],
   "source": [
    "sumCurrent"
   ]
  },
  {
   "cell_type": "code",
   "execution_count": 30,
   "id": "140abef7-82c6-4d0b-8c17-bbd6a661f2a4",
   "metadata": {},
   "outputs": [
    {
     "data": {
      "text/plain": [
       "array([0.00000000e+000, 0.00000000e+000, 3.42594699e-316, 2.72739338e-242,\n",
       "       3.08153775e-178, 4.94128344e-124, 1.12451332e-079, 3.63196796e-045,\n",
       "       1.66483798e-020, 1.08306497e-005, 9.99976066e-001, 1.31031969e-005,\n",
       "       2.43678657e-020, 6.43147053e-045, 2.40910450e-079, 1.28071813e-123,\n",
       "       9.66282341e-178, 1.03468247e-241, 1.57239880e-315, 0.00000000e+000,\n",
       "       0.00000000e+000])"
      ]
     },
     "execution_count": 30,
     "metadata": {},
     "output_type": "execute_result"
    }
   ],
   "source": [
    "prStatesNew"
   ]
  },
  {
   "cell_type": "code",
   "execution_count": 31,
   "id": "e538da05-c1a0-45f3-9ba9-67829a90be71",
   "metadata": {},
   "outputs": [
    {
     "data": {
      "text/plain": [
       "0.0"
      ]
     },
     "execution_count": 31,
     "metadata": {},
     "output_type": "execute_result"
    }
   ],
   "source": [
    "tempUpCross"
   ]
  },
  {
   "cell_type": "code",
   "execution_count": 32,
   "id": "d9d54137-4c72-47aa-9732-8bcfae9bcbae",
   "metadata": {},
   "outputs": [
    {
     "data": {
      "text/plain": [
       "0.0"
      ]
     },
     "execution_count": 32,
     "metadata": {},
     "output_type": "execute_result"
    }
   ],
   "source": [
    "tempDownCross"
   ]
  },
  {
   "cell_type": "code",
   "execution_count": 34,
   "id": "32304648-ddc3-4bea-8281-3c6314a5e1c8",
   "metadata": {},
   "outputs": [],
   "source": [
    "probDownCrossing[-1] = 2"
   ]
  },
  {
   "cell_type": "code",
   "execution_count": 35,
   "id": "8e1c0623-64cd-4137-a634-de58b686a2b1",
   "metadata": {},
   "outputs": [
    {
     "data": {
      "text/plain": [
       "array([0., 0., 0., 0., 0., 0., 0., 0., 0., 0., 0., 0., 0., 0., 0., 0., 0.,\n",
       "       0., 0., 0., 0., 0., 0., 0., 0., 0., 0., 0., 0., 0., 0., 0., 0., 0.,\n",
       "       0., 0., 0., 0., 0., 0., 0., 0., 0., 0., 0., 0., 0., 0., 0., 0., 0.,\n",
       "       0., 0., 0., 0., 0., 0., 0., 0., 0., 0., 0., 0., 0., 0., 0., 0., 0.,\n",
       "       0., 0., 0., 0., 0., 0., 0., 0., 0., 0., 0., 0., 0., 0., 0., 0., 0.,\n",
       "       0., 0., 0., 0., 0., 0., 0., 0., 0., 0., 0., 0., 0., 0., 0., 0., 0.,\n",
       "       0., 0., 0., 0., 0., 0., 0., 0., 0., 0., 0., 0., 0., 0., 0., 0., 0.,\n",
       "       0., 0., 0., 0., 0., 0., 0., 0., 0., 0., 0., 0., 0., 0., 0., 0., 0.,\n",
       "       0., 0., 0., 0., 0., 0., 0., 0., 0., 0., 0., 0., 0., 0., 0., 0., 0.,\n",
       "       0., 0., 0., 0., 0., 0., 0., 0., 0., 0., 0., 0., 0., 0., 0., 0., 0.,\n",
       "       0., 0., 0., 0., 0., 0., 0., 0., 0., 0., 0., 0., 0., 0., 0., 0., 0.,\n",
       "       0., 0., 0., 0., 0., 0., 0., 0., 0., 0., 0., 0., 2.])"
      ]
     },
     "execution_count": 35,
     "metadata": {},
     "output_type": "execute_result"
    }
   ],
   "source": [
    "probDownCrossing"
   ]
  },
  {
   "cell_type": "code",
   "execution_count": null,
   "id": "05b6cade-6e6a-41d8-beb2-c6e96dd4ff6b",
   "metadata": {},
   "outputs": [],
   "source": []
  }
 ],
 "metadata": {
  "kernelspec": {
   "display_name": "Python 3 (ipykernel)",
   "language": "python",
   "name": "python3"
  },
  "language_info": {
   "codemirror_mode": {
    "name": "ipython",
    "version": 3
   },
   "file_extension": ".py",
   "mimetype": "text/x-python",
   "name": "python",
   "nbconvert_exporter": "python",
   "pygments_lexer": "ipython3",
   "version": "3.8.3"
  }
 },
 "nbformat": 4,
 "nbformat_minor": 5
}
