{
 "cells": [
  {
   "cell_type": "code",
   "execution_count": 1,
   "id": "077c4aa6-a2c9-43a1-8d2b-64fc49b384b7",
   "metadata": {},
   "outputs": [],
   "source": [
    "import numpy as np"
   ]
  },
  {
   "cell_type": "code",
   "execution_count": 3,
   "id": "77750838-f09a-47d0-bd23-c090282611e4",
   "metadata": {},
   "outputs": [
    {
     "data": {
      "text/plain": [
       "0.09523809523809523"
      ]
     },
     "execution_count": 3,
     "metadata": {},
     "output_type": "execute_result"
    }
   ],
   "source": [
    "decay = 0  # decay = 0 means barriers are constant.\n",
    "barrier = 1\n",
    "RT = 2000\n",
    "timeStep = 10 #ms\n",
    "\n",
    "\n",
    "numTimeSteps = RT // timeStep\n",
    "\n",
    "barrierUp = barrier * np.ones(numTimeSteps)\n",
    "barrierDown = -barrier * np.ones(numTimeSteps)\n",
    "for t in range(1, numTimeSteps):\n",
    "    barrierUp[t] = barrier / (1 + (decay * t))\n",
    "    barrierDown[t] = -barrier / (1 + (decay * t))\n",
    "\n",
    "halfNumStateBins = np.ceil(barrier / approxStateStep)\n",
    "stateStep = barrier / (halfNumStateBins + 0.5)\n",
    "\n",
    "# The vertical axis is divided into states.\n",
    "states = np.arange(barrierDown[0] + (stateStep / 2),\n",
    "                   barrierUp[0] - (stateStep / 2) + stateStep,\n",
    "                   stateStep)"
   ]
  },
  {
   "cell_type": "code",
   "execution_count": null,
   "id": "6d0afe52-c39a-4820-93f1-90869ecf8518",
   "metadata": {},
   "outputs": [],
   "source": []
  }
 ],
 "metadata": {
  "kernelspec": {
   "display_name": "Python 3 (ipykernel)",
   "language": "python",
   "name": "python3"
  },
  "language_info": {
   "codemirror_mode": {
    "name": "ipython",
    "version": 3
   },
   "file_extension": ".py",
   "mimetype": "text/x-python",
   "name": "python",
   "nbconvert_exporter": "python",
   "pygments_lexer": "ipython3",
   "version": "3.8.3"
  }
 },
 "nbformat": 4,
 "nbformat_minor": 5
}
