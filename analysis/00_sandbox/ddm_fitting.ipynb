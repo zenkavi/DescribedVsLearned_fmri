{
 "cells": [
  {
   "cell_type": "code",
   "execution_count": 27,
   "id": "077c4aa6-a2c9-43a1-8d2b-64fc49b384b7",
   "metadata": {},
   "outputs": [],
   "source": [
    "import numpy as np\n",
    "from scipy.stats import norm\n"
   ]
  },
  {
   "cell_type": "markdown",
   "id": "f4dd2cce-a45b-40e0-a021-589446e5a960",
   "metadata": {},
   "source": [
    "What is the relationship between `get_trial_likelihood` in `ddm.py` and `get_model_log_likelihood` in `ddm_mla.py`?"
   ]
  },
  {
   "cell_type": "code",
   "execution_count": null,
   "id": "50fe1492-9de9-4fb8-ac4c-1dbfc6d66e1e",
   "metadata": {},
   "outputs": [],
   "source": [
    "decay = 0.002  # decay = 0 means barriers are constant.\n",
    "bias = 0\n",
    "barrier = 1\n",
    "RT = 2000\n",
    "timeStep = 10 #ms\n",
    "approxStateStep = .1\n",
    "bias = 0\n",
    "nonDecisionTime = 0\n",
    "d = .002\n",
    "sigma = .02\n",
    "valueLeft = .7\n",
    "valueRight = .5"
   ]
  },
  {
   "cell_type": "code",
   "execution_count": null,
   "id": "e73126b8-69de-4949-b1b6-be758bfc2520",
   "metadata": {},
   "outputs": [],
   "source": [
    "numTimeSteps = RT // timeStep\n",
    "numTimeSteps"
   ]
  },
  {
   "cell_type": "code",
   "execution_count": null,
   "id": "c3d6e96e-5f01-476b-abb2-f304c56ad4ba",
   "metadata": {},
   "outputs": [],
   "source": [
    "barrierUp = barrier * np.ones(numTimeSteps)\n",
    "barrierDown = -barrier * np.ones(numTimeSteps)\n",
    "for t in range(1, numTimeSteps):\n",
    "    barrierUp[t] = barrier / (1 + (decay * t))\n",
    "    barrierDown[t] = -barrier / (1 + (decay * t))\n",
    "barrierUp"
   ]
  },
  {
   "cell_type": "code",
   "execution_count": null,
   "id": "e0c095b6-8666-4a8e-9623-4814f74baa09",
   "metadata": {},
   "outputs": [],
   "source": [
    "halfNumStateBins = np.ceil(1 / .1)\n",
    "halfNumStateBins"
   ]
  },
  {
   "cell_type": "code",
   "execution_count": null,
   "id": "aa4039d2-06c1-4f1f-bd7d-7f14b4154a45",
   "metadata": {},
   "outputs": [],
   "source": [
    "stateStep = 1 / (halfNumStateBins + 0.5)\n",
    "stateStep"
   ]
  },
  {
   "cell_type": "code",
   "execution_count": null,
   "id": "8b67d678-da34-4095-93a8-bd37259d3c47",
   "metadata": {},
   "outputs": [],
   "source": [
    "# The vertical axis is divided into states.\n",
    "states = np.arange(-1 + (stateStep / 2),\n",
    "                   1 - (stateStep / 2) + stateStep,\n",
    "                   stateStep)\n",
    "states"
   ]
  },
  {
   "cell_type": "code",
   "execution_count": null,
   "id": "ecbfcc54-be81-45a5-a8b9-ebf6a4648deb",
   "metadata": {},
   "outputs": [],
   "source": [
    "biasState = np.argmin(np.absolute(states - bias))\n",
    "\n",
    "biasState"
   ]
  },
  {
   "cell_type": "code",
   "execution_count": null,
   "id": "503c85cf-deef-4865-84a9-2b279c0a577d",
   "metadata": {},
   "outputs": [],
   "source": [
    "# Initial probability for all states is zero, except the bias state,\n",
    "# for which the initial probability is one.\n",
    "prStates = np.zeros((states.size, numTimeSteps))\n",
    "prStates[biasState,0] = 1\n",
    "\n",
    "# The probability of crossing each barrier over the time of the trial.\n",
    "probUpCrossing = np.zeros(numTimeSteps)\n",
    "probDownCrossing = np.zeros(numTimeSteps)\n",
    "\n",
    "prStates[biasState]"
   ]
  },
  {
   "cell_type": "code",
   "execution_count": null,
   "id": "e6e53e88-3e8d-47ee-91a4-b8ca71fdb6c4",
   "metadata": {},
   "outputs": [],
   "source": [
    "changeMatrix = np.subtract(states.reshape(states.size, 1), states)\n",
    "changeUp = np.subtract(barrierUp, states.reshape(states.size, 1))\n",
    "changeDown = np.subtract(barrierDown, states.reshape(states.size, 1))\n",
    "changeMatrix[5]"
   ]
  },
  {
   "cell_type": "code",
   "execution_count": null,
   "id": "4141ed6d-713c-4ff0-b3fe-4e7169392e05",
   "metadata": {},
   "outputs": [],
   "source": [
    "changeDown[0]"
   ]
  },
  {
   "cell_type": "code",
   "execution_count": null,
   "id": "4c2fc3fa-1dcb-4afa-97c6-13e39775241a",
   "metadata": {},
   "outputs": [],
   "source": [
    "mean = .0004\n",
    "sigma = .02\n",
    "norm.pdf(changeMatrix, mean, sigma)[1]"
   ]
  },
  {
   "cell_type": "code",
   "execution_count": null,
   "id": "20b26dfb-d15b-4954-9043-6104135ae860",
   "metadata": {},
   "outputs": [],
   "source": [
    "mean = .0004\n",
    "sigma = .02\n",
    "time= 1\n",
    "\n",
    "prStatesNew = (stateStep *\n",
    "               np.dot(norm.pdf(changeMatrix, mean, sigma),\n",
    "               prStates[:,time-1]))\n",
    "prStatesNew[(states >= barrierUp[time]) |\n",
    "            (states <= barrierDown[time])] = 0\n",
    "\n",
    "prStatesNew"
   ]
  },
  {
   "cell_type": "code",
   "execution_count": null,
   "id": "a3f28ae7-1aef-4e0c-97c5-c203d85ebf70",
   "metadata": {},
   "outputs": [],
   "source": [
    "\n",
    "tempUpCross = np.dot(prStates[:,time-1], (1 - norm.cdf(changeUp[:, time], mean, sigma)))\n",
    "tempDownCross = np.dot(prStates[:,time-1],norm.cdf(changeDown[:, time], mean, sigma))\n",
    "\n",
    "tempUpCross"
   ]
  },
  {
   "cell_type": "code",
   "execution_count": null,
   "id": "351dc6ba-ad2b-4ad4-afd4-663cb1c529cc",
   "metadata": {},
   "outputs": [],
   "source": [
    "tempDownCross"
   ]
  },
  {
   "cell_type": "code",
   "execution_count": null,
   "id": "20dfc5d6-1ca4-4c0a-abbb-68a3b6a20ecf",
   "metadata": {},
   "outputs": [],
   "source": [
    "# Renormalize to cope with numerical approximations.\n",
    "sumIn = np.sum(prStates[:,time-1])\n",
    "sumCurrent = np.sum(prStatesNew) + tempUpCross + tempDownCross\n",
    "prStatesNew = prStatesNew * sumIn / sumCurrent\n",
    "tempUpCross = tempUpCross * sumIn / sumCurrent\n",
    "tempDownCross = tempDownCross * sumIn / sumCurrent"
   ]
  },
  {
   "cell_type": "code",
   "execution_count": null,
   "id": "4ee55a75-796e-4f8a-8c2b-399ebb382141",
   "metadata": {},
   "outputs": [],
   "source": [
    "sumIn"
   ]
  },
  {
   "cell_type": "code",
   "execution_count": null,
   "id": "9016a172-e031-42a6-b14e-d1c517916e4e",
   "metadata": {},
   "outputs": [],
   "source": [
    "sumCurrent"
   ]
  },
  {
   "cell_type": "code",
   "execution_count": null,
   "id": "140abef7-82c6-4d0b-8c17-bbd6a661f2a4",
   "metadata": {},
   "outputs": [],
   "source": [
    "prStatesNew"
   ]
  },
  {
   "cell_type": "code",
   "execution_count": null,
   "id": "e538da05-c1a0-45f3-9ba9-67829a90be71",
   "metadata": {},
   "outputs": [],
   "source": [
    "tempUpCross"
   ]
  },
  {
   "cell_type": "code",
   "execution_count": null,
   "id": "d9d54137-4c72-47aa-9732-8bcfae9bcbae",
   "metadata": {},
   "outputs": [],
   "source": [
    "tempDownCross"
   ]
  },
  {
   "cell_type": "code",
   "execution_count": null,
   "id": "32304648-ddc3-4bea-8281-3c6314a5e1c8",
   "metadata": {},
   "outputs": [],
   "source": [
    "probDownCrossing[-1] = 2"
   ]
  },
  {
   "cell_type": "code",
   "execution_count": null,
   "id": "8e1c0623-64cd-4137-a634-de58b686a2b1",
   "metadata": {},
   "outputs": [],
   "source": [
    "probDownCrossing"
   ]
  },
  {
   "cell_type": "code",
   "execution_count": 1,
   "id": "05b6cade-6e6a-41d8-beb2-c6e96dd4ff6b",
   "metadata": {},
   "outputs": [],
   "source": [
    "from ddm import DDMTrial, DDM"
   ]
  },
  {
   "cell_type": "code",
   "execution_count": 15,
   "id": "e6ddfc70-26b1-44ec-947e-7732592db8fa",
   "metadata": {},
   "outputs": [],
   "source": [
    "m1 = DDM(d = 0.02, sigma = 0.01)"
   ]
  },
  {
   "cell_type": "code",
   "execution_count": 16,
   "id": "3dc9a105-ce75-4c2d-8743-d2c7641cb7af",
   "metadata": {},
   "outputs": [],
   "source": [
    "m1_trial = m1.simulate_trial(valueLeft=.8, valueRight=.1)"
   ]
  },
  {
   "cell_type": "code",
   "execution_count": 17,
   "id": "6b2473a6-464f-4d0e-a328-42fec882b30f",
   "metadata": {},
   "outputs": [
    {
     "data": {
      "text/plain": [
       "-1"
      ]
     },
     "execution_count": 17,
     "metadata": {},
     "output_type": "execute_result"
    }
   ],
   "source": [
    "m1_trial.choice"
   ]
  },
  {
   "cell_type": "code",
   "execution_count": 18,
   "id": "cf775f8b-a395-4cee-a253-6773375cc025",
   "metadata": {},
   "outputs": [
    {
     "data": {
      "text/plain": [
       "630"
      ]
     },
     "execution_count": 18,
     "metadata": {},
     "output_type": "execute_result"
    }
   ],
   "source": [
    "m1_trial.RT"
   ]
  },
  {
   "cell_type": "code",
   "execution_count": 19,
   "id": "a243ce8c-450d-4f88-88cd-78eb1c7c1394",
   "metadata": {},
   "outputs": [
    {
     "data": {
      "text/plain": [
       "2.1662862883122818e-132"
      ]
     },
     "execution_count": 19,
     "metadata": {},
     "output_type": "execute_result"
    }
   ],
   "source": [
    "out = m1.get_trial_likelihood(m1_trial)\n",
    "out['likelihood']"
   ]
  },
  {
   "cell_type": "code",
   "execution_count": 21,
   "id": "72e55817-d18e-40f5-8cd1-120263962b0f",
   "metadata": {},
   "outputs": [
    {
     "data": {
      "text/plain": [
       "1.4346374210445043e-06"
      ]
     },
     "execution_count": 21,
     "metadata": {},
     "output_type": "execute_result"
    }
   ],
   "source": [
    "m2 = DDM(d = 0.1, sigma = 0.1)\n",
    "out2 = m2.get_trial_likelihood(m1_trial)\n",
    "out2['likelihood']"
   ]
  },
  {
   "cell_type": "code",
   "execution_count": 24,
   "id": "fdf4e1d1-f231-4f62-8376-09c233742494",
   "metadata": {},
   "outputs": [
    {
     "data": {
      "text/plain": [
       "True"
      ]
     },
     "execution_count": 24,
     "metadata": {},
     "output_type": "execute_result"
    }
   ],
   "source": [
    "out2['likelihood'] > out['likelihood']"
   ]
  },
  {
   "cell_type": "markdown",
   "id": "9d8346ee-9a70-4d31-a49d-f30e5d484761",
   "metadata": {},
   "source": [
    "Generate data using one DDM"
   ]
  },
  {
   "cell_type": "code",
   "execution_count": 32,
   "id": "a4b81c78-7d5e-4802-b653-ab0c0eedafd8",
   "metadata": {},
   "outputs": [],
   "source": [
    "valueLefts = np.random.uniform(size = 100)\n",
    "valueRights = np.random.uniform(size = 100)\n",
    "m1_trials = []\n",
    "\n",
    "m1 = DDM(d = 0.02, sigma = 0.01)\n",
    "\n",
    "for valueLeft, valueRight in zip(valueLefts, valueRights): \n",
    "    m1_trials.append(m1.simulate_trial(valueLeft=valueLeft, valueRight=valueRight))\n"
   ]
  },
  {
   "cell_type": "markdown",
   "id": "4049d819-a9bc-4bca-bb52-4bc2f0356d7f",
   "metadata": {},
   "source": [
    "Get trial likelihoods for the correct and incorrect DDMs"
   ]
  },
  {
   "cell_type": "code",
   "execution_count": 39,
   "id": "04ca91ca-a289-44e6-830b-d22a55e7cbc1",
   "metadata": {},
   "outputs": [],
   "source": [
    "m1_likelihoods = []\n",
    "m2_likelihoods = []\n",
    "m2 = DDM(d = 0.1, sigma = 0.1)\n",
    "\n",
    "for trial in m1_trials:\n",
    "    m1_likelihoods.append(m1.get_trial_likelihood(trial)['likelihood'])\n",
    "    m2_likelihoods.append(m2.get_trial_likelihood(trial)['likelihood'])"
   ]
  },
  {
   "cell_type": "markdown",
   "id": "e1732600-678b-49b9-a8c3-a774ab9f39c8",
   "metadata": {},
   "source": [
    "Is the sum of the likelihood using the correct model higher than those of the incorrect model?"
   ]
  },
  {
   "cell_type": "code",
   "execution_count": 42,
   "id": "9ce214f4-f8b2-428b-ab35-77d97496aded",
   "metadata": {},
   "outputs": [
    {
     "data": {
      "text/plain": [
       "False"
      ]
     },
     "execution_count": 42,
     "metadata": {},
     "output_type": "execute_result"
    }
   ],
   "source": [
    "sum(m1_likelihoods)> sum(m2_likelihoods)"
   ]
  },
  {
   "cell_type": "code",
   "execution_count": null,
   "id": "914ccc75-96a8-45b1-8537-407531e47fd8",
   "metadata": {},
   "outputs": [],
   "source": []
  }
 ],
 "metadata": {
  "kernelspec": {
   "display_name": "Python 3 (ipykernel)",
   "language": "python",
   "name": "python3"
  },
  "language_info": {
   "codemirror_mode": {
    "name": "ipython",
    "version": 3
   },
   "file_extension": ".py",
   "mimetype": "text/x-python",
   "name": "python",
   "nbconvert_exporter": "python",
   "pygments_lexer": "ipython3",
   "version": "3.8.3"
  }
 },
 "nbformat": 4,
 "nbformat_minor": 5
}
