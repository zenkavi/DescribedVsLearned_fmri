{
 "cells": [
  {
   "cell_type": "code",
   "execution_count": 27,
   "id": "077c4aa6-a2c9-43a1-8d2b-64fc49b384b7",
   "metadata": {},
   "outputs": [],
   "source": [
    "import numpy as np\n",
    "from scipy.stats import norm\n"
   ]
  },
  {
   "cell_type": "markdown",
   "id": "f4dd2cce-a45b-40e0-a021-589446e5a960",
   "metadata": {},
   "source": [
    "What is the relationship between `get_trial_likelihood` in `ddm.py` and `get_model_log_likelihood` in `ddm_mla.py`?"
   ]
  },
  {
   "cell_type": "code",
   "execution_count": 76,
   "id": "50fe1492-9de9-4fb8-ac4c-1dbfc6d66e1e",
   "metadata": {},
   "outputs": [],
   "source": [
    "decay = 0.002  # decay = 0 means barriers are constant.\n",
    "bias = 0\n",
    "barrier = 1\n",
    "RT = 2000\n",
    "timeStep = 10 #ms\n",
    "approxStateStep = .1\n",
    "bias = 0\n",
    "nonDecisionTime = 0\n",
    "d = .002\n",
    "sigma = .02\n",
    "valueLeft = .7\n",
    "valueRight = .5"
   ]
  },
  {
   "cell_type": "code",
   "execution_count": 77,
   "id": "e73126b8-69de-4949-b1b6-be758bfc2520",
   "metadata": {},
   "outputs": [
    {
     "data": {
      "text/plain": [
       "200"
      ]
     },
     "execution_count": 77,
     "metadata": {},
     "output_type": "execute_result"
    }
   ],
   "source": [
    "numTimeSteps = RT // timeStep\n",
    "numTimeSteps"
   ]
  },
  {
   "cell_type": "code",
   "execution_count": 78,
   "id": "c3d6e96e-5f01-476b-abb2-f304c56ad4ba",
   "metadata": {},
   "outputs": [
    {
     "data": {
      "text/plain": [
       "array([1.        , 0.99800399, 0.99601594, 0.99403579, 0.99206349,\n",
       "       0.99009901, 0.98814229, 0.98619329, 0.98425197, 0.98231827,\n",
       "       0.98039216, 0.97847358, 0.9765625 , 0.97465887, 0.97276265,\n",
       "       0.97087379, 0.96899225, 0.96711799, 0.96525097, 0.96339114,\n",
       "       0.96153846, 0.9596929 , 0.95785441, 0.95602294, 0.95419847,\n",
       "       0.95238095, 0.95057034, 0.9487666 , 0.9469697 , 0.94517958,\n",
       "       0.94339623, 0.94161959, 0.93984962, 0.9380863 , 0.93632959,\n",
       "       0.93457944, 0.93283582, 0.9310987 , 0.92936803, 0.92764378,\n",
       "       0.92592593, 0.92421442, 0.92250923, 0.92081031, 0.91911765,\n",
       "       0.91743119, 0.91575092, 0.91407678, 0.91240876, 0.91074681,\n",
       "       0.90909091, 0.90744102, 0.9057971 , 0.90415913, 0.90252708,\n",
       "       0.9009009 , 0.89928058, 0.89766607, 0.89605735, 0.89445438,\n",
       "       0.89285714, 0.8912656 , 0.88967972, 0.88809947, 0.88652482,\n",
       "       0.88495575, 0.88339223, 0.88183422, 0.88028169, 0.87873462,\n",
       "       0.87719298, 0.87565674, 0.87412587, 0.87260035, 0.87108014,\n",
       "       0.86956522, 0.86805556, 0.86655113, 0.8650519 , 0.86355786,\n",
       "       0.86206897, 0.8605852 , 0.85910653, 0.85763293, 0.85616438,\n",
       "       0.85470085, 0.85324232, 0.85178876, 0.85034014, 0.84889643,\n",
       "       0.84745763, 0.84602369, 0.84459459, 0.84317032, 0.84175084,\n",
       "       0.84033613, 0.83892617, 0.83752094, 0.8361204 , 0.83472454,\n",
       "       0.83333333, 0.83194676, 0.83056478, 0.8291874 , 0.82781457,\n",
       "       0.82644628, 0.82508251, 0.82372323, 0.82236842, 0.82101806,\n",
       "       0.81967213, 0.81833061, 0.81699346, 0.81566069, 0.81433225,\n",
       "       0.81300813, 0.81168831, 0.81037277, 0.80906149, 0.80775444,\n",
       "       0.80645161, 0.80515298, 0.80385852, 0.80256822, 0.80128205,\n",
       "       0.8       , 0.79872204, 0.79744817, 0.79617834, 0.79491256,\n",
       "       0.79365079, 0.79239303, 0.79113924, 0.78988942, 0.78864353,\n",
       "       0.78740157, 0.78616352, 0.78492936, 0.78369906, 0.78247261,\n",
       "       0.78125   , 0.7800312 , 0.7788162 , 0.77760498, 0.77639752,\n",
       "       0.7751938 , 0.77399381, 0.77279753, 0.77160494, 0.77041602,\n",
       "       0.76923077, 0.76804916, 0.76687117, 0.76569678, 0.76452599,\n",
       "       0.76335878, 0.76219512, 0.76103501, 0.75987842, 0.75872534,\n",
       "       0.75757576, 0.75642965, 0.75528701, 0.75414781, 0.75301205,\n",
       "       0.7518797 , 0.75075075, 0.74962519, 0.74850299, 0.74738416,\n",
       "       0.74626866, 0.74515648, 0.74404762, 0.74294205, 0.74183976,\n",
       "       0.74074074, 0.73964497, 0.73855244, 0.73746313, 0.73637703,\n",
       "       0.73529412, 0.73421439, 0.73313783, 0.73206442, 0.73099415,\n",
       "       0.72992701, 0.72886297, 0.72780204, 0.72674419, 0.7256894 ,\n",
       "       0.72463768, 0.723589  , 0.72254335, 0.72150072, 0.7204611 ,\n",
       "       0.71942446, 0.7183908 , 0.71736011, 0.71633238, 0.71530758])"
      ]
     },
     "execution_count": 78,
     "metadata": {},
     "output_type": "execute_result"
    }
   ],
   "source": [
    "barrierUp = barrier * np.ones(numTimeSteps)\n",
    "barrierDown = -barrier * np.ones(numTimeSteps)\n",
    "for t in range(1, numTimeSteps):\n",
    "    barrierUp[t] = barrier / (1 + (decay * t))\n",
    "    barrierDown[t] = -barrier / (1 + (decay * t))\n",
    "barrierUp"
   ]
  },
  {
   "cell_type": "code",
   "execution_count": 79,
   "id": "e0c095b6-8666-4a8e-9623-4814f74baa09",
   "metadata": {},
   "outputs": [
    {
     "data": {
      "text/plain": [
       "10.0"
      ]
     },
     "execution_count": 79,
     "metadata": {},
     "output_type": "execute_result"
    }
   ],
   "source": [
    "halfNumStateBins = np.ceil(1 / .1)\n",
    "halfNumStateBins"
   ]
  },
  {
   "cell_type": "code",
   "execution_count": 80,
   "id": "aa4039d2-06c1-4f1f-bd7d-7f14b4154a45",
   "metadata": {},
   "outputs": [
    {
     "data": {
      "text/plain": [
       "0.09523809523809523"
      ]
     },
     "execution_count": 80,
     "metadata": {},
     "output_type": "execute_result"
    }
   ],
   "source": [
    "stateStep = 1 / (halfNumStateBins + 0.5)\n",
    "stateStep"
   ]
  },
  {
   "cell_type": "code",
   "execution_count": 81,
   "id": "8b67d678-da34-4095-93a8-bd37259d3c47",
   "metadata": {},
   "outputs": [
    {
     "data": {
      "text/plain": [
       "array([-0.95238095, -0.85714286, -0.76190476, -0.66666667, -0.57142857,\n",
       "       -0.47619048, -0.38095238, -0.28571429, -0.19047619, -0.0952381 ,\n",
       "        0.        ,  0.0952381 ,  0.19047619,  0.28571429,  0.38095238,\n",
       "        0.47619048,  0.57142857,  0.66666667,  0.76190476,  0.85714286,\n",
       "        0.95238095])"
      ]
     },
     "execution_count": 81,
     "metadata": {},
     "output_type": "execute_result"
    }
   ],
   "source": [
    "# The vertical axis is divided into states.\n",
    "states = np.arange(-1 + (stateStep / 2),\n",
    "                   1 - (stateStep / 2) + stateStep,\n",
    "                   stateStep)\n",
    "states"
   ]
  },
  {
   "cell_type": "code",
   "execution_count": 82,
   "id": "ecbfcc54-be81-45a5-a8b9-ebf6a4648deb",
   "metadata": {},
   "outputs": [
    {
     "data": {
      "text/plain": [
       "10"
      ]
     },
     "execution_count": 82,
     "metadata": {},
     "output_type": "execute_result"
    }
   ],
   "source": [
    "biasState = np.argmin(np.absolute(states - bias))\n",
    "\n",
    "biasState"
   ]
  },
  {
   "cell_type": "code",
   "execution_count": 83,
   "id": "503c85cf-deef-4865-84a9-2b279c0a577d",
   "metadata": {},
   "outputs": [
    {
     "data": {
      "text/plain": [
       "array([1., 0., 0., 0., 0., 0., 0., 0., 0., 0., 0., 0., 0., 0., 0., 0., 0.,\n",
       "       0., 0., 0., 0., 0., 0., 0., 0., 0., 0., 0., 0., 0., 0., 0., 0., 0.,\n",
       "       0., 0., 0., 0., 0., 0., 0., 0., 0., 0., 0., 0., 0., 0., 0., 0., 0.,\n",
       "       0., 0., 0., 0., 0., 0., 0., 0., 0., 0., 0., 0., 0., 0., 0., 0., 0.,\n",
       "       0., 0., 0., 0., 0., 0., 0., 0., 0., 0., 0., 0., 0., 0., 0., 0., 0.,\n",
       "       0., 0., 0., 0., 0., 0., 0., 0., 0., 0., 0., 0., 0., 0., 0., 0., 0.,\n",
       "       0., 0., 0., 0., 0., 0., 0., 0., 0., 0., 0., 0., 0., 0., 0., 0., 0.,\n",
       "       0., 0., 0., 0., 0., 0., 0., 0., 0., 0., 0., 0., 0., 0., 0., 0., 0.,\n",
       "       0., 0., 0., 0., 0., 0., 0., 0., 0., 0., 0., 0., 0., 0., 0., 0., 0.,\n",
       "       0., 0., 0., 0., 0., 0., 0., 0., 0., 0., 0., 0., 0., 0., 0., 0., 0.,\n",
       "       0., 0., 0., 0., 0., 0., 0., 0., 0., 0., 0., 0., 0., 0., 0., 0., 0.,\n",
       "       0., 0., 0., 0., 0., 0., 0., 0., 0., 0., 0., 0., 0.])"
      ]
     },
     "execution_count": 83,
     "metadata": {},
     "output_type": "execute_result"
    }
   ],
   "source": [
    "# Initial probability for all states is zero, except the bias state,\n",
    "# for which the initial probability is one.\n",
    "prStates = np.zeros((states.size, numTimeSteps))\n",
    "prStates[biasState,0] = 1\n",
    "\n",
    "# The probability of crossing each barrier over the time of the trial.\n",
    "probUpCrossing = np.zeros(numTimeSteps)\n",
    "probDownCrossing = np.zeros(numTimeSteps)\n",
    "\n",
    "prStates[biasState]"
   ]
  },
  {
   "cell_type": "code",
   "execution_count": 84,
   "id": "e6e53e88-3e8d-47ee-91a4-b8ca71fdb6c4",
   "metadata": {},
   "outputs": [
    {
     "data": {
      "text/plain": [
       "array([ 0.47619048,  0.38095238,  0.28571429,  0.19047619,  0.0952381 ,\n",
       "        0.        , -0.0952381 , -0.19047619, -0.28571429, -0.38095238,\n",
       "       -0.47619048, -0.57142857, -0.66666667, -0.76190476, -0.85714286,\n",
       "       -0.95238095, -1.04761905, -1.14285714, -1.23809524, -1.33333333,\n",
       "       -1.42857143])"
      ]
     },
     "execution_count": 84,
     "metadata": {},
     "output_type": "execute_result"
    }
   ],
   "source": [
    "changeMatrix = np.subtract(states.reshape(states.size, 1), states)\n",
    "changeUp = np.subtract(barrierUp, states.reshape(states.size, 1))\n",
    "changeDown = np.subtract(barrierDown, states.reshape(states.size, 1))\n",
    "changeMatrix[5]"
   ]
  },
  {
   "cell_type": "code",
   "execution_count": 88,
   "id": "4141ed6d-713c-4ff0-b3fe-4e7169392e05",
   "metadata": {},
   "outputs": [
    {
     "data": {
      "text/plain": [
       "array([-0.52380952, -0.52181352, -0.51982546, -0.51784531, -0.51587302,\n",
       "       -0.51390853, -0.51195182, -0.51000282, -0.50806149, -0.50612779,\n",
       "       -0.50420168, -0.50228311, -0.50037202, -0.49846839, -0.49657217,\n",
       "       -0.49468331, -0.49280177, -0.49092751, -0.48906049, -0.48720066,\n",
       "       -0.48534799, -0.48350242, -0.48166393, -0.47983247, -0.478008  ,\n",
       "       -0.47619048, -0.47437987, -0.47257613, -0.47077922, -0.46898911,\n",
       "       -0.46720575, -0.46542911, -0.46365915, -0.46189583, -0.46013911,\n",
       "       -0.45838896, -0.45664534, -0.45490822, -0.45317755, -0.45145331,\n",
       "       -0.44973545, -0.44802394, -0.44631875, -0.44461984, -0.44292717,\n",
       "       -0.44124072, -0.43956044, -0.43788631, -0.43621828, -0.43455634,\n",
       "       -0.43290043, -0.43125054, -0.42960663, -0.42796866, -0.4263366 ,\n",
       "       -0.42471042, -0.4230901 , -0.42147559, -0.41986687, -0.41826391,\n",
       "       -0.41666667, -0.41507512, -0.41348924, -0.41190899, -0.41033435,\n",
       "       -0.40876528, -0.40720175, -0.40564374, -0.40409121, -0.40254415,\n",
       "       -0.40100251, -0.39946627, -0.3979354 , -0.39640987, -0.39488966,\n",
       "       -0.39337474, -0.39186508, -0.39036065, -0.38886143, -0.38736738,\n",
       "       -0.38587849, -0.38439472, -0.38291605, -0.38144246, -0.37997391,\n",
       "       -0.37851038, -0.37705184, -0.37559828, -0.37414966, -0.37270596,\n",
       "       -0.37126715, -0.36983321, -0.36840412, -0.36697984, -0.36556037,\n",
       "       -0.36414566, -0.3627357 , -0.36133046, -0.35992993, -0.35853406,\n",
       "       -0.35714286, -0.35575628, -0.35437431, -0.35299692, -0.35162409,\n",
       "       -0.3502558 , -0.34889203, -0.34753275, -0.34617794, -0.34482759,\n",
       "       -0.34348165, -0.34214013, -0.34080299, -0.33947021, -0.33814177,\n",
       "       -0.33681765, -0.33549784, -0.3341823 , -0.33287101, -0.33156397,\n",
       "       -0.33026114, -0.3289625 , -0.32766804, -0.32637774, -0.32509158,\n",
       "       -0.32380952, -0.32253157, -0.32125769, -0.31998787, -0.31872208,\n",
       "       -0.31746032, -0.31620255, -0.31494876, -0.31369894, -0.31245306,\n",
       "       -0.3112111 , -0.30997305, -0.30873888, -0.30750858, -0.30628214,\n",
       "       -0.30505952, -0.30384073, -0.30262572, -0.3014145 , -0.30020704,\n",
       "       -0.29900332, -0.29780333, -0.29660705, -0.29541446, -0.29422555,\n",
       "       -0.29304029, -0.29185868, -0.29068069, -0.28950631, -0.28833552,\n",
       "       -0.2871683 , -0.28600465, -0.28484453, -0.28368794, -0.28253487,\n",
       "       -0.28138528, -0.28023918, -0.27909653, -0.27795734, -0.27682157,\n",
       "       -0.27568922, -0.27456027, -0.27343471, -0.27231252, -0.27119368,\n",
       "       -0.27007818, -0.26896601, -0.26785714, -0.26675157, -0.26564929,\n",
       "       -0.26455026, -0.26345449, -0.26236196, -0.26127265, -0.26018655,\n",
       "       -0.25910364, -0.25802391, -0.25694735, -0.25587395, -0.25480368,\n",
       "       -0.25373653, -0.2526725 , -0.25161156, -0.25055371, -0.24949893,\n",
       "       -0.2484472 , -0.24739853, -0.24635288, -0.24531025, -0.24427062,\n",
       "       -0.24323398, -0.24220033, -0.24116964, -0.2401419 , -0.23911711])"
      ]
     },
     "execution_count": 88,
     "metadata": {},
     "output_type": "execute_result"
    }
   ],
   "source": [
    "changeDown[5]"
   ]
  },
  {
   "cell_type": "code",
   "execution_count": null,
   "id": "4c2fc3fa-1dcb-4afa-97c6-13e39775241a",
   "metadata": {},
   "outputs": [],
   "source": [
    "mean = .0004\n",
    "sigma = .02\n",
    "norm.pdf(changeMatrix, mean, sigma)[1]"
   ]
  },
  {
   "cell_type": "code",
   "execution_count": null,
   "id": "20b26dfb-d15b-4954-9043-6104135ae860",
   "metadata": {},
   "outputs": [],
   "source": [
    "mean = .0004\n",
    "sigma = .02\n",
    "time= 1\n",
    "\n",
    "prStatesNew = (stateStep *\n",
    "               np.dot(norm.pdf(changeMatrix, mean, sigma),\n",
    "               prStates[:,time-1]))\n",
    "prStatesNew[(states >= barrierUp[time]) |\n",
    "            (states <= barrierDown[time])] = 0\n",
    "\n",
    "prStatesNew"
   ]
  },
  {
   "cell_type": "code",
   "execution_count": null,
   "id": "a3f28ae7-1aef-4e0c-97c5-c203d85ebf70",
   "metadata": {},
   "outputs": [],
   "source": [
    "\n",
    "tempUpCross = np.dot(prStates[:,time-1], (1 - norm.cdf(changeUp[:, time], mean, sigma)))\n",
    "tempDownCross = np.dot(prStates[:,time-1],norm.cdf(changeDown[:, time], mean, sigma))\n",
    "\n",
    "tempUpCross"
   ]
  },
  {
   "cell_type": "code",
   "execution_count": null,
   "id": "351dc6ba-ad2b-4ad4-afd4-663cb1c529cc",
   "metadata": {},
   "outputs": [],
   "source": [
    "tempDownCross"
   ]
  },
  {
   "cell_type": "code",
   "execution_count": null,
   "id": "20dfc5d6-1ca4-4c0a-abbb-68a3b6a20ecf",
   "metadata": {},
   "outputs": [],
   "source": [
    "# Renormalize to cope with numerical approximations.\n",
    "sumIn = np.sum(prStates[:,time-1])\n",
    "sumCurrent = np.sum(prStatesNew) + tempUpCross + tempDownCross\n",
    "prStatesNew = prStatesNew * sumIn / sumCurrent\n",
    "tempUpCross = tempUpCross * sumIn / sumCurrent\n",
    "tempDownCross = tempDownCross * sumIn / sumCurrent"
   ]
  },
  {
   "cell_type": "code",
   "execution_count": null,
   "id": "4ee55a75-796e-4f8a-8c2b-399ebb382141",
   "metadata": {},
   "outputs": [],
   "source": [
    "sumIn"
   ]
  },
  {
   "cell_type": "code",
   "execution_count": null,
   "id": "9016a172-e031-42a6-b14e-d1c517916e4e",
   "metadata": {},
   "outputs": [],
   "source": [
    "sumCurrent"
   ]
  },
  {
   "cell_type": "code",
   "execution_count": null,
   "id": "140abef7-82c6-4d0b-8c17-bbd6a661f2a4",
   "metadata": {},
   "outputs": [],
   "source": [
    "prStatesNew"
   ]
  },
  {
   "cell_type": "code",
   "execution_count": null,
   "id": "e538da05-c1a0-45f3-9ba9-67829a90be71",
   "metadata": {},
   "outputs": [],
   "source": [
    "tempUpCross"
   ]
  },
  {
   "cell_type": "code",
   "execution_count": null,
   "id": "d9d54137-4c72-47aa-9732-8bcfae9bcbae",
   "metadata": {},
   "outputs": [],
   "source": [
    "tempDownCross"
   ]
  },
  {
   "cell_type": "code",
   "execution_count": null,
   "id": "32304648-ddc3-4bea-8281-3c6314a5e1c8",
   "metadata": {},
   "outputs": [],
   "source": [
    "probDownCrossing[-1] = 2"
   ]
  },
  {
   "cell_type": "code",
   "execution_count": null,
   "id": "8e1c0623-64cd-4137-a634-de58b686a2b1",
   "metadata": {},
   "outputs": [],
   "source": [
    "probDownCrossing"
   ]
  },
  {
   "cell_type": "code",
   "execution_count": 1,
   "id": "05b6cade-6e6a-41d8-beb2-c6e96dd4ff6b",
   "metadata": {},
   "outputs": [],
   "source": [
    "from ddm import DDMTrial, DDM"
   ]
  },
  {
   "cell_type": "code",
   "execution_count": 15,
   "id": "e6ddfc70-26b1-44ec-947e-7732592db8fa",
   "metadata": {},
   "outputs": [],
   "source": [
    "m1 = DDM(d = 0.02, sigma = 0.01)"
   ]
  },
  {
   "cell_type": "code",
   "execution_count": 16,
   "id": "3dc9a105-ce75-4c2d-8743-d2c7641cb7af",
   "metadata": {},
   "outputs": [],
   "source": [
    "m1_trial = m1.simulate_trial(valueLeft=.8, valueRight=.1)"
   ]
  },
  {
   "cell_type": "code",
   "execution_count": 17,
   "id": "6b2473a6-464f-4d0e-a328-42fec882b30f",
   "metadata": {},
   "outputs": [
    {
     "data": {
      "text/plain": [
       "-1"
      ]
     },
     "execution_count": 17,
     "metadata": {},
     "output_type": "execute_result"
    }
   ],
   "source": [
    "m1_trial.choice"
   ]
  },
  {
   "cell_type": "code",
   "execution_count": 18,
   "id": "cf775f8b-a395-4cee-a253-6773375cc025",
   "metadata": {},
   "outputs": [
    {
     "data": {
      "text/plain": [
       "630"
      ]
     },
     "execution_count": 18,
     "metadata": {},
     "output_type": "execute_result"
    }
   ],
   "source": [
    "m1_trial.RT"
   ]
  },
  {
   "cell_type": "code",
   "execution_count": 19,
   "id": "a243ce8c-450d-4f88-88cd-78eb1c7c1394",
   "metadata": {},
   "outputs": [
    {
     "data": {
      "text/plain": [
       "2.1662862883122818e-132"
      ]
     },
     "execution_count": 19,
     "metadata": {},
     "output_type": "execute_result"
    }
   ],
   "source": [
    "out = m1.get_trial_likelihood(m1_trial)\n",
    "out['likelihood']"
   ]
  },
  {
   "cell_type": "code",
   "execution_count": 21,
   "id": "72e55817-d18e-40f5-8cd1-120263962b0f",
   "metadata": {},
   "outputs": [
    {
     "data": {
      "text/plain": [
       "1.4346374210445043e-06"
      ]
     },
     "execution_count": 21,
     "metadata": {},
     "output_type": "execute_result"
    }
   ],
   "source": [
    "m2 = DDM(d = 0.1, sigma = 0.1)\n",
    "out2 = m2.get_trial_likelihood(m1_trial)\n",
    "out2['likelihood']"
   ]
  },
  {
   "cell_type": "code",
   "execution_count": 24,
   "id": "fdf4e1d1-f231-4f62-8376-09c233742494",
   "metadata": {},
   "outputs": [
    {
     "data": {
      "text/plain": [
       "True"
      ]
     },
     "execution_count": 24,
     "metadata": {},
     "output_type": "execute_result"
    }
   ],
   "source": [
    "out2['likelihood'] > out['likelihood']"
   ]
  },
  {
   "cell_type": "markdown",
   "id": "9d8346ee-9a70-4d31-a49d-f30e5d484761",
   "metadata": {},
   "source": [
    "Generate data using one DDM"
   ]
  },
  {
   "cell_type": "code",
   "execution_count": 70,
   "id": "a4b81c78-7d5e-4802-b653-ab0c0eedafd8",
   "metadata": {},
   "outputs": [],
   "source": [
    "valueLefts = np.random.uniform(size = 100)\n",
    "valueRights = np.random.uniform(size = 100)\n",
    "m1_trials = []\n",
    "\n",
    "m1 = DDM(d = 0.08, sigma = 0.01)\n",
    "\n",
    "for valueLeft, valueRight in zip(valueLefts, valueRights): \n",
    "    m1_trials.append(m1.simulate_trial(valueLeft=valueLeft, valueRight=valueRight))\n"
   ]
  },
  {
   "cell_type": "markdown",
   "id": "4049d819-a9bc-4bca-bb52-4bc2f0356d7f",
   "metadata": {},
   "source": [
    "Get trial likelihoods for the correct and incorrect DDMs"
   ]
  },
  {
   "cell_type": "code",
   "execution_count": 71,
   "id": "04ca91ca-a289-44e6-830b-d22a55e7cbc1",
   "metadata": {},
   "outputs": [],
   "source": [
    "m1_likelihoods = []\n",
    "m2_likelihoods = []\n",
    "m2 = DDM(d = 0.001, sigma = 0.1)\n",
    "\n",
    "for trial in m1_trials:\n",
    "    m1_likelihoods.append(m1.get_trial_likelihood(trial)['likelihood'])\n",
    "    m2_likelihoods.append(m2.get_trial_likelihood(trial)['likelihood'])"
   ]
  },
  {
   "cell_type": "markdown",
   "id": "e1732600-678b-49b9-a8c3-a774ab9f39c8",
   "metadata": {},
   "source": [
    "Is the sum of the likelihood using the correct model higher than those of the incorrect model?"
   ]
  },
  {
   "cell_type": "code",
   "execution_count": 72,
   "id": "9ce214f4-f8b2-428b-ab35-77d97496aded",
   "metadata": {},
   "outputs": [
    {
     "data": {
      "text/plain": [
       "False"
      ]
     },
     "execution_count": 72,
     "metadata": {},
     "output_type": "execute_result"
    }
   ],
   "source": [
    "sum(m1_likelihoods)> sum(m2_likelihoods)"
   ]
  },
  {
   "cell_type": "code",
   "execution_count": 73,
   "id": "9cacadf5-ed8b-4006-bcc4-685a4eed6cca",
   "metadata": {},
   "outputs": [
    {
     "data": {
      "text/plain": [
       "0.020180915157772296"
      ]
     },
     "execution_count": 73,
     "metadata": {},
     "output_type": "execute_result"
    }
   ],
   "source": [
    "max(m1_likelihoods)"
   ]
  },
  {
   "cell_type": "code",
   "execution_count": 74,
   "id": "cd7e09fd-dc6d-4ec4-aefc-50cf5cb1cdcb",
   "metadata": {},
   "outputs": [
    {
     "data": {
      "text/plain": [
       "0.004419192028457729"
      ]
     },
     "execution_count": 74,
     "metadata": {},
     "output_type": "execute_result"
    }
   ],
   "source": [
    "max(m2_likelihoods)"
   ]
  },
  {
   "cell_type": "code",
   "execution_count": 75,
   "id": "44073007-4293-4917-8886-5087f0f7869e",
   "metadata": {},
   "outputs": [
    {
     "data": {
      "text/plain": [
       "array([-0.58, -0.23, -0.18,  0.23,  0.48, -0.49,  0.17, -0.54, -0.94,\n",
       "       -0.32,  0.6 ,  0.46, -0.5 ,  0.31,  0.09,  0.26,  0.02, -0.67,\n",
       "       -0.53, -0.37,  0.44,  0.5 ,  0.1 ,  0.55,  0.26,  0.48,  0.08,\n",
       "       -0.  , -0.33, -0.7 , -0.82,  0.32,  0.43, -0.83, -0.03, -0.05,\n",
       "       -0.2 , -0.  , -0.55, -0.04,  0.42,  0.2 ,  0.27, -0.27,  0.39,\n",
       "        0.24,  0.1 , -0.61, -0.24,  0.05, -0.47, -0.16,  0.28,  0.51,\n",
       "       -0.31,  0.38, -0.23,  0.07,  0.31,  0.57,  0.77, -0.65, -0.7 ,\n",
       "        0.38,  0.2 ,  0.77, -0.27, -0.43, -0.6 ,  0.68, -0.19,  0.4 ,\n",
       "       -0.45, -0.25, -0.54, -0.05,  0.39, -0.08, -0.27,  0.09,  0.17,\n",
       "       -0.28, -0.09,  0.02, -0.22,  0.23,  0.33,  0.2 , -0.25, -0.47,\n",
       "        0.1 ,  0.5 ,  0.14, -0.34, -0.23, -0.52,  0.01,  0.36,  0.35,\n",
       "       -0.46])"
      ]
     },
     "execution_count": 75,
     "metadata": {},
     "output_type": "execute_result"
    }
   ],
   "source": [
    "np.round(valueLefts - valueRights, 2)"
   ]
  },
  {
   "cell_type": "code",
   "execution_count": null,
   "id": "635baa3f-64cd-4924-bee3-7a1c2b10071b",
   "metadata": {},
   "outputs": [],
   "source": []
  }
 ],
 "metadata": {
  "kernelspec": {
   "display_name": "Python 3 (ipykernel)",
   "language": "python",
   "name": "python3"
  },
  "language_info": {
   "codemirror_mode": {
    "name": "ipython",
    "version": 3
   },
   "file_extension": ".py",
   "mimetype": "text/x-python",
   "name": "python",
   "nbconvert_exporter": "python",
   "pygments_lexer": "ipython3",
   "version": "3.8.3"
  }
 },
 "nbformat": 4,
 "nbformat_minor": 5
}
