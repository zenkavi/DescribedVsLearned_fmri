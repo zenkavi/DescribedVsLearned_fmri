{
 "cells": [
  {
   "cell_type": "code",
   "execution_count": 1,
   "id": "1909603d-f47c-44f7-ba12-359f0704bb0e",
   "metadata": {
    "tags": []
   },
   "outputs": [
    {
     "name": "stderr",
     "output_type": "stream",
     "text": [
      "/Users/zeynepenkavi/.pyenv/versions/3.8.3/envs/py-dvl-fmri/lib/python3.8/site-packages/nilearn/datasets/__init__.py:86: FutureWarning: Fetchers from the nilearn.datasets module will be updated in version 0.9 to return python strings instead of bytes and Pandas dataframes instead of Numpy arrays.\n",
      "  warn(\"Fetchers from the nilearn.datasets module will be \"\n"
     ]
    }
   ],
   "source": [
    "import matplotlib.pyplot as plt\n",
    "%matplotlib inline\n",
    "import nibabel as nib\n",
    "from nilearn.plotting import plot_stat_map, view_img\n",
    "from nilearn.reporting import get_clusters_table\n",
    "import glob\n",
    "import os\n",
    "import numpy as np\n",
    "import pandas as pd"
   ]
  },
  {
   "cell_type": "code",
   "execution_count": 2,
   "id": "4f0409d5-6181-4913-b993-22e645f50e0f",
   "metadata": {
    "tags": []
   },
   "outputs": [],
   "source": [
    "from fmri_nb_helpers import get_img_path, get_filt_tval_img, plot_filt_tval_img, get_filt_diff_tval_img, plot_filt_diff_tval_img, get_mean_cor_df"
   ]
  },
  {
   "cell_type": "markdown",
   "id": "aa6360f7-b77f-4cbc-a488-a86fe81885e1",
   "metadata": {},
   "source": [
    "# Regressor types\n",
    "\n",
    "- ev = event; amplitude = 1  \n",
    "- par = parametric; amplitude = demeaned    \n",
    "- st = stick (0 duration); amplitude = 1 \n",
    "- rt = reaction time; amplitude = demeaned RT\n",
    "\n",
    "Citing Grinband et al. (2008) people agree that reaction times must be taken into account but model them in different ways. Schonberg, Poldrack et al. papers use overall response time for event and parametric regressor as well as a parametric RT regressor. Many in the rest of the decision making literature use boxcars with RT durations (e.g. Dunsmoor et al. (2011), Chang et al. (2011), Chang and Sanfey (2013), Shuck et al. (2016)). \n",
    "\n",
    "Since it is common to use boxcars with RT duration and I don't know others who model RT the way Poldrack et al. do I will present those results below."
   ]
  },
  {
   "cell_type": "markdown",
   "id": "2988c43c-f150-453f-91ec-c7f04c772491",
   "metadata": {
    "tags": []
   },
   "source": [
    "# Building block models"
   ]
  },
  {
   "cell_type": "markdown",
   "id": "3552b863-d371-4a45-97c3-0dd583279b2c",
   "metadata": {
    "jp-MarkdownHeadingCollapsed": true,
    "tags": []
   },
   "source": [
    "## Model 1: fractalProb_ev + stim_ev + choiceShift_st + reward_ev"
   ]
  },
  {
   "cell_type": "markdown",
   "id": "9846b0f4-92cd-4c6d-a10c-f98ecc9108d2",
   "metadata": {
    "tags": []
   },
   "source": [
    "Correlation between regressors averaged across subjects and runs"
   ]
  },
  {
   "cell_type": "code",
   "execution_count": null,
   "id": "1b85ffe1-3405-49ea-9078-38979d8335e7",
   "metadata": {
    "tags": []
   },
   "outputs": [],
   "source": [
    "get_mean_cor_df(reg_rt = \"0\", mnum = \"1\")"
   ]
  },
  {
   "cell_type": "code",
   "execution_count": null,
   "id": "30b78518-eca4-4d7e-b909-ba0b1bee839b",
   "metadata": {
    "tags": []
   },
   "outputs": [],
   "source": [
    "regs = ['fractalProb_ev', 'stim_ev', 'reward_ev']\n",
    "mnum = '1'\n",
    "for reg in regs:\n",
    "    plot_filt_tval_img(reg, mnum = mnum)"
   ]
  },
  {
   "cell_type": "markdown",
   "id": "7d3bb07c-1254-4ea0-bfa3-a8abb44a503d",
   "metadata": {},
   "source": [
    "Check for left motor cortex activity. Cross is the precentral gyrus peak reported in Hare et al."
   ]
  },
  {
   "cell_type": "code",
   "execution_count": null,
   "id": "e6eb0480-296f-4f85-83dc-52e7948b3188",
   "metadata": {
    "tags": []
   },
   "outputs": [],
   "source": [
    "reg = 'choiceShift_st'\n",
    "mnum = '1'\n",
    "cut_coords = (-45, -34, 64)\n",
    "draw_cross = True\n",
    "\n",
    "plot_filt_tval_img(reg, mnum = mnum, cut_coords = cut_coords, draw_cross = draw_cross)"
   ]
  },
  {
   "cell_type": "markdown",
   "id": "3b583ba1-11fd-4600-92b8-ae6a4bbfc20b",
   "metadata": {},
   "source": [
    "Motor cortex activity is a little ventral than expected but more consistent for choiceShift regressor. It is, however, not lateralized to the left."
   ]
  },
  {
   "cell_type": "markdown",
   "id": "d2ba9891-34d9-4bfe-91b3-a57f01067353",
   "metadata": {
    "jp-MarkdownHeadingCollapsed": true,
    "tags": []
   },
   "source": [
    "## Model 1a: fractalProb_ev + stim_ev + choiceShiftLeft_st + choiceShiftRight_st + reward_ev"
   ]
  },
  {
   "cell_type": "code",
   "execution_count": null,
   "id": "f27290ea-2a2c-4043-a298-0bdf6e648e0b",
   "metadata": {},
   "outputs": [],
   "source": [
    "plot_filt_diff_tval_img(reg=\"choiceShiftLeft_st\", reg_rt1=\"0\", reg_rt2=\"0\", mnum1=\"1a\", mnum2=\"1\", reg2 = \"choiceShift_st\", cut_coords = cut_coords)\n",
    "plot_filt_diff_tval_img(reg=\"choiceShiftRight_st\", reg_rt1=\"0\", reg_rt2=\"0\", mnum1=\"1a\", mnum2=\"1\", reg2 = \"choiceShift_st\", cut_coords = cut_coords)\n",
    "plot_filt_diff_tval_img(reg=\"choiceShiftRight_st\", reg_rt1=\"0\", reg_rt2=\"0\", mnum1=\"1a\", mnum2=\"1a\", reg2 = \"choiceShiftLeft_st\", cut_coords = cut_coords)\n"
   ]
  },
  {
   "cell_type": "markdown",
   "id": "a5b0a978-c105-47a9-b8cc-db02c0fc2e51",
   "metadata": {
    "jp-MarkdownHeadingCollapsed": true,
    "tags": []
   },
   "source": [
    "## Model 2: Model 1 + fractalProb_par"
   ]
  },
  {
   "cell_type": "code",
   "execution_count": null,
   "id": "0152d663-ee03-43c4-a062-5b8a810a1dab",
   "metadata": {
    "tags": []
   },
   "outputs": [],
   "source": [
    "get_mean_cor_df(reg_rt = \"0\", mnum = \"2\")"
   ]
  },
  {
   "cell_type": "code",
   "execution_count": null,
   "id": "79372753-4a8b-419c-a4cb-b7ba56a74499",
   "metadata": {
    "tags": []
   },
   "outputs": [],
   "source": [
    "regs = ['fractalProb_ev', 'stim_ev', 'choiceShift_st', 'reward_ev']\n",
    "mnum = '2'\n",
    "\n",
    "for reg in regs:\n",
    "#     plot_filt_diff_tval_img(reg, mnum1=\"1\", mnum2=mnum)\n",
    "    print('No interesting change from Model 1 for %s in Model %s'%(reg, mnum))"
   ]
  },
  {
   "cell_type": "code",
   "execution_count": null,
   "id": "32fb38f9-ea85-4fb4-96ca-6799cf04fb88",
   "metadata": {
    "tags": []
   },
   "outputs": [],
   "source": [
    "reg = 'fractalProb_par'\n",
    "mnum = '2'\n",
    "plot_filt_tval_img(reg, mnum = mnum)"
   ]
  },
  {
   "cell_type": "markdown",
   "id": "e38fc214-a509-457e-88b8-57b196843efd",
   "metadata": {},
   "source": [
    "# Model 3: Model 2 + valBundleSum_par + valChosenMinusUnchosen_par + reward_ev + reward_par + rpeLeftRightSum_par"
   ]
  },
  {
   "cell_type": "code",
   "execution_count": 3,
   "id": "7c520c5c-bf13-4576-ac29-5ac1b550ef45",
   "metadata": {},
   "outputs": [
    {
     "data": {
      "text/html": [
       "<div>\n",
       "<style scoped>\n",
       "    .dataframe tbody tr th:only-of-type {\n",
       "        vertical-align: middle;\n",
       "    }\n",
       "\n",
       "    .dataframe tbody tr th {\n",
       "        vertical-align: top;\n",
       "    }\n",
       "\n",
       "    .dataframe thead th {\n",
       "        text-align: right;\n",
       "    }\n",
       "</style>\n",
       "<table border=\"1\" class=\"dataframe\">\n",
       "  <thead>\n",
       "    <tr style=\"text-align: right;\">\n",
       "      <th></th>\n",
       "      <th>Unnamed: 0</th>\n",
       "      <th>fractalProb_par</th>\n",
       "      <th>valBundleSum_par</th>\n",
       "      <th>valChosenMinusUnchosen_par</th>\n",
       "      <th>reward_par</th>\n",
       "      <th>rpeLeftRightSum_par</th>\n",
       "    </tr>\n",
       "  </thead>\n",
       "  <tbody>\n",
       "    <tr>\n",
       "      <th>2</th>\n",
       "      <td>fractalProb_par</td>\n",
       "      <td>1.000000</td>\n",
       "      <td>-0.091609</td>\n",
       "      <td>-0.119587</td>\n",
       "      <td>-0.013040</td>\n",
       "      <td>-0.002867</td>\n",
       "    </tr>\n",
       "    <tr>\n",
       "      <th>4</th>\n",
       "      <td>reward_par</td>\n",
       "      <td>-0.013040</td>\n",
       "      <td>0.065680</td>\n",
       "      <td>0.068950</td>\n",
       "      <td>1.000000</td>\n",
       "      <td>-0.021951</td>\n",
       "    </tr>\n",
       "    <tr>\n",
       "      <th>5</th>\n",
       "      <td>rpeLeftRightSum_par</td>\n",
       "      <td>-0.002867</td>\n",
       "      <td>0.039107</td>\n",
       "      <td>0.005916</td>\n",
       "      <td>-0.021951</td>\n",
       "      <td>1.000000</td>\n",
       "    </tr>\n",
       "    <tr>\n",
       "      <th>7</th>\n",
       "      <td>valBundleSum_par</td>\n",
       "      <td>-0.091609</td>\n",
       "      <td>1.000000</td>\n",
       "      <td>-0.018201</td>\n",
       "      <td>0.065680</td>\n",
       "      <td>0.039107</td>\n",
       "    </tr>\n",
       "    <tr>\n",
       "      <th>8</th>\n",
       "      <td>valChosenMinusUnchosen_par</td>\n",
       "      <td>-0.119587</td>\n",
       "      <td>-0.018201</td>\n",
       "      <td>1.000000</td>\n",
       "      <td>0.068950</td>\n",
       "      <td>0.005916</td>\n",
       "    </tr>\n",
       "  </tbody>\n",
       "</table>\n",
       "</div>"
      ],
      "text/plain": [
       "                   Unnamed: 0  fractalProb_par  valBundleSum_par  \\\n",
       "2             fractalProb_par         1.000000         -0.091609   \n",
       "4                  reward_par        -0.013040          0.065680   \n",
       "5         rpeLeftRightSum_par        -0.002867          0.039107   \n",
       "7            valBundleSum_par        -0.091609          1.000000   \n",
       "8  valChosenMinusUnchosen_par        -0.119587         -0.018201   \n",
       "\n",
       "   valChosenMinusUnchosen_par  reward_par  rpeLeftRightSum_par  \n",
       "2                   -0.119587   -0.013040            -0.002867  \n",
       "4                    0.068950    1.000000            -0.021951  \n",
       "5                    0.005916   -0.021951             1.000000  \n",
       "7                   -0.018201    0.065680             0.039107  \n",
       "8                    1.000000    0.068950             0.005916  "
      ]
     },
     "execution_count": 3,
     "metadata": {},
     "output_type": "execute_result"
    }
   ],
   "source": [
    "get_mean_cor_df(reg_rt = \"0\", mnum = \"3\", regs = ['fractalProb_par', 'valBundleSum_par', 'valChosenMinusUnchosen_par', 'reward_par', 'rpeLeftRightSum_par'])"
   ]
  },
  {
   "cell_type": "markdown",
   "id": "0ed9cbe9-f120-4c4b-bacb-060ee6dbf20a",
   "metadata": {},
   "source": [
    "## Event regressors"
   ]
  },
  {
   "cell_type": "code",
   "execution_count": null,
   "id": "ad42fd0e-f066-4bbf-89bb-4c5826754855",
   "metadata": {
    "tags": []
   },
   "outputs": [],
   "source": [
    "regs = ['fractalProb_ev', 'stim_ev', 'choiceShift_st', 'reward_ev']\n",
    "mnum = '3'\n",
    "\n",
    "for reg in regs:\n",
    "    if reg == 'choiceShift_st':\n",
    "        plot_filt_tval_img(reg, mnum = mnum, draw_cross=True, cut_coords = (-45, -34, 64))\n",
    "    else:\n",
    "        plot_filt_tval_img(reg, mnum = mnum)"
   ]
  },
  {
   "cell_type": "markdown",
   "id": "8402c31b-f1c8-4853-90b5-433fa42288ba",
   "metadata": {},
   "source": [
    "## Parametric regressors"
   ]
  },
  {
   "cell_type": "code",
   "execution_count": null,
   "id": "6ab969e6-aa7d-492e-b82b-0b34bd9d3248",
   "metadata": {},
   "outputs": [],
   "source": [
    "regs = ['fractalProb_par', 'valBundleSum_par', 'valChosenMinusUnchosen_par', 'reward_par', 'rpeLeftRightSum_par']\n",
    "mnum = '3'\n",
    "for reg in regs:\n",
    "    plot_filt_tval_img(reg, mnum = mnum)"
   ]
  },
  {
   "cell_type": "code",
   "execution_count": null,
   "id": "f5b70305-69db-4632-a756-a203e42be1bf",
   "metadata": {},
   "outputs": [],
   "source": [
    "plot_filt_tval_img(\"valChosenMinusUnchosen_par\", mnum = \"3\", nofilt=True, t_threshold=3, cut_coords=(-52, -48, 48))\n",
    "plot_filt_tval_img(\"valChosenMinusUnchosen_par\", mnum = \"3\", nofilt=True, t_threshold=3, cut_coords=(24, 12, 6))\n",
    "plot_filt_tval_img(\"rpeLeftRightSum_par\", mnum = \"3\", nofilt=True, t_threshold=3, cut_coords=(2, 34, 12))"
   ]
  },
  {
   "cell_type": "markdown",
   "id": "60e8c6d7-79af-482a-b3ab-5c1de0373cbf",
   "metadata": {},
   "source": [
    "# Model 4: Model 2 + valBundleSum_par + valChosenMinusUnchosenLate_par + reward_ev + reward_par + rpeLeftRightSumEarly_par"
   ]
  },
  {
   "cell_type": "code",
   "execution_count": null,
   "id": "f1791fd9-2358-4781-9cbd-36f49a0cde3e",
   "metadata": {},
   "outputs": [],
   "source": [
    "regs = ['fractalProb_par','valBundleSum_par', 'valChosenMinusUnchosenLate_par', 'reward_par', 'rpeLeftRightSumEarly_par']\n",
    "mnum = '4'\n",
    "for reg in regs:\n",
    "    plot_filt_tval_img(reg, mnum = mnum)"
   ]
  },
  {
   "cell_type": "code",
   "execution_count": null,
   "id": "d1c2ea1e-ac44-4727-83c2-717787141e81",
   "metadata": {},
   "outputs": [],
   "source": [
    "plot_filt_tval_img(\"valChosenMinusUnchosenLate_par\", mnum = \"4\", nofilt=True, t_threshold=3, cut_coords=(-52, -48, 48))\n",
    "plot_filt_tval_img(\"valChosenMinusUnchosenLate_par\", mnum = \"4\", nofilt=True, t_threshold=3, cut_coords=(24, 12, 6))\n",
    "plot_filt_tval_img(\"rpeLeftRightSumEarly_par\", mnum = \"4\", nofilt=True, t_threshold=3, cut_coords=(2, 34, 12))"
   ]
  },
  {
   "cell_type": "markdown",
   "id": "5ef417f1-d149-4fca-a073-5146bb4f12bd",
   "metadata": {},
   "source": [
    "# Model 5: Model 2 + valBundleSum_par + valChosenMinusUnchosenLate_par + reward_ev + reward_par + rpeLeftRightSumLate_par"
   ]
  },
  {
   "cell_type": "code",
   "execution_count": null,
   "id": "6279593a-bc19-419f-aa8f-34433dd7cd24",
   "metadata": {},
   "outputs": [],
   "source": [
    "regs = ['fractalProb_par','valBundleSum_par', 'valChosenMinusUnchosenLate_par', 'reward_par', 'rpeLeftRightSumLate_par']\n",
    "mnum = '5'\n",
    "for reg in regs:\n",
    "    plot_filt_tval_img(reg, mnum = mnum)"
   ]
  },
  {
   "cell_type": "code",
   "execution_count": null,
   "id": "41f7e2cd-78d1-4ed2-8d53-cc143bf69f1c",
   "metadata": {},
   "outputs": [],
   "source": [
    "plot_filt_tval_img(\"valChosenMinusUnchosenLate_par\", mnum = \"5\", nofilt=True, t_threshold=3, cut_coords=(-52, -48, 48))\n",
    "plot_filt_tval_img(\"valChosenMinusUnchosenLate_par\", mnum = \"5\", nofilt=True, t_threshold=3, cut_coords=(24, 12, 6))\n",
    "plot_filt_tval_img(\"rpeLeftRightSumLate_par\", mnum = \"5\", nofilt=True, t_threshold=3, cut_coords=(4, -38, -2))"
   ]
  },
  {
   "cell_type": "markdown",
   "id": "d7d57cbc-7a27-4143-95f7-fb613e1232c1",
   "metadata": {},
   "source": [
    "# Model 6: what happens to rpe without reward_par - nothing. Still doesn't survive."
   ]
  },
  {
   "cell_type": "code",
   "execution_count": null,
   "id": "43717702-31b9-4f8b-bc68-53aec911a5eb",
   "metadata": {},
   "outputs": [],
   "source": [
    "regs = ['fractalProb_par','valBundleSum_par', 'valChosenMinusUnchosen_par', 'rpeLeftRightSum_par']\n",
    "mnum = '6'\n",
    "for reg in regs:\n",
    "    plot_filt_tval_img(reg, mnum = mnum)"
   ]
  },
  {
   "cell_type": "code",
   "execution_count": null,
   "id": "23490dc3-d401-45a9-88d9-a0d3dde7218a",
   "metadata": {},
   "outputs": [],
   "source": [
    "plot_filt_tval_img(\"rpeLeftRightSum_par\", mnum = \"6\", nofilt=True, t_threshold=3, cut_coords =(2, 32, -2))\n",
    "plot_filt_tval_img(\"valChosenMinusUnchosen_par\", mnum = \"6\", nofilt=True, t_threshold=3)"
   ]
  },
  {
   "cell_type": "markdown",
   "id": "69bf3b4f-5a05-4494-8d28-a2ea976a1edc",
   "metadata": {},
   "source": [
    "# Model 7: Does anything for rpe survive with only one fractal included? No."
   ]
  },
  {
   "cell_type": "code",
   "execution_count": null,
   "id": "4f6f49fb-aa05-450a-84c5-5ffbd4f5bb27",
   "metadata": {},
   "outputs": [],
   "source": [
    "regs = ['fractalProb_par','valBundleSum_par', 'valChosenMinusUnchosen_par', 'reward_par', 'rpeLeftFractal_par']\n",
    "mnum = '7'\n",
    "for reg in regs:\n",
    "    plot_filt_tval_img(reg, mnum = mnum)"
   ]
  },
  {
   "cell_type": "code",
   "execution_count": null,
   "id": "ab9b13a3-d19f-442d-b727-d33b60af4668",
   "metadata": {},
   "outputs": [],
   "source": [
    "plot_filt_tval_img(\"rpeLeftFractal_par\", mnum = \"7\", nofilt=True, t_threshold=3, cut_coords=(2, 28, 12))"
   ]
  },
  {
   "cell_type": "markdown",
   "id": "6d455007-603c-4365-a47a-da4dd06c6656",
   "metadata": {},
   "source": [
    "# To solve\n",
    "\n",
    "- Value comparison\n",
    "- Signal for learning (RPE)\n",
    "    - Same RPE regressor for all subjects using average parameter estimates?\n",
    "- Parametric reward\n",
    "    - Reward par for rewarded vs not rewarded contrast?"
   ]
  },
  {
   "cell_type": "code",
   "execution_count": null,
   "id": "22ce3ce3-dc3f-4213-80f9-afe168ce17f3",
   "metadata": {},
   "outputs": [],
   "source": []
  }
 ],
 "metadata": {
  "kernelspec": {
   "display_name": "Python 3 (ipykernel)",
   "language": "python",
   "name": "python3"
  },
  "language_info": {
   "codemirror_mode": {
    "name": "ipython",
    "version": 3
   },
   "file_extension": ".py",
   "mimetype": "text/x-python",
   "name": "python",
   "nbconvert_exporter": "python",
   "pygments_lexer": "ipython3",
   "version": "3.8.3"
  }
 },
 "nbformat": 4,
 "nbformat_minor": 5
}
