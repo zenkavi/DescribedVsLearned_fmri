{
 "cells": [
  {
   "cell_type": "code",
   "execution_count": null,
   "id": "1909603d-f47c-44f7-ba12-359f0704bb0e",
   "metadata": {
    "tags": []
   },
   "outputs": [],
   "source": [
    "import matplotlib.pyplot as plt\n",
    "%matplotlib inline\n",
    "import nibabel as nib\n",
    "from nilearn.plotting import plot_stat_map, view_img\n",
    "from nilearn.reporting import get_clusters_table\n",
    "import glob\n",
    "import os\n",
    "import numpy as np\n",
    "import pandas as pd"
   ]
  },
  {
   "cell_type": "code",
   "execution_count": null,
   "id": "4f0409d5-6181-4913-b993-22e645f50e0f",
   "metadata": {
    "tags": []
   },
   "outputs": [],
   "source": [
    "from fmri_nb_helpers import get_img_path, get_filt_tval_img, plot_filt_tval_img, get_filt_diff_tval_img, plot_filt_diff_tval_img, get_mean_cor_df"
   ]
  },
  {
   "cell_type": "markdown",
   "id": "aa6360f7-b77f-4cbc-a488-a86fe81885e1",
   "metadata": {},
   "source": [
    "# Regressor types\n",
    "\n",
    "- ev = event; amplitude = 1  \n",
    "- par = parametric; amplitude = demeaned    \n",
    "- st = stick (0 duration); amplitude = 1 \n",
    "- rt = reaction time; amplitude = demeaned RT\n",
    "\n",
    "Citing Grinband et al. (2008) people agree that reaction times must be taken into account but model them in different ways. Schonberg, Poldrack et al. papers use overall response time for event and parametric regressor as well as a parametric RT regressor. Many in the rest of the decision making literature use boxcars with RT durations (e.g. Dunsmoor et al. (2011), Chang et al. (2011), Chang and Sanfey (2013), Shuck et al. (2016)). \n",
    "\n",
    "Since it is common to use boxcars with RT duration and I don't know others who model RT the way Poldrack et al. do I will present those results below."
   ]
  },
  {
   "cell_type": "markdown",
   "id": "2988c43c-f150-453f-91ec-c7f04c772491",
   "metadata": {
    "tags": []
   },
   "source": [
    "# Building block models"
   ]
  },
  {
   "cell_type": "markdown",
   "id": "3552b863-d371-4a45-97c3-0dd583279b2c",
   "metadata": {
    "jp-MarkdownHeadingCollapsed": true,
    "tags": []
   },
   "source": [
    "## Model 1: fractalProb_ev + stim_ev + choiceShift_st + reward_ev"
   ]
  },
  {
   "cell_type": "markdown",
   "id": "9846b0f4-92cd-4c6d-a10c-f98ecc9108d2",
   "metadata": {
    "tags": []
   },
   "source": [
    "Correlation between regressors averaged across subjects and runs"
   ]
  },
  {
   "cell_type": "code",
   "execution_count": null,
   "id": "1b85ffe1-3405-49ea-9078-38979d8335e7",
   "metadata": {
    "tags": []
   },
   "outputs": [],
   "source": [
    "get_mean_cor_df(reg_rt = \"0\", mnum = \"1\")"
   ]
  },
  {
   "cell_type": "code",
   "execution_count": null,
   "id": "30b78518-eca4-4d7e-b909-ba0b1bee839b",
   "metadata": {
    "tags": []
   },
   "outputs": [],
   "source": [
    "regs = ['fractalProb_ev', 'stim_ev', 'reward_ev']\n",
    "mnum = '1'\n",
    "for reg in regs:\n",
    "    plot_filt_tval_img(reg, mnum = mnum)"
   ]
  },
  {
   "cell_type": "markdown",
   "id": "7d3bb07c-1254-4ea0-bfa3-a8abb44a503d",
   "metadata": {},
   "source": [
    "Check for left motor cortex activity. Cross is the precentral gyrus peak reported in Hare et al."
   ]
  },
  {
   "cell_type": "code",
   "execution_count": null,
   "id": "e6eb0480-296f-4f85-83dc-52e7948b3188",
   "metadata": {
    "tags": []
   },
   "outputs": [],
   "source": [
    "reg = 'choiceShift_st'\n",
    "mnum = '1'\n",
    "cut_coords = (-45, -34, 64)\n",
    "draw_cross = True\n",
    "\n",
    "plot_filt_tval_img(reg, mnum = mnum, cut_coords = cut_coords, draw_cross = draw_cross)"
   ]
  },
  {
   "cell_type": "markdown",
   "id": "3b583ba1-11fd-4600-92b8-ae6a4bbfc20b",
   "metadata": {},
   "source": [
    "Motor cortex activity is a little ventral than expected but more consistent for choiceShift regressor. It is, however, not lateralized to the left."
   ]
  },
  {
   "cell_type": "markdown",
   "id": "d2ba9891-34d9-4bfe-91b3-a57f01067353",
   "metadata": {
    "jp-MarkdownHeadingCollapsed": true,
    "tags": []
   },
   "source": [
    "## Model 1a: fractalProb_ev + stim_ev + choiceShiftLeft_st + choiceShiftRight_st + reward_ev"
   ]
  },
  {
   "cell_type": "code",
   "execution_count": null,
   "id": "f27290ea-2a2c-4043-a298-0bdf6e648e0b",
   "metadata": {},
   "outputs": [],
   "source": [
    "plot_filt_diff_tval_img(reg=\"choiceShiftLeft_st\", reg_rt1=\"0\", reg_rt2=\"0\", mnum1=\"1a\", mnum2=\"1\", reg2 = \"choiceShift_st\", cut_coords = cut_coords)\n",
    "plot_filt_diff_tval_img(reg=\"choiceShiftRight_st\", reg_rt1=\"0\", reg_rt2=\"0\", mnum1=\"1a\", mnum2=\"1\", reg2 = \"choiceShift_st\", cut_coords = cut_coords)\n",
    "plot_filt_diff_tval_img(reg=\"choiceShiftRight_st\", reg_rt1=\"0\", reg_rt2=\"0\", mnum1=\"1a\", mnum2=\"1a\", reg2 = \"choiceShiftLeft_st\", cut_coords = cut_coords)\n"
   ]
  },
  {
   "cell_type": "markdown",
   "id": "a5b0a978-c105-47a9-b8cc-db02c0fc2e51",
   "metadata": {
    "jp-MarkdownHeadingCollapsed": true,
    "tags": []
   },
   "source": [
    "## Model 2: Model 1 + fractalProb_par"
   ]
  },
  {
   "cell_type": "code",
   "execution_count": null,
   "id": "0152d663-ee03-43c4-a062-5b8a810a1dab",
   "metadata": {
    "tags": []
   },
   "outputs": [],
   "source": [
    "get_mean_cor_df(reg_rt = \"0\", mnum = \"2\")"
   ]
  },
  {
   "cell_type": "code",
   "execution_count": null,
   "id": "79372753-4a8b-419c-a4cb-b7ba56a74499",
   "metadata": {
    "tags": []
   },
   "outputs": [],
   "source": [
    "regs = ['fractalProb_ev', 'stim_ev', 'choiceShift_st', 'reward_ev']\n",
    "mnum = '2'\n",
    "\n",
    "for reg in regs:\n",
    "#     plot_filt_diff_tval_img(reg, mnum1=\"1\", mnum2=mnum)\n",
    "    print('No interesting change from Model 1 for %s in Model %s'%(reg, mnum))"
   ]
  },
  {
   "cell_type": "code",
   "execution_count": null,
   "id": "32fb38f9-ea85-4fb4-96ca-6799cf04fb88",
   "metadata": {
    "tags": []
   },
   "outputs": [],
   "source": [
    "reg = 'fractalProb_par'\n",
    "mnum = '2'\n",
    "plot_filt_tval_img(reg, mnum = mnum)"
   ]
  },
  {
   "cell_type": "markdown",
   "id": "e38fc214-a509-457e-88b8-57b196843efd",
   "metadata": {},
   "source": [
    "# Model 3: Model 2 + valBundleSum_par + valChosenMinusUnchosen_par + reward_ev + reward_par + rpeLeftRightSum_par"
   ]
  },
  {
   "cell_type": "code",
   "execution_count": null,
   "id": "7c520c5c-bf13-4576-ac29-5ac1b550ef45",
   "metadata": {},
   "outputs": [],
   "source": [
    "get_mean_cor_df(reg_rt = \"0\", mnum = \"3\", regs = ['fractalProb_par', 'valBundleSum_par', 'valChosenMinusUnchosen_par', 'reward_par', 'rpeLeftRightSum_par'])"
   ]
  },
  {
   "cell_type": "markdown",
   "id": "0ed9cbe9-f120-4c4b-bacb-060ee6dbf20a",
   "metadata": {},
   "source": [
    "## Event regressors"
   ]
  },
  {
   "cell_type": "code",
   "execution_count": null,
   "id": "ad42fd0e-f066-4bbf-89bb-4c5826754855",
   "metadata": {
    "tags": []
   },
   "outputs": [],
   "source": [
    "regs = ['fractalProb_ev', 'stim_ev', 'choiceShift_st', 'reward_ev']\n",
    "mnum = '3'\n",
    "\n",
    "for reg in regs:\n",
    "    if reg == 'choiceShift_st':\n",
    "        plot_filt_tval_img(reg, mnum = mnum, draw_cross=True, cut_coords = (-45, -34, 64))\n",
    "    else:\n",
    "        plot_filt_tval_img(reg, mnum = mnum)"
   ]
  },
  {
   "cell_type": "markdown",
   "id": "8402c31b-f1c8-4853-90b5-433fa42288ba",
   "metadata": {},
   "source": [
    "## Parametric regressors"
   ]
  },
  {
   "cell_type": "code",
   "execution_count": null,
   "id": "6ab969e6-aa7d-492e-b82b-0b34bd9d3248",
   "metadata": {},
   "outputs": [],
   "source": [
    "regs = ['fractalProb_par', 'valBundleSum_par', 'valChosenMinusUnchosen_par', 'reward_par', 'rpeLeftRightSum_par']\n",
    "mnum = '3'\n",
    "for reg in regs:\n",
    "    plot_filt_tval_img(reg, mnum = mnum)"
   ]
  },
  {
   "cell_type": "code",
   "execution_count": null,
   "id": "f5b70305-69db-4632-a756-a203e42be1bf",
   "metadata": {},
   "outputs": [],
   "source": [
    "# plot_filt_tval_img(\"valChosenMinusUnchosen_par\", mnum = \"3\", nofilt=True, t_threshold=2.3, cut_coords=(-52, -48, 48))\n",
    "# plot_filt_tval_img(\"valChosenMinusUnchosen_par\", mnum = \"3\", nofilt=True, t_threshold=2.3, cut_coords=(24, 12, 6))\n",
    "# plot_filt_tval_img(\"rpeLeftRightSum_par\", mnum = \"3\", nofilt=True, t_threshold=2.3, cut_coords=(2, 34, 12))"
   ]
  },
  {
   "cell_type": "markdown",
   "id": "95d77ef2-0689-482f-81e9-89aba3722358",
   "metadata": {
    "jp-MarkdownHeadingCollapsed": true,
    "tags": []
   },
   "source": [
    "# Failed attempts at decreasing variance captured by reward_par "
   ]
  },
  {
   "cell_type": "markdown",
   "id": "60e8c6d7-79af-482a-b3ab-5c1de0373cbf",
   "metadata": {
    "jp-MarkdownHeadingCollapsed": true,
    "tags": [],
    "toc-hr-collapsed": true
   },
   "source": [
    "## Model 4: Model 2 + valBundleSum_par + valChosenMinusUnchosenLate_par + reward_ev + reward_par + rpeLeftRightSumEarly_par"
   ]
  },
  {
   "cell_type": "code",
   "execution_count": null,
   "id": "f00acb26-1a08-4935-9077-7b78f10ef388",
   "metadata": {
    "tags": []
   },
   "outputs": [],
   "source": [
    "get_mean_cor_df(reg_rt = \"0\", mnum = \"4\", regs = ['fractalProb_par', 'valBundleSum_par', 'valChosenMinusUnchosenLate_par', 'reward_par', 'rpeLeftRightSumEarly_par'])"
   ]
  },
  {
   "cell_type": "code",
   "execution_count": null,
   "id": "f1791fd9-2358-4781-9cbd-36f49a0cde3e",
   "metadata": {},
   "outputs": [],
   "source": [
    "regs = ['fractalProb_par','valBundleSum_par', 'valChosenMinusUnchosenLate_par', 'reward_par', 'rpeLeftRightSumEarly_par']\n",
    "mnum = '4'\n",
    "for reg in regs:\n",
    "    plot_filt_tval_img(reg, mnum = mnum)"
   ]
  },
  {
   "cell_type": "code",
   "execution_count": null,
   "id": "d1c2ea1e-ac44-4727-83c2-717787141e81",
   "metadata": {},
   "outputs": [],
   "source": [
    "plot_filt_tval_img(\"valChosenMinusUnchosenLate_par\", mnum = \"4\", nofilt=True, t_threshold=2.3, cut_coords=(-52, -48, 48))\n",
    "plot_filt_tval_img(\"valChosenMinusUnchosenLate_par\", mnum = \"4\", nofilt=True, t_threshold=2.3, cut_coords=(24, 12, 6))\n",
    "plot_filt_tval_img(\"rpeLeftRightSumEarly_par\", mnum = \"4\", nofilt=True, t_threshold=2.3, cut_coords=(2, 34, 12))"
   ]
  },
  {
   "cell_type": "markdown",
   "id": "5ef417f1-d149-4fca-a073-5146bb4f12bd",
   "metadata": {
    "jp-MarkdownHeadingCollapsed": true,
    "tags": []
   },
   "source": [
    "## Model 5: Model 2 + valBundleSum_par + valChosenMinusUnchosenLate_par + reward_ev + reward_par + rpeLeftRightSumLate_par"
   ]
  },
  {
   "cell_type": "code",
   "execution_count": null,
   "id": "82752745-3c08-4b49-97d0-bbbf3222bc22",
   "metadata": {},
   "outputs": [],
   "source": [
    "get_mean_cor_df(reg_rt = \"0\", mnum = \"5\", regs = ['fractalProb_par', 'valBundleSum_par', 'valChosenMinusUnchosenLate_par', 'reward_par', 'rpeLeftRightSumLate_par'])"
   ]
  },
  {
   "cell_type": "code",
   "execution_count": null,
   "id": "6279593a-bc19-419f-aa8f-34433dd7cd24",
   "metadata": {},
   "outputs": [],
   "source": [
    "regs = ['fractalProb_par','valBundleSum_par', 'valChosenMinusUnchosenLate_par', 'reward_par', 'rpeLeftRightSumLate_par']\n",
    "mnum = '5'\n",
    "for reg in regs:\n",
    "    plot_filt_tval_img(reg, mnum = mnum)"
   ]
  },
  {
   "cell_type": "code",
   "execution_count": null,
   "id": "41f7e2cd-78d1-4ed2-8d53-cc143bf69f1c",
   "metadata": {},
   "outputs": [],
   "source": [
    "plot_filt_tval_img(\"valChosenMinusUnchosenLate_par\", mnum = \"5\", nofilt=True, t_threshold=2.3, cut_coords=(-52, -48, 48))\n",
    "plot_filt_tval_img(\"valChosenMinusUnchosenLate_par\", mnum = \"5\", nofilt=True, t_threshold=2.3, cut_coords=(24, 12, 6))\n",
    "plot_filt_tval_img(\"rpeLeftRightSumLate_par\", mnum = \"5\", nofilt=True, t_threshold=2.3, cut_coords=(4, -38, -2))"
   ]
  },
  {
   "cell_type": "markdown",
   "id": "d7d57cbc-7a27-4143-95f7-fb613e1232c1",
   "metadata": {
    "tags": []
   },
   "source": [
    "## Model 6: what happens to rpe without reward_par - nothing. Still doesn't survive."
   ]
  },
  {
   "cell_type": "code",
   "execution_count": null,
   "id": "35e34256-fa91-4a5d-baf5-b4e0a8e13fcb",
   "metadata": {},
   "outputs": [],
   "source": [
    "get_mean_cor_df(reg_rt = \"0\", mnum = \"6\", regs = ['fractalProb_par', 'valBundleSum_par', 'valChosenMinusUnchosen_par', 'rpeLeftRightSum_par'])"
   ]
  },
  {
   "cell_type": "code",
   "execution_count": null,
   "id": "43717702-31b9-4f8b-bc68-53aec911a5eb",
   "metadata": {},
   "outputs": [],
   "source": [
    "regs = ['fractalProb_par','valBundleSum_par', 'valChosenMinusUnchosen_par', 'rpeLeftRightSum_par']\n",
    "mnum = '6'\n",
    "for reg in regs:\n",
    "    plot_filt_tval_img(reg, mnum = mnum)"
   ]
  },
  {
   "cell_type": "code",
   "execution_count": null,
   "id": "23490dc3-d401-45a9-88d9-a0d3dde7218a",
   "metadata": {},
   "outputs": [],
   "source": [
    "plot_filt_tval_img(\"valChosenMinusUnchosen_par\", mnum = \"6\", nofilt=True, t_threshold=2.3)\n",
    "plot_filt_tval_img(\"rpeLeftRightSum_par\", mnum = \"6\", nofilt=True, t_threshold=2.3, cut_coords =(2, 32, -2))"
   ]
  },
  {
   "cell_type": "markdown",
   "id": "69bf3b4f-5a05-4494-8d28-a2ea976a1edc",
   "metadata": {
    "jp-MarkdownHeadingCollapsed": true,
    "tags": []
   },
   "source": [
    "## Model 7: Does anything for rpe survive with only one fractal included? No."
   ]
  },
  {
   "cell_type": "code",
   "execution_count": null,
   "id": "1ba4d2fe-b209-4400-85e9-6048146e154e",
   "metadata": {},
   "outputs": [],
   "source": [
    "get_mean_cor_df(reg_rt = \"0\", mnum = \"7\", regs = ['fractalProb_par', 'valBundleSum_par', 'valChosenMinusUnchosen_par', 'reward_par', 'rpeLeftFractal_par'])"
   ]
  },
  {
   "cell_type": "code",
   "execution_count": null,
   "id": "4f6f49fb-aa05-450a-84c5-5ffbd4f5bb27",
   "metadata": {},
   "outputs": [],
   "source": [
    "regs = ['fractalProb_par','valBundleSum_par', 'valChosenMinusUnchosen_par', 'reward_par', 'rpeLeftFractal_par']\n",
    "mnum = '7'\n",
    "for reg in regs:\n",
    "    plot_filt_tval_img(reg, mnum = mnum)"
   ]
  },
  {
   "cell_type": "code",
   "execution_count": null,
   "id": "ab9b13a3-d19f-442d-b727-d33b60af4668",
   "metadata": {},
   "outputs": [],
   "source": [
    "plot_filt_tval_img(\"rpeLeftFractal_par\", mnum = \"7\", nofilt=True, t_threshold=3, cut_coords=(2, 28, 12))"
   ]
  },
  {
   "cell_type": "markdown",
   "id": "6d455007-603c-4365-a47a-da4dd06c6656",
   "metadata": {},
   "source": [
    "# To solve\n",
    "\n",
    "- Reward screen - RPE and parametric reward regressor\n",
    "    - Rewarded vs not rewarded contrast\n",
    "    - Same RPE regressor for all subjects using average parameter estimates? Very old school and probably wouldn't power the RPE regressor massively.\n",
    "    - What is on the screen? What might be processed?\n",
    "        - Left and fractal reward. Whether a fractal is rewarded matters only to the degree it updates beliefs but since these two regressors would be expected to affect the same are at the same time we combine them into one by summing them `rpeLeftRightSum_par`. Results of `rpeLeftRightSumEarly_par` might point towards an initial processing of these outputs before the total trial reward.\n",
    "        - Reward attribute (red square)`rewardedAttrFractal_st` and `rewardedAttrLottery_st` + their contrast\n",
    "        - How surprising the reward attribute is. `rewardedAttrSurprise_par`.If rewardFractal then `1-wpFrac`, if rewardLottery `1-(1-wpFrac)=wpFrac`. Note that this is **not** entirely a learning signal since the output is determined by the design more than the subjects' behavior but it might bias behavior nonetheless.\n",
    "        - Total reward amount `reward_par`\n",
    "        - Was there a reward for the trial `rewarded_st` and `notRewarded_st` + their contrast\n",
    "- Value comparison\n",
    "    - Does limiting the value sum regressor to the beginning (valBundleSum**Early**_par) make valChosenMinusUnchosenLate_par capture more variance?\n",
    "    \n",
    "- If these early/late regressor's have effects then maybe eye-tracking is a good idea for this paradigm."
   ]
  },
  {
   "cell_type": "markdown",
   "id": "85976311-d379-4172-a009-5dde67b7b55c",
   "metadata": {},
   "source": [
    "# Model 8: Expanded reward screen modeling"
   ]
  },
  {
   "cell_type": "markdown",
   "id": "d761a82a-3300-4550-8e70-52f375026739",
   "metadata": {},
   "source": [
    "Note the correlation between `reward_par`, `rewarded_st` and `notRewarded_st`"
   ]
  },
  {
   "cell_type": "code",
   "execution_count": null,
   "id": "fd4afb2d-0764-45c8-9d1c-ad312d272994",
   "metadata": {},
   "outputs": [],
   "source": [
    "get_mean_cor_df(reg_rt = \"0\", mnum = \"8\", regs = ['fractalProb_par','valBundleSum_par', 'valChosenMinusUnchosen_par', 'reward_par', 'rpeLeftRightSum_par', 'rewardedAttrSurprise_par', 'rewarded_st', 'notRewarded_st'])"
   ]
  },
  {
   "cell_type": "code",
   "execution_count": null,
   "id": "535ab6fb-818c-4189-ac84-c926d36e57da",
   "metadata": {},
   "outputs": [],
   "source": [
    "regs = ['fractalProb_par','valBundleSum_par', 'valChosenMinusUnchosen_par', 'reward_par', 'rpeLeftRightSum_par', \n",
    "         'rewardedAttrFractalVsLottery', 'rewardedAttrSurprise_par', 'rewardedVsNotRewarded']\n",
    "mnum = '8'\n",
    "for reg in regs:\n",
    "    if reg == 'rewardedVsNotRewarded':\n",
    "        plot_filt_tval_img(reg, mnum = mnum, cut_coords = (-26, 4, 56))\n",
    "    else:\n",
    "        plot_filt_tval_img(reg, mnum = mnum)"
   ]
  },
  {
   "cell_type": "markdown",
   "id": "2bbc17ed-a54d-4be7-8ead-e9d3db39c0d5",
   "metadata": {},
   "source": [
    "- Remore reward attribute (red square)`rewardedAttrFractal_st` and `rewardedAttrLottery_st` + their contrast. Nothing survives for them.\n",
    "- What to do about value comparison and rpe?\n",
    "    - Timing: `valBundleSumEarly_par`, `valChosenMinusUnchosenLate_par`, `rpeLeftRightSumEarly_par`"
   ]
  },
  {
   "cell_type": "markdown",
   "id": "1a775d6b-e82f-436b-9b5e-2f2a6e8ab8bc",
   "metadata": {},
   "source": [
    "# Model 9: Expanded reward screen modeling with shifted value and rpe regressors - no improvement\n",
    "\n",
    "Shifting the value sum regressors makes it less powerfull and nothing survives for the rpe sum when looking at the first second of the reward screen either."
   ]
  },
  {
   "cell_type": "code",
   "execution_count": null,
   "id": "976a9d3d-cfa1-4248-b3b9-4b779ed4e7d6",
   "metadata": {},
   "outputs": [],
   "source": [
    "regs = ['fractalProb_par','valBundleSumEarly_par', 'valChosenMinusUnchosenLate_par', 'reward_par', 'rpeLeftRightSumEarly_par', \n",
    "        'rewardedAttrSurprise_par', 'rewardedVsNotRewarded']\n",
    "mnum = '9'\n",
    "for reg in regs:\n",
    "    if reg == 'rewardedVsNotRewarded':\n",
    "        plot_filt_tval_img(reg, mnum = mnum, cut_coords = (-26, 4, 56))\n",
    "    else:\n",
    "        plot_filt_tval_img(reg, mnum = mnum)"
   ]
  },
  {
   "cell_type": "markdown",
   "id": "8d5e76f3-5f36-4832-9e12-6128c57ffc93",
   "metadata": {},
   "source": [
    "# Model 10: Relative value and rpe regressors\n",
    "\n",
    "Relative value is a lot more scattered and relative rpe still doesn't survive."
   ]
  },
  {
   "cell_type": "code",
   "execution_count": null,
   "id": "83844229-69ca-4d07-b790-c7748b396ef0",
   "metadata": {},
   "outputs": [],
   "source": [
    "regs = ['fractalProb_par','valRelativeLeftBundle_par', 'reward_par', 'rpeRelativeLeftFractal_par', 'rewardedAttrSurprise_par', 'rewardedVsNotRewarded']\n",
    "mnum = '10'\n",
    "for reg in regs:\n",
    "    if reg == 'rewardedVsNotRewarded':\n",
    "        plot_filt_tval_img(reg, mnum = mnum, cut_coords = (-26, 4, 56))\n",
    "    else:\n",
    "        plot_filt_tval_img(reg, mnum = mnum)"
   ]
  },
  {
   "cell_type": "markdown",
   "id": "00ee97bc-b3fd-4de7-a9d6-958a151e7e50",
   "metadata": {},
   "source": [
    "# Where is the \"learning\" signal?"
   ]
  },
  {
   "cell_type": "markdown",
   "id": "32044811-7143-4386-899b-9c8fe82495d7",
   "metadata": {},
   "source": [
    "The expanded modeling of the reward screen reduced some of the variance associated with the `reward_par` regressor by loading some onto the `rewardedAttrSurprise_par` regressor and the `rewardedVsNotRewarded` contrast.\n",
    "\n",
    "It did not, however, result in anything surviving for `rpeLeftRightSum_par` (model 8), `rpeLeftRightSumEarly_par` (model 9) or `rpeRelativeLeftFractal` (model 9).\n",
    "\n",
    "Behavioral analyses show, however, that subjects are more likely to choose the bundle with the better fractal later in the task suggesting that subjects **learn** fractal values.\n",
    "\n",
    "We also know, that behavior depends more on the fractal value difference the more **relevant** the fractals are\n",
    "\n",
    "When would learning happen? During the reward screen. But there is a lot of information to process on this screen so maybe learning is not as consistent as the current behavioral model would suggest but context-dependant.\n",
    "\n",
    "Model where continously updated rpe's expression is weighted by its relevance for the trial's reward:\n",
    "- Does how much you learn depend on how relevant the fractals were for that trial? `rpeWeightedByRelevance_par = rpeLeftRightSum_par` * `fractalProb_par` (model11a) Or by perceived relevance? `rpeWeightedByPerceivedRelevance_par = rpeLeftRightSum_par * wpFrac` (model11b)\n",
    "\n",
    "Models that imply rpe's that are **not** updated after each trial. For these I should first fit the behavioral model and do a model comparison with the model that updates the rpe after each trial.\n",
    "- Do you only learn about the fractals when they are the rewarded attribute? `rpeWhenFractalRewarded_par = np.where(fractalDraw, rpeLeftRightSum_par, 0)` \n",
    "- Do you only learn about the fractal in the chosen bundle? `rpeChosenBundleFractal_par = np.where(choiceLeft, rpeLeft, rpeRight)` "
   ]
  },
  {
   "cell_type": "markdown",
   "id": "e10f069c-7309-4376-bcba-4cf3cf051087",
   "metadata": {},
   "source": [
    "# Model 11a"
   ]
  },
  {
   "cell_type": "code",
   "execution_count": null,
   "id": "34091073-7abe-423a-992d-07c0cebf9e45",
   "metadata": {},
   "outputs": [],
   "source": [
    "regs = ['fractalProb_par','valBundleSum_par', 'reward_par', 'rpeWeightedByRelevance_par', 'rewardedAttrSurprise_par', 'rewardedVsNotRewarded']\n",
    "mnum = '11a'\n",
    "for reg in regs:\n",
    "    if reg == 'rewardedVsNotRewarded':\n",
    "        plot_filt_tval_img(reg, mnum = mnum, cut_coords = (-26, 4, 56))\n",
    "    else:\n",
    "        plot_filt_tval_img(reg, mnum = mnum)"
   ]
  },
  {
   "cell_type": "markdown",
   "id": "6aa1a1c5-27b3-41dd-a3cc-e779adc07497",
   "metadata": {},
   "source": [
    "# Model 11b"
   ]
  },
  {
   "cell_type": "code",
   "execution_count": null,
   "id": "bfc15fae-2ed9-4753-87f4-4432d2ab8551",
   "metadata": {},
   "outputs": [],
   "source": [
    "regs = ['fractalProb_par','valBundleSum_par', 'reward_par', 'rpeWeightedByPerceivedRelevance_par', 'rewardedAttrSurprise_par', 'rewardedVsNotRewarded']\n",
    "mnum = '11b'\n",
    "for reg in regs:\n",
    "    if reg == 'rewardedVsNotRewarded':\n",
    "        plot_filt_tval_img(reg, mnum = mnum, cut_coords = (-26, 4, 56))\n",
    "    else:\n",
    "        plot_filt_tval_img(reg, mnum = mnum)"
   ]
  },
  {
   "cell_type": "markdown",
   "id": "ad300064-2ebf-4cc0-b430-7584a6c13a3d",
   "metadata": {},
   "source": [
    "# Model 12 - RPE from best fitting behavioral model\n",
    "\n",
    "This might change the `valBundleSum_par` as well"
   ]
  },
  {
   "cell_type": "code",
   "execution_count": null,
   "id": "6decf238-4291-4ef2-b90f-82c8c895fb3b",
   "metadata": {},
   "outputs": [],
   "source": [
    "regs = ['fractalProb_par','valBundleSum_par', 'reward_par', 'rpeBestModelLeftRightSum_par', 'rewardedAttrSurprise_par', 'rewardedVsNotRewarded']\n",
    "mnum = '11b'\n",
    "for reg in regs:\n",
    "    if reg == 'rewardedVsNotRewarded':\n",
    "        plot_filt_tval_img(reg, mnum = mnum, cut_coords = (-26, 4, 56))\n",
    "    else:\n",
    "        plot_filt_tval_img(reg, mnum = mnum)"
   ]
  },
  {
   "cell_type": "code",
   "execution_count": 4,
   "id": "dae7a0d8-a9eb-4d7c-9618-93e60666b0f7",
   "metadata": {},
   "outputs": [
    {
     "data": {
      "text/plain": [
       "'/shared/behavioral_data'"
      ]
     },
     "execution_count": 4,
     "metadata": {},
     "output_type": "execute_result"
    }
   ],
   "source": [
    "behavior_path='/shared/behavioral_data/all_trials_wBestRpe.csv'\n",
    "os.path.join(os.path.dirname(behavior_path), 'all_trials_wBestRpe.csv')"
   ]
  },
  {
   "cell_type": "code",
   "execution_count": 2,
   "id": "6fdc59c4-1818-4869-a411-1b124dd3b302",
   "metadata": {},
   "outputs": [],
   "source": [
    "import os"
   ]
  },
  {
   "cell_type": "code",
   "execution_count": null,
   "id": "fdf847bb-44f8-4277-a29f-6e7e1ede83ee",
   "metadata": {},
   "outputs": [],
   "source": []
  }
 ],
 "metadata": {
  "kernelspec": {
   "display_name": "Python 3 (ipykernel)",
   "language": "python",
   "name": "python3"
  },
  "language_info": {
   "codemirror_mode": {
    "name": "ipython",
    "version": 3
   },
   "file_extension": ".py",
   "mimetype": "text/x-python",
   "name": "python",
   "nbconvert_exporter": "python",
   "pygments_lexer": "ipython3",
   "version": "3.8.3"
  }
 },
 "nbformat": 4,
 "nbformat_minor": 5
}
