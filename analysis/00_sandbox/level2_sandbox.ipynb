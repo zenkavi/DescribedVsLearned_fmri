{
 "cells": [
  {
   "cell_type": "code",
   "execution_count": 2,
   "id": "03512df6-0ddd-47ba-9b6e-9375b9a116d9",
   "metadata": {},
   "outputs": [],
   "source": [
    "import glob\n",
    "import nibabel as nib\n",
    "from nilearn.glm.second_level import SecondLevelModel\n",
    "from nilearn.plotting import plot_design_matrix, plot_stat_map\n",
    "import numpy as np\n",
    "import os\n",
    "import pandas as pd\n",
    "import pickle\n",
    "import re\n",
    "\n",
    "import sys\n",
    "sys.path.append('/Users/zeynepenkavi/Documents/RangelLab/DescribedVsLearned_fmri/analysis/02_level2')\n",
    "from level2_utils import run_level2"
   ]
  },
  {
   "cell_type": "code",
   "execution_count": 3,
   "id": "f2e793b4-bdea-4cea-9e21-550b3eaffa64",
   "metadata": {},
   "outputs": [],
   "source": [
    "subnum = '01'\n",
    "\n",
    "data_path = '/Users/zeynepenkavi/Downloads/GTavares_2017_arbitration/bids_nifti_wface/derivatives/nilearn/glm/level1/'\n",
    "out_path = '/Users/zeynepenkavi/Downloads/GTavares_2017_arbitration/bids_nifti_wface/derivatives/nilearn/glm/level2/'"
   ]
  },
  {
   "cell_type": "code",
   "execution_count": 9,
   "id": "5101122f-8b16-43ae-982d-a8f178f76029",
   "metadata": {},
   "outputs": [],
   "source": [
    "regress_rt = 0\n",
    "\n",
    "in_path = os.path.join(data_path, 'sub-%s/contrasts'%(subnum))\n",
    "sub_l1_contrasts = glob.glob(os.path.join(in_path, '*reg-rt%s*')%(str(regress_rt)))\n",
    "sub_l1_contrasts.sort()\n",
    "# sub_l1_contrasts"
   ]
  },
  {
   "cell_type": "code",
   "execution_count": 10,
   "id": "dfd17713-b616-49a8-b062-a86ad4a4a7ee",
   "metadata": {},
   "outputs": [
    {
     "data": {
      "text/plain": [
       "array(['choiceLeft.nii.gz', 'conflict-gt-noconflict.nii.gz',\n",
       "       'conflict.nii.gz', 'cross.nii.gz', 'fractalProb.nii.gz',\n",
       "       'fractalProbParam.nii.gz', 'noconflict-gt-conflict.nii.gz',\n",
       "       'noconflict.nii.gz', 'reward.nii.gz', 'rpe.nii.gz', 'stim.nii.gz',\n",
       "       'task-on.nii.gz'], dtype='<U29')"
      ]
     },
     "execution_count": 10,
     "metadata": {},
     "output_type": "execute_result"
    }
   ],
   "source": [
    "np.unique([os.path.basename(i).split('_')[3] for i in sub_l1_contrasts])\n",
    "# [os.path.basename(i) for i in sub_l1_contrasts]"
   ]
  },
  {
   "cell_type": "code",
   "execution_count": null,
   "id": "cedfeb23-8c34-467c-885b-35a1e944e005",
   "metadata": {},
   "outputs": [],
   "source": [
    "reg_rt = 0\n",
    "run_level2(subnum, contrasts, data_path, out_path, regress_rt=reg_rt)"
   ]
  },
  {
   "cell_type": "code",
   "execution_count": null,
   "id": "32702192-37f2-4b61-bed0-c9bf9ea81431",
   "metadata": {},
   "outputs": [],
   "source": [
    "reg_rt = 1\n",
    "run_level2(subnum, contrasts, data_path, out_path, regress_rt=reg_rt)"
   ]
  },
  {
   "cell_type": "code",
   "execution_count": null,
   "id": "3fddce36-9911-43c6-bb6c-dbed9914f66f",
   "metadata": {},
   "outputs": [],
   "source": [
    "plot_stat_map(z_map, threshold=2.0, title='sub-%s_%s' % (subnum, c))"
   ]
  },
  {
   "cell_type": "code",
   "execution_count": null,
   "id": "d77ccc57-4998-4cf6-93f7-bd63415cd6c9",
   "metadata": {},
   "outputs": [],
   "source": []
  }
 ],
 "metadata": {
  "kernelspec": {
   "display_name": "Python 3 (ipykernel)",
   "language": "python",
   "name": "python3"
  },
  "language_info": {
   "codemirror_mode": {
    "name": "ipython",
    "version": 3
   },
   "file_extension": ".py",
   "mimetype": "text/x-python",
   "name": "python",
   "nbconvert_exporter": "python",
   "pygments_lexer": "ipython3",
   "version": "3.8.3"
  }
 },
 "nbformat": 4,
 "nbformat_minor": 5
}
