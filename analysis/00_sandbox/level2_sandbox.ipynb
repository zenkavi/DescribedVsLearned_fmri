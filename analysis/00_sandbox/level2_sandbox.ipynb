{
 "cells": [
  {
   "cell_type": "code",
   "execution_count": 1,
   "id": "03512df6-0ddd-47ba-9b6e-9375b9a116d9",
   "metadata": {},
   "outputs": [
    {
     "name": "stderr",
     "output_type": "stream",
     "text": [
      "/Users/zeynepenkavi/.pyenv/versions/3.8.3/envs/py-dvl-fmri/lib/python3.8/site-packages/nilearn/glm/__init__.py:55: FutureWarning: The nilearn.glm module is experimental. It may change in any future release of Nilearn.\n",
      "  warn('The nilearn.glm module is experimental. '\n",
      "/Users/zeynepenkavi/.pyenv/versions/3.8.3/envs/py-dvl-fmri/lib/python3.8/site-packages/nilearn/datasets/__init__.py:86: FutureWarning: Fetchers from the nilearn.datasets module will be updated in version 0.9 to return python strings instead of bytes and Pandas dataframes instead of Numpy arrays.\n",
      "  warn(\"Fetchers from the nilearn.datasets module will be \"\n"
     ]
    }
   ],
   "source": [
    "import glob\n",
    "import nibabel as nib\n",
    "from nilearn.glm.second_level import SecondLevelModel\n",
    "from nilearn.plotting import plot_design_matrix, plot_stat_map\n",
    "import numpy as np\n",
    "import os\n",
    "import pandas as pd\n",
    "import pickle\n",
    "import re\n",
    "\n",
    "import sys\n",
    "sys.path.append('/Users/zeynepenkavi/Documents/RangelLab/DescribedVsLearned_fmri/analysis/02_level2')\n",
    "from level2_utils import run_level2"
   ]
  },
  {
   "cell_type": "code",
   "execution_count": 2,
   "id": "f2e793b4-bdea-4cea-9e21-550b3eaffa64",
   "metadata": {},
   "outputs": [],
   "source": [
    "subnum = '01'"
   ]
  },
  {
   "cell_type": "code",
   "execution_count": 3,
   "id": "cedfeb23-8c34-467c-885b-35a1e944e005",
   "metadata": {},
   "outputs": [
    {
     "name": "stdout",
     "output_type": "stream",
     "text": [
      "***********************************************\n",
      "Running GLM for sub-01 contrast choice_st_reg-rt1\n",
      "***********************************************\n",
      "***********************************************\n",
      "Saving GLM for sub-01 contrast choice_st_reg-rt1\n",
      "***********************************************\n",
      "***********************************************\n",
      "Running contrasts for sub-01 contrast choice_st_reg-rt1\n",
      "***********************************************\n",
      "***********************************************\n",
      "Done saving contrasts for sub-01 contrast choice_st_reg-rt1\n",
      "***********************************************\n",
      "***********************************************\n",
      "Running GLM for sub-01 contrast cross_ev_reg-rt1\n",
      "***********************************************\n",
      "***********************************************\n",
      "Saving GLM for sub-01 contrast cross_ev_reg-rt1\n",
      "***********************************************\n",
      "***********************************************\n",
      "Running contrasts for sub-01 contrast cross_ev_reg-rt1\n",
      "***********************************************\n",
      "***********************************************\n",
      "Done saving contrasts for sub-01 contrast cross_ev_reg-rt1\n",
      "***********************************************\n",
      "***********************************************\n",
      "Running GLM for sub-01 contrast cross_rt_reg-rt1\n",
      "***********************************************\n",
      "***********************************************\n",
      "Saving GLM for sub-01 contrast cross_rt_reg-rt1\n",
      "***********************************************\n",
      "***********************************************\n",
      "Running contrasts for sub-01 contrast cross_rt_reg-rt1\n",
      "***********************************************\n",
      "***********************************************\n",
      "Done saving contrasts for sub-01 contrast cross_rt_reg-rt1\n",
      "***********************************************\n",
      "***********************************************\n",
      "Running GLM for sub-01 contrast fractalProb_ev_reg-rt1\n",
      "***********************************************\n",
      "***********************************************\n",
      "Saving GLM for sub-01 contrast fractalProb_ev_reg-rt1\n",
      "***********************************************\n",
      "***********************************************\n",
      "Running contrasts for sub-01 contrast fractalProb_ev_reg-rt1\n",
      "***********************************************\n",
      "***********************************************\n",
      "Done saving contrasts for sub-01 contrast fractalProb_ev_reg-rt1\n",
      "***********************************************\n",
      "***********************************************\n",
      "Running GLM for sub-01 contrast reward_ev_reg-rt1\n",
      "***********************************************\n",
      "***********************************************\n",
      "Saving GLM for sub-01 contrast reward_ev_reg-rt1\n",
      "***********************************************\n",
      "***********************************************\n",
      "Running contrasts for sub-01 contrast reward_ev_reg-rt1\n",
      "***********************************************\n",
      "***********************************************\n",
      "Done saving contrasts for sub-01 contrast reward_ev_reg-rt1\n",
      "***********************************************\n",
      "***********************************************\n",
      "Running GLM for sub-01 contrast stim_ev_reg-rt1\n",
      "***********************************************\n",
      "***********************************************\n",
      "Saving GLM for sub-01 contrast stim_ev_reg-rt1\n",
      "***********************************************\n",
      "***********************************************\n",
      "Running contrasts for sub-01 contrast stim_ev_reg-rt1\n",
      "***********************************************\n",
      "***********************************************\n",
      "Done saving contrasts for sub-01 contrast stim_ev_reg-rt1\n",
      "***********************************************\n",
      "***********************************************\n",
      "Running GLM for sub-01 contrast stim_rt_reg-rt1\n",
      "***********************************************\n",
      "***********************************************\n",
      "Saving GLM for sub-01 contrast stim_rt_reg-rt1\n",
      "***********************************************\n",
      "***********************************************\n",
      "Running contrasts for sub-01 contrast stim_rt_reg-rt1\n",
      "***********************************************\n",
      "***********************************************\n",
      "Done saving contrasts for sub-01 contrast stim_rt_reg-rt1\n",
      "***********************************************\n"
     ]
    }
   ],
   "source": [
    "mnum = 'model1'\n",
    "reg_rt = 1\n",
    "regress_rt = 1\n",
    "contrasts = None\n",
    "data_path = '/Users/zeynepenkavi/Downloads/GTavares_2017_arbitration/bids_nifti_wface/derivatives/nilearn/glm/level1/%s_reg-rt%s'%(mnum, str(reg_rt))\n",
    "out_path = '/Users/zeynepenkavi/Downloads/GTavares_2017_arbitration/bids_nifti_wface/derivatives/nilearn/glm/level2/%s_reg-rt%s'%(mnum, str(reg_rt))\n",
    "\n",
    "run_level2(subnum, mnum, contrasts, data_path, out_path, regress_rt=reg_rt)"
   ]
  },
  {
   "cell_type": "code",
   "execution_count": 5,
   "id": "32702192-37f2-4b61-bed0-c9bf9ea81431",
   "metadata": {},
   "outputs": [
    {
     "ename": "TypeError",
     "evalue": "run_level2() missing 1 required positional argument: 'out_path'",
     "output_type": "error",
     "traceback": [
      "\u001b[0;31m---------------------------------------------------------------------------\u001b[0m",
      "\u001b[0;31mTypeError\u001b[0m                                 Traceback (most recent call last)",
      "\u001b[0;32m/var/folders/10/zpzbg__x3hlc56gwq9zf6r600000gn/T/ipykernel_96076/912524781.py\u001b[0m in \u001b[0;36m<module>\u001b[0;34m\u001b[0m\n\u001b[1;32m      4\u001b[0m \u001b[0mout_path\u001b[0m \u001b[0;34m=\u001b[0m \u001b[0;34m'/Users/zeynepenkavi/Downloads/GTavares_2017_arbitration/bids_nifti_wface/derivatives/nilearn/glm/level2/%s_reg-rt%s'\u001b[0m\u001b[0;34m%\u001b[0m\u001b[0;34m(\u001b[0m\u001b[0mmnum\u001b[0m\u001b[0;34m,\u001b[0m \u001b[0mstr\u001b[0m\u001b[0;34m(\u001b[0m\u001b[0mreg_rt\u001b[0m\u001b[0;34m)\u001b[0m\u001b[0;34m)\u001b[0m\u001b[0;34m\u001b[0m\u001b[0;34m\u001b[0m\u001b[0m\n\u001b[1;32m      5\u001b[0m \u001b[0;34m\u001b[0m\u001b[0m\n\u001b[0;32m----> 6\u001b[0;31m \u001b[0mrun_level2\u001b[0m\u001b[0;34m(\u001b[0m\u001b[0msubnum\u001b[0m\u001b[0;34m,\u001b[0m \u001b[0mcontrasts\u001b[0m\u001b[0;34m,\u001b[0m \u001b[0mdata_path\u001b[0m\u001b[0;34m,\u001b[0m \u001b[0mout_path\u001b[0m\u001b[0;34m,\u001b[0m \u001b[0mregress_rt\u001b[0m\u001b[0;34m=\u001b[0m\u001b[0mreg_rt\u001b[0m\u001b[0;34m)\u001b[0m\u001b[0;34m\u001b[0m\u001b[0;34m\u001b[0m\u001b[0m\n\u001b[0m",
      "\u001b[0;31mTypeError\u001b[0m: run_level2() missing 1 required positional argument: 'out_path'"
     ]
    }
   ],
   "source": [
    "mnum = 'model2'\n",
    "reg_rt = 0\n",
    "data_path = '/Users/zeynepenkavi/Downloads/GTavares_2017_arbitration/bids_nifti_wface/derivatives/nilearn/glm/level1/%s_reg-rt%s'%(mnum, str(reg_rt))\n",
    "out_path = '/Users/zeynepenkavi/Downloads/GTavares_2017_arbitration/bids_nifti_wface/derivatives/nilearn/glm/level2/%s_reg-rt%s'%(mnum, str(reg_rt))\n",
    "\n",
    "run_level2(subnum, contrasts, data_path, out_path, regress_rt=reg_rt)"
   ]
  },
  {
   "cell_type": "code",
   "execution_count": null,
   "id": "3fddce36-9911-43c6-bb6c-dbed9914f66f",
   "metadata": {},
   "outputs": [],
   "source": [
    "plot_stat_map(z_map, threshold=2.0, title='sub-%s_%s' % (subnum, c))"
   ]
  },
  {
   "cell_type": "code",
   "execution_count": null,
   "id": "d77ccc57-4998-4cf6-93f7-bd63415cd6c9",
   "metadata": {},
   "outputs": [],
   "source": []
  }
 ],
 "metadata": {
  "kernelspec": {
   "display_name": "Python 3 (ipykernel)",
   "language": "python",
   "name": "python3"
  },
  "language_info": {
   "codemirror_mode": {
    "name": "ipython",
    "version": 3
   },
   "file_extension": ".py",
   "mimetype": "text/x-python",
   "name": "python",
   "nbconvert_exporter": "python",
   "pygments_lexer": "ipython3",
   "version": "3.8.3"
  }
 },
 "nbformat": 4,
 "nbformat_minor": 5
}
