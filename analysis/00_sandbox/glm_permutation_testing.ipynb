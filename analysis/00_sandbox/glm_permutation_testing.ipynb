{
 "cells": [
  {
   "cell_type": "code",
   "execution_count": 1,
   "id": "6616a866-9140-4178-ac95-2527518f1b43",
   "metadata": {},
   "outputs": [
    {
     "name": "stderr",
     "output_type": "stream",
     "text": [
      "/Users/zeynepenkavi/.pyenv/versions/3.8.3/envs/py-dvl-fmri/lib/python3.8/site-packages/nilearn/glm/__init__.py:55: FutureWarning: The nilearn.glm module is experimental. It may change in any future release of Nilearn.\n",
      "  warn('The nilearn.glm module is experimental. '\n"
     ]
    }
   ],
   "source": [
    "import numpy as np\n",
    "import matplotlib.pyplot as plt\n",
    "%matplotlib inline\n",
    "import pandas as pd\n",
    "import nibabel as nib\n",
    "import glob\n",
    "import os\n",
    "from nilearn.plotting import plot_stat_map, view_img\n"
   ]
  },
  {
   "cell_type": "code",
   "execution_count": 90,
   "id": "10ab31e0-f9f6-4e0c-8d03-62656b092aaa",
   "metadata": {},
   "outputs": [],
   "source": [
    "l2_path = '/Users/zeynepenkavi/Downloads/GTavares_2017_arbitration/bids_nifti_wface/derivatives/nilearn/glm/level2/model3_reg-rt0'\n",
    "l2_imgs = glob.glob(os.path.join(l2_path, '*/*/*valBundleSum_par*'))"
   ]
  },
  {
   "cell_type": "markdown",
   "id": "403f2502-31ed-4823-bee5-36fb5bf0fb67",
   "metadata": {},
   "source": [
    "## How can l3 t values be larger than the largest t values in the individual mean maps?\n",
    "\n",
    "Is it because they are enhance TFCE statistics?\n",
    "\n",
    "When I tried voxelwise setting `tfce=False` and checked the min and max values in `randomise_results.outputs.tstat_files` they were the same as the outputs using tfce. So, still don't know how this is possible."
   ]
  },
  {
   "cell_type": "code",
   "execution_count": 100,
   "id": "e7fafa4f-5b8d-4fd8-bc2f-76fead5a8cbe",
   "metadata": {},
   "outputs": [
    {
     "name": "stdout",
     "output_type": "stream",
     "text": [
      "-4.645 4.611\n",
      "-4.548 4.07\n",
      "-4.133 4.827\n",
      "-4.342 4.723\n",
      "-3.99 4.111\n",
      "-5.144 4.369\n",
      "-4.954 4.453\n",
      "-3.725 4.534\n",
      "-3.943 4.814\n",
      "-4.31 4.676\n",
      "-4.91 3.955\n",
      "-3.396 4.142\n",
      "-4.147 4.565\n",
      "-4.085 4.781\n",
      "-4.91 5.049\n",
      "-4.104 4.595\n",
      "-4.67 4.493\n",
      "-4.112 4.443\n",
      "-3.667 4.289\n",
      "-3.566 4.587\n",
      "-4.737 4.659\n",
      "-4.595 5.482\n",
      "-4.431 4.238\n",
      "-4.677 4.525\n",
      "-3.827 4.314\n"
     ]
    }
   ],
   "source": [
    "for img in l2_imgs:\n",
    "    tmp = nib.load(img)\n",
    "    tmp_data = tmp.get_fdata()\n",
    "    print(round(np.min(tmp_data), 3), round(np.max(tmp_data), 3))\n",
    "    "
   ]
  },
  {
   "cell_type": "markdown",
   "id": "13c361fa-58b4-461d-b39b-59837c594028",
   "metadata": {},
   "source": [
    "Index of max T-val"
   ]
  },
  {
   "cell_type": "code",
   "execution_count": null,
   "id": "b60bf926-44cd-4ff7-acbe-b0ad54ff7c56",
   "metadata": {},
   "outputs": [],
   "source": [
    "for img in l2_imgs:\n",
    "    tmp = nib.load(img)\n",
    "    tmp_data = tmp.get_fdata()\n",
    "    print(np.unravel_index(np.argmax(tmp_data, axis=None), tmp_data.shape))"
   ]
  },
  {
   "cell_type": "code",
   "execution_count": 81,
   "id": "cb313d33-0532-4eb1-8f33-9f7fcac476a1",
   "metadata": {},
   "outputs": [],
   "source": [
    "tvals = []\n",
    "for img in l2_imgs:\n",
    "    tmp = nib.load(img)\n",
    "    tmp_data = tmp.get_fdata()\n",
    "    tvals.append(tmp_data[37, 68, 30])"
   ]
  },
  {
   "cell_type": "code",
   "execution_count": null,
   "id": "3dc41cff-919e-4f32-a95e-1f9049871af8",
   "metadata": {},
   "outputs": [],
   "source": [
    "l2_path = '/Users/zeynepenkavi/Downloads/GTavares_2017_arbitration/bids_nifti_wface/derivatives/nilearn/glm/level2/model3_reg-rt0'\n",
    "imgs = glob.glob(os.path.join(l2_path, '*/*/*reward_par*'))\n",
    "\n",
    "for img in imgs[:10]:\n",
    "    plot_stat_map(img, threshold=3, cut_coords = (0, 5, 5), draw_cross=False)"
   ]
  },
  {
   "cell_type": "markdown",
   "id": "c33ae5c9-5620-4bd6-b6cb-25f9b19f8803",
   "metadata": {},
   "source": [
    "What do these l2 images look like with TFCE?"
   ]
  },
  {
   "cell_type": "code",
   "execution_count": null,
   "id": "525ac327-842c-4aa6-b1fc-741a25c36625",
   "metadata": {},
   "outputs": [],
   "source": []
  }
 ],
 "metadata": {
  "kernelspec": {
   "display_name": "Python 3 (ipykernel)",
   "language": "python",
   "name": "python3"
  },
  "language_info": {
   "codemirror_mode": {
    "name": "ipython",
    "version": 3
   },
   "file_extension": ".py",
   "mimetype": "text/x-python",
   "name": "python",
   "nbconvert_exporter": "python",
   "pygments_lexer": "ipython3",
   "version": "3.8.3"
  }
 },
 "nbformat": 4,
 "nbformat_minor": 5
}
