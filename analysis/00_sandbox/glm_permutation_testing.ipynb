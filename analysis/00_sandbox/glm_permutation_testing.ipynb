{
 "cells": [
  {
   "cell_type": "markdown",
   "id": "1fed89d2-e6ab-413e-97bb-ea380ceebdbc",
   "metadata": {},
   "source": [
    "The purpose of this notebook is to understand how the `randomise` algorithm works with a simple simulation.\n",
    "\n",
    "1. Generate data for two nodes ($y_1, y_2$)   \n",
    "using two inputs ($x_1, x_2$)   \n",
    "that stimulates each node respectively ($\\beta_{1,1} > 0, \\beta_{2,1} = 0, \\beta_{1,2} = 0, \\beta_{2,2} > 0$) \n",
    "\n",
    "2. Regress $y_1, y_2$ on $x_1, x_2$ to get observed test statistics in the data\n",
    "\n",
    "3. Create empirical null for the test stat for each regressor in each node. \n",
    "    - For each permutation: Regress out \"nuisance\" variable\n",
    "    - Regress residuals on the *shuffled* regressor of interest\n",
    "    - Extract test stat \n",
    "    \n",
    "4. Compute empirical null for each regressor using the max test stat from both nodes\n",
    "    - Compute the critical test stat for each regressor based on this empirical null informed by the whole image  \n",
    "\n",
    "5. Compute corrected p-values: What proportion of test stats in the empirical null are larger than the observed test stat"
   ]
  },
  {
   "cell_type": "code",
   "execution_count": null,
   "id": "6616a866-9140-4178-ac95-2527518f1b43",
   "metadata": {},
   "outputs": [],
   "source": []
  }
 ],
 "metadata": {
  "kernelspec": {
   "display_name": "Python 3 (ipykernel)",
   "language": "python",
   "name": "python3"
  },
  "language_info": {
   "codemirror_mode": {
    "name": "ipython",
    "version": 3
   },
   "file_extension": ".py",
   "mimetype": "text/x-python",
   "name": "python",
   "nbconvert_exporter": "python",
   "pygments_lexer": "ipython3",
   "version": "3.8.3"
  }
 },
 "nbformat": 4,
 "nbformat_minor": 5
}
