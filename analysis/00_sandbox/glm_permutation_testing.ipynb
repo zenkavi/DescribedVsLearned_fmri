{
 "cells": [
  {
   "cell_type": "code",
   "execution_count": 17,
   "id": "6616a866-9140-4178-ac95-2527518f1b43",
   "metadata": {},
   "outputs": [],
   "source": [
    "import numpy as np\n",
    "import matplotlib.pyplot as plt\n",
    "%matplotlib inline\n",
    "import pandas as pd\n",
    "import nibabel as nib\n",
    "import glob\n",
    "import os\n",
    "from nilearn.plotting import plot_stat_map, view_img, plot_glass_brain\n",
    "from nilearn.image import concat_imgs, smooth_img, mean_img, math_img, resample_to_img\n",
    "from nilearn.glm.second_level import SecondLevelModel\n",
    "from nilearn.glm import threshold_stats_img\n",
    "from nilearn.glm.second_level import non_parametric_inference"
   ]
  },
  {
   "cell_type": "code",
   "execution_count": 34,
   "id": "10ab31e0-f9f6-4e0c-8d03-62656b092aaa",
   "metadata": {},
   "outputs": [],
   "source": [
    "reg = 'valBundleSum_par'\n",
    "l2_path = '/Users/zeynepenkavi/Downloads/GTavares_2017_arbitration/bids_nifti_wface/derivatives/nilearn/glm/level2/model3_reg-rt0'\n",
    "l2_imgs = glob.glob(os.path.join(l2_path, '*/*/*%s*'%(reg)))"
   ]
  },
  {
   "cell_type": "markdown",
   "id": "403f2502-31ed-4823-bee5-36fb5bf0fb67",
   "metadata": {},
   "source": [
    "## How can l3 t values be larger than the largest t values in the individual l2 mean maps?\n",
    "\n",
    "Is it because they are enhanced TFCE statistics instaed of raw T stats?\n",
    "\n",
    "When I tried voxelwise setting `tfce=False` and checked the min and max values in `randomise_results.outputs.tstat_files` they were the same as the outputs using tfce.\n",
    "\n",
    "Below are the min and max values along with their locations in each l2 image."
   ]
  },
  {
   "cell_type": "code",
   "execution_count": 35,
   "id": "e7fafa4f-5b8d-4fd8-bc2f-76fead5a8cbe",
   "metadata": {},
   "outputs": [
    {
     "name": "stdout",
     "output_type": "stream",
     "text": [
      "-4.645 (57, 73, 59) 4.611 (65, 69, 26)\n",
      "-4.548 (68, 46, 33) 4.07 (53, 55, 43)\n",
      "-4.133 (47, 23, 36) 4.827 (34, 34, 37)\n",
      "-4.342 (43, 35, 68) 4.723 (47, 92, 51)\n",
      "-3.99 (52, 53, 34) 4.111 (73, 50, 30)\n",
      "-5.144 (40, 88, 43) 4.369 (55, 26, 30)\n",
      "-4.954 (47, 15, 43) 4.453 (52, 59, 49)\n",
      "-3.725 (37, 39, 52) 4.534 (19, 31, 46)\n",
      "-3.943 (42, 82, 55) 4.814 (64, 46, 25)\n",
      "-4.31 (55, 92, 49) 4.676 (50, 101, 51)\n",
      "-4.91 (55, 24, 41) 3.955 (58, 60, 32)\n",
      "-3.396 (35, 29, 10) 4.142 (48, 54, 49)\n",
      "-4.147 (15, 39, 52) 4.565 (49, 20, 21)\n",
      "-4.085 (58, 49, 53) 4.781 (62, 55, 41)\n",
      "-4.91 (31, 69, 67) 5.049 (45, 60, 40)\n",
      "-4.104 (52, 85, 71) 4.595 (34, 74, 31)\n",
      "-4.67 (53, 78, 57) 4.493 (49, 75, 46)\n",
      "-4.112 (41, 54, 80) 4.443 (76, 48, 61)\n",
      "-3.667 (27, 40, 30) 4.289 (58, 20, 42)\n",
      "-3.566 (45, 74, 48) 4.587 (63, 75, 23)\n",
      "-4.737 (31, 38, 14) 4.659 (54, 28, 51)\n",
      "-4.595 (44, 36, 41) 5.482 (26, 39, 61)\n",
      "-4.431 (31, 38, 42) 4.238 (24, 40, 42)\n",
      "-4.677 (56, 83, 55) 4.525 (72, 50, 64)\n",
      "-3.827 (46, 56, 34) 4.314 (27, 55, 33)\n"
     ]
    }
   ],
   "source": [
    "for img in l2_imgs:\n",
    "    tmp = nib.load(img)\n",
    "    tmp_data = tmp.get_fdata()\n",
    "    print(round(np.min(tmp_data), 3), np.unravel_index(np.argmin(tmp_data, axis=None), tmp_data.shape), round(np.max(tmp_data), 3), np.unravel_index(np.argmax(tmp_data, axis=None), tmp_data.shape))\n",
    "    "
   ]
  },
  {
   "cell_type": "markdown",
   "id": "a8803ffa-ed0c-4cf3-8a8f-2d9d85dec4b1",
   "metadata": {},
   "source": [
    "A few example l2 images"
   ]
  },
  {
   "cell_type": "code",
   "execution_count": null,
   "id": "3dc41cff-919e-4f32-a95e-1f9049871af8",
   "metadata": {},
   "outputs": [],
   "source": [
    "for img in l2_imgs[:3]:\n",
    "    plot_stat_map(img, threshold=3, draw_cross=False)"
   ]
  },
  {
   "cell_type": "markdown",
   "id": "0723d493-2151-47d7-901d-8a03a0982a28",
   "metadata": {
    "tags": []
   },
   "source": [
    "### Effect of smoothing"
   ]
  },
  {
   "cell_type": "code",
   "execution_count": null,
   "id": "42e72df8-81d2-480c-ae01-5a37b9fb3d82",
   "metadata": {},
   "outputs": [],
   "source": [
    "for img in l2_imgs[:3]:\n",
    "    plot_stat_map(smooth_img(img,5), threshold=3, draw_cross=False)"
   ]
  },
  {
   "cell_type": "markdown",
   "id": "420c78fd-f268-4d76-b391-33de436346af",
   "metadata": {},
   "source": [
    "## The average l2 image"
   ]
  },
  {
   "cell_type": "code",
   "execution_count": null,
   "id": "3b1c4101-ce59-462f-81c6-9728ca66d9d1",
   "metadata": {},
   "outputs": [],
   "source": [
    "l3_path = '/Users/zeynepenkavi/Downloads/GTavares_2017_arbitration/bids_nifti_wface/derivatives/nilearn/glm/level3/model3_reg-rt0/overall-mean/%s_model3_reg-rt0'%(reg)\n",
    "all_img = nib.load(os.path.join(l3_path, 'all-l2_overall-mean_%s_model3_reg-rt0.nii.gz'%(reg)))"
   ]
  },
  {
   "cell_type": "code",
   "execution_count": null,
   "id": "29cbe9c3-4ba7-4745-b767-091c2f64c1d8",
   "metadata": {},
   "outputs": [],
   "source": [
    "ave_img_data = np.mean(all_img.get_fdata(), axis=3) #average across subjects"
   ]
  },
  {
   "cell_type": "code",
   "execution_count": null,
   "id": "5bcfc7a3-3435-45cc-8c47-b962fb256559",
   "metadata": {},
   "outputs": [],
   "source": [
    "ave_img = nib.Nifti1Image(ave_img_data.astype(np.float64), all_img.affine)"
   ]
  },
  {
   "cell_type": "markdown",
   "id": "0b4776f6-f8c1-457d-ad40-e85d2a3b0b2f",
   "metadata": {},
   "source": [
    "### Very noisy/small averages"
   ]
  },
  {
   "cell_type": "code",
   "execution_count": null,
   "id": "85f0eec2-bb9d-4731-87a0-3c7446b56a62",
   "metadata": {},
   "outputs": [],
   "source": [
    "plot_stat_map(ave_img, threshold=1.5, draw_cross=False)"
   ]
  },
  {
   "cell_type": "markdown",
   "id": "c33ae5c9-5620-4bd6-b6cb-25f9b19f8803",
   "metadata": {},
   "source": [
    "## What do l2 images look like with TFCE?\n",
    "\n",
    "Computed using e.g.:\n",
    "```\n",
    "fslmaths /data/sub-06/contrasts/sub-06_reward_par_model3_reg-rt0.nii.gz -tfce 2 0.5 26 /data/tfce/sub-06_reward_par_model3_reg-rt0_tfce.nii.gz\n",
    "```"
   ]
  },
  {
   "cell_type": "code",
   "execution_count": null,
   "id": "3a95344d-e711-4e8b-bba0-6dc618011d6b",
   "metadata": {},
   "outputs": [],
   "source": [
    "tfce_imgs = glob.glob(os.path.join(l2_path, '*/*tfce*'))\n"
   ]
  },
  {
   "cell_type": "code",
   "execution_count": null,
   "id": "75f7e0e1-b719-4066-b3c0-3c7e5a1b9314",
   "metadata": {},
   "outputs": [],
   "source": [
    "for img in tfce_imgs[:5]:\n",
    "    plot_stat_map(img, threshold=10335, draw_cross=False) #Critical Value for: randomise_tfce_tstat1 is: 10335\n",
    "    "
   ]
  },
  {
   "cell_type": "code",
   "execution_count": null,
   "id": "e7a982f1-1bae-4e01-9ce3-53809d608c1d",
   "metadata": {},
   "outputs": [],
   "source": [
    "smooth_l2s = []\n",
    "for l in tfce_imgs:\n",
    "    smooth_l2 = smooth_img(l, 5)\n",
    "    smooth_l2s.append(smooth_l2)\n",
    "all_tfce_images = concat_imgs(smooth_l2s, auto_resample=True)"
   ]
  },
  {
   "cell_type": "markdown",
   "id": "2afaa4d0-58a4-4e9e-b34e-f4660357bc68",
   "metadata": {},
   "source": [
    "Average TFCE image. Again values in the average image are lower than those in the individual l2_tfce images."
   ]
  },
  {
   "cell_type": "code",
   "execution_count": null,
   "id": "03fac185-8f01-4c74-a45b-0a70d50a4cfc",
   "metadata": {},
   "outputs": [],
   "source": [
    "ave_tfce_img_data = np.mean(all_tfce_images.get_fdata(), axis=3) #average across subjects\n",
    "ave_tfce_img = nib.Nifti1Image(ave_tfce_img_data.astype(np.float64), all_tfce_images.affine)\n",
    "plot_stat_map(ave_tfce_img, threshold=5000, draw_cross=False)\n"
   ]
  },
  {
   "cell_type": "markdown",
   "id": "94e8eca1-074f-4b5a-83e9-941835b3f08b",
   "metadata": {},
   "source": [
    "## Run level3 analysis using nilearn instead of randomise"
   ]
  },
  {
   "cell_type": "code",
   "execution_count": 46,
   "id": "ed6542da-b3cc-4421-b98f-1f8de83be2ae",
   "metadata": {},
   "outputs": [],
   "source": [
    "# 1's for all runs to get average for subject per contrast\n",
    "design_matrix = pd.DataFrame([1] * len(l2_imgs), columns=['intercept'])\n",
    "model = SecondLevelModel(smoothing_fwhm=5.0)\n",
    "\n",
    "model = model.fit(l2_imgs, design_matrix=design_matrix)\n",
    "\n",
    "# z_map = model.compute_contrast(output_type='z_score')\n",
    "z_map = model.compute_contrast(output_type='stat')\n"
   ]
  },
  {
   "cell_type": "markdown",
   "id": "75c7f4dd-eb97-449c-a973-9051af3d90aa",
   "metadata": {},
   "source": [
    "Raw map thresholded at an arbitrary large value. What nilearn reports for `output_type = \"stat\"` is comparable to randomise outputs.\n",
    "\n",
    "What statistic is reported when `output_type = \"stat\"`? \n",
    "\n",
    "Could this be why things look weird when using randomise? I'm feeding in `z_score` maps insteaf og `stat` maps? What input does randomise expect? `cope` images, contrast of parameters (beta weights)?\n",
    "\n",
    "\n"
   ]
  },
  {
   "cell_type": "code",
   "execution_count": 47,
   "id": "b865fe1a-be90-48b4-b0f3-c7f6ea57a1f6",
   "metadata": {},
   "outputs": [
    {
     "data": {
      "text/plain": [
       "<nilearn.plotting.displays.OrthoSlicer at 0x1336b9b20>"
      ]
     },
     "execution_count": 47,
     "metadata": {},
     "output_type": "execute_result"
    },
    {
     "data": {
      "image/png": "[encoded data removed]",
      "text/plain": [
       "<Figure size 525.6x187.2 with 5 Axes>"
      ]
     },
     "metadata": {},
     "output_type": "display_data"
    }
   ],
   "source": [
    "plot_stat_map(z_map, threshold=3, draw_cross=False)\n"
   ]
  },
  {
   "cell_type": "code",
   "execution_count": 39,
   "id": "076620be-2584-43b1-b452-b9187fdb0d1c",
   "metadata": {},
   "outputs": [],
   "source": [
    "neg_log_pvals_permuted_ols_unmasked = non_parametric_inference(l2_imgs,\n",
    "                             design_matrix=design_matrix,\n",
    "                             model_intercept=True, n_perm=5000,\n",
    "                             two_sided_test=False,\n",
    "                             smoothing_fwhm=5.0, n_jobs=1)"
   ]
  },
  {
   "cell_type": "code",
   "execution_count": 43,
   "id": "6ed76d36-607d-4d58-b02c-f5f41e6ee17a",
   "metadata": {},
   "outputs": [
    {
     "data": {
      "text/plain": [
       "<nilearn.plotting.displays.OrthoSlicer at 0x1332ab0d0>"
      ]
     },
     "execution_count": 43,
     "metadata": {},
     "output_type": "execute_result"
    },
    {
     "data": {
      "image/png": "[encoded data removed]",
      "text/plain": [
       "<Figure size 525.6x187.2 with 5 Axes>"
      ]
     },
     "metadata": {},
     "output_type": "display_data"
    }
   ],
   "source": [
    "plot_stat_map(\n",
    "    neg_log_pvals_permuted_ols_unmasked, colorbar=True, \n",
    "    threshold=1, draw_cross=False, cut_coords = (-6, -95, 14))\n",
    "# The neg-log p-values obtained with non parametric testing are capped at 3\n",
    "# when the number of permutations is 1e3."
   ]
  },
  {
   "cell_type": "markdown",
   "id": "7dfe509c-7f37-4c0e-aa3e-5e20b98d5a8a",
   "metadata": {},
   "source": [
    "What is the max T distribution that lead to the map above? Should be able to get it with the `nilearn.mass_univariate.permuted_ols` function."
   ]
  },
  {
   "cell_type": "markdown",
   "id": "6797376f-17de-4711-b223-c04b379ac166",
   "metadata": {},
   "source": [
    "### Compared to the randomise output"
   ]
  },
  {
   "cell_type": "code",
   "execution_count": null,
   "id": "2dd9b5a1-7ac2-48f3-9843-e1289feb1643",
   "metadata": {},
   "outputs": [],
   "source": [
    "plot_stat_map(os.path.join(l3_path, 'rand_tfce_tstat1_pos_overall-mean_reward_par_model3_reg-rt0.nii.gz'), threshold = 4.6, draw_cross=False)"
   ]
  },
  {
   "cell_type": "markdown",
   "id": "2833bcde-d70b-40f3-81ea-18073c780df6",
   "metadata": {},
   "source": [
    "## Are the z values larger in group maps of nilearn example dataset?\n",
    "\n",
    "No."
   ]
  },
  {
   "cell_type": "code",
   "execution_count": null,
   "id": "1b926868-0213-4c49-8119-f37f5b19ef07",
   "metadata": {},
   "outputs": [],
   "source": [
    "from nilearn.datasets import fetch_localizer_contrasts\n",
    "n_subjects = 5\n",
    "data = fetch_localizer_contrasts([\"left vs right button press\"], n_subjects,\n",
    "                                 get_tmaps=True)"
   ]
  },
  {
   "cell_type": "code",
   "execution_count": null,
   "id": "fbc0ba27-da67-4dc4-b106-64f870f39751",
   "metadata": {},
   "outputs": [],
   "source": [
    "for cidx, tmap in enumerate(data['tmaps']):\n",
    "    plot_glass_brain(tmap, colorbar=True, threshold=2.0,\n",
    "#                               axes=axes[int(cidx / 4), int(cidx % 4)],\n",
    "                              plot_abs=False, display_mode='z')"
   ]
  },
  {
   "cell_type": "code",
   "execution_count": null,
   "id": "011eb532-c719-4ec5-b740-cdd968777edd",
   "metadata": {},
   "outputs": [],
   "source": [
    "second_level_input = data['cmaps']\n",
    "design_matrix = pd.DataFrame([1] * len(second_level_input),\n",
    "                             columns=['intercept'])"
   ]
  },
  {
   "cell_type": "code",
   "execution_count": null,
   "id": "4c1fb20f-ee14-4aaa-88e8-2745ff467ad2",
   "metadata": {},
   "outputs": [],
   "source": [
    "second_level_model = SecondLevelModel(smoothing_fwhm=8.0)\n",
    "second_level_model = second_level_model.fit(second_level_input,\n",
    "                                            design_matrix=design_matrix)"
   ]
  },
  {
   "cell_type": "code",
   "execution_count": null,
   "id": "a7213766-697e-474b-a0de-75514148a823",
   "metadata": {},
   "outputs": [],
   "source": [
    "z_map = second_level_model.compute_contrast(output_type='z_score')\n"
   ]
  },
  {
   "cell_type": "code",
   "execution_count": null,
   "id": "6f7bb561-73cf-4241-b549-40ec1a97042d",
   "metadata": {},
   "outputs": [],
   "source": [
    "from scipy.stats import norm\n",
    "p_val = 0.001\n",
    "p001_unc = norm.isf(p_val)\n",
    "display = plot_glass_brain(\n",
    "    z_map, threshold=p001_unc, colorbar=True, display_mode='z', plot_abs=False,\n",
    "    title='group left-right button press (unc p<0.001)')"
   ]
  },
  {
   "cell_type": "code",
   "execution_count": null,
   "id": "bcd654d1-afa5-4ff7-b343-410f10fb8c37",
   "metadata": {},
   "outputs": [],
   "source": []
  }
 ],
 "metadata": {
  "kernelspec": {
   "display_name": "Python 3 (ipykernel)",
   "language": "python",
   "name": "python3"
  },
  "language_info": {
   "codemirror_mode": {
    "name": "ipython",
    "version": 3
   },
   "file_extension": ".py",
   "mimetype": "text/x-python",
   "name": "python",
   "nbconvert_exporter": "python",
   "pygments_lexer": "ipython3",
   "version": "3.8.3"
  }
 },
 "nbformat": 4,
 "nbformat_minor": 5
}
