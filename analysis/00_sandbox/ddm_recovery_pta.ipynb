{
 "cells": [
  {
   "cell_type": "code",
   "execution_count": 53,
   "id": "4a38a492-04eb-4217-8cf0-d7e230a1beaf",
   "metadata": {},
   "outputs": [],
   "source": [
    "from itertools import product\n",
    "import pandas as pd\n",
    "import seaborn as sns"
   ]
  },
  {
   "cell_type": "markdown",
   "id": "3c32b595-03fc-43af-a130-a2feb630c239",
   "metadata": {},
   "source": [
    "## Recovery with addm.tooldbox.ddm_pta_test"
   ]
  },
  {
   "cell_type": "code",
   "execution_count": 9,
   "id": "d79cb07a-3f29-4a91-bbfd-c866ceef28c2",
   "metadata": {},
   "outputs": [],
   "source": [
    "from __future__ import absolute_import, division\n",
    "\n",
    "import pkg_resources\n",
    "\n",
    "from builtins import range, str\n",
    "\n",
    "from addm_toolbox.ddm import DDMTrial, DDM\n",
    "from addm_toolbox.util import load_trial_conditions_from_csv"
   ]
  },
  {
   "cell_type": "code",
   "execution_count": 46,
   "id": "f90a7eb5-ab31-4c27-875d-b5cd25249cbb",
   "metadata": {},
   "outputs": [],
   "source": [
    "d = .006\n",
    "sigma = .08\n",
    "rangeD = [0.005, 0.006, 0.007]\n",
    "rangeSigma = [0.065, 0.08, 0.095]\n",
    "trialsFileName=None\n",
    "trialsPerCondition=100 #initially used 800; prob should be >100 for any real fitting\n",
    "numThreads = 9\n",
    "verbose = False"
   ]
  },
  {
   "cell_type": "code",
   "execution_count": 14,
   "id": "285ad39f-2c64-49f9-a91e-36210fd64b70",
   "metadata": {},
   "outputs": [],
   "source": [
    "# Load trial conditions.\n",
    "if not trialsFileName:\n",
    "    trialsFileName = pkg_resources.resource_filename(\n",
    "        u\"addm_toolbox\", u\"test_data/test_trial_conditions.csv\")\n",
    "trialConditions = load_trial_conditions_from_csv(trialsFileName)\n",
    "\n",
    "# Generate artificial data.\n",
    "model = DDM(d, sigma)\n",
    "trials = list()\n",
    "for (valueLeft, valueRight) in trialConditions:\n",
    "    for t in range(trialsPerCondition):\n",
    "        try:\n",
    "            trials.append(model.simulate_trial(valueLeft, valueRight))\n",
    "        except:\n",
    "            print(u\"An exception occurred while generating artificial \"\n",
    "                  \"trial \" + str(t) + u\" for condition (\" +\n",
    "                  str(valueLeft) + u\", \" + str(valueRight) + u\").\")\n",
    "            raise\n",
    "\n",
    "# Get likelihoods for all models and all artificial trials.\n",
    "numModels = len(rangeD) * len(rangeSigma)\n",
    "likelihoods = dict()\n",
    "models = list()\n",
    "posteriors = dict()\n",
    "for d in rangeD:\n",
    "    for sigma in rangeSigma:\n",
    "        model = DDM(d, sigma)\n",
    "        if verbose:\n",
    "            print(u\"Computing likelihoods for model \" + str(model.params) +\n",
    "                  u\"...\")\n",
    "        try:\n",
    "            likelihoods[model.params] = model.parallel_get_likelihoods(\n",
    "                trials, numThreads=numThreads)\n",
    "        except:\n",
    "            print(u\"An exception occurred during the likelihood \"\n",
    "                  \"computations for model \" + str(model.params) + u\".\")\n",
    "            raise\n",
    "        models.append(model)\n",
    "        posteriors[model.params] = 1 / numModels\n",
    "\n",
    "# Compute the posteriors.\n",
    "for t in range(len(trials)):oo\n",
    "    # Get the denominator for normalizing the posteriors.\n",
    "    denominator = 0\n",
    "    for model in models:\n",
    "        denominator += (posteriors[model.params] *\n",
    "                        likelihoods[model.params][t])\n",
    "    if denominator == 0:\n",
    "        continue\n",
    "\n",
    "    # Calculate the posteriors after this trial.\n",
    "    for model in models:\n",
    "        prior = posteriors[model.params]\n",
    "        posteriors[model.params] = (likelihoods[model.params][t] *\n",
    "            prior / denominator)\n",
    "\n",
    "if verbose:\n",
    "    for model in models:\n",
    "        print(u\"P\" + str(model.params) +  u\" = \" +\n",
    "              str(posteriors[model.params]))\n",
    "    print(u\"Sum: \" + str(sum(list(posteriors.values()))))"
   ]
  },
  {
   "cell_type": "markdown",
   "id": "bccb3f74-42ff-472f-91b2-6b92c1128ad3",
   "metadata": {},
   "source": [
    "What do the sum of the likelihoods for all 8000 (800 trials per condition for 10 conditions) look like for each parameter combination?\n",
    "\n",
    "Do the true parameters (d = .006, sigma = .08) have the highest likelihood? No."
   ]
  },
  {
   "cell_type": "code",
   "execution_count": 58,
   "id": "ad2c0da5-87f5-4704-b4bc-7c235b793dcb",
   "metadata": {},
   "outputs": [
    {
     "data": {
      "text/html": [
       "<div>\n",
       "<style scoped>\n",
       "    .dataframe tbody tr th:only-of-type {\n",
       "        vertical-align: middle;\n",
       "    }\n",
       "\n",
       "    .dataframe tbody tr th {\n",
       "        vertical-align: top;\n",
       "    }\n",
       "\n",
       "    .dataframe thead th {\n",
       "        text-align: right;\n",
       "    }\n",
       "</style>\n",
       "<table border=\"1\" class=\"dataframe\">\n",
       "  <thead>\n",
       "    <tr style=\"text-align: right;\">\n",
       "      <th></th>\n",
       "      <th>d</th>\n",
       "      <th>sigma</th>\n",
       "      <th>likelihood</th>\n",
       "    </tr>\n",
       "  </thead>\n",
       "  <tbody>\n",
       "    <tr>\n",
       "      <th>0</th>\n",
       "      <td>0.005</td>\n",
       "      <td>0.065</td>\n",
       "      <td>29.796591</td>\n",
       "    </tr>\n",
       "    <tr>\n",
       "      <th>1</th>\n",
       "      <td>0.005</td>\n",
       "      <td>0.080</td>\n",
       "      <td>31.050708</td>\n",
       "    </tr>\n",
       "    <tr>\n",
       "      <th>2</th>\n",
       "      <td>0.005</td>\n",
       "      <td>0.095</td>\n",
       "      <td>31.287604</td>\n",
       "    </tr>\n",
       "    <tr>\n",
       "      <th>3</th>\n",
       "      <td>0.006</td>\n",
       "      <td>0.065</td>\n",
       "      <td>33.238956</td>\n",
       "    </tr>\n",
       "    <tr>\n",
       "      <th>4</th>\n",
       "      <td>0.006</td>\n",
       "      <td>0.080</td>\n",
       "      <td>33.796666</td>\n",
       "    </tr>\n",
       "    <tr>\n",
       "      <th>5</th>\n",
       "      <td>0.006</td>\n",
       "      <td>0.095</td>\n",
       "      <td>33.464963</td>\n",
       "    </tr>\n",
       "    <tr>\n",
       "      <th>6</th>\n",
       "      <td>0.007</td>\n",
       "      <td>0.065</td>\n",
       "      <td>36.080859</td>\n",
       "    </tr>\n",
       "    <tr>\n",
       "      <th>7</th>\n",
       "      <td>0.007</td>\n",
       "      <td>0.080</td>\n",
       "      <td>36.074872</td>\n",
       "    </tr>\n",
       "    <tr>\n",
       "      <th>8</th>\n",
       "      <td>0.007</td>\n",
       "      <td>0.095</td>\n",
       "      <td>35.284419</td>\n",
       "    </tr>\n",
       "  </tbody>\n",
       "</table>\n",
       "</div>"
      ],
      "text/plain": [
       "       d  sigma  likelihood\n",
       "0  0.005  0.065   29.796591\n",
       "1  0.005  0.080   31.050708\n",
       "2  0.005  0.095   31.287604\n",
       "3  0.006  0.065   33.238956\n",
       "4  0.006  0.080   33.796666\n",
       "5  0.006  0.095   33.464963\n",
       "6  0.007  0.065   36.080859\n",
       "7  0.007  0.080   36.074872\n",
       "8  0.007  0.095   35.284419"
      ]
     },
     "execution_count": 58,
     "metadata": {},
     "output_type": "execute_result"
    }
   ],
   "source": [
    "df = pd.DataFrame(list(product(rangeD, rangeSigma)), columns=['d', 'sigma'])\n",
    "df['likelihood'] = [sum(likelihoods[k]) for k in likelihoods.keys()]\n",
    "df"
   ]
  },
  {
   "cell_type": "markdown",
   "id": "545fc13c-4129-46e3-997f-c53d57bb8912",
   "metadata": {},
   "source": [
    "Likelihood surface heatmap"
   ]
  },
  {
   "cell_type": "code",
   "execution_count": 60,
   "id": "6e2941ed-6f51-46b3-9466-c91bde037877",
   "metadata": {},
   "outputs": [
    {
     "data": {
      "text/plain": [
       "<AxesSubplot:xlabel='sigma', ylabel='d'>"
      ]
     },
     "execution_count": 60,
     "metadata": {},
     "output_type": "execute_result"
    },
    {
     "data": {
      "image/png": "[encoded data removed]",
      "text/plain": [
       "<Figure size 432x288 with 2 Axes>"
      ]
     },
     "metadata": {
      "needs_background": "light"
     },
     "output_type": "display_data"
    }
   ],
   "source": [
    "df = df.pivot(index = 'd', columns = 'sigma', values = 'likelihood')\n",
    "sns.heatmap(df)"
   ]
  },
  {
   "cell_type": "markdown",
   "id": "13aebf13-37bf-443e-91fb-e08d0b22b7ee",
   "metadata": {},
   "source": [
    "What do the posteriors look like?\n",
    "\n",
    "Is the posterior higghest for the correct parameter combination? (d = 0.006, sigma = .08)"
   ]
  },
  {
   "cell_type": "code",
   "execution_count": 79,
   "id": "e2e1855e-131f-47bb-ad8f-936863409b73",
   "metadata": {},
   "outputs": [
    {
     "data": {
      "text/html": [
       "<div>\n",
       "<style scoped>\n",
       "    .dataframe tbody tr th:only-of-type {\n",
       "        vertical-align: middle;\n",
       "    }\n",
       "\n",
       "    .dataframe tbody tr th {\n",
       "        vertical-align: top;\n",
       "    }\n",
       "\n",
       "    .dataframe thead th {\n",
       "        text-align: right;\n",
       "    }\n",
       "</style>\n",
       "<table border=\"1\" class=\"dataframe\">\n",
       "  <thead>\n",
       "    <tr style=\"text-align: right;\">\n",
       "      <th></th>\n",
       "      <th>d</th>\n",
       "      <th>sigma</th>\n",
       "      <th>posterior</th>\n",
       "    </tr>\n",
       "  </thead>\n",
       "  <tbody>\n",
       "    <tr>\n",
       "      <th>0</th>\n",
       "      <td>0.005</td>\n",
       "      <td>0.065</td>\n",
       "      <td>0.000000e+00</td>\n",
       "    </tr>\n",
       "    <tr>\n",
       "      <th>1</th>\n",
       "      <td>0.005</td>\n",
       "      <td>0.080</td>\n",
       "      <td>9.886675e-32</td>\n",
       "    </tr>\n",
       "    <tr>\n",
       "      <th>2</th>\n",
       "      <td>0.005</td>\n",
       "      <td>0.095</td>\n",
       "      <td>5.734182e-283</td>\n",
       "    </tr>\n",
       "    <tr>\n",
       "      <th>3</th>\n",
       "      <td>0.006</td>\n",
       "      <td>0.065</td>\n",
       "      <td>0.000000e+00</td>\n",
       "    </tr>\n",
       "    <tr>\n",
       "      <th>4</th>\n",
       "      <td>0.006</td>\n",
       "      <td>0.080</td>\n",
       "      <td>1.000000e+00</td>\n",
       "    </tr>\n",
       "    <tr>\n",
       "      <th>5</th>\n",
       "      <td>0.006</td>\n",
       "      <td>0.095</td>\n",
       "      <td>1.232338e-254</td>\n",
       "    </tr>\n",
       "    <tr>\n",
       "      <th>6</th>\n",
       "      <td>0.007</td>\n",
       "      <td>0.065</td>\n",
       "      <td>0.000000e+00</td>\n",
       "    </tr>\n",
       "    <tr>\n",
       "      <th>7</th>\n",
       "      <td>0.007</td>\n",
       "      <td>0.080</td>\n",
       "      <td>7.840251e-57</td>\n",
       "    </tr>\n",
       "    <tr>\n",
       "      <th>8</th>\n",
       "      <td>0.007</td>\n",
       "      <td>0.095</td>\n",
       "      <td>9.131088e-288</td>\n",
       "    </tr>\n",
       "  </tbody>\n",
       "</table>\n",
       "</div>"
      ],
      "text/plain": [
       "       d  sigma      posterior\n",
       "0  0.005  0.065   0.000000e+00\n",
       "1  0.005  0.080   9.886675e-32\n",
       "2  0.005  0.095  5.734182e-283\n",
       "3  0.006  0.065   0.000000e+00\n",
       "4  0.006  0.080   1.000000e+00\n",
       "5  0.006  0.095  1.232338e-254\n",
       "6  0.007  0.065   0.000000e+00\n",
       "7  0.007  0.080   7.840251e-57\n",
       "8  0.007  0.095  9.131088e-288"
      ]
     },
     "execution_count": 79,
     "metadata": {},
     "output_type": "execute_result"
    }
   ],
   "source": [
    "df = pd.DataFrame(list(product(rangeD, rangeSigma)), columns=['d', 'sigma'])\n",
    "df['posterior'] = [posteriors[k] for k in posteriors.keys()]\n",
    "df"
   ]
  },
  {
   "cell_type": "code",
   "execution_count": 80,
   "id": "70c7ef0a-1e96-4aea-8a8a-9c16f98e61cb",
   "metadata": {},
   "outputs": [
    {
     "data": {
      "text/plain": [
       "<AxesSubplot:xlabel='sigma', ylabel='d'>"
      ]
     },
     "execution_count": 80,
     "metadata": {},
     "output_type": "execute_result"
    },
    {
     "data": {
      "image/png": "[encoded data removed]",
      "text/plain": [
       "<Figure size 432x288 with 2 Axes>"
      ]
     },
     "metadata": {
      "needs_background": "light"
     },
     "output_type": "display_data"
    }
   ],
   "source": [
    "df = df.pivot(index = 'd', columns = 'sigma', values = 'posterior')\n",
    "sns.heatmap(df)"
   ]
  }
 ],
 "metadata": {
  "kernelspec": {
   "display_name": "Python 3 (ipykernel)",
   "language": "python",
   "name": "python3"
  },
  "language_info": {
   "codemirror_mode": {
    "name": "ipython",
    "version": 3
   },
   "file_extension": ".py",
   "mimetype": "text/x-python",
   "name": "python",
   "nbconvert_exporter": "python",
   "pygments_lexer": "ipython3",
   "version": "3.8.3"
  }
 },
 "nbformat": 4,
 "nbformat_minor": 5
}
